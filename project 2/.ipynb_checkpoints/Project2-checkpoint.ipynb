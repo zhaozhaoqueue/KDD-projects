{
 "cells": [
  {
   "cell_type": "code",
   "execution_count": 177,
   "metadata": {},
   "outputs": [],
   "source": [
    "import pandas as pd\n",
    "import numpy as np\n",
    "import sklearn\n",
    "from sklearn.model_selection import KFold\n",
    "from sklearn.linear_model import LinearRegression\n",
    "from sklearn.metrics import confusion_matrix, accuracy_score, precision_score, recall_score, roc_auc_score, mean_squared_error, mean_absolute_error\n",
    "from sklearn.tree import DecisionTreeClassifier, DecisionTreeRegressor\n",
    "from sklearn.model_selection import cross_val_score, train_test_split\n",
    "from sklearn.preprocessing import KBinsDiscretizer\n",
    "from sklearn.utils.multiclass import unique_labels\n",
    "from sklearn.feature_selection import RFE\n",
    "from sklearn.decomposition import PCA\n",
    "from sklearn.feature_selection import SelectPercentile, chi2, SelectKBest\n",
    "from sklearn.linear_model import LassoLarsCV, Lasso, LassoCV\n",
    "import matplotlib.pyplot as plt\n",
    "from __future__ import division\n",
    "from datetime import datetime"
   ]
  },
  {
   "cell_type": "code",
   "execution_count": 2,
   "metadata": {},
   "outputs": [],
   "source": [
    "raw_data = pd.read_csv(\"Absenteeism_at_work.csv\", sep=\";\")"
   ]
  },
  {
   "cell_type": "code",
   "execution_count": 3,
   "metadata": {},
   "outputs": [
    {
     "data": {
      "text/html": [
       "<div>\n",
       "<style scoped>\n",
       "    .dataframe tbody tr th:only-of-type {\n",
       "        vertical-align: middle;\n",
       "    }\n",
       "\n",
       "    .dataframe tbody tr th {\n",
       "        vertical-align: top;\n",
       "    }\n",
       "\n",
       "    .dataframe thead th {\n",
       "        text-align: right;\n",
       "    }\n",
       "</style>\n",
       "<table border=\"1\" class=\"dataframe\">\n",
       "  <thead>\n",
       "    <tr style=\"text-align: right;\">\n",
       "      <th></th>\n",
       "      <th>ID</th>\n",
       "      <th>Reason for absence</th>\n",
       "      <th>Month of absence</th>\n",
       "      <th>Day of the week</th>\n",
       "      <th>Seasons</th>\n",
       "      <th>Transportation expense</th>\n",
       "      <th>Distance from Residence to Work</th>\n",
       "      <th>Service time</th>\n",
       "      <th>Age</th>\n",
       "      <th>Work load Average/day</th>\n",
       "      <th>...</th>\n",
       "      <th>Disciplinary failure</th>\n",
       "      <th>Education</th>\n",
       "      <th>Son</th>\n",
       "      <th>Social drinker</th>\n",
       "      <th>Social smoker</th>\n",
       "      <th>Pet</th>\n",
       "      <th>Weight</th>\n",
       "      <th>Height</th>\n",
       "      <th>Body mass index</th>\n",
       "      <th>Absenteeism time in hours</th>\n",
       "    </tr>\n",
       "  </thead>\n",
       "  <tbody>\n",
       "    <tr>\n",
       "      <th>0</th>\n",
       "      <td>11</td>\n",
       "      <td>26</td>\n",
       "      <td>7</td>\n",
       "      <td>3</td>\n",
       "      <td>1</td>\n",
       "      <td>289</td>\n",
       "      <td>36</td>\n",
       "      <td>13</td>\n",
       "      <td>33</td>\n",
       "      <td>239.554</td>\n",
       "      <td>...</td>\n",
       "      <td>0</td>\n",
       "      <td>1</td>\n",
       "      <td>2</td>\n",
       "      <td>1</td>\n",
       "      <td>0</td>\n",
       "      <td>1</td>\n",
       "      <td>90</td>\n",
       "      <td>172</td>\n",
       "      <td>30</td>\n",
       "      <td>4</td>\n",
       "    </tr>\n",
       "    <tr>\n",
       "      <th>1</th>\n",
       "      <td>36</td>\n",
       "      <td>0</td>\n",
       "      <td>7</td>\n",
       "      <td>3</td>\n",
       "      <td>1</td>\n",
       "      <td>118</td>\n",
       "      <td>13</td>\n",
       "      <td>18</td>\n",
       "      <td>50</td>\n",
       "      <td>239.554</td>\n",
       "      <td>...</td>\n",
       "      <td>1</td>\n",
       "      <td>1</td>\n",
       "      <td>1</td>\n",
       "      <td>1</td>\n",
       "      <td>0</td>\n",
       "      <td>0</td>\n",
       "      <td>98</td>\n",
       "      <td>178</td>\n",
       "      <td>31</td>\n",
       "      <td>0</td>\n",
       "    </tr>\n",
       "    <tr>\n",
       "      <th>2</th>\n",
       "      <td>3</td>\n",
       "      <td>23</td>\n",
       "      <td>7</td>\n",
       "      <td>4</td>\n",
       "      <td>1</td>\n",
       "      <td>179</td>\n",
       "      <td>51</td>\n",
       "      <td>18</td>\n",
       "      <td>38</td>\n",
       "      <td>239.554</td>\n",
       "      <td>...</td>\n",
       "      <td>0</td>\n",
       "      <td>1</td>\n",
       "      <td>0</td>\n",
       "      <td>1</td>\n",
       "      <td>0</td>\n",
       "      <td>0</td>\n",
       "      <td>89</td>\n",
       "      <td>170</td>\n",
       "      <td>31</td>\n",
       "      <td>2</td>\n",
       "    </tr>\n",
       "    <tr>\n",
       "      <th>3</th>\n",
       "      <td>7</td>\n",
       "      <td>7</td>\n",
       "      <td>7</td>\n",
       "      <td>5</td>\n",
       "      <td>1</td>\n",
       "      <td>279</td>\n",
       "      <td>5</td>\n",
       "      <td>14</td>\n",
       "      <td>39</td>\n",
       "      <td>239.554</td>\n",
       "      <td>...</td>\n",
       "      <td>0</td>\n",
       "      <td>1</td>\n",
       "      <td>2</td>\n",
       "      <td>1</td>\n",
       "      <td>1</td>\n",
       "      <td>0</td>\n",
       "      <td>68</td>\n",
       "      <td>168</td>\n",
       "      <td>24</td>\n",
       "      <td>4</td>\n",
       "    </tr>\n",
       "    <tr>\n",
       "      <th>4</th>\n",
       "      <td>11</td>\n",
       "      <td>23</td>\n",
       "      <td>7</td>\n",
       "      <td>5</td>\n",
       "      <td>1</td>\n",
       "      <td>289</td>\n",
       "      <td>36</td>\n",
       "      <td>13</td>\n",
       "      <td>33</td>\n",
       "      <td>239.554</td>\n",
       "      <td>...</td>\n",
       "      <td>0</td>\n",
       "      <td>1</td>\n",
       "      <td>2</td>\n",
       "      <td>1</td>\n",
       "      <td>0</td>\n",
       "      <td>1</td>\n",
       "      <td>90</td>\n",
       "      <td>172</td>\n",
       "      <td>30</td>\n",
       "      <td>2</td>\n",
       "    </tr>\n",
       "  </tbody>\n",
       "</table>\n",
       "<p>5 rows × 21 columns</p>\n",
       "</div>"
      ],
      "text/plain": [
       "   ID  Reason for absence  Month of absence  Day of the week  Seasons  \\\n",
       "0  11                  26                 7                3        1   \n",
       "1  36                   0                 7                3        1   \n",
       "2   3                  23                 7                4        1   \n",
       "3   7                   7                 7                5        1   \n",
       "4  11                  23                 7                5        1   \n",
       "\n",
       "   Transportation expense  Distance from Residence to Work  Service time  Age  \\\n",
       "0                     289                               36            13   33   \n",
       "1                     118                               13            18   50   \n",
       "2                     179                               51            18   38   \n",
       "3                     279                                5            14   39   \n",
       "4                     289                               36            13   33   \n",
       "\n",
       "   Work load Average/day             ...              Disciplinary failure  \\\n",
       "0                 239.554            ...                                 0   \n",
       "1                 239.554            ...                                 1   \n",
       "2                 239.554            ...                                 0   \n",
       "3                 239.554            ...                                 0   \n",
       "4                 239.554            ...                                 0   \n",
       "\n",
       "   Education  Son  Social drinker  Social smoker  Pet  Weight  Height  \\\n",
       "0          1    2               1              0    1      90     172   \n",
       "1          1    1               1              0    0      98     178   \n",
       "2          1    0               1              0    0      89     170   \n",
       "3          1    2               1              1    0      68     168   \n",
       "4          1    2               1              0    1      90     172   \n",
       "\n",
       "   Body mass index  Absenteeism time in hours  \n",
       "0               30                          4  \n",
       "1               31                          0  \n",
       "2               31                          2  \n",
       "3               24                          4  \n",
       "4               30                          2  \n",
       "\n",
       "[5 rows x 21 columns]"
      ]
     },
     "execution_count": 3,
     "metadata": {},
     "output_type": "execute_result"
    }
   ],
   "source": [
    "raw_data.head()"
   ]
  },
  {
   "cell_type": "code",
   "execution_count": 4,
   "metadata": {},
   "outputs": [
    {
     "data": {
      "text/plain": [
       "Index([u'ID', u'Reason for absence', u'Month of absence', u'Day of the week',\n",
       "       u'Seasons', u'Transportation expense',\n",
       "       u'Distance from Residence to Work', u'Service time', u'Age',\n",
       "       u'Work load Average/day ', u'Hit target', u'Disciplinary failure',\n",
       "       u'Education', u'Son', u'Social drinker', u'Social smoker', u'Pet',\n",
       "       u'Weight', u'Height', u'Body mass index', u'Absenteeism time in hours'],\n",
       "      dtype='object')"
      ]
     },
     "execution_count": 4,
     "metadata": {},
     "output_type": "execute_result"
    }
   ],
   "source": [
    "raw_data.keys()"
   ]
  },
  {
   "cell_type": "code",
   "execution_count": 5,
   "metadata": {},
   "outputs": [
    {
     "data": {
      "text/html": [
       "<div>\n",
       "<style scoped>\n",
       "    .dataframe tbody tr th:only-of-type {\n",
       "        vertical-align: middle;\n",
       "    }\n",
       "\n",
       "    .dataframe tbody tr th {\n",
       "        vertical-align: top;\n",
       "    }\n",
       "\n",
       "    .dataframe thead th {\n",
       "        text-align: right;\n",
       "    }\n",
       "</style>\n",
       "<table border=\"1\" class=\"dataframe\">\n",
       "  <thead>\n",
       "    <tr style=\"text-align: right;\">\n",
       "      <th></th>\n",
       "      <th>ID</th>\n",
       "      <th>Reason for absence</th>\n",
       "      <th>Month of absence</th>\n",
       "      <th>Day of the week</th>\n",
       "      <th>Seasons</th>\n",
       "      <th>Transportation expense</th>\n",
       "      <th>Distance from Residence to Work</th>\n",
       "      <th>Service time</th>\n",
       "      <th>Age</th>\n",
       "      <th>Work load Average/day</th>\n",
       "      <th>...</th>\n",
       "      <th>Disciplinary failure</th>\n",
       "      <th>Education</th>\n",
       "      <th>Son</th>\n",
       "      <th>Social drinker</th>\n",
       "      <th>Social smoker</th>\n",
       "      <th>Pet</th>\n",
       "      <th>Weight</th>\n",
       "      <th>Height</th>\n",
       "      <th>Body mass index</th>\n",
       "      <th>Absenteeism time in hours</th>\n",
       "    </tr>\n",
       "  </thead>\n",
       "  <tbody>\n",
       "    <tr>\n",
       "      <th>count</th>\n",
       "      <td>740.000000</td>\n",
       "      <td>740.000000</td>\n",
       "      <td>740.000000</td>\n",
       "      <td>740.000000</td>\n",
       "      <td>740.000000</td>\n",
       "      <td>740.000000</td>\n",
       "      <td>740.000000</td>\n",
       "      <td>740.000000</td>\n",
       "      <td>740.000000</td>\n",
       "      <td>740.000000</td>\n",
       "      <td>...</td>\n",
       "      <td>740.000000</td>\n",
       "      <td>740.000000</td>\n",
       "      <td>740.000000</td>\n",
       "      <td>740.000000</td>\n",
       "      <td>740.000000</td>\n",
       "      <td>740.000000</td>\n",
       "      <td>740.000000</td>\n",
       "      <td>740.000000</td>\n",
       "      <td>740.000000</td>\n",
       "      <td>740.000000</td>\n",
       "    </tr>\n",
       "    <tr>\n",
       "      <th>mean</th>\n",
       "      <td>18.017568</td>\n",
       "      <td>19.216216</td>\n",
       "      <td>6.324324</td>\n",
       "      <td>3.914865</td>\n",
       "      <td>2.544595</td>\n",
       "      <td>221.329730</td>\n",
       "      <td>29.631081</td>\n",
       "      <td>12.554054</td>\n",
       "      <td>36.450000</td>\n",
       "      <td>271.490235</td>\n",
       "      <td>...</td>\n",
       "      <td>0.054054</td>\n",
       "      <td>1.291892</td>\n",
       "      <td>1.018919</td>\n",
       "      <td>0.567568</td>\n",
       "      <td>0.072973</td>\n",
       "      <td>0.745946</td>\n",
       "      <td>79.035135</td>\n",
       "      <td>172.114865</td>\n",
       "      <td>26.677027</td>\n",
       "      <td>6.924324</td>\n",
       "    </tr>\n",
       "    <tr>\n",
       "      <th>std</th>\n",
       "      <td>11.021247</td>\n",
       "      <td>8.433406</td>\n",
       "      <td>3.436287</td>\n",
       "      <td>1.421675</td>\n",
       "      <td>1.111831</td>\n",
       "      <td>66.952223</td>\n",
       "      <td>14.836788</td>\n",
       "      <td>4.384873</td>\n",
       "      <td>6.478772</td>\n",
       "      <td>39.058116</td>\n",
       "      <td>...</td>\n",
       "      <td>0.226277</td>\n",
       "      <td>0.673238</td>\n",
       "      <td>1.098489</td>\n",
       "      <td>0.495749</td>\n",
       "      <td>0.260268</td>\n",
       "      <td>1.318258</td>\n",
       "      <td>12.883211</td>\n",
       "      <td>6.034995</td>\n",
       "      <td>4.285452</td>\n",
       "      <td>13.330998</td>\n",
       "    </tr>\n",
       "    <tr>\n",
       "      <th>min</th>\n",
       "      <td>1.000000</td>\n",
       "      <td>0.000000</td>\n",
       "      <td>0.000000</td>\n",
       "      <td>2.000000</td>\n",
       "      <td>1.000000</td>\n",
       "      <td>118.000000</td>\n",
       "      <td>5.000000</td>\n",
       "      <td>1.000000</td>\n",
       "      <td>27.000000</td>\n",
       "      <td>205.917000</td>\n",
       "      <td>...</td>\n",
       "      <td>0.000000</td>\n",
       "      <td>1.000000</td>\n",
       "      <td>0.000000</td>\n",
       "      <td>0.000000</td>\n",
       "      <td>0.000000</td>\n",
       "      <td>0.000000</td>\n",
       "      <td>56.000000</td>\n",
       "      <td>163.000000</td>\n",
       "      <td>19.000000</td>\n",
       "      <td>0.000000</td>\n",
       "    </tr>\n",
       "    <tr>\n",
       "      <th>25%</th>\n",
       "      <td>9.000000</td>\n",
       "      <td>13.000000</td>\n",
       "      <td>3.000000</td>\n",
       "      <td>3.000000</td>\n",
       "      <td>2.000000</td>\n",
       "      <td>179.000000</td>\n",
       "      <td>16.000000</td>\n",
       "      <td>9.000000</td>\n",
       "      <td>31.000000</td>\n",
       "      <td>244.387000</td>\n",
       "      <td>...</td>\n",
       "      <td>0.000000</td>\n",
       "      <td>1.000000</td>\n",
       "      <td>0.000000</td>\n",
       "      <td>0.000000</td>\n",
       "      <td>0.000000</td>\n",
       "      <td>0.000000</td>\n",
       "      <td>69.000000</td>\n",
       "      <td>169.000000</td>\n",
       "      <td>24.000000</td>\n",
       "      <td>2.000000</td>\n",
       "    </tr>\n",
       "    <tr>\n",
       "      <th>50%</th>\n",
       "      <td>18.000000</td>\n",
       "      <td>23.000000</td>\n",
       "      <td>6.000000</td>\n",
       "      <td>4.000000</td>\n",
       "      <td>3.000000</td>\n",
       "      <td>225.000000</td>\n",
       "      <td>26.000000</td>\n",
       "      <td>13.000000</td>\n",
       "      <td>37.000000</td>\n",
       "      <td>264.249000</td>\n",
       "      <td>...</td>\n",
       "      <td>0.000000</td>\n",
       "      <td>1.000000</td>\n",
       "      <td>1.000000</td>\n",
       "      <td>1.000000</td>\n",
       "      <td>0.000000</td>\n",
       "      <td>0.000000</td>\n",
       "      <td>83.000000</td>\n",
       "      <td>170.000000</td>\n",
       "      <td>25.000000</td>\n",
       "      <td>3.000000</td>\n",
       "    </tr>\n",
       "    <tr>\n",
       "      <th>75%</th>\n",
       "      <td>28.000000</td>\n",
       "      <td>26.000000</td>\n",
       "      <td>9.000000</td>\n",
       "      <td>5.000000</td>\n",
       "      <td>4.000000</td>\n",
       "      <td>260.000000</td>\n",
       "      <td>50.000000</td>\n",
       "      <td>16.000000</td>\n",
       "      <td>40.000000</td>\n",
       "      <td>294.217000</td>\n",
       "      <td>...</td>\n",
       "      <td>0.000000</td>\n",
       "      <td>1.000000</td>\n",
       "      <td>2.000000</td>\n",
       "      <td>1.000000</td>\n",
       "      <td>0.000000</td>\n",
       "      <td>1.000000</td>\n",
       "      <td>89.000000</td>\n",
       "      <td>172.000000</td>\n",
       "      <td>31.000000</td>\n",
       "      <td>8.000000</td>\n",
       "    </tr>\n",
       "    <tr>\n",
       "      <th>max</th>\n",
       "      <td>36.000000</td>\n",
       "      <td>28.000000</td>\n",
       "      <td>12.000000</td>\n",
       "      <td>6.000000</td>\n",
       "      <td>4.000000</td>\n",
       "      <td>388.000000</td>\n",
       "      <td>52.000000</td>\n",
       "      <td>29.000000</td>\n",
       "      <td>58.000000</td>\n",
       "      <td>378.884000</td>\n",
       "      <td>...</td>\n",
       "      <td>1.000000</td>\n",
       "      <td>4.000000</td>\n",
       "      <td>4.000000</td>\n",
       "      <td>1.000000</td>\n",
       "      <td>1.000000</td>\n",
       "      <td>8.000000</td>\n",
       "      <td>108.000000</td>\n",
       "      <td>196.000000</td>\n",
       "      <td>38.000000</td>\n",
       "      <td>120.000000</td>\n",
       "    </tr>\n",
       "  </tbody>\n",
       "</table>\n",
       "<p>8 rows × 21 columns</p>\n",
       "</div>"
      ],
      "text/plain": [
       "               ID  Reason for absence  Month of absence  Day of the week  \\\n",
       "count  740.000000          740.000000        740.000000       740.000000   \n",
       "mean    18.017568           19.216216          6.324324         3.914865   \n",
       "std     11.021247            8.433406          3.436287         1.421675   \n",
       "min      1.000000            0.000000          0.000000         2.000000   \n",
       "25%      9.000000           13.000000          3.000000         3.000000   \n",
       "50%     18.000000           23.000000          6.000000         4.000000   \n",
       "75%     28.000000           26.000000          9.000000         5.000000   \n",
       "max     36.000000           28.000000         12.000000         6.000000   \n",
       "\n",
       "          Seasons  Transportation expense  Distance from Residence to Work  \\\n",
       "count  740.000000              740.000000                       740.000000   \n",
       "mean     2.544595              221.329730                        29.631081   \n",
       "std      1.111831               66.952223                        14.836788   \n",
       "min      1.000000              118.000000                         5.000000   \n",
       "25%      2.000000              179.000000                        16.000000   \n",
       "50%      3.000000              225.000000                        26.000000   \n",
       "75%      4.000000              260.000000                        50.000000   \n",
       "max      4.000000              388.000000                        52.000000   \n",
       "\n",
       "       Service time         Age  Work load Average/day   \\\n",
       "count    740.000000  740.000000              740.000000   \n",
       "mean      12.554054   36.450000              271.490235   \n",
       "std        4.384873    6.478772               39.058116   \n",
       "min        1.000000   27.000000              205.917000   \n",
       "25%        9.000000   31.000000              244.387000   \n",
       "50%       13.000000   37.000000              264.249000   \n",
       "75%       16.000000   40.000000              294.217000   \n",
       "max       29.000000   58.000000              378.884000   \n",
       "\n",
       "                 ...              Disciplinary failure   Education  \\\n",
       "count            ...                        740.000000  740.000000   \n",
       "mean             ...                          0.054054    1.291892   \n",
       "std              ...                          0.226277    0.673238   \n",
       "min              ...                          0.000000    1.000000   \n",
       "25%              ...                          0.000000    1.000000   \n",
       "50%              ...                          0.000000    1.000000   \n",
       "75%              ...                          0.000000    1.000000   \n",
       "max              ...                          1.000000    4.000000   \n",
       "\n",
       "              Son  Social drinker  Social smoker         Pet      Weight  \\\n",
       "count  740.000000      740.000000     740.000000  740.000000  740.000000   \n",
       "mean     1.018919        0.567568       0.072973    0.745946   79.035135   \n",
       "std      1.098489        0.495749       0.260268    1.318258   12.883211   \n",
       "min      0.000000        0.000000       0.000000    0.000000   56.000000   \n",
       "25%      0.000000        0.000000       0.000000    0.000000   69.000000   \n",
       "50%      1.000000        1.000000       0.000000    0.000000   83.000000   \n",
       "75%      2.000000        1.000000       0.000000    1.000000   89.000000   \n",
       "max      4.000000        1.000000       1.000000    8.000000  108.000000   \n",
       "\n",
       "           Height  Body mass index  Absenteeism time in hours  \n",
       "count  740.000000       740.000000                 740.000000  \n",
       "mean   172.114865        26.677027                   6.924324  \n",
       "std      6.034995         4.285452                  13.330998  \n",
       "min    163.000000        19.000000                   0.000000  \n",
       "25%    169.000000        24.000000                   2.000000  \n",
       "50%    170.000000        25.000000                   3.000000  \n",
       "75%    172.000000        31.000000                   8.000000  \n",
       "max    196.000000        38.000000                 120.000000  \n",
       "\n",
       "[8 rows x 21 columns]"
      ]
     },
     "execution_count": 5,
     "metadata": {},
     "output_type": "execute_result"
    }
   ],
   "source": [
    "raw_data.describe()"
   ]
  },
  {
   "cell_type": "code",
   "execution_count": 6,
   "metadata": {},
   "outputs": [
    {
     "data": {
      "text/plain": [
       "count    740.000000\n",
       "mean       6.924324\n",
       "std       13.330998\n",
       "min        0.000000\n",
       "25%        2.000000\n",
       "50%        3.000000\n",
       "75%        8.000000\n",
       "max      120.000000\n",
       "Name: Absenteeism time in hours, dtype: float64"
      ]
     },
     "execution_count": 6,
     "metadata": {},
     "output_type": "execute_result"
    }
   ],
   "source": [
    "raw_data[\"Absenteeism time in hours\"].describe()"
   ]
  },
  {
   "cell_type": "code",
   "execution_count": 337,
   "metadata": {},
   "outputs": [
    {
     "data": {
      "text/plain": [
       "(array([132., 269.,  67.,   1., 208.,   0.,   0.,   0.,  19.,   0.,  44.]),\n",
       " array([  0,   2,   4,   6,   8,  10,  12,  14,  16,  18,  20, 120]),\n",
       " <a list of 11 Patch objects>)"
      ]
     },
     "execution_count": 337,
     "metadata": {},
     "output_type": "execute_result"
    },
    {
     "data": {
      "image/png": "[encoded data removed]",
      "text/plain": [
       "<Figure size 432x288 with 1 Axes>"
      ]
     },
     "metadata": {},
     "output_type": "display_data"
    }
   ],
   "source": [
    "plt.hist(raw_data[\"Absenteeism time in hours\"], color=\"orange\", edgecolor=\"black\", bins=[0, 2, 4, 6, 8, 10, \n",
    "                                                                                       12, 14, 16, 18, 20, 120])"
   ]
  },
  {
   "cell_type": "code",
   "execution_count": 8,
   "metadata": {},
   "outputs": [
    {
     "data": {
      "text/plain": [
       "3     113\n",
       "28     76\n",
       "34     55\n",
       "22     46\n",
       "20     42\n",
       "11     40\n",
       "15     37\n",
       "36     34\n",
       "24     30\n",
       "14     29\n",
       "33     24\n",
       "10     24\n",
       "1      23\n",
       "17     20\n",
       "5      19\n",
       "18     16\n",
       "13     15\n",
       "25     10\n",
       "6       8\n",
       "9       8\n",
       "23      8\n",
       "27      7\n",
       "30      7\n",
       "12      7\n",
       "7       6\n",
       "2       6\n",
       "29      5\n",
       "26      5\n",
       "32      5\n",
       "31      3\n",
       "19      3\n",
       "21      3\n",
       "16      2\n",
       "8       2\n",
       "35      1\n",
       "4       1\n",
       "Name: ID, dtype: int64"
      ]
     },
     "execution_count": 8,
     "metadata": {},
     "output_type": "execute_result"
    }
   ],
   "source": [
    "#Repeat ID\n",
    "raw_data[\"ID\"].value_counts()"
   ]
  },
  {
   "cell_type": "code",
   "execution_count": 9,
   "metadata": {},
   "outputs": [
    {
     "data": {
      "text/html": [
       "<div>\n",
       "<style scoped>\n",
       "    .dataframe tbody tr th:only-of-type {\n",
       "        vertical-align: middle;\n",
       "    }\n",
       "\n",
       "    .dataframe tbody tr th {\n",
       "        vertical-align: top;\n",
       "    }\n",
       "\n",
       "    .dataframe thead th {\n",
       "        text-align: right;\n",
       "    }\n",
       "</style>\n",
       "<table border=\"1\" class=\"dataframe\">\n",
       "  <thead>\n",
       "    <tr style=\"text-align: right;\">\n",
       "      <th></th>\n",
       "      <th>Absenteeism time in hours</th>\n",
       "    </tr>\n",
       "    <tr>\n",
       "      <th>ID</th>\n",
       "      <th></th>\n",
       "    </tr>\n",
       "  </thead>\n",
       "  <tbody>\n",
       "    <tr>\n",
       "      <th>3</th>\n",
       "      <td>482</td>\n",
       "    </tr>\n",
       "    <tr>\n",
       "      <th>14</th>\n",
       "      <td>476</td>\n",
       "    </tr>\n",
       "    <tr>\n",
       "      <th>11</th>\n",
       "      <td>450</td>\n",
       "    </tr>\n",
       "    <tr>\n",
       "      <th>28</th>\n",
       "      <td>347</td>\n",
       "    </tr>\n",
       "    <tr>\n",
       "      <th>34</th>\n",
       "      <td>344</td>\n",
       "    </tr>\n",
       "    <tr>\n",
       "      <th>36</th>\n",
       "      <td>311</td>\n",
       "    </tr>\n",
       "    <tr>\n",
       "      <th>20</th>\n",
       "      <td>306</td>\n",
       "    </tr>\n",
       "    <tr>\n",
       "      <th>9</th>\n",
       "      <td>262</td>\n",
       "    </tr>\n",
       "    <tr>\n",
       "      <th>24</th>\n",
       "      <td>254</td>\n",
       "    </tr>\n",
       "    <tr>\n",
       "      <th>15</th>\n",
       "      <td>253</td>\n",
       "    </tr>\n",
       "    <tr>\n",
       "      <th>22</th>\n",
       "      <td>253</td>\n",
       "    </tr>\n",
       "    <tr>\n",
       "      <th>10</th>\n",
       "      <td>186</td>\n",
       "    </tr>\n",
       "    <tr>\n",
       "      <th>13</th>\n",
       "      <td>183</td>\n",
       "    </tr>\n",
       "    <tr>\n",
       "      <th>17</th>\n",
       "      <td>126</td>\n",
       "    </tr>\n",
       "    <tr>\n",
       "      <th>1</th>\n",
       "      <td>121</td>\n",
       "    </tr>\n",
       "    <tr>\n",
       "      <th>18</th>\n",
       "      <td>118</td>\n",
       "    </tr>\n",
       "    <tr>\n",
       "      <th>5</th>\n",
       "      <td>104</td>\n",
       "    </tr>\n",
       "    <tr>\n",
       "      <th>26</th>\n",
       "      <td>83</td>\n",
       "    </tr>\n",
       "    <tr>\n",
       "      <th>33</th>\n",
       "      <td>73</td>\n",
       "    </tr>\n",
       "    <tr>\n",
       "      <th>6</th>\n",
       "      <td>72</td>\n",
       "    </tr>\n",
       "    <tr>\n",
       "      <th>25</th>\n",
       "      <td>42</td>\n",
       "    </tr>\n",
       "    <tr>\n",
       "      <th>23</th>\n",
       "      <td>40</td>\n",
       "    </tr>\n",
       "    <tr>\n",
       "      <th>12</th>\n",
       "      <td>34</td>\n",
       "    </tr>\n",
       "    <tr>\n",
       "      <th>30</th>\n",
       "      <td>31</td>\n",
       "    </tr>\n",
       "    <tr>\n",
       "      <th>7</th>\n",
       "      <td>30</td>\n",
       "    </tr>\n",
       "    <tr>\n",
       "      <th>27</th>\n",
       "      <td>27</td>\n",
       "    </tr>\n",
       "    <tr>\n",
       "      <th>2</th>\n",
       "      <td>25</td>\n",
       "    </tr>\n",
       "    <tr>\n",
       "      <th>29</th>\n",
       "      <td>21</td>\n",
       "    </tr>\n",
       "    <tr>\n",
       "      <th>31</th>\n",
       "      <td>16</td>\n",
       "    </tr>\n",
       "    <tr>\n",
       "      <th>32</th>\n",
       "      <td>16</td>\n",
       "    </tr>\n",
       "    <tr>\n",
       "      <th>16</th>\n",
       "      <td>16</td>\n",
       "    </tr>\n",
       "    <tr>\n",
       "      <th>21</th>\n",
       "      <td>16</td>\n",
       "    </tr>\n",
       "    <tr>\n",
       "      <th>19</th>\n",
       "      <td>6</td>\n",
       "    </tr>\n",
       "    <tr>\n",
       "      <th>8</th>\n",
       "      <td>0</td>\n",
       "    </tr>\n",
       "    <tr>\n",
       "      <th>4</th>\n",
       "      <td>0</td>\n",
       "    </tr>\n",
       "    <tr>\n",
       "      <th>35</th>\n",
       "      <td>0</td>\n",
       "    </tr>\n",
       "  </tbody>\n",
       "</table>\n",
       "</div>"
      ],
      "text/plain": [
       "    Absenteeism time in hours\n",
       "ID                           \n",
       "3                         482\n",
       "14                        476\n",
       "11                        450\n",
       "28                        347\n",
       "34                        344\n",
       "36                        311\n",
       "20                        306\n",
       "9                         262\n",
       "24                        254\n",
       "15                        253\n",
       "22                        253\n",
       "10                        186\n",
       "13                        183\n",
       "17                        126\n",
       "1                         121\n",
       "18                        118\n",
       "5                         104\n",
       "26                         83\n",
       "33                         73\n",
       "6                          72\n",
       "25                         42\n",
       "23                         40\n",
       "12                         34\n",
       "30                         31\n",
       "7                          30\n",
       "27                         27\n",
       "2                          25\n",
       "29                         21\n",
       "31                         16\n",
       "32                         16\n",
       "16                         16\n",
       "21                         16\n",
       "19                          6\n",
       "8                           0\n",
       "4                           0\n",
       "35                          0"
      ]
     },
     "execution_count": 9,
     "metadata": {},
     "output_type": "execute_result"
    }
   ],
   "source": [
    "raw_data[[\"ID\", \"Absenteeism time in hours\"]].groupby(\"ID\").sum().sort_values(\"Absenteeism time in hours\", ascending=False)\n"
   ]
  },
  {
   "cell_type": "code",
   "execution_count": 10,
   "metadata": {},
   "outputs": [
    {
     "data": {
      "text/plain": [
       "23    149\n",
       "28    112\n",
       "27     69\n",
       "13     55\n",
       "0      43\n",
       "19     40\n",
       "22     38\n",
       "26     33\n",
       "25     31\n",
       "11     26\n",
       "10     25\n",
       "18     21\n",
       "14     19\n",
       "1      16\n",
       "7      15\n",
       "6       8\n",
       "12      8\n",
       "8       6\n",
       "21      6\n",
       "9       4\n",
       "5       3\n",
       "24      3\n",
       "16      3\n",
       "4       2\n",
       "15      2\n",
       "3       1\n",
       "2       1\n",
       "17      1\n",
       "Name: Reason for absence, dtype: int64"
      ]
     },
     "execution_count": 10,
     "metadata": {},
     "output_type": "execute_result"
    }
   ],
   "source": [
    "#Repeat reason\n",
    "# raw_data[\"Reason for absence\"].value_counts().shape\n",
    "raw_data[\"Reason for absence\"].value_counts()\n",
    "# np.sort(raw_data[\"Reason for absence\"].unique())\n",
    "# raw_data[\"Reason for absence\"].unique().shape"
   ]
  },
  {
   "cell_type": "code",
   "execution_count": 11,
   "metadata": {},
   "outputs": [
    {
     "data": {
      "text/plain": [
       "441"
      ]
     },
     "execution_count": 11,
     "metadata": {},
     "output_type": "execute_result"
    }
   ],
   "source": [
    "sum(raw_data[\"Reason for absence\"]>=21)"
   ]
  },
  {
   "cell_type": "code",
   "execution_count": 12,
   "metadata": {},
   "outputs": [
    {
     "data": {
      "text/plain": [
       "299"
      ]
     },
     "execution_count": 12,
     "metadata": {},
     "output_type": "execute_result"
    }
   ],
   "source": [
    "sum(raw_data[\"Reason for absence\"]<21)"
   ]
  },
  {
   "cell_type": "code",
   "execution_count": 13,
   "metadata": {},
   "outputs": [
    {
     "data": {
      "text/plain": [
       "3     87\n",
       "2     72\n",
       "10    71\n",
       "7     67\n",
       "5     64\n",
       "11    63\n",
       "8     54\n",
       "6     54\n",
       "9     53\n",
       "4     53\n",
       "1     50\n",
       "12    49\n",
       "0      3\n",
       "Name: Month of absence, dtype: int64"
      ]
     },
     "execution_count": 13,
     "metadata": {},
     "output_type": "execute_result"
    }
   ],
   "source": [
    "#Repeat month of absence\n",
    "raw_data[\"Month of absence\"].value_counts()"
   ]
  },
  {
   "cell_type": "code",
   "execution_count": 14,
   "metadata": {},
   "outputs": [
    {
     "data": {
      "text/plain": [
       "13"
      ]
     },
     "execution_count": 14,
     "metadata": {},
     "output_type": "execute_result"
    }
   ],
   "source": [
    "#There are 13 months in dataset, which seems to be an issue\n",
    "len(raw_data[\"Month of absence\"].value_counts())"
   ]
  },
  {
   "cell_type": "code",
   "execution_count": 15,
   "metadata": {},
   "outputs": [
    {
     "data": {
      "text/plain": [
       "2    161\n",
       "4    156\n",
       "3    154\n",
       "6    144\n",
       "5    125\n",
       "Name: Day of the week, dtype: int64"
      ]
     },
     "execution_count": 15,
     "metadata": {},
     "output_type": "execute_result"
    }
   ],
   "source": [
    "#Repeat day of week\n",
    "raw_data[\"Day of the week\"].value_counts()"
   ]
  },
  {
   "cell_type": "code",
   "execution_count": 16,
   "metadata": {},
   "outputs": [
    {
     "data": {
      "text/plain": [
       "4    195\n",
       "2    192\n",
       "3    183\n",
       "1    170\n",
       "Name: Seasons, dtype: int64"
      ]
     },
     "execution_count": 16,
     "metadata": {},
     "output_type": "execute_result"
    }
   ],
   "source": [
    "#Repeat season\n",
    "raw_data[\"Seasons\"].value_counts()"
   ]
  },
  {
   "cell_type": "code",
   "execution_count": 17,
   "metadata": {},
   "outputs": [],
   "source": [
    "#Drop duplicate ID \n",
    "uni_data = raw_data.drop_duplicates(\"ID\", keep=\"last\")\n",
    "#print uni_data.shape"
   ]
  },
  {
   "cell_type": "code",
   "execution_count": 18,
   "metadata": {},
   "outputs": [
    {
     "data": {
      "text/plain": [
       "(array([ 92.,  36., 195.,  81., 129.,  51.,  90.,  16.,   0.,  50.]),\n",
       " array([118., 145., 172., 199., 226., 253., 280., 307., 334., 361., 388.]),\n",
       " <a list of 10 Patch objects>)"
      ]
     },
     "execution_count": 18,
     "metadata": {},
     "output_type": "execute_result"
    },
    {
     "data": {
      "image/png": "[encoded data removed]",
      "text/plain": [
       "<Figure size 432x288 with 1 Axes>"
      ]
     },
     "metadata": {},
     "output_type": "display_data"
    }
   ],
   "source": [
    "# Plot Transportation expense\n",
    "plt.hist(raw_data[\"Transportation expense\"], color=\"orange\", edgecolor=\"black\")"
   ]
  },
  {
   "cell_type": "code",
   "execution_count": 19,
   "metadata": {},
   "outputs": [
    {
     "data": {
      "text/plain": [
       "(array([4., 2., 6., 2., 9., 3., 5., 1., 0., 4.]),\n",
       " array([118., 145., 172., 199., 226., 253., 280., 307., 334., 361., 388.]),\n",
       " <a list of 10 Patch objects>)"
      ]
     },
     "execution_count": 19,
     "metadata": {},
     "output_type": "execute_result"
    },
    {
     "data": {
      "image/png": "[encoded data removed]",
      "text/plain": [
       "<Figure size 432x288 with 1 Axes>"
      ]
     },
     "metadata": {},
     "output_type": "display_data"
    }
   ],
   "source": [
    "#Plot transportation expense with unique ID\n",
    "plt.hist(uni_data[\"Transportation expense\"], color=\"orange\", edgecolor=\"black\")"
   ]
  },
  {
   "cell_type": "code",
   "execution_count": 20,
   "metadata": {},
   "outputs": [
    {
     "data": {
      "text/plain": [
       "(array([  6., 153.,  50.,  39., 189.,  51.,  42.,   7.,   1., 202.]),\n",
       " array([ 5. ,  9.7, 14.4, 19.1, 23.8, 28.5, 33.2, 37.9, 42.6, 47.3, 52. ]),\n",
       " <a list of 10 Patch objects>)"
      ]
     },
     "execution_count": 20,
     "metadata": {},
     "output_type": "execute_result"
    },
    {
     "data": {
      "image/png": "[encoded data removed]",
      "text/plain": [
       "<Figure size 432x288 with 1 Axes>"
      ]
     },
     "metadata": {},
     "output_type": "display_data"
    }
   ],
   "source": [
    "#Plot Distance from Residence to Work\n",
    "plt.hist(raw_data[\"Distance from Residence to Work\"], color=\"orange\", edgecolor=\"black\")"
   ]
  },
  {
   "cell_type": "code",
   "execution_count": 21,
   "metadata": {},
   "outputs": [
    {
     "data": {
      "text/plain": [
       "(array([1., 7., 6., 2., 6., 3., 2., 1., 1., 7.]),\n",
       " array([ 5. ,  9.7, 14.4, 19.1, 23.8, 28.5, 33.2, 37.9, 42.6, 47.3, 52. ]),\n",
       " <a list of 10 Patch objects>)"
      ]
     },
     "execution_count": 21,
     "metadata": {},
     "output_type": "execute_result"
    },
    {
     "data": {
      "image/png": "[encoded data removed]",
      "text/plain": [
       "<Figure size 432x288 with 1 Axes>"
      ]
     },
     "metadata": {},
     "output_type": "display_data"
    }
   ],
   "source": [
    "#Plot Distance from Residence to Work with unique ID\n",
    "plt.hist(uni_data[\"Distance from Residence to Work\"], color=\"orange\", edgecolor=\"black\")"
   ]
  },
  {
   "cell_type": "code",
   "execution_count": 22,
   "metadata": {},
   "outputs": [
    {
     "data": {
      "text/plain": [
       "(array([ 31.,  23., 146., 166., 158.,  62., 147.,   0.,   2.,   5.]),\n",
       " array([ 1. ,  3.8,  6.6,  9.4, 12.2, 15. , 17.8, 20.6, 23.4, 26.2, 29. ]),\n",
       " <a list of 10 Patch objects>)"
      ]
     },
     "execution_count": 22,
     "metadata": {},
     "output_type": "execute_result"
    },
    {
     "data": {
      "image/png": "[encoded data removed]",
      "text/plain": [
       "<Figure size 432x288 with 1 Axes>"
      ]
     },
     "metadata": {},
     "output_type": "display_data"
    }
   ],
   "source": [
    "#Plot Service time\n",
    "plt.hist(raw_data[\"Service time\"], color=\"orange\", edgecolor=\"black\")"
   ]
  },
  {
   "cell_type": "code",
   "execution_count": 23,
   "metadata": {},
   "outputs": [
    {
     "data": {
      "text/plain": [
       "(array([ 2.,  2.,  6.,  7., 11.,  4.,  2.,  0.,  1.,  1.]),\n",
       " array([ 1. ,  3.8,  6.6,  9.4, 12.2, 15. , 17.8, 20.6, 23.4, 26.2, 29. ]),\n",
       " <a list of 10 Patch objects>)"
      ]
     },
     "execution_count": 23,
     "metadata": {},
     "output_type": "execute_result"
    },
    {
     "data": {
      "image/png": "[encoded data removed]",
      "text/plain": [
       "<Figure size 432x288 with 1 Axes>"
      ]
     },
     "metadata": {},
     "output_type": "display_data"
    }
   ],
   "source": [
    "#Plot Service time with unique ID\n",
    "plt.hist(uni_data[\"Service time\"], color=\"orange\", edgecolor=\"black\")"
   ]
  },
  {
   "cell_type": "code",
   "execution_count": 24,
   "metadata": {},
   "outputs": [
    {
     "data": {
      "text/plain": [
       "(array([177.,  86.,  79., 199.,  92.,  24.,  32.,  42.,   1.,   8.]),\n",
       " array([27. , 30.1, 33.2, 36.3, 39.4, 42.5, 45.6, 48.7, 51.8, 54.9, 58. ]),\n",
       " <a list of 10 Patch objects>)"
      ]
     },
     "execution_count": 24,
     "metadata": {},
     "output_type": "execute_result"
    },
    {
     "data": {
      "image/png": "[encoded data removed]",
      "text/plain": [
       "<Figure size 432x288 with 1 Axes>"
      ]
     },
     "metadata": {},
     "output_type": "display_data"
    }
   ],
   "source": [
    "#Plot Age\n",
    "plt.hist(raw_data[\"Age\"], color=\"orange\", edgecolor=\"black\")"
   ]
  },
  {
   "cell_type": "code",
   "execution_count": 25,
   "metadata": {},
   "outputs": [
    {
     "data": {
      "text/plain": [
       "(array([6., 7., 3., 5., 5., 2., 3., 3., 1., 1.]),\n",
       " array([27. , 30.1, 33.2, 36.3, 39.4, 42.5, 45.6, 48.7, 51.8, 54.9, 58. ]),\n",
       " <a list of 10 Patch objects>)"
      ]
     },
     "execution_count": 25,
     "metadata": {},
     "output_type": "execute_result"
    },
    {
     "data": {
      "image/png": "[encoded data removed]",
      "text/plain": [
       "<Figure size 432x288 with 1 Axes>"
      ]
     },
     "metadata": {},
     "output_type": "display_data"
    }
   ],
   "source": [
    "#Plot Age with unique ID\n",
    "plt.hist(uni_data[\"Age\"], color=\"orange\", edgecolor=\"black\")"
   ]
  },
  {
   "cell_type": "code",
   "execution_count": 26,
   "metadata": {},
   "outputs": [
    {
     "data": {
      "text/plain": [
       "(array([ 57., 103., 153., 163.,  78.,  79.,  35.,  40.,   0.,  32.]),\n",
       " array([205.917 , 223.2137, 240.5104, 257.8071, 275.1038, 292.4005,\n",
       "        309.6972, 326.9939, 344.2906, 361.5873, 378.884 ]),\n",
       " <a list of 10 Patch objects>)"
      ]
     },
     "execution_count": 26,
     "metadata": {},
     "output_type": "execute_result"
    },
    {
     "data": {
      "image/png": "[encoded data removed]",
      "text/plain": [
       "<Figure size 432x288 with 1 Axes>"
      ]
     },
     "metadata": {},
     "output_type": "display_data"
    }
   ],
   "source": [
    "#Plot Work load Average/day\n",
    "plt.hist(raw_data[\"Work load Average/day \"], color=\"orange\", edgecolor=\"black\")"
   ]
  },
  {
   "cell_type": "code",
   "execution_count": 27,
   "metadata": {},
   "outputs": [
    {
     "data": {
      "text/plain": [
       "(array([ 8.,  3., 11., 11.,  1.,  1.,  0.,  0.,  0.,  1.]),\n",
       " array([222.196 , 237.8648, 253.5336, 269.2024, 284.8712, 300.54  ,\n",
       "        316.2088, 331.8776, 347.5464, 363.2152, 378.884 ]),\n",
       " <a list of 10 Patch objects>)"
      ]
     },
     "execution_count": 27,
     "metadata": {},
     "output_type": "execute_result"
    },
    {
     "data": {
      "image/png": "[encoded data removed]",
      "text/plain": [
       "<Figure size 432x288 with 1 Axes>"
      ]
     },
     "metadata": {},
     "output_type": "display_data"
    }
   ],
   "source": [
    "#Plot Work load Average/day with unique ID\n",
    "plt.hist(uni_data[\"Work load Average/day \"], color=\"orange\", edgecolor=\"black\")"
   ]
  },
  {
   "cell_type": "code",
   "execution_count": 28,
   "metadata": {},
   "outputs": [
    {
     "data": {
      "text/plain": [
       "(array([ 19.,   0.,   0.,  40.,   0., 124., 139., 150., 155., 113.]),\n",
       " array([ 81. ,  82.9,  84.8,  86.7,  88.6,  90.5,  92.4,  94.3,  96.2,\n",
       "         98.1, 100. ]),\n",
       " <a list of 10 Patch objects>)"
      ]
     },
     "execution_count": 28,
     "metadata": {},
     "output_type": "execute_result"
    },
    {
     "data": {
      "image/png": "[encoded data removed]",
      "text/plain": [
       "<Figure size 432x288 with 1 Axes>"
      ]
     },
     "metadata": {},
     "output_type": "display_data"
    }
   ],
   "source": [
    "#Plot Hit target\n",
    "plt.hist(raw_data[\"Hit target\"], color=\"orange\", edgecolor=\"black\")"
   ]
  },
  {
   "cell_type": "code",
   "execution_count": 29,
   "metadata": {},
   "outputs": [
    {
     "data": {
      "text/plain": [
       "(array([ 1.,  0.,  0.,  0.,  0.,  2., 13.,  4.,  9.,  7.]),\n",
       " array([81. , 82.8, 84.6, 86.4, 88.2, 90. , 91.8, 93.6, 95.4, 97.2, 99. ]),\n",
       " <a list of 10 Patch objects>)"
      ]
     },
     "execution_count": 29,
     "metadata": {},
     "output_type": "execute_result"
    },
    {
     "data": {
      "image/png": "[encoded data removed]",
      "text/plain": [
       "<Figure size 432x288 with 1 Axes>"
      ]
     },
     "metadata": {},
     "output_type": "display_data"
    }
   ],
   "source": [
    "#Plot Hit target with unique ID\n",
    "plt.hist(uni_data[\"Hit target\"], color=\"orange\", edgecolor=\"black\")"
   ]
  },
  {
   "cell_type": "code",
   "execution_count": 30,
   "metadata": {},
   "outputs": [
    {
     "data": {
      "text/plain": [
       "0    700\n",
       "1     40\n",
       "Name: Disciplinary failure, dtype: int64"
      ]
     },
     "execution_count": 30,
     "metadata": {},
     "output_type": "execute_result"
    }
   ],
   "source": [
    "#Repeat Disciplinary failure\n",
    "raw_data[\"Disciplinary failure\"].value_counts()"
   ]
  },
  {
   "cell_type": "code",
   "execution_count": 31,
   "metadata": {},
   "outputs": [
    {
     "data": {
      "text/plain": [
       "1    611\n",
       "3     79\n",
       "2     46\n",
       "4      4\n",
       "Name: Education, dtype: int64"
      ]
     },
     "execution_count": 31,
     "metadata": {},
     "output_type": "execute_result"
    }
   ],
   "source": [
    "#Repeat Education\n",
    "raw_data[\"Education\"].value_counts()"
   ]
  },
  {
   "cell_type": "code",
   "execution_count": 32,
   "metadata": {},
   "outputs": [
    {
     "data": {
      "text/plain": [
       "1    28\n",
       "2     4\n",
       "3     3\n",
       "4     1\n",
       "Name: Education, dtype: int64"
      ]
     },
     "execution_count": 32,
     "metadata": {},
     "output_type": "execute_result"
    }
   ],
   "source": [
    "#Repeat Education with unique ID\n",
    "uni_data[\"Education\"].value_counts()"
   ]
  },
  {
   "cell_type": "code",
   "execution_count": 33,
   "metadata": {},
   "outputs": [
    {
     "data": {
      "text/plain": [
       "0    298\n",
       "1    229\n",
       "2    156\n",
       "4     42\n",
       "3     15\n",
       "Name: Son, dtype: int64"
      ]
     },
     "execution_count": 33,
     "metadata": {},
     "output_type": "execute_result"
    }
   ],
   "source": [
    "#Repeat son\n",
    "raw_data[\"Son\"].value_counts()"
   ]
  },
  {
   "cell_type": "code",
   "execution_count": 34,
   "metadata": {},
   "outputs": [
    {
     "data": {
      "text/plain": [
       "2    12\n",
       "0    12\n",
       "1    10\n",
       "4     1\n",
       "3     1\n",
       "Name: Son, dtype: int64"
      ]
     },
     "execution_count": 34,
     "metadata": {},
     "output_type": "execute_result"
    }
   ],
   "source": [
    "#Repeat son with unique ID\n",
    "uni_data[\"Son\"].value_counts()"
   ]
  },
  {
   "cell_type": "code",
   "execution_count": 35,
   "metadata": {},
   "outputs": [
    {
     "data": {
      "text/plain": [
       "1    420\n",
       "0    320\n",
       "Name: Social drinker, dtype: int64"
      ]
     },
     "execution_count": 35,
     "metadata": {},
     "output_type": "execute_result"
    }
   ],
   "source": [
    "#Repeat Social drinker\n",
    "raw_data[\"Social drinker\"].value_counts()"
   ]
  },
  {
   "cell_type": "code",
   "execution_count": 36,
   "metadata": {},
   "outputs": [
    {
     "data": {
      "text/plain": [
       "1    19\n",
       "0    17\n",
       "Name: Social drinker, dtype: int64"
      ]
     },
     "execution_count": 36,
     "metadata": {},
     "output_type": "execute_result"
    }
   ],
   "source": [
    "#Repeat Social drinker with unique ID\n",
    "uni_data[\"Social drinker\"].value_counts()"
   ]
  },
  {
   "cell_type": "code",
   "execution_count": 37,
   "metadata": {},
   "outputs": [
    {
     "data": {
      "text/plain": [
       "0    686\n",
       "1     54\n",
       "Name: Social smoker, dtype: int64"
      ]
     },
     "execution_count": 37,
     "metadata": {},
     "output_type": "execute_result"
    }
   ],
   "source": [
    "#Repeat Social smoker\n",
    "raw_data[\"Social smoker\"].value_counts()"
   ]
  },
  {
   "cell_type": "code",
   "execution_count": 38,
   "metadata": {},
   "outputs": [
    {
     "data": {
      "text/plain": [
       "0    29\n",
       "1     7\n",
       "Name: Social smoker, dtype: int64"
      ]
     },
     "execution_count": 38,
     "metadata": {},
     "output_type": "execute_result"
    }
   ],
   "source": [
    "#Repeat Social smoker with unique ID\n",
    "uni_data[\"Social smoker\"].value_counts()"
   ]
  },
  {
   "cell_type": "code",
   "execution_count": 39,
   "metadata": {},
   "outputs": [
    {
     "data": {
      "text/plain": [
       "0    460\n",
       "1    138\n",
       "2     96\n",
       "4     32\n",
       "8      8\n",
       "5      6\n",
       "Name: Pet, dtype: int64"
      ]
     },
     "execution_count": 39,
     "metadata": {},
     "output_type": "execute_result"
    }
   ],
   "source": [
    "#Repeat Pet\n",
    "raw_data[\"Pet\"].value_counts()"
   ]
  },
  {
   "cell_type": "code",
   "execution_count": 40,
   "metadata": {},
   "outputs": [
    {
     "data": {
      "text/plain": [
       "0    19\n",
       "1     7\n",
       "2     5\n",
       "8     2\n",
       "4     2\n",
       "5     1\n",
       "Name: Pet, dtype: int64"
      ]
     },
     "execution_count": 40,
     "metadata": {},
     "output_type": "execute_result"
    }
   ],
   "source": [
    "#Repeat Pet with unique ID\n",
    "uni_data[\"Pet\"].value_counts()"
   ]
  },
  {
   "cell_type": "code",
   "execution_count": 41,
   "metadata": {},
   "outputs": [
    {
     "data": {
      "text/plain": [
       "(array([ 53.,  81., 143.,  59.,  33.,  95., 182.,  33.,  37.,  24.]),\n",
       " array([ 56. ,  61.2,  66.4,  71.6,  76.8,  82. ,  87.2,  92.4,  97.6,\n",
       "        102.8, 108. ]),\n",
       " <a list of 10 Patch objects>)"
      ]
     },
     "execution_count": 41,
     "metadata": {},
     "output_type": "execute_result"
    },
    {
     "data": {
      "image/png": "[encoded data removed]",
      "text/plain": [
       "<Figure size 432x288 with 1 Axes>"
      ]
     },
     "metadata": {},
     "output_type": "display_data"
    }
   ],
   "source": [
    "#Plot Weight\n",
    "plt.hist(raw_data[\"Weight\"], color=\"orange\", edgecolor=\"black\")"
   ]
  },
  {
   "cell_type": "code",
   "execution_count": 42,
   "metadata": {},
   "outputs": [
    {
     "data": {
      "text/plain": [
       "(array([2., 5., 6., 5., 4., 3., 4., 2., 3., 2.]),\n",
       " array([ 56. ,  61.2,  66.4,  71.6,  76.8,  82. ,  87.2,  92.4,  97.6,\n",
       "        102.8, 108. ]),\n",
       " <a list of 10 Patch objects>)"
      ]
     },
     "execution_count": 42,
     "metadata": {},
     "output_type": "execute_result"
    },
    {
     "data": {
      "image/png": "[encoded data removed]",
      "text/plain": [
       "<Figure size 432x288 with 1 Axes>"
      ]
     },
     "metadata": {},
     "output_type": "display_data"
    }
   ],
   "source": [
    "#Plot Weight with unique ID\n",
    "plt.hist(uni_data[\"Weight\"], color=\"orange\", edgecolor=\"black\")"
   ]
  },
  {
   "cell_type": "code",
   "execution_count": 43,
   "metadata": {},
   "outputs": [
    {
     "data": {
      "text/plain": [
       "(array([ 30., 177., 404.,  16.,  57.,  20.,   7.,   0.,   0.,  29.]),\n",
       " array([163. , 166.3, 169.6, 172.9, 176.2, 179.5, 182.8, 186.1, 189.4,\n",
       "        192.7, 196. ]),\n",
       " <a list of 10 Patch objects>)"
      ]
     },
     "execution_count": 43,
     "metadata": {},
     "output_type": "execute_result"
    },
    {
     "data": {
      "image/png": "[encoded data removed]",
      "text/plain": [
       "<Figure size 432x288 with 1 Axes>"
      ]
     },
     "metadata": {},
     "output_type": "display_data"
    }
   ],
   "source": [
    "#Plot Height\n",
    "plt.hist(raw_data[\"Height\"], color=\"orange\", edgecolor=\"black\")"
   ]
  },
  {
   "cell_type": "code",
   "execution_count": 44,
   "metadata": {},
   "outputs": [
    {
     "data": {
      "text/plain": [
       "(array([ 2.,  8., 13.,  4.,  5.,  2.,  1.,  0.,  0.,  1.]),\n",
       " array([163. , 166.3, 169.6, 172.9, 176.2, 179.5, 182.8, 186.1, 189.4,\n",
       "        192.7, 196. ]),\n",
       " <a list of 10 Patch objects>)"
      ]
     },
     "execution_count": 44,
     "metadata": {},
     "output_type": "execute_result"
    },
    {
     "data": {
      "image/png": "[encoded data removed]",
      "text/plain": [
       "<Figure size 432x288 with 1 Axes>"
      ]
     },
     "metadata": {},
     "output_type": "display_data"
    }
   ],
   "source": [
    "#Plot Height with unique ID\n",
    "plt.hist(uni_data[\"Height\"], color=\"orange\", edgecolor=\"black\")"
   ]
  },
  {
   "cell_type": "code",
   "execution_count": 45,
   "metadata": {},
   "outputs": [
    {
     "data": {
      "text/plain": [
       "(array([ 46.,  57., 161., 126.,  83.,  63., 171.,   7.,   7.,  19.]),\n",
       " array([19. , 20.9, 22.8, 24.7, 26.6, 28.5, 30.4, 32.3, 34.2, 36.1, 38. ]),\n",
       " <a list of 10 Patch objects>)"
      ]
     },
     "execution_count": 45,
     "metadata": {},
     "output_type": "execute_result"
    },
    {
     "data": {
      "image/png": "[encoded data removed]",
      "text/plain": [
       "<Figure size 432x288 with 1 Axes>"
      ]
     },
     "metadata": {},
     "output_type": "display_data"
    }
   ],
   "source": [
    "#Plot Body mass index\n",
    "plt.hist(raw_data[\"Body mass index\"], color=\"orange\", edgecolor=\"black\")"
   ]
  },
  {
   "cell_type": "code",
   "execution_count": 46,
   "metadata": {},
   "outputs": [
    {
     "data": {
      "text/plain": [
       "(array([ 1.,  6.,  6., 10.,  3.,  2.,  3.,  2.,  2.,  1.]),\n",
       " array([19. , 20.9, 22.8, 24.7, 26.6, 28.5, 30.4, 32.3, 34.2, 36.1, 38. ]),\n",
       " <a list of 10 Patch objects>)"
      ]
     },
     "execution_count": 46,
     "metadata": {},
     "output_type": "execute_result"
    },
    {
     "data": {
      "image/png": "[encoded data removed]",
      "text/plain": [
       "<Figure size 432x288 with 1 Axes>"
      ]
     },
     "metadata": {},
     "output_type": "display_data"
    }
   ],
   "source": [
    "#Plot Body mass index with unique ID\n",
    "plt.hist(uni_data[\"Body mass index\"], color=\"orange\", edgecolor=\"black\")"
   ]
  },
  {
   "cell_type": "code",
   "execution_count": 90,
   "metadata": {},
   "outputs": [
    {
     "data": {
      "text/plain": [
       "8      208\n",
       "2      157\n",
       "3      112\n",
       "1       88\n",
       "4       60\n",
       "0       44\n",
       "16      19\n",
       "24      16\n",
       "40       7\n",
       "5        7\n",
       "32       6\n",
       "64       3\n",
       "80       3\n",
       "120      3\n",
       "112      2\n",
       "56       2\n",
       "48       1\n",
       "7        1\n",
       "104      1\n",
       "Name: Absenteeism time in hours, dtype: int64"
      ]
     },
     "execution_count": 90,
     "metadata": {},
     "output_type": "execute_result"
    }
   ],
   "source": [
    "raw_data[\"Absenteeism time in hours\"].value_counts()"
   ]
  },
  {
   "cell_type": "code",
   "execution_count": 47,
   "metadata": {},
   "outputs": [
    {
     "data": {
      "text/plain": [
       "<matplotlib.colorbar.Colorbar at 0x114dd1b10>"
      ]
     },
     "execution_count": 47,
     "metadata": {},
     "output_type": "execute_result"
    },
    {
     "data": {
      "image/png": "[encoded data removed]",
      "text/plain": [
       "<Figure size 288x288 with 2 Axes>"
      ]
     },
     "metadata": {},
     "output_type": "display_data"
    }
   ],
   "source": [
    "#Correlation matrix except ID\n",
    "data_no_id = raw_data.drop(\"ID\", axis=1)\n",
    "#data_no_id.head()\n",
    "cor = data_no_id.corr()\n",
    "plt.matshow(cor, cmap='hot')\n",
    "plt.colorbar()\n",
    "#plt.savefig(\"correlation matrix\")\n",
    "#plt.figure(figsize=(8,10))"
   ]
  },
  {
   "cell_type": "code",
   "execution_count": 48,
   "metadata": {},
   "outputs": [
    {
     "data": {
      "text/plain": [
       "Index([u'Reason for absence', u'Month of absence', u'Day of the week',\n",
       "       u'Seasons', u'Transportation expense',\n",
       "       u'Distance from Residence to Work', u'Service time', u'Age',\n",
       "       u'Work load Average/day ', u'Hit target', u'Disciplinary failure',\n",
       "       u'Education', u'Son', u'Social drinker', u'Social smoker', u'Pet',\n",
       "       u'Weight', u'Height', u'Body mass index', u'Absenteeism time in hours'],\n",
       "      dtype='object')"
      ]
     },
     "execution_count": 48,
     "metadata": {},
     "output_type": "execute_result"
    }
   ],
   "source": [
    "cor.keys()"
   ]
  },
  {
   "cell_type": "code",
   "execution_count": 49,
   "metadata": {},
   "outputs": [
    {
     "data": {
      "text/plain": [
       "<matplotlib.colorbar.Colorbar at 0x11595d810>"
      ]
     },
     "execution_count": 49,
     "metadata": {},
     "output_type": "execute_result"
    },
    {
     "data": {
      "image/png": "[encoded data removed]",
      "text/plain": [
       "<Figure size 288x288 with 2 Axes>"
      ]
     },
     "metadata": {},
     "output_type": "display_data"
    }
   ],
   "source": [
    "#Plot part of correlation matrix\n",
    "plt.matshow(cor.iloc[0:6, 0:6], cmap='hot')\n",
    "plt.colorbar()"
   ]
  },
  {
   "cell_type": "code",
   "execution_count": 50,
   "metadata": {},
   "outputs": [
    {
     "data": {
      "text/plain": [
       "<matplotlib.axes._subplots.AxesSubplot at 0x115d339d0>"
      ]
     },
     "execution_count": 50,
     "metadata": {},
     "output_type": "execute_result"
    },
    {
     "data": {
      "image/png": "[encoded data removed]",
      "text/plain": [
       "<Figure size 432x288 with 2 Axes>"
      ]
     },
     "metadata": {},
     "output_type": "display_data"
    }
   ],
   "source": [
    "import seaborn as sns\n",
    "cov = data_no_id.cov()\n",
    "#plt.pcolor(cov, cmap='hot')\n",
    "#plt.colorbar()\n",
    "sns.heatmap(cov.iloc[1:5, 1:5], annot=True)"
   ]
  },
  {
   "cell_type": "code",
   "execution_count": 3,
   "metadata": {},
   "outputs": [],
   "source": [
    "#Initial data preprocessing\n",
    "#Change son to children, remove ID, height, weight\n",
    "ini_data = raw_data.rename(index=str, columns={\"Son\": \"Children\"})\n",
    "ini_data = ini_data.drop([\"ID\", \"Height\", \"Weight\"], axis=1)\n"
   ]
  },
  {
   "cell_type": "code",
   "execution_count": 4,
   "metadata": {},
   "outputs": [
    {
     "data": {
      "text/html": [
       "<div>\n",
       "<style scoped>\n",
       "    .dataframe tbody tr th:only-of-type {\n",
       "        vertical-align: middle;\n",
       "    }\n",
       "\n",
       "    .dataframe tbody tr th {\n",
       "        vertical-align: top;\n",
       "    }\n",
       "\n",
       "    .dataframe thead th {\n",
       "        text-align: right;\n",
       "    }\n",
       "</style>\n",
       "<table border=\"1\" class=\"dataframe\">\n",
       "  <thead>\n",
       "    <tr style=\"text-align: right;\">\n",
       "      <th></th>\n",
       "      <th>Reason for absence</th>\n",
       "      <th>Month of absence</th>\n",
       "      <th>Day of the week</th>\n",
       "      <th>Seasons</th>\n",
       "      <th>Transportation expense</th>\n",
       "      <th>Distance from Residence to Work</th>\n",
       "      <th>Service time</th>\n",
       "      <th>Age</th>\n",
       "      <th>Work load Average/day</th>\n",
       "      <th>Hit target</th>\n",
       "      <th>Disciplinary failure</th>\n",
       "      <th>Education</th>\n",
       "      <th>Children</th>\n",
       "      <th>Social drinker</th>\n",
       "      <th>Social smoker</th>\n",
       "      <th>Pet</th>\n",
       "      <th>Body mass index</th>\n",
       "      <th>Absenteeism time in hours</th>\n",
       "    </tr>\n",
       "  </thead>\n",
       "  <tbody>\n",
       "    <tr>\n",
       "      <th>0</th>\n",
       "      <td>26</td>\n",
       "      <td>7</td>\n",
       "      <td>3</td>\n",
       "      <td>1</td>\n",
       "      <td>289</td>\n",
       "      <td>36</td>\n",
       "      <td>13</td>\n",
       "      <td>33</td>\n",
       "      <td>239.554</td>\n",
       "      <td>97</td>\n",
       "      <td>0</td>\n",
       "      <td>1</td>\n",
       "      <td>2</td>\n",
       "      <td>1</td>\n",
       "      <td>0</td>\n",
       "      <td>1</td>\n",
       "      <td>30</td>\n",
       "      <td>4</td>\n",
       "    </tr>\n",
       "    <tr>\n",
       "      <th>1</th>\n",
       "      <td>0</td>\n",
       "      <td>7</td>\n",
       "      <td>3</td>\n",
       "      <td>1</td>\n",
       "      <td>118</td>\n",
       "      <td>13</td>\n",
       "      <td>18</td>\n",
       "      <td>50</td>\n",
       "      <td>239.554</td>\n",
       "      <td>97</td>\n",
       "      <td>1</td>\n",
       "      <td>1</td>\n",
       "      <td>1</td>\n",
       "      <td>1</td>\n",
       "      <td>0</td>\n",
       "      <td>0</td>\n",
       "      <td>31</td>\n",
       "      <td>0</td>\n",
       "    </tr>\n",
       "    <tr>\n",
       "      <th>2</th>\n",
       "      <td>23</td>\n",
       "      <td>7</td>\n",
       "      <td>4</td>\n",
       "      <td>1</td>\n",
       "      <td>179</td>\n",
       "      <td>51</td>\n",
       "      <td>18</td>\n",
       "      <td>38</td>\n",
       "      <td>239.554</td>\n",
       "      <td>97</td>\n",
       "      <td>0</td>\n",
       "      <td>1</td>\n",
       "      <td>0</td>\n",
       "      <td>1</td>\n",
       "      <td>0</td>\n",
       "      <td>0</td>\n",
       "      <td>31</td>\n",
       "      <td>2</td>\n",
       "    </tr>\n",
       "    <tr>\n",
       "      <th>3</th>\n",
       "      <td>7</td>\n",
       "      <td>7</td>\n",
       "      <td>5</td>\n",
       "      <td>1</td>\n",
       "      <td>279</td>\n",
       "      <td>5</td>\n",
       "      <td>14</td>\n",
       "      <td>39</td>\n",
       "      <td>239.554</td>\n",
       "      <td>97</td>\n",
       "      <td>0</td>\n",
       "      <td>1</td>\n",
       "      <td>2</td>\n",
       "      <td>1</td>\n",
       "      <td>1</td>\n",
       "      <td>0</td>\n",
       "      <td>24</td>\n",
       "      <td>4</td>\n",
       "    </tr>\n",
       "    <tr>\n",
       "      <th>4</th>\n",
       "      <td>23</td>\n",
       "      <td>7</td>\n",
       "      <td>5</td>\n",
       "      <td>1</td>\n",
       "      <td>289</td>\n",
       "      <td>36</td>\n",
       "      <td>13</td>\n",
       "      <td>33</td>\n",
       "      <td>239.554</td>\n",
       "      <td>97</td>\n",
       "      <td>0</td>\n",
       "      <td>1</td>\n",
       "      <td>2</td>\n",
       "      <td>1</td>\n",
       "      <td>0</td>\n",
       "      <td>1</td>\n",
       "      <td>30</td>\n",
       "      <td>2</td>\n",
       "    </tr>\n",
       "  </tbody>\n",
       "</table>\n",
       "</div>"
      ],
      "text/plain": [
       "   Reason for absence  Month of absence  Day of the week  Seasons  \\\n",
       "0                  26                 7                3        1   \n",
       "1                   0                 7                3        1   \n",
       "2                  23                 7                4        1   \n",
       "3                   7                 7                5        1   \n",
       "4                  23                 7                5        1   \n",
       "\n",
       "   Transportation expense  Distance from Residence to Work  Service time  Age  \\\n",
       "0                     289                               36            13   33   \n",
       "1                     118                               13            18   50   \n",
       "2                     179                               51            18   38   \n",
       "3                     279                                5            14   39   \n",
       "4                     289                               36            13   33   \n",
       "\n",
       "   Work load Average/day   Hit target  Disciplinary failure  Education  \\\n",
       "0                 239.554          97                     0          1   \n",
       "1                 239.554          97                     1          1   \n",
       "2                 239.554          97                     0          1   \n",
       "3                 239.554          97                     0          1   \n",
       "4                 239.554          97                     0          1   \n",
       "\n",
       "   Children  Social drinker  Social smoker  Pet  Body mass index  \\\n",
       "0         2               1              0    1               30   \n",
       "1         1               1              0    0               31   \n",
       "2         0               1              0    0               31   \n",
       "3         2               1              1    0               24   \n",
       "4         2               1              0    1               30   \n",
       "\n",
       "   Absenteeism time in hours  \n",
       "0                          4  \n",
       "1                          0  \n",
       "2                          2  \n",
       "3                          4  \n",
       "4                          2  "
      ]
     },
     "execution_count": 4,
     "metadata": {},
     "output_type": "execute_result"
    }
   ],
   "source": [
    "ini_data.head()"
   ]
  },
  {
   "cell_type": "code",
   "execution_count": 53,
   "metadata": {},
   "outputs": [],
   "source": [
    "#Change reason for absence from integer to category\n",
    "#ini_data[\"Reason for absence\"] = ini_data[\"Reason for absence\"].astype(str)"
   ]
  },
  {
   "cell_type": "code",
   "execution_count": 54,
   "metadata": {},
   "outputs": [],
   "source": [
    "#??How to reduce number of values in reason for absence?\n",
    "\n",
    "#Experiment some times then consider combine some reasons or give an order to the set of reasons"
   ]
  },
  {
   "cell_type": "code",
   "execution_count": 55,
   "metadata": {},
   "outputs": [],
   "source": [
    "#Classification\n",
    "\n"
   ]
  },
  {
   "cell_type": "code",
   "execution_count": 5,
   "metadata": {},
   "outputs": [],
   "source": [
    "#data set with removing missing values and without discreting any predictors\n",
    "#Regard #0 of reason for absence as missing value\n",
    "post_data = ini_data\n",
    "#Delete the instances with 0 value of month of absence\n",
    "post_data = post_data[post_data[\"Month of absence\"] != 0]\n",
    "post_data = post_data[post_data[\"Reason for absence\"] != 0]\n",
    "#Discrete Absenteeism time in hours with 6 equal frequency bins\n",
    "post_data[\"Absenteeism time in hours\"], class_bins = pd.cut(post_data[\"Absenteeism time in hours\"], [-float(\"inf\"), 1.5, 2.5, 3.5, 7.5, 12, float(\"inf\")], retbins=True)\n"
   ]
  },
  {
   "cell_type": "code",
   "execution_count": 91,
   "metadata": {},
   "outputs": [
    {
     "data": {
      "text/plain": [
       "(7.5, 12.0]    208\n",
       "(1.5, 2.5]     157\n",
       "(2.5, 3.5]     112\n",
       "(-inf, 1.5]     89\n",
       "(3.5, 7.5]      68\n",
       "(12.0, inf]     63\n",
       "Name: Absenteeism time in hours, dtype: int64"
      ]
     },
     "execution_count": 91,
     "metadata": {},
     "output_type": "execute_result"
    }
   ],
   "source": [
    "post_data[\"Absenteeism time in hours\"].value_counts()"
   ]
  },
  {
   "cell_type": "code",
   "execution_count": 57,
   "metadata": {},
   "outputs": [
    {
     "data": {
      "text/plain": [
       "array([-inf,  1.5,  2.5,  3.5,  7.5, 12. ,  inf])"
      ]
     },
     "execution_count": 57,
     "metadata": {},
     "output_type": "execute_result"
    }
   ],
   "source": [
    "class_bins"
   ]
  },
  {
   "cell_type": "code",
   "execution_count": 6,
   "metadata": {},
   "outputs": [],
   "source": [
    "post_data[\"Absenteeism time in hours\"] = post_data[\"Absenteeism time in hours\"].astype(str)\n",
    "post_data[\"Reason for absence\"] = post_data[\"Reason for absence\"].astype(str)"
   ]
  },
  {
   "cell_type": "code",
   "execution_count": 59,
   "metadata": {},
   "outputs": [
    {
     "data": {
      "text/plain": [
       "Reason for absence                  object\n",
       "Month of absence                     int64\n",
       "Day of the week                      int64\n",
       "Seasons                              int64\n",
       "Transportation expense               int64\n",
       "Distance from Residence to Work      int64\n",
       "Service time                         int64\n",
       "Age                                  int64\n",
       "Work load Average/day              float64\n",
       "Hit target                           int64\n",
       "Disciplinary failure                 int64\n",
       "Education                            int64\n",
       "Children                             int64\n",
       "Social drinker                       int64\n",
       "Social smoker                        int64\n",
       "Pet                                  int64\n",
       "Body mass index                      int64\n",
       "Absenteeism time in hours           object\n",
       "dtype: object"
      ]
     },
     "execution_count": 59,
     "metadata": {},
     "output_type": "execute_result"
    }
   ],
   "source": [
    "post_data.dtypes"
   ]
  },
  {
   "cell_type": "code",
   "execution_count": 77,
   "metadata": {},
   "outputs": [],
   "source": [
    "#Create 10-fold cross validation indices\n",
    "from sklearn.model_selection import KFold\n",
    "kf = KFold(n_splits=10, random_state=1)"
   ]
  },
  {
   "cell_type": "code",
   "execution_count": 78,
   "metadata": {},
   "outputs": [],
   "source": [
    "#Calculate precision, recall, accuracy, and ROC_AUC of each class\n",
    "#precision, recall, roc_auc are arraies and accuracy is a number\n",
    "def evl_metrics(test_class, prediction, pred_prob, labels):\n",
    "    accuracy = accuracy_score(test_class, prediction)\n",
    "    precision = precision_score(test_class, prediction, average=None)\n",
    "    recall = recall_score(test_class, prediction, average=None)\n",
    "    #Find a way to calculate roc auc\n",
    "    labels = labels.tolist()\n",
    "    roc_auc = []\n",
    "#     for i in range(len(test_class)):\n",
    "#         index = labels.index(test_class[i])\n",
    "#         score.append(pre_prob[i][index])\n",
    "#     ruc_auc = roc_auc_score(test_class, score, average=\"macro\")\n",
    "    n = len(test_class)\n",
    "    for i in range(len(labels)):\n",
    "        pred_for_lab = []\n",
    "        prob_for_lab = [item[i] for item in pred_prob]\n",
    "        for j in range(n):\n",
    "            if(test_class[j] == labels[i]):\n",
    "                pred_for_lab.append(1)\n",
    "            else:\n",
    "                pred_for_lab.append(0)\n",
    "        roc_auc.append(roc_auc_score(pred_for_lab, prob_for_lab))\n",
    "    return accuracy, precision, recall, roc_auc"
   ]
  },
  {
   "cell_type": "code",
   "execution_count": 79,
   "metadata": {},
   "outputs": [],
   "source": [
    "#Train and cross validation for data without feature selection\n",
    "##param: model\n",
    "##return: trained model and evaluation metrics\n",
    "def train_process(clf, data):\n",
    "#     accuracy = 0\n",
    "#     precision = np.zeros(6)\n",
    "#     recall = np.zeros(6)\n",
    "#     build_time = 0\n",
    "#     size = []\n",
    "    \n",
    "    y_true, prediction, prediction_prob = [], [], []\n",
    "    #Split predictor and target\n",
    "    predictor = data.iloc[:, :-1]\n",
    "    target = data.iloc[:, -1]\n",
    "    labels = None\n",
    "    #print predictor.head()\n",
    "    #print target.head()\n",
    "#     labels = unique_labels(target)\n",
    "    for train_index, test_index in kf.split(data):\n",
    "        #Split data into training set and validation set\n",
    "#         train_predictor = data.iloc[train_index].drop(\"Absenteeism time in hours\", axis=1)\n",
    "#         train_class = data.iloc[train_index][\"Absenteeism time in hours\"]\n",
    "#         test_predictor = data.iloc[test_index].drop(\"Absenteeism time in hours\", axis=1)\n",
    "#         test_class = data.iloc[test_index][\"Absenteeism time in hours\"]\n",
    "        train_predictor = predictor.iloc[train_index]\n",
    "        train_target = target.iloc[train_index]\n",
    "        test_predictor = predictor.iloc[test_index]\n",
    "        test_target = target.iloc[test_index]\n",
    "        \n",
    "#         t1 = datetime.now()\n",
    "        clf.fit(train_predictor, train_target)\n",
    "#         t2 = datetime.now()\n",
    "#         build_time += (t2-t1).microseconds/1000000 + (t2 - t1).seconds\n",
    "        pred = clf.predict(test_predictor)\n",
    "        pred_prob = clf.predict_proba(test_predictor)\n",
    "        \n",
    "        y_true.extend(test_target)\n",
    "        prediction.extend(pred)\n",
    "        prediction_prob.extend(pred_prob)\n",
    "        labels = clf.classes_\n",
    "    \n",
    "        #size\n",
    "#         size.append(clf.tree_.node_count)\n",
    "        \n",
    "        #test\n",
    "#         print unique_labels(test_target, prediction)\n",
    "        \n",
    "#         labels = unique_labels(test_target, prediction)\n",
    "        \n",
    "#         acc, prec, rec= evl_metrics(test_target, prediction)\n",
    "#         accuracy += acc\n",
    "#         if(len(prec)==len(precision) and len(rec)==len(recall)):\n",
    "#             precision = np.add(precision, prec)\n",
    "#             recall = np.add(recall, rec)\n",
    "#         roc_auc = np.add(roc_auc, roc)\n",
    "#         conf_mat = confusion_matrix(test_class, prediction)\n",
    "#         acc, prec, rec = evl_metrics(conf_mat)\n",
    "#         print acc, prec, rec\n",
    "#         print conf_mat\n",
    "#         accuracy += acc\n",
    "#         precision += prec\n",
    "#         recall += rec    \n",
    "#     return clf, accuracy/10, precision/10, recall/10, build_time/10\n",
    "    \n",
    "#     return accuracy/10, precision/10, recall/10, build_time/10, labels, size\n",
    "    accuracy, precision, recall, roc_auc = evl_metrics(y_true, prediction, prediction_prob, labels)\n",
    "    \n",
    "    #Use all data to train the model\n",
    "    t1 = datetime.now()\n",
    "    clf.fit(predictor, target)\n",
    "    t2 = datetime.now()\n",
    "    build_time = (t2-t1).microseconds/100000 + (t2 - t1).seconds\n",
    "    \n",
    "    return accuracy, precision, recall, roc_auc, build_time, labels, clf"
   ]
  },
  {
   "cell_type": "code",
   "execution_count": 80,
   "metadata": {},
   "outputs": [],
   "source": [
    "#With feature selector such as: RFE (Recursive Feature Elimination), PCA\n",
    "##param: model\n",
    "##return: trained model and evaluation metrics\n",
    "def train_process_pre(feature_selector, data, clf_ori=None):\n",
    "#     accuracy = 0\n",
    "#     precision = np.zeros(6)\n",
    "#     recall = np.zeros(6)\n",
    "#     build_time = 0\n",
    "#     size = []\n",
    "    y_true, prediction, prediction_prob = [], [], []\n",
    "    #Split data into predictor and target\n",
    "    predictor = data.iloc[:, :-1]\n",
    "    target = data.iloc[:, -1]\n",
    "    \n",
    "    labels = None\n",
    "    #Apply feature_selector\n",
    "    predictor = feature_selector.fit_transform(predictor, target)\n",
    "#     print \"begining: \", unique_labels(target)\n",
    "    if(clf_ori==None):\n",
    "        clf_ori = feature_selector.estimator_\n",
    "#     labels = unique_labels(target)\n",
    "    #Cross validation\n",
    "    for train_index, test_index in kf.split(data):\n",
    "        #Check PCA or RFE\n",
    "        #Split data into training set and validation set\n",
    "#         train_predictor = data.iloc[train_index].drop(\"Absenteeism time in hours\", axis=1)\n",
    "#         train_class = data.iloc[train_index][\"Absenteeism time in hours\"]\n",
    "#         test_predictor = data.iloc[test_index].drop(\"Absenteeism time in hours\", axis=1)\n",
    "#         test_class = data.iloc[test_index][\"Absenteeism time in hours\"]\n",
    "        train_predictor = predictor[train_index]\n",
    "        train_target = target.iloc[train_index]\n",
    "        test_predictor = predictor[test_index]\n",
    "        test_target = target.iloc[test_index]\n",
    "        \n",
    "#         t1 = datetime.now()\n",
    "#         clf.fit(train_predictor, train_class)\n",
    "#         #print clf.get_support()\n",
    "#         #print clf.get_params()\n",
    "#         t2 = datetime.now()\n",
    "#         build_time += (t2-t1).microseconds/1000000 + (t2 - t1).seconds\n",
    "        \n",
    "#         #Transform test input\n",
    "#         test_predictor_1 = clf.transform(test_predictor)\n",
    "        \n",
    "        clf = clf_ori\n",
    "        \n",
    "#         t1 = datetime.now()\n",
    "        clf.fit(train_predictor, train_target)\n",
    "#         t2 = datetime.now()\n",
    "#         build_time += (t2-t1).microseconds/1000000 + (t2 - t1).seconds\n",
    "#         print build_time\n",
    "        pred = clf.predict(test_predictor)\n",
    "        pred_prob = clf.predict_proba(test_predictor)\n",
    "        \n",
    "        y_true.extend(test_target)\n",
    "        prediction.extend(pred)\n",
    "        prediction_prob.extend(pred_prob)\n",
    "        labels = clf.classes_\n",
    "\n",
    "        accuracy, precision, recall, roc_auc = evl_metrics(y_true, prediction, prediction_prob, labels)\n",
    "        \n",
    "        #size\n",
    "#         size.append(clf.tree_.node_count)\n",
    "#         print clf.estimator_.tree_.node_count\n",
    "        \n",
    "        #test\n",
    "#         print unique_labels(test_target, prediction)        \n",
    "#         labels = unique_labels(test_target, prediction)\n",
    "\n",
    "        \n",
    "#         acc, prec, rec= evl_metrics(test_target, prediction)\n",
    "#         accuracy += acc\n",
    "#         if(len(prec)==len(precision) and len(rec)==len(recall)):\n",
    "#             precision = np.add(precision, prec)\n",
    "#             recall = np.add(recall, rec)\n",
    "#         roc_auc = np.add(roc_auc, roc)\n",
    "#         conf_mat = confusion_matrix(test_class, prediction)\n",
    "#         acc, prec, rec = evl_metrics(conf_mat)\n",
    "#         print acc, prec, rec\n",
    "#         print conf_mat\n",
    "#         accuracy += acc\n",
    "#         precision += prec\n",
    "#         recall += rec    \n",
    "#     return clf, accuracy/10, precision/10, recall/10, build_time/10\n",
    "#     return accuracy/10, precision/10, recall/10, build_time/10, labels, size\n",
    "\n",
    "    #Use all data to train the model\n",
    "    t1 = datetime.now()\n",
    "    clf_ori.fit(predictor, target)\n",
    "    t2 = datetime.now()\n",
    "    build_time = (t2-t1).microseconds/100000 + (t2 - t1).seconds\n",
    "    \n",
    "    return accuracy, precision, recall, roc_auc, build_time, labels, clf, feature_selector"
   ]
  },
  {
   "cell_type": "code",
   "execution_count": 108,
   "metadata": {},
   "outputs": [],
   "source": [
    "#Train process for the discreted data\n",
    "def train_discreted(data, kfold, clf=None, feature_selector=None):\n",
    "#     accuracy = 0\n",
    "#     precision = np.zeros(6)\n",
    "#     recall = np.zeros(6)\n",
    "#     build_time = 0\n",
    "#     size = []\n",
    "    y_true, prediction, prediction_prob = [], [], []\n",
    "    #Split data into predictor and target\n",
    "    predictor = data[:, :-1]\n",
    "    target = data[:, -1]\n",
    "    #Apply feature selector if exists\n",
    "    if feature_selector != None:\n",
    "        predictor = feature_selector.fit_transform(predictor, target)\n",
    "    if clf == None:\n",
    "        clf = feature_selector.estimator_\n",
    "#     labels = unique_labels(target)\n",
    "    labels = None\n",
    "    #K fold cross validation\n",
    "    for train_index, test_index in kfold.split(data):\n",
    "        train_pred = predictor[train_index]\n",
    "        train_targ = target[train_index]\n",
    "        test_pred = predictor[test_index]\n",
    "        test_targ = target[test_index]\n",
    "        \n",
    "#         t1 = datetime.now()\n",
    "        clf_n = clf\n",
    "        clf_n.fit(train_pred, train_targ)\n",
    "#         t2 = datetime.now()\n",
    "#         build_time += (t2-t1).microseconds/1000000 + (t2 - t1).seconds\n",
    "#         size.append(clf.tree_.node_count)\n",
    "        \n",
    "        pred = clf_n.predict(test_pred)\n",
    "        pred_prob = clf_n.predict_proba(test_pred)\n",
    "        \n",
    "        y_true.extend(test_targ)\n",
    "        prediction.extend(pred)\n",
    "        prediction_prob.extend(pred_prob)\n",
    "        labels = clf_n.classes_\n",
    "\n",
    "        accuracy, precision, recall, roc_auc = evl_metrics(y_true, prediction, prediction_prob, labels)\n",
    "    \n",
    "#     return accuracy/10, precision/10, recall/10, build_time/10, labels, size\n",
    "    #Use all data to train the model\n",
    "    t1 = datetime.now()\n",
    "    clf.fit(predictor, target)\n",
    "    t2 = datetime.now()\n",
    "    build_time = (t2-t1).microseconds/100000 + (t2 - t1).seconds\n",
    "    \n",
    "    return accuracy, precision, recall, roc_auc, build_time, labels, clf, feature_selector"
   ]
  },
  {
   "cell_type": "code",
   "execution_count": null,
   "metadata": {},
   "outputs": [],
   "source": []
  },
  {
   "cell_type": "code",
   "execution_count": null,
   "metadata": {},
   "outputs": [],
   "source": []
  },
  {
   "cell_type": "code",
   "execution_count": 214,
   "metadata": {},
   "outputs": [],
   "source": [
    "#Use 80% data as training and other as test, report metrics on the test data\n",
    "# train_for_reg, test_for_reg = train_test_split(data_for_reg, test_size=0.2)\n",
    "def train_process_2(data, kf, clf=None, feature_selector=None):\n",
    "    clf_list, score_list, buildT_list = [], [], []\n",
    "    train_for_cla, test_for_cla = train_test_split(data, test_size=0.2)\n",
    "    predictor = train_for_cla[:, :-1]\n",
    "    target = train_for_cla[:, -1]\n",
    "    if feature_selector != None:\n",
    "        predictor = feature_selector.fit_transform(predictor, target)\n",
    "    if clf == None:\n",
    "        clf = feature_selector.estimator_\n",
    "    for train_index, test_index in kf.split(train_for_cla):\n",
    "        t1 = datetime.now()\n",
    "        clf.fit(predictor[train_index], target[train_index])\n",
    "        t2 = datetime.now()\n",
    "        buildT_list.append((t2-t1).microseconds/100000 + (t2 - t1).seconds)\n",
    "        clf_list.append(clf)\n",
    "        score_list.append(clf.score(predictor[test_index], target[test_index]))\n",
    "    max_ind = score_list.index(max(score_list))\n",
    "    if feature_selector ==None:\n",
    "        prediction = clf_list[max_ind].predict(test_for_cla[:, :-1])\n",
    "        prediction_prob = clf_list[max_ind].predict_proba(test_for_cla[:, :-1])\n",
    "    else:\n",
    "        tem = feature_selector.transform(test_for_cla[:, :-1])\n",
    "        prediction = clf_list[max_ind].predict(tem)\n",
    "        prediction_prob = clf_list[max_ind].predict_proba(tem)\n",
    "    labels = clf_list[max_ind].classes_\n",
    "    build_time = buildT_list[max_ind]\n",
    "    accuracy, precision, recall, roc_auc = evl_metrics(test_for_cla[:, -1], prediction, prediction_prob, labels)\n",
    "    return accuracy, precision, recall, roc_auc, build_time, labels, clf_list[max_ind], feature_selector"
   ]
  },
  {
   "cell_type": "code",
   "execution_count": 264,
   "metadata": {},
   "outputs": [
    {
     "name": "stdout",
     "output_type": "stream",
     "text": [
      "Accuracy:  0.35\n",
      "Labels:  ['(-inf, 1.5]' '(1.5, 2.5]' '(12.0, inf]' '(2.5, 3.5]' '(3.5, 7.5]'\n",
      " '(7.5, 12.0]']\n",
      "Precision [0.22727273 0.2972973  0.5        0.36363636 0.25       0.45714286]\n",
      "Recall:  [0.3125     0.45833333 0.35294118 0.28571429 0.17647059 0.42105263]\n",
      "ROC AUC:  [0.5914818548387096, 0.6375718390804598, 0.6506456241032998, 0.5784438775510203, 0.5483022477283597, 0.6252579979360166]\n",
      "Time:  0.03493\n",
      "Size of tree:  489\n"
     ]
    }
   ],
   "source": [
    "#Withou feature selection\n",
    "clf_test = DecisionTreeClassifier(criterion=\"entropy\", random_state=1)\n",
    "a, b, c, d, e, f, g, h = train_process_2(post_data.values, kf=kf, clf=clf_test)\n",
    "print \"Accuracy: \", a\n",
    "print \"Labels: \", f\n",
    "print \"Precision\", b\n",
    "print \"Recall: \", c\n",
    "print \"ROC AUC: \", d\n",
    "print \"Time: \", e\n",
    "print \"Size of tree: \", g.tree_.node_count"
   ]
  },
  {
   "cell_type": "code",
   "execution_count": 263,
   "metadata": {},
   "outputs": [
    {
     "name": "stdout",
     "output_type": "stream",
     "text": [
      "Accuracy:  0.37857142857142856\n",
      "Labels:  ['(-inf, 1.5]' '(1.5, 2.5]' '(12.0, inf]' '(2.5, 3.5]' '(3.5, 7.5]'\n",
      " '(7.5, 12.0]']\n",
      "Precision [0.2173913  0.45714286 0.4        0.35       0.         0.44186047]\n",
      "Recall:  [0.35714286 0.43243243 0.28571429 0.35       0.         0.52777778]\n",
      "ROC AUC:  [0.7210884353741496, 0.6423510889530307, 0.6686674669867947, 0.6725, 0.5996093749999999, 0.6897702991452992]\n",
      "Time:  0.02455\n",
      "Size of tree:  187\n"
     ]
    }
   ],
   "source": [
    "#Pre-pruning\n",
    "clf_test_3 = DecisionTreeClassifier(criterion=\"entropy\", random_state=1, min_samples_split =10)\n",
    "a, b, c, d, e, f, g, h = train_process_2(post_data.values, kf=kf, clf=clf_test_3)\n",
    "print \"Accuracy: \", a\n",
    "print \"Labels: \", f\n",
    "print \"Precision\", b\n",
    "print \"Recall: \", c\n",
    "print \"ROC AUC: \", d\n",
    "print \"Time: \", e\n",
    "print \"Size of tree: \", g.tree_.node_count"
   ]
  },
  {
   "cell_type": "code",
   "execution_count": 268,
   "metadata": {},
   "outputs": [
    {
     "name": "stdout",
     "output_type": "stream",
     "text": [
      "Accuracy:  0.4\n",
      "Labels:  ['(-inf, 1.5]' '(1.5, 2.5]' '(12.0, inf]' '(2.5, 3.5]' '(3.5, 7.5]'\n",
      " '(7.5, 12.0]']\n",
      "Precision [0.18181818 0.46428571 0.25       0.25       0.35294118 0.54166667]\n",
      "Recall:  [0.11111111 0.41935484 0.25       0.31578947 0.35294118 0.60465116]\n",
      "ROC AUC:  [0.5186703096539163, 0.6463450725066588, 0.5791015625, 0.5819921705089169, 0.6317551410808225, 0.6958762886597938]\n",
      "Time:  0.03082\n",
      "Size of tree:  483\n"
     ]
    }
   ],
   "source": [
    "#Pre-pruning 2\n",
    "clf_test_4 = DecisionTreeClassifier(criterion=\"entropy\", random_state=1, max_depth =35)\n",
    "a, b, c, d, e, f, g, h = train_process_2(post_data.values, kf=kf, clf=clf_test_4)\n",
    "print \"Accuracy: \", a\n",
    "print \"Labels: \", f\n",
    "print \"Precision\", b\n",
    "print \"Recall: \", c\n",
    "print \"ROC AUC: \", d\n",
    "print \"Time: \", e\n",
    "print \"Size of tree: \", g.tree_.node_count"
   ]
  },
  {
   "cell_type": "code",
   "execution_count": 271,
   "metadata": {},
   "outputs": [
    {
     "name": "stdout",
     "output_type": "stream",
     "text": [
      "Accuracy:  0.38571428571428573\n",
      "Labels:  ['(-inf, 1.5]' '(1.5, 2.5]' '(12.0, inf]' '(2.5, 3.5]' '(3.5, 7.5]'\n",
      " '(7.5, 12.0]']\n",
      "Precision [0.1875     0.34375    0.33333333 0.54545455 0.0625     0.54761905]\n",
      "Recall:  [0.21428571 0.42307692 0.28571429 0.48       0.11111111 0.44230769]\n",
      "ROC AUC:  [0.5493197278911565, 0.6005398110661269, 0.6071428571428571, 0.6852173913043478, 0.494910941475827, 0.6100305944055944]\n",
      "Time:  0.06693\n",
      "Size of tree:  375\n"
     ]
    }
   ],
   "source": [
    "#PCA\n",
    "clf_test_6 = DecisionTreeClassifier(criterion=\"entropy\", random_state=1)\n",
    "pca_test_6 = PCA(n_components=10)\n",
    "a, b, c, d, e, f, g, h = train_process_2(post_data.values, kf=kf, clf=clf_test_6, feature_selector=pca_test_6)\n",
    "print \"Accuracy: \", a\n",
    "print \"Labels: \", f\n",
    "print \"Precision\", b\n",
    "print \"Recall: \", c\n",
    "print \"ROC AUC: \", d\n",
    "print \"Time: \", e\n",
    "print \"Size of tree: \", g.tree_.node_count"
   ]
  },
  {
   "cell_type": "code",
   "execution_count": 273,
   "metadata": {},
   "outputs": [
    {
     "name": "stdout",
     "output_type": "stream",
     "text": [
      "Accuracy:  0.37142857142857144\n",
      "Labels:  ['(-inf, 1.5]' '(1.5, 2.5]' '(12.0, inf]' '(2.5, 3.5]' '(3.5, 7.5]'\n",
      " '(7.5, 12.0]']\n",
      "Precision [0.4375     0.44444444 0.0625     0.33333333 0.13333333 0.52380952]\n",
      "Recall:  [0.4375     0.44444444 0.08333333 0.4        0.14285714 0.43137255]\n",
      "ROC AUC:  [0.6796875, 0.7064896755162242, 0.47819010416666663, 0.6924999999999999, 0.5198412698412698, 0.6045384445913197]\n",
      "Time:  0.02111\n",
      "Size of tree:  493\n"
     ]
    }
   ],
   "source": [
    "#Select k best\n",
    "sk_test_7 = SelectKBest(chi2, k=10)\n",
    "clf_test_7 = DecisionTreeClassifier(criterion=\"entropy\", random_state=1)\n",
    "a, b, c, d, e, f, g, h = train_process_2(post_data.values, kf=kf, clf=clf_test_7, feature_selector=sk_test_7)\n",
    "print \"Accuracy: \", a\n",
    "print \"Labels: \", f\n",
    "print \"Precision\", b\n",
    "print \"Recall: \", c\n",
    "print \"ROC AUC: \", d\n",
    "print \"Time: \", e\n",
    "print \"Size of tree: \", g.tree_.node_count"
   ]
  },
  {
   "cell_type": "code",
   "execution_count": null,
   "metadata": {},
   "outputs": [],
   "source": [
    "#DISCRETE"
   ]
  },
  {
   "cell_type": "code",
   "execution_count": 243,
   "metadata": {},
   "outputs": [
    {
     "name": "stdout",
     "output_type": "stream",
     "text": [
      "Accuracy:  0.42857142857142855\n",
      "Labels:  ['(-inf, 1.5]' '(1.5, 2.5]' '(12.0, inf]' '(2.5, 3.5]' '(3.5, 7.5]'\n",
      " '(7.5, 12.0]']\n",
      "Precision [0.1875     0.52631579 0.16666667 0.42857143 0.14285714 0.57894737]\n",
      "Recall:  [0.2        0.55555556 0.1        0.52173913 0.18181818 0.48888889]\n",
      "ROC AUC:  [0.5445333333333333, 0.686965811965812, 0.5276923076923077, 0.68859160163508, 0.5856236786469344, 0.6602339181286551]\n",
      "Time:  0.02908\n",
      "Size of tree:  511\n"
     ]
    }
   ],
   "source": [
    "#Discrete without feature selection\n",
    "clf_test_5 = DecisionTreeClassifier(criterion=\"entropy\", random_state=1)\n",
    "a, b, c, d, e, f, g, h = train_process_2(data_array, kf=kf, clf=clf_test_5)\n",
    "print \"Accuracy: \", a\n",
    "print \"Labels: \", f\n",
    "print \"Precision\", b\n",
    "print \"Recall: \", c\n",
    "print \"ROC AUC: \", d\n",
    "print \"Time: \", e\n",
    "print \"Size of tree: \", g.tree_.node_count"
   ]
  },
  {
   "cell_type": "code",
   "execution_count": 259,
   "metadata": {},
   "outputs": [
    {
     "name": "stdout",
     "output_type": "stream",
     "text": [
      "Accuracy:  0.38571428571428573\n",
      "Labels:  ['(-inf, 1.5]' '(1.5, 2.5]' '(12.0, inf]' '(2.5, 3.5]' '(3.5, 7.5]'\n",
      " '(7.5, 12.0]']\n",
      "Precision [0.21052632 0.44444444 0.35294118 0.26666667 0.15384615 0.64705882]\n",
      "Recall:  [0.28571429 0.375      0.42857143 0.34782609 0.13333333 0.52380952]\n",
      "ROC AUC:  [0.5844671201814058, 0.630931712962963, 0.6706349206349206, 0.5772946859903382, 0.5157333333333334, 0.7006802721088434]\n",
      "Time:  0.07192\n",
      "Size of tree:  373\n"
     ]
    }
   ],
   "source": [
    "#PCA and discrete\n",
    "clf_test_2 = DecisionTreeClassifier(criterion=\"entropy\", random_state=1)\n",
    "pca_test_2 = PCA(n_components=10)\n",
    "a, b, c, d, e, f, g, h = train_process_2(data_array, kf=kf, clf=clf_test_2, feature_selector=pca_test_2)\n",
    "print \"Accuracy: \", a\n",
    "print \"Labels: \", f\n",
    "print \"Precision\", b\n",
    "print \"Recall: \", c\n",
    "print \"ROC AUC: \", d\n",
    "print \"Time: \", e\n",
    "print \"Size of tree: \", g.tree_.node_count"
   ]
  },
  {
   "cell_type": "code",
   "execution_count": 257,
   "metadata": {},
   "outputs": [
    {
     "name": "stdout",
     "output_type": "stream",
     "text": [
      "Accuracy:  0.39285714285714285\n",
      "Labels:  ['(-inf, 1.5]' '(1.5, 2.5]' '(12.0, inf]' '(2.5, 3.5]' '(3.5, 7.5]'\n",
      " '(7.5, 12.0]']\n",
      "Precision [0.15789474 0.5        0.14285714 0.33333333 0.22222222 0.58333333]\n",
      "Recall:  [0.3        0.59375    0.18181818 0.36363636 0.08695652 0.5       ]\n",
      "ROC AUC:  [0.663076923076923, 0.7447916666666666, 0.5447498238195914, 0.6346302003081664, 0.5176514306949089, 0.6766277939747327]\n",
      "Time:  0.01703\n",
      "Size of tree:  515\n"
     ]
    }
   ],
   "source": [
    "#Select k best and discrete\n",
    "clf_test_8 = DecisionTreeClassifier(criterion=\"entropy\", random_state=1)\n",
    "sk_test_8 = SelectKBest(chi2, k=10)\n",
    "a, b, c, d, e, f, g, h = train_process_2(data_array, kf=kf, clf=clf_test_8, feature_selector=sk_test_8)\n",
    "print \"Accuracy: \", a\n",
    "print \"Labels: \", f\n",
    "print \"Precision\", b\n",
    "print \"Recall: \", c\n",
    "print \"ROC AUC: \", d\n",
    "print \"Time: \", e\n",
    "print \"Size of tree: \", g.tree_.node_count"
   ]
  },
  {
   "cell_type": "code",
   "execution_count": 274,
   "metadata": {},
   "outputs": [
    {
     "name": "stdout",
     "output_type": "stream",
     "text": [
      "Accuracy:  0.42857142857142855\n",
      "Labels:  ['(-inf, 1.5]' '(1.5, 2.5]' '(12.0, inf]' '(2.5, 3.5]' '(3.5, 7.5]'\n",
      " '(7.5, 12.0]']\n",
      "Precision [0.45454545 0.48148148 0.1875     0.42857143 0.         0.51111111]\n",
      "Recall:  [0.65217391 0.46428571 0.16666667 0.25       0.         0.63888889]\n",
      "ROC AUC:  [0.7931995540691194, 0.7407525510204082, 0.5842440801457195, 0.6993534482758621, 0.44326990838618746, 0.798344017094017]\n",
      "Time:  0.01623\n",
      "Size of tree:  163\n"
     ]
    }
   ],
   "source": [
    "#try all \n",
    "clf_test_9 = DecisionTreeClassifier(criterion=\"entropy\", random_state=1, min_samples_split=10)\n",
    "sk_test_9 = SelectKBest(chi2, k=10)\n",
    "a, b, c, d, e, f, g, h = train_process_2(data_array, kf=kf, clf=clf_test_9, feature_selector=sk_test_9)\n",
    "print \"Accuracy: \", a\n",
    "print \"Labels: \", f\n",
    "print \"Precision\", b\n",
    "print \"Recall: \", c\n",
    "print \"ROC AUC: \", d\n",
    "print \"Time: \", e\n",
    "print \"Size of tree: \", g.tree_.node_count"
   ]
  },
  {
   "cell_type": "code",
   "execution_count": null,
   "metadata": {},
   "outputs": [],
   "source": []
  },
  {
   "cell_type": "code",
   "execution_count": null,
   "metadata": {},
   "outputs": [],
   "source": []
  },
  {
   "cell_type": "code",
   "execution_count": 82,
   "metadata": {},
   "outputs": [
    {
     "name": "stdout",
     "output_type": "stream",
     "text": [
      "Accuracy:  0.35581061692969873\n",
      "Labels:  ['(-inf, 1.5]' '(1.5, 2.5]' '(12.0, inf]' '(2.5, 3.5]' '(3.5, 7.5]'\n",
      " '(7.5, 12.0]']\n",
      "Precision [0.22641509 0.37288136 0.36923077 0.24137931 0.16666667 0.52040816]\n",
      "Recall:  [0.26966292 0.42038217 0.38095238 0.1875     0.16176471 0.49038462]\n",
      "ROC AUC:  [0.5663253991720875, 0.6029959896201933, 0.6578288518351609, 0.5338141025641026, 0.5539722248199757, 0.6458087541293063]\n",
      "Build time:  0.04417\n",
      "Size of tree:  679\n"
     ]
    }
   ],
   "source": [
    "#DecisionTreeClassifier using infor gain without pruning\n",
    "clf_dt = DecisionTreeClassifier(criterion=\"entropy\", random_state=1)\n",
    "dt_accuracy, dt_precision, dt_recall, dt_roc_auc, dt_build_time, dt_labels, clf_dt = train_process(clf_dt, post_data)\n",
    "print \"Accuracy: \", dt_accuracy\n",
    "print \"Labels: \", dt_labels\n",
    "print \"Precision\", dt_precision\n",
    "print \"Recall: \", dt_recall\n",
    "print \"ROC AUC: \", dt_roc_auc\n",
    "print \"Build time: \", dt_build_time\n",
    "print \"Size of tree: \", clf_dt.tree_.node_count\n",
    "#print clf_dt_trained.get_params()"
   ]
  },
  {
   "cell_type": "code",
   "execution_count": 83,
   "metadata": {},
   "outputs": [
    {
     "name": "stdout",
     "output_type": "stream",
     "text": [
      "Accuracy:  0.4218077474892396\n",
      "Labels:  ['(-inf, 1.5]' '(1.5, 2.5]' '(12.0, inf]' '(2.5, 3.5]' '(3.5, 7.5]'\n",
      " '(7.5, 12.0]']\n",
      "Precision [0.21917808 0.38671875 0.36734694 0.27083333 0.31034483 0.57438017]\n",
      "Recall:  [0.17977528 0.63057325 0.28571429 0.11607143 0.13235294 0.66826923]\n",
      "ROC AUR:  [0.6662108219988172, 0.6923566878980891, 0.7665114415903059, 0.5477945665445665, 0.5462568970354437, 0.7653374233128835]\n",
      "Build time:  0.03172\n",
      "Size of tree:  83\n"
     ]
    }
   ],
   "source": [
    "#DecisionTreeClassifier with pre-pruning whose stop criterial is when the number of instances in a node less than 30\n",
    "clf_dtp = DecisionTreeClassifier(criterion=\"entropy\", random_state=1, min_samples_split =30)\n",
    "dtp_accuracy, dtp_precision, dtp_recall, dtp_roc_auc, dtp_build_time, dtp_labels, clf_dtp = train_process(clf_dtp, post_data)\n",
    "print \"Accuracy: \", dtp_accuracy\n",
    "print \"Labels: \", dtp_labels\n",
    "print \"Precision\", dtp_precision\n",
    "print \"Recall: \", dtp_recall\n",
    "print \"ROC AUR: \", dtp_roc_auc\n",
    "print \"Build time: \", dtp_build_time\n",
    "print \"Size of tree: \", clf_dtp.tree_.node_count"
   ]
  },
  {
   "cell_type": "code",
   "execution_count": 87,
   "metadata": {},
   "outputs": [
    {
     "name": "stdout",
     "output_type": "stream",
     "text": [
      " Accuracy:  0.4218077474892396\n",
      "Labels:  ['(-inf, 1.5]' '(1.5, 2.5]' '(12.0, inf]' '(2.5, 3.5]' '(3.5, 7.5]'\n",
      " '(7.5, 12.0]']\n",
      "Precision [0.21917808 0.38671875 0.36734694 0.27083333 0.31034483 0.57438017]\n",
      "Recall:  [0.17977528 0.63057325 0.28571429 0.11607143 0.13235294 0.66826923]\n",
      "ROC AUR:  [0.6662108219988172, 0.6923566878980891, 0.7665114415903059, 0.5477945665445665, 0.5462568970354437, 0.7653374233128835]\n",
      "Build time:  0.03326\n",
      "Size of tree:  83\n"
     ]
    }
   ],
   "source": [
    "#DecisionTreeClassifier with pre-pruning whose stop criterial is when max_depth is 20\n",
    "clf_dtp_1 = DecisionTreeClassifier(criterion=\"entropy\", random_state=1, min_samples_split =30)\n",
    "dtp_1_accuracy, dtp_1_precision, dtp_1_recall, dtp_1_roc_auc, dtp_1_build_time, dtp_1_labels, clf_dtp_1 = train_process(clf_dtp_1, post_data)\n",
    "print \"Accuracy: \", dtp_1_accuracy\n",
    "print \"Labels: \", dtp_1_labels\n",
    "print \"Precision\", dtp_1_precision\n",
    "print \"Recall: \", dtp_1_recall\n",
    "print \"ROC AUR: \", dtp_1_roc_auc\n",
    "print \"Build time: \", dtp_1_build_time\n",
    "print \"Size of tree: \", clf_dtp_1.tree_.node_count"
   ]
  },
  {
   "cell_type": "code",
   "execution_count": 73,
   "metadata": {},
   "outputs": [
    {
     "name": "stdout",
     "output_type": "stream",
     "text": [
      "Accuracy:  0.29830227743271215\n",
      "Labels:  ['(-inf, 1.5]' '(1.5, 2.5]' '(12.0, inf]' '(2.5, 3.5]' '(3.5, 7.5]'\n",
      " '(7.5, 12.0]']\n",
      "Precision [0.        0.        0.        0.        0.        0.2794617]\n",
      "Recall:  [0.  0.  0.  0.  0.  0.9]\n",
      "Build time:  0.000749\n",
      "Size of tree:  [1, 1, 1, 1, 1, 1, 1, 1, 1, 1]\n"
     ]
    },
    {
     "name": "stderr",
     "output_type": "stream",
     "text": [
      "/Library/Frameworks/Python.framework/Versions/2.7/lib/python2.7/site-packages/sklearn/metrics/classification.py:1143: UndefinedMetricWarning: Precision is ill-defined and being set to 0.0 in labels with no predicted samples.\n",
      "  'precision', 'predicted', average, warn_for)\n",
      "/Library/Frameworks/Python.framework/Versions/2.7/lib/python2.7/site-packages/sklearn/metrics/classification.py:1143: UndefinedMetricWarning: Precision is ill-defined and being set to 0.0 in labels with no predicted samples.\n",
      "  'precision', 'predicted', average, warn_for)\n",
      "/Library/Frameworks/Python.framework/Versions/2.7/lib/python2.7/site-packages/sklearn/metrics/classification.py:1143: UndefinedMetricWarning: Precision is ill-defined and being set to 0.0 in labels with no predicted samples.\n",
      "  'precision', 'predicted', average, warn_for)\n",
      "/Library/Frameworks/Python.framework/Versions/2.7/lib/python2.7/site-packages/sklearn/metrics/classification.py:1143: UndefinedMetricWarning: Precision is ill-defined and being set to 0.0 in labels with no predicted samples.\n",
      "  'precision', 'predicted', average, warn_for)\n",
      "/Library/Frameworks/Python.framework/Versions/2.7/lib/python2.7/site-packages/sklearn/metrics/classification.py:1143: UndefinedMetricWarning: Precision is ill-defined and being set to 0.0 in labels with no predicted samples.\n",
      "  'precision', 'predicted', average, warn_for)\n",
      "/Library/Frameworks/Python.framework/Versions/2.7/lib/python2.7/site-packages/sklearn/metrics/classification.py:1143: UndefinedMetricWarning: Precision is ill-defined and being set to 0.0 in labels with no predicted samples.\n",
      "  'precision', 'predicted', average, warn_for)\n",
      "/Library/Frameworks/Python.framework/Versions/2.7/lib/python2.7/site-packages/sklearn/metrics/classification.py:1143: UndefinedMetricWarning: Precision is ill-defined and being set to 0.0 in labels with no predicted samples.\n",
      "  'precision', 'predicted', average, warn_for)\n",
      "/Library/Frameworks/Python.framework/Versions/2.7/lib/python2.7/site-packages/sklearn/metrics/classification.py:1143: UndefinedMetricWarning: Precision is ill-defined and being set to 0.0 in labels with no predicted samples.\n",
      "  'precision', 'predicted', average, warn_for)\n",
      "/Library/Frameworks/Python.framework/Versions/2.7/lib/python2.7/site-packages/sklearn/metrics/classification.py:1143: UndefinedMetricWarning: Precision is ill-defined and being set to 0.0 in labels with no predicted samples.\n",
      "  'precision', 'predicted', average, warn_for)\n",
      "/Library/Frameworks/Python.framework/Versions/2.7/lib/python2.7/site-packages/sklearn/metrics/classification.py:1143: UndefinedMetricWarning: Precision is ill-defined and being set to 0.0 in labels with no predicted samples.\n",
      "  'precision', 'predicted', average, warn_for)\n"
     ]
    }
   ],
   "source": [
    "# #Measure ZeroR model\n",
    "# clf_zr = ZeroR()\n",
    "# zr_accuracy, zr_precision, zr_recall, zr_build_time, zr_labels, zr_size = train_process(clf_zr, post_data)\n",
    "# print \"Accuracy: \", zr_accuracy\n",
    "# print \"Labels: \", zr_labels\n",
    "# print \"Precision\", zr_precision\n",
    "# print \"Recall: \", zr_recall\n",
    "# print \"Build time: \", zr_build_time\n",
    "# print \"Size of tree: \", zr_size"
   ]
  },
  {
   "cell_type": "code",
   "execution_count": 92,
   "metadata": {},
   "outputs": [
    {
     "name": "stdout",
     "output_type": "stream",
     "text": [
      "Accuracy:  0.4292753623188406\n",
      "Labels:  ['(-inf, 1.5]' '(1.5, 2.5]' '(12.0, inf]' '(2.5, 3.5]' '(3.5, 7.5]'\n",
      " '(7.5, 12.0]']\n",
      "Precision [0.         0.30146552 0.         0.         0.         0.48986014]\n",
      "Recall:  [0.         0.8026025  0.         0.         0.         0.67986768]\n",
      "Build time:  0.0016757\n",
      "Size of tree:  [3, 3, 3, 3, 3, 3, 3, 3, 3, 3]\n"
     ]
    },
    {
     "name": "stderr",
     "output_type": "stream",
     "text": [
      "/Library/Frameworks/Python.framework/Versions/2.7/lib/python2.7/site-packages/sklearn/metrics/classification.py:1143: UndefinedMetricWarning: Precision is ill-defined and being set to 0.0 in labels with no predicted samples.\n",
      "  'precision', 'predicted', average, warn_for)\n",
      "/Library/Frameworks/Python.framework/Versions/2.7/lib/python2.7/site-packages/sklearn/metrics/classification.py:1143: UndefinedMetricWarning: Precision is ill-defined and being set to 0.0 in labels with no predicted samples.\n",
      "  'precision', 'predicted', average, warn_for)\n",
      "/Library/Frameworks/Python.framework/Versions/2.7/lib/python2.7/site-packages/sklearn/metrics/classification.py:1143: UndefinedMetricWarning: Precision is ill-defined and being set to 0.0 in labels with no predicted samples.\n",
      "  'precision', 'predicted', average, warn_for)\n",
      "/Library/Frameworks/Python.framework/Versions/2.7/lib/python2.7/site-packages/sklearn/metrics/classification.py:1143: UndefinedMetricWarning: Precision is ill-defined and being set to 0.0 in labels with no predicted samples.\n",
      "  'precision', 'predicted', average, warn_for)\n",
      "/Library/Frameworks/Python.framework/Versions/2.7/lib/python2.7/site-packages/sklearn/metrics/classification.py:1143: UndefinedMetricWarning: Precision is ill-defined and being set to 0.0 in labels with no predicted samples.\n",
      "  'precision', 'predicted', average, warn_for)\n",
      "/Library/Frameworks/Python.framework/Versions/2.7/lib/python2.7/site-packages/sklearn/metrics/classification.py:1143: UndefinedMetricWarning: Precision is ill-defined and being set to 0.0 in labels with no predicted samples.\n",
      "  'precision', 'predicted', average, warn_for)\n",
      "/Library/Frameworks/Python.framework/Versions/2.7/lib/python2.7/site-packages/sklearn/metrics/classification.py:1143: UndefinedMetricWarning: Precision is ill-defined and being set to 0.0 in labels with no predicted samples.\n",
      "  'precision', 'predicted', average, warn_for)\n",
      "/Library/Frameworks/Python.framework/Versions/2.7/lib/python2.7/site-packages/sklearn/metrics/classification.py:1143: UndefinedMetricWarning: Precision is ill-defined and being set to 0.0 in labels with no predicted samples.\n",
      "  'precision', 'predicted', average, warn_for)\n",
      "/Library/Frameworks/Python.framework/Versions/2.7/lib/python2.7/site-packages/sklearn/metrics/classification.py:1143: UndefinedMetricWarning: Precision is ill-defined and being set to 0.0 in labels with no predicted samples.\n",
      "  'precision', 'predicted', average, warn_for)\n",
      "/Library/Frameworks/Python.framework/Versions/2.7/lib/python2.7/site-packages/sklearn/metrics/classification.py:1143: UndefinedMetricWarning: Precision is ill-defined and being set to 0.0 in labels with no predicted samples.\n",
      "  'precision', 'predicted', average, warn_for)\n"
     ]
    }
   ],
   "source": [
    "# # OneR model\n",
    "# clf_or = DecisionTreeClassifier(criterion=\"entropy\", random_state=1, max_depth=1)\n",
    "# or_accuracy, or_precision, or_recall, or_build_time, or_labels, or_size = train_process(clf_or, post_data)\n",
    "# print \"Accuracy: \", or_accuracy\n",
    "# print \"Labels: \", or_labels\n",
    "# print \"Precision\", or_precision\n",
    "# print \"Recall: \", or_recall\n",
    "# print \"Build time: \", or_build_time\n",
    "# print \"Size of tree: \", or_size"
   ]
  },
  {
   "cell_type": "code",
   "execution_count": null,
   "metadata": {},
   "outputs": [],
   "source": []
  },
  {
   "cell_type": "code",
   "execution_count": 92,
   "metadata": {},
   "outputs": [
    {
     "name": "stdout",
     "output_type": "stream",
     "text": [
      "Accuracy:  0.36585365853658536\n",
      "Labels:  ['(-inf, 1.5]' '(1.5, 2.5]' '(12.0, inf]' '(2.5, 3.5]' '(3.5, 7.5]'\n",
      " '(7.5, 12.0]']\n",
      "Precision [0.28282828 0.37016575 0.33333333 0.22105263 0.16363636 0.54358974]\n",
      "Recall:  [0.31460674 0.42675159 0.38095238 0.1875     0.13235294 0.50961538]\n",
      "ROC AUC:  [0.5976955204021288, 0.605820948336872, 0.6508812778528866, 0.5248931623931624, 0.5515524174693724, 0.6637663205914739]\n",
      "Build time:  0.04711\n",
      "Size of tree:  677\n"
     ]
    }
   ],
   "source": [
    "#Use RFE (Recursive Feature Elimination) to select 10 predictors and without pruning\n",
    "\n",
    "estimator = DecisionTreeClassifier(criterion=\"entropy\", random_state=1)\n",
    "selector = RFE(estimator, n_features_to_select=10)\n",
    "accu, prec, rec, rfe_roc_auc, buildT, labs, clf_rfe, rfe = train_process_pre(selector, post_data)\n",
    "print \"Accuracy: \", accu\n",
    "print \"Labels: \", labs\n",
    "print \"Precision\", prec\n",
    "print \"Recall: \", rec\n",
    "print \"ROC AUC: \", rfe_roc_auc\n",
    "print \"Build time: \", buildT\n",
    "print \"Size of tree: \", clf_rfe.tree_.node_count"
   ]
  },
  {
   "cell_type": "code",
   "execution_count": 98,
   "metadata": {},
   "outputs": [
    {
     "name": "stdout",
     "output_type": "stream",
     "text": [
      "Accuracy:  0.3242467718794835\n",
      "Labels:  ['(-inf, 1.5]' '(1.5, 2.5]' '(12.0, inf]' '(2.5, 3.5]' '(3.5, 7.5]'\n",
      " '(7.5, 12.0]']\n",
      "Precision [0.32894737 0.41333333 0.25396825 0.2755102  0.13333333 0.38181818]\n",
      "Recall:  [0.28089888 0.39490446 0.25396825 0.24107143 0.17647059 0.40384615]\n",
      "ROC AUC:  [0.5973536369012419, 0.6124852559565935, 0.5881277852886686, 0.5557158119658121, 0.5461516880202002, 0.5633799355041688]\n",
      "Build time:  0.118\n",
      "Size of tree:  499\n"
     ]
    }
   ],
   "source": [
    "#Decision Tree Classifier with PCA without pruning\n",
    "pca = PCA(n_components=12)\n",
    "clf_dt_pca = DecisionTreeClassifier(criterion=\"entropy\", random_state=1)\n",
    "pca_accu, pca_prec, pca_rec, pca_roc_auc, pca_buildT, pca_labs, clf_pca, pca = train_process_pre(pca, post_data, clf_dt_pca)\n",
    "print \"Accuracy: \", pca_accu\n",
    "print \"Labels: \", pca_labs\n",
    "print \"Precision\", pca_prec\n",
    "print \"Recall: \", pca_rec\n",
    "print \"ROC AUC: \", pca_roc_auc\n",
    "print \"Build time: \", pca_buildT\n",
    "print \"Size of tree: \", clf_pca.tree_.node_count"
   ]
  },
  {
   "cell_type": "code",
   "execution_count": 99,
   "metadata": {},
   "outputs": [
    {
     "name": "stdout",
     "output_type": "stream",
     "text": [
      "Accuracy:  0.3500717360114778\n",
      "Labels:  ['(-inf, 1.5]' '(1.5, 2.5]' '(12.0, inf]' '(2.5, 3.5]' '(3.5, 7.5]'\n",
      " '(7.5, 12.0]']\n",
      "Precision [0.26666667 0.35555556 0.29411765 0.26373626 0.17333333 0.53370787]\n",
      "Recall:  [0.31460674 0.40764331 0.31746032 0.21428571 0.19117647 0.45673077]\n",
      "ROC AUC:  [0.591347575399172, 0.6020405756074546, 0.6165189524810976, 0.5570818070818071, 0.5551529037688209, 0.6486304467516124]\n",
      "Build time:  0.02602\n",
      "Size of tree:  657\n"
     ]
    }
   ],
   "source": [
    "#Decision Tree Classifier with Univariate Selection for features\n",
    "uv = SelectPercentile(chi2, percentile=50)\n",
    "clf_dt_uv = DecisionTreeClassifier(criterion=\"entropy\", random_state=1)\n",
    "uv_accu, uv_prec, uv_rec, uv_roc_auc, uv_buildT, uv_labs, clf_uv, uv = train_process_pre(uv, post_data, clf_dt_uv)\n",
    "print \"Accuracy: \", uv_accu\n",
    "print \"Labels: \", uv_labs\n",
    "print \"Precision\", uv_prec\n",
    "print \"Recall: \", uv_rec\n",
    "print \"ROC AUC: \", uv_roc_auc\n",
    "print \"Build time: \", uv_buildT\n",
    "print \"Size of tree: \", clf_uv.tree_.node_count"
   ]
  },
  {
   "cell_type": "code",
   "execution_count": 100,
   "metadata": {},
   "outputs": [
    {
     "name": "stdout",
     "output_type": "stream",
     "text": [
      "Accuracy:  0.3672883787661406\n",
      "Labels:  ['(-inf, 1.5]' '(1.5, 2.5]' '(12.0, inf]' '(2.5, 3.5]' '(3.5, 7.5]'\n",
      " '(7.5, 12.0]']\n",
      "Precision [0.2704918  0.35911602 0.30434783 0.29166667 0.1641791  0.60493827]\n",
      "Recall:  [0.37078652 0.41401274 0.33333333 0.25       0.16176471 0.47115385]\n",
      "ROC AUC:  [0.6098000443524543, 0.5971160651096958, 0.6327299584397377, 0.5732295482295482, 0.551973253530347, 0.6802540506528237]\n",
      "Build time:  0.02442\n",
      "Size of tree:  665\n"
     ]
    }
   ],
   "source": [
    "#Decision Tree Classifier with selecting K best features\n",
    "sk = SelectKBest(chi2, k=6)\n",
    "clf_dt_sk = DecisionTreeClassifier(criterion=\"entropy\", random_state=1)\n",
    "sk_accu, sk_prec, sk_rec, sk_roc_auc, sk_buildT, sk_labs, clf_sk, sk = train_process_pre(sk, post_data, clf_dt_sk)\n",
    "print \"Accuracy: \", sk_accu\n",
    "print \"Labels: \", sk_labs\n",
    "print \"Precision\", sk_prec\n",
    "print \"Recall: \", sk_rec\n",
    "print \"ROC AUC: \", sk_roc_auc\n",
    "print \"Build time: \", sk_buildT\n",
    "print \"Size of tree: \", clf_sk.tree_.node_count"
   ]
  },
  {
   "cell_type": "code",
   "execution_count": null,
   "metadata": {},
   "outputs": [],
   "source": []
  },
  {
   "cell_type": "code",
   "execution_count": 469,
   "metadata": {},
   "outputs": [
    {
     "data": {
      "text/plain": [
       "Reason for absence                  object\n",
       "Month of absence                     int64\n",
       "Day of the week                      int64\n",
       "Seasons                              int64\n",
       "Transportation expense               int64\n",
       "Distance from Residence to Work      int64\n",
       "Service time                         int64\n",
       "Age                                  int64\n",
       "Work load Average/day              float64\n",
       "Hit target                           int64\n",
       "Disciplinary failure                 int64\n",
       "Education                            int64\n",
       "Children                             int64\n",
       "Social drinker                       int64\n",
       "Social smoker                        int64\n",
       "Pet                                  int64\n",
       "Body mass index                      int64\n",
       "Absenteeism time in hours           object\n",
       "dtype: object"
      ]
     },
     "execution_count": 469,
     "metadata": {},
     "output_type": "execute_result"
    }
   ],
   "source": [
    "post_data.dtypes"
   ]
  },
  {
   "cell_type": "code",
   "execution_count": 450,
   "metadata": {},
   "outputs": [
    {
     "data": {
      "text/html": [
       "<div>\n",
       "<style scoped>\n",
       "    .dataframe tbody tr th:only-of-type {\n",
       "        vertical-align: middle;\n",
       "    }\n",
       "\n",
       "    .dataframe tbody tr th {\n",
       "        vertical-align: top;\n",
       "    }\n",
       "\n",
       "    .dataframe thead th {\n",
       "        text-align: right;\n",
       "    }\n",
       "</style>\n",
       "<table border=\"1\" class=\"dataframe\">\n",
       "  <thead>\n",
       "    <tr style=\"text-align: right;\">\n",
       "      <th></th>\n",
       "      <th>Reason for absence</th>\n",
       "      <th>Month of absence</th>\n",
       "      <th>Day of the week</th>\n",
       "      <th>Seasons</th>\n",
       "      <th>Transportation expense</th>\n",
       "      <th>Distance from Residence to Work</th>\n",
       "      <th>Service time</th>\n",
       "      <th>Age</th>\n",
       "      <th>Work load Average/day</th>\n",
       "      <th>Hit target</th>\n",
       "      <th>Disciplinary failure</th>\n",
       "      <th>Education</th>\n",
       "      <th>Children</th>\n",
       "      <th>Social drinker</th>\n",
       "      <th>Social smoker</th>\n",
       "      <th>Pet</th>\n",
       "      <th>Body mass index</th>\n",
       "      <th>Absenteeism time in hours</th>\n",
       "    </tr>\n",
       "  </thead>\n",
       "  <tbody>\n",
       "    <tr>\n",
       "      <th>0</th>\n",
       "      <td>26</td>\n",
       "      <td>7</td>\n",
       "      <td>3</td>\n",
       "      <td>1</td>\n",
       "      <td>289</td>\n",
       "      <td>36</td>\n",
       "      <td>13</td>\n",
       "      <td>33</td>\n",
       "      <td>239.554</td>\n",
       "      <td>97</td>\n",
       "      <td>0</td>\n",
       "      <td>1</td>\n",
       "      <td>2</td>\n",
       "      <td>1</td>\n",
       "      <td>0</td>\n",
       "      <td>1</td>\n",
       "      <td>30</td>\n",
       "      <td>(3.5, 7.5]</td>\n",
       "    </tr>\n",
       "    <tr>\n",
       "      <th>2</th>\n",
       "      <td>23</td>\n",
       "      <td>7</td>\n",
       "      <td>4</td>\n",
       "      <td>1</td>\n",
       "      <td>179</td>\n",
       "      <td>51</td>\n",
       "      <td>18</td>\n",
       "      <td>38</td>\n",
       "      <td>239.554</td>\n",
       "      <td>97</td>\n",
       "      <td>0</td>\n",
       "      <td>1</td>\n",
       "      <td>0</td>\n",
       "      <td>1</td>\n",
       "      <td>0</td>\n",
       "      <td>0</td>\n",
       "      <td>31</td>\n",
       "      <td>(1.5, 2.5]</td>\n",
       "    </tr>\n",
       "    <tr>\n",
       "      <th>3</th>\n",
       "      <td>7</td>\n",
       "      <td>7</td>\n",
       "      <td>5</td>\n",
       "      <td>1</td>\n",
       "      <td>279</td>\n",
       "      <td>5</td>\n",
       "      <td>14</td>\n",
       "      <td>39</td>\n",
       "      <td>239.554</td>\n",
       "      <td>97</td>\n",
       "      <td>0</td>\n",
       "      <td>1</td>\n",
       "      <td>2</td>\n",
       "      <td>1</td>\n",
       "      <td>1</td>\n",
       "      <td>0</td>\n",
       "      <td>24</td>\n",
       "      <td>(3.5, 7.5]</td>\n",
       "    </tr>\n",
       "    <tr>\n",
       "      <th>4</th>\n",
       "      <td>23</td>\n",
       "      <td>7</td>\n",
       "      <td>5</td>\n",
       "      <td>1</td>\n",
       "      <td>289</td>\n",
       "      <td>36</td>\n",
       "      <td>13</td>\n",
       "      <td>33</td>\n",
       "      <td>239.554</td>\n",
       "      <td>97</td>\n",
       "      <td>0</td>\n",
       "      <td>1</td>\n",
       "      <td>2</td>\n",
       "      <td>1</td>\n",
       "      <td>0</td>\n",
       "      <td>1</td>\n",
       "      <td>30</td>\n",
       "      <td>(1.5, 2.5]</td>\n",
       "    </tr>\n",
       "    <tr>\n",
       "      <th>5</th>\n",
       "      <td>23</td>\n",
       "      <td>7</td>\n",
       "      <td>6</td>\n",
       "      <td>1</td>\n",
       "      <td>179</td>\n",
       "      <td>51</td>\n",
       "      <td>18</td>\n",
       "      <td>38</td>\n",
       "      <td>239.554</td>\n",
       "      <td>97</td>\n",
       "      <td>0</td>\n",
       "      <td>1</td>\n",
       "      <td>0</td>\n",
       "      <td>1</td>\n",
       "      <td>0</td>\n",
       "      <td>0</td>\n",
       "      <td>31</td>\n",
       "      <td>(1.5, 2.5]</td>\n",
       "    </tr>\n",
       "  </tbody>\n",
       "</table>\n",
       "</div>"
      ],
      "text/plain": [
       "  Reason for absence  Month of absence  Day of the week  Seasons  \\\n",
       "0                 26                 7                3        1   \n",
       "2                 23                 7                4        1   \n",
       "3                  7                 7                5        1   \n",
       "4                 23                 7                5        1   \n",
       "5                 23                 7                6        1   \n",
       "\n",
       "   Transportation expense  Distance from Residence to Work  Service time  Age  \\\n",
       "0                     289                               36            13   33   \n",
       "2                     179                               51            18   38   \n",
       "3                     279                                5            14   39   \n",
       "4                     289                               36            13   33   \n",
       "5                     179                               51            18   38   \n",
       "\n",
       "   Work load Average/day   Hit target  Disciplinary failure  Education  \\\n",
       "0                 239.554          97                     0          1   \n",
       "2                 239.554          97                     0          1   \n",
       "3                 239.554          97                     0          1   \n",
       "4                 239.554          97                     0          1   \n",
       "5                 239.554          97                     0          1   \n",
       "\n",
       "   Children  Social drinker  Social smoker  Pet  Body mass index  \\\n",
       "0         2               1              0    1               30   \n",
       "2         0               1              0    0               31   \n",
       "3         2               1              1    0               24   \n",
       "4         2               1              0    1               30   \n",
       "5         0               1              0    0               31   \n",
       "\n",
       "  Absenteeism time in hours  \n",
       "0                (3.5, 7.5]  \n",
       "2                (1.5, 2.5]  \n",
       "3                (3.5, 7.5]  \n",
       "4                (1.5, 2.5]  \n",
       "5                (1.5, 2.5]  "
      ]
     },
     "execution_count": 450,
     "metadata": {},
     "output_type": "execute_result"
    }
   ],
   "source": [
    "post_data.head()"
   ]
  },
  {
   "cell_type": "code",
   "execution_count": 451,
   "metadata": {},
   "outputs": [],
   "source": [
    "#Try discrete some continuous predictors\n"
   ]
  },
  {
   "cell_type": "code",
   "execution_count": 101,
   "metadata": {},
   "outputs": [],
   "source": [
    "#Delete Month of absence since Seasons is like discrete of month\n",
    "#Discrete Transportation expense, Distance from residence to work, service time, age, \n",
    "#         work load average/day, body mass index\n",
    "data_for_classification = post_data.drop(\"Month of absence\", axis=1)\n",
    "\n",
    "# data_for_classification.iloc[:, [3, 4, 5, 6, 7, 15]].head()\n",
    "# dis_bin = KBinsDiscretizer(n_bins=6, encode=\"onehot\", strategy=\"quantile\")\n",
    "# # data_for_classification.iloc[:, [3, 4, 5, 6, 7, 15]] = dis_bin.fit_transform(data_for_classification.iloc[:, [3, 4, 5, 6, 7, 15]])\n",
    "# dis_bin.fit_transform(data_for_classification.iloc[:, 3])\n",
    "# def discrete_column(indexs):\n",
    "#     kbins = KBinsDiscretizer(n_bins=6, encode=\"ordinal\", strategy=\"quantile\")\n",
    "#     for ind in indexs:\n",
    "# #         data_for_classification.iloc[:, ind], bins = pd.qcut(data_for_classification.iloc[:, ind], 6, retbins=True)\n",
    "# #         data_for_classification.iloc[:, ind] = data_for_classification.iloc[:, ind].astype(str)\n",
    "# #         print ind, bins \n",
    "#         data_for_classification.iloc[:, ind] = kbins.fit_transform(data_for_classification.iloc[:, ind])\n",
    "\n",
    "#Convert dataframe to array\n",
    "data_array = data_for_classification.values\n",
    "\n",
    "#Discrete, 6 bins for each predictor\n",
    "kbins = KBinsDiscretizer(n_bins=6, encode=\"ordinal\", strategy=\"quantile\")\n",
    "data_array[:, [3, 4, 5, 6, 7, 15]] = kbins.fit_transform(data_array[:, [3, 4, 5, 6, 7, 15]])"
   ]
  },
  {
   "cell_type": "code",
   "execution_count": 453,
   "metadata": {},
   "outputs": [
    {
     "data": {
      "text/plain": [
       "array([['26', 3, 1, 5.0, 4.0, 3.0, 2.0, 1.0, 97, 0, 1, 2, 1, 0, 1, 4.0,\n",
       "        '(3.5, 7.5]'],\n",
       "       ['23', 4, 1, 2.0, 5.0, 5.0, 4.0, 1.0, 97, 0, 1, 0, 1, 0, 0, 5.0,\n",
       "        '(1.5, 2.5]'],\n",
       "       ['7', 5, 1, 4.0, 0.0, 4.0, 4.0, 1.0, 97, 0, 1, 2, 1, 1, 0, 2.0,\n",
       "        '(3.5, 7.5]']], dtype=object)"
      ]
     },
     "execution_count": 453,
     "metadata": {},
     "output_type": "execute_result"
    }
   ],
   "source": [
    "data_array[0:3, :]"
   ]
  },
  {
   "cell_type": "code",
   "execution_count": 110,
   "metadata": {},
   "outputs": [
    {
     "name": "stdout",
     "output_type": "stream",
     "text": [
      "Accuracy:  0.3285509325681492\n",
      "Labels:  ['(-inf, 1.5]' '(1.5, 2.5]' '(12.0, inf]' '(2.5, 3.5]' '(3.5, 7.5]'\n",
      " '(7.5, 12.0]']\n",
      "Precision [0.17021277 0.3625731  0.30985915 0.23762376 0.12676056 0.50793651]\n",
      "Recall:  [0.17977528 0.39490446 0.34920635 0.21428571 0.13235294 0.46153846]\n",
      "ROC AUC:  [0.5307879952690716, 0.5930231186600613, 0.6280481698462771, 0.5555708180708181, 0.5187038249321987, 0.6370733050180902]\n",
      "Build time:  0.03274\n",
      "Size of tree:  721\n"
     ]
    }
   ],
   "source": [
    "#Decision Tree without feature selection\n",
    "#kf = KFold(n_splits=10, random_state=1)\n",
    "dt_dis_1 = DecisionTreeClassifier(criterion=\"entropy\", random_state=1)\n",
    "acc_dis_1, prec_dis_1, rec_dis_1, roc_auc_dis_1, buildT_dis_1, labs_dis_1, clf_dis_1, fs_dis_1 = train_discreted(data_array, kfold=kf, clf=dt_dis_1)\n",
    "print \"Accuracy: \", acc_dis_1\n",
    "print \"Labels: \", labs_dis_1\n",
    "print \"Precision\", prec_dis_1\n",
    "print \"Recall: \", rec_dis_1\n",
    "print \"ROC AUC: \", roc_auc_dis_1\n",
    "print \"Build time: \", buildT_dis_1\n",
    "print \"Size of tree: \", clf_dis_1.tree_.node_count"
   ]
  },
  {
   "cell_type": "code",
   "execution_count": 118,
   "metadata": {},
   "outputs": [
    {
     "name": "stdout",
     "output_type": "stream",
     "text": [
      "Accuracy:  0.37733142037302725\n",
      "Labels:  ['(-inf, 1.5]' '(1.5, 2.5]' '(12.0, inf]' '(2.5, 3.5]' '(3.5, 7.5]'\n",
      " '(7.5, 12.0]']\n",
      "Precision [0.19607843 0.36263736 0.32786885 0.25       0.21052632 0.5619469 ]\n",
      "Recall:  [0.2247191  0.42038217 0.31746032 0.19642857 0.11764706 0.61057692]\n",
      "ROC AUC:  [0.6554738320520401, 0.7166017928756783, 0.7748986029743127, 0.5951770451770452, 0.6603736089030208, 0.8074858423784803]\n",
      "Build time:  0.0216\n",
      "Size of tree:  121\n"
     ]
    }
   ],
   "source": [
    "#Decision Tree with pre-pruning: min_samples_split/max_depth\n",
    "dt_dis_2 = DecisionTreeClassifier(criterion=\"entropy\", random_state=1, min_samples_split=20)\n",
    "acc_dis_2, prec_dis_2, rec_dis_2, roc_auc_dis_2, buildT_dis_2, labs_dis_2, clf_dis_2, fs_dis_2 = train_discreted(data_array, kfold=kf, clf=dt_dis_2)\n",
    "print \"Accuracy: \", acc_dis_2\n",
    "print \"Labels: \", labs_dis_2\n",
    "print \"Precision\", prec_dis_2\n",
    "print \"Recall: \", rec_dis_2\n",
    "print \"ROC AUC: \", roc_auc_dis_2\n",
    "print \"Build time: \", buildT_dis_2\n",
    "print \"Size of tree: \", clf_dis_2.tree_.node_count\n"
   ]
  },
  {
   "cell_type": "code",
   "execution_count": 119,
   "metadata": {},
   "outputs": [
    {
     "name": "stdout",
     "output_type": "stream",
     "text": [
      "Accuracy:  0.35294117647058826\n",
      "Labels:  ['(-inf, 1.5]' '(1.5, 2.5]' '(12.0, inf]' '(2.5, 3.5]' '(3.5, 7.5]'\n",
      " '(7.5, 12.0]']\n",
      "Precision [0.19230769 0.38650307 0.36363636 0.2038835  0.15625    0.54822335]\n",
      "Recall:  [0.2247191  0.40127389 0.38095238 0.1875     0.14705882 0.51923077]\n",
      "ROC AUC:  [0.547346244825547, 0.6077730596838878, 0.6564518551900255, 0.5334630647130648, 0.5520667726550079, 0.6686133396256096]\n",
      "Build time:  0.05478\n",
      "Size of tree:  733\n"
     ]
    }
   ],
   "source": [
    "#Decision Tree with feature selection: RFE to selector some features\n",
    "dt_dis_2 = DecisionTreeClassifier(criterion=\"entropy\", random_state=1)\n",
    "rfe_selector = RFE(dt_dis_2, n_features_to_select=10)\n",
    "acc_dis_3, prec_dis_3, rec_dis_3, roc_auc_dis_3, buildT_dis_3, labs_dis_3, clf_dis_3, fs_dis_3 = train_discreted(data_array, kfold=kf, feature_selector=rfe_selector)\n",
    "print \"Accuracy: \", acc_dis_3\n",
    "print \"Labels: \", labs_dis_3\n",
    "print \"Precision\", prec_dis_3\n",
    "print \"Recall: \", rec_dis_3\n",
    "print \"ROC AUC: \", roc_auc_dis_3\n",
    "print \"Build time: \", buildT_dis_3\n",
    "print \"Size of tree: \", clf_dis_3.tree_.node_count"
   ]
  },
  {
   "cell_type": "code",
   "execution_count": 121,
   "metadata": {},
   "outputs": [
    {
     "name": "stdout",
     "output_type": "stream",
     "text": [
      " Accuracy:  0.31563845050215206\n",
      "Labels:  ['(-inf, 1.5]' '(1.5, 2.5]' '(12.0, inf]' '(2.5, 3.5]' '(3.5, 7.5]'\n",
      " '(7.5, 12.0]']\n",
      "Precision [0.11363636 0.32727273 0.26470588 0.19090909 0.23404255 0.48401826]\n",
      "Recall:  [0.11235955 0.34394904 0.28571429 0.1875     0.16176471 0.50961538]\n",
      "ROC AUC:  [0.49739429331756363, 0.5629216796414249, 0.6010465174503028, 0.5263507326007326, 0.5614654446834377, 0.6438080069215039]\n",
      "Build time:  0.09935\n",
      "Size of tree:  523\n"
     ]
    }
   ],
   "source": [
    "#Decision Tree with feature selection: PCA convert raw data to lower dimension\n",
    "dt_dis_4 = DecisionTreeClassifier(criterion=\"entropy\", random_state=1)\n",
    "pca_4 = PCA(n_components=10)\n",
    "acc_dis_4, prec_dis_4, rec_dis_4, roc_auc_dis_4, buildT_dis_4, labs_dis_4, clf_dis_4, fs_dis_4 = train_discreted(data_array, kfold=kf, clf=dt_dis_4, feature_selector=pca_4)\n",
    "print \"Accuracy: \", acc_dis_4\n",
    "print \"Labels: \", labs_dis_4\n",
    "print \"Precision\", prec_dis_4\n",
    "print \"Recall: \", rec_dis_4\n",
    "print \"ROC AUC: \", roc_auc_dis_4\n",
    "print \"Build time: \", buildT_dis_4\n",
    "print \"Size of tree: \", clf_dis_4.tree_.node_count"
   ]
  },
  {
   "cell_type": "code",
   "execution_count": 122,
   "metadata": {},
   "outputs": [
    {
     "name": "stdout",
     "output_type": "stream",
     "text": [
      "Accuracy:  0.3672883787661406\n",
      "Labels:  ['(-inf, 1.5]' '(1.5, 2.5]' '(12.0, inf]' '(2.5, 3.5]' '(3.5, 7.5]'\n",
      " '(7.5, 12.0]']\n",
      "Precision [0.24603175 0.42207792 0.27272727 0.26086957 0.1754386  0.5698324 ]\n",
      "Recall:  [0.34831461 0.41401274 0.28571429 0.26785714 0.14705882 0.49038462]\n",
      "ROC AUC:  [0.6154642223536368, 0.6831033262561924, 0.610472685393821, 0.6040979853479853, 0.5475310951089497, 0.6839851738241309]\n",
      "Build time:  0.01968\n",
      "Size of tree:  617\n"
     ]
    }
   ],
   "source": [
    "#Decision Tree with Univariate Selection to select some features\n",
    "dt_dis_5 = DecisionTreeClassifier(criterion=\"entropy\", random_state=1)\n",
    "uv_5 = SelectPercentile(chi2, percentile=50) #Select 50% features\n",
    "acc_dis_5, prec_dis_5, rec_dis_5, roc_auc_dis_5, buildT_dis_5, labs_dis_5, clf_dis_5, fs_dis_5 = train_discreted(data_array, kfold=kf, clf=dt_dis_5, feature_selector=uv_5)\n",
    "print \"Accuracy: \", acc_dis_5\n",
    "print \"Labels: \", labs_dis_5\n",
    "print \"Precision\", prec_dis_5\n",
    "print \"Recall: \", rec_dis_5\n",
    "print \"ROC AUC: \", roc_auc_dis_5\n",
    "print \"Build time: \", buildT_dis_5\n",
    "print \"Size of tree: \", clf_dis_5.tree_.node_count"
   ]
  },
  {
   "cell_type": "code",
   "execution_count": null,
   "metadata": {},
   "outputs": [],
   "source": []
  },
  {
   "cell_type": "code",
   "execution_count": null,
   "metadata": {},
   "outputs": [],
   "source": []
  },
  {
   "cell_type": "code",
   "execution_count": null,
   "metadata": {},
   "outputs": [],
   "source": []
  },
  {
   "cell_type": "code",
   "execution_count": 123,
   "metadata": {},
   "outputs": [],
   "source": [
    "#Consider reduce values in reasons of absence according to the frequency of each value\n",
    "#Others are replaced with #29\n",
    "\n",
    "# raw_data[\"Reason for absence\"].value_counts()\n",
    "tem = data_for_classification\n",
    "tem.loc[~tem[\"Reason for absence\"].isin([\"23\", \"28\",\"27\", \"13\", \"19\", \"22\", \"26\", \"25\"]), \"Reason for absence\"] = \"29\"\n",
    "# data_for_classification.dtypes\n",
    "data_array_2 = tem.values"
   ]
  },
  {
   "cell_type": "code",
   "execution_count": 124,
   "metadata": {},
   "outputs": [],
   "source": [
    "#data_array[:5, :]"
   ]
  },
  {
   "cell_type": "code",
   "execution_count": 126,
   "metadata": {},
   "outputs": [
    {
     "name": "stdout",
     "output_type": "stream",
     "text": [
      " Accuracy:  0.33428981348637016\n",
      "Labels:  ['(-inf, 1.5]' '(1.5, 2.5]' '(12.0, inf]' '(2.5, 3.5]' '(3.5, 7.5]'\n",
      " '(7.5, 12.0]']\n",
      "Precision [0.19387755 0.41040462 0.15       0.25925926 0.13186813 0.51871658]\n",
      "Recall:  [0.21348315 0.4522293  0.0952381  0.25       0.17647059 0.46634615]\n",
      "ROC AUC:  [0.5430034003548196, 0.6294703939608398, 0.5181012468078715, 0.5659188034188034, 0.539628729075096, 0.6390789680666981]\n",
      "Build time:  0.0376\n",
      "Size of tree:  707\n"
     ]
    }
   ],
   "source": [
    "#Decision Tree without feature selection\n",
    "#kf = KFold(n_splits=10, random_state=1)\n",
    "dt_dis_6 = DecisionTreeClassifier(criterion=\"entropy\", random_state=1)\n",
    "acc_dis_6, prec_dis_6, rec_dis_6, roc_auc_dis_6, buildT_dis_6, labs_dis_6, clf_dis_6, fs_dis_6 = train_discreted(data_array_2, kfold=kf, clf=dt_dis_6)\n",
    "print \"Accuracy: \", acc_dis_6\n",
    "print \"Labels: \", labs_dis_6\n",
    "print \"Precision\", prec_dis_6\n",
    "print \"Recall: \", rec_dis_6\n",
    "print \"ROC AUC: \", roc_auc_dis_6\n",
    "print \"Build time: \", buildT_dis_6\n",
    "print \"Size of tree: \", clf_dis_6.tree_.node_count"
   ]
  },
  {
   "cell_type": "code",
   "execution_count": 127,
   "metadata": {},
   "outputs": [
    {
     "name": "stdout",
     "output_type": "stream",
     "text": [
      "Accuracy:  0.381635581061693\n",
      "Labels:  ['(-inf, 1.5]' '(1.5, 2.5]' '(12.0, inf]' '(2.5, 3.5]' '(3.5, 7.5]'\n",
      " '(7.5, 12.0]']\n",
      "Precision [0.19101124 0.3373494  0.34146341 0.20652174 0.26190476 0.55805243]\n",
      "Recall:  [0.19101124 0.3566879  0.22222222 0.16964286 0.16176471 0.71634615]\n",
      "ROC AUC:  [0.6822516262566529, 0.7408233073838169, 0.8079590406088828, 0.5976724664224664, 0.6895866454689984, 0.8151643857165332]\n",
      "Build time:  0.01782\n",
      "Size of tree:  43\n"
     ]
    }
   ],
   "source": [
    "#Decision Tree with pre-pruning: min_samples_split\n",
    "dt_dis_7 = DecisionTreeClassifier(criterion=\"entropy\", random_state=1, min_samples_split=50)\n",
    "acc_dis_7, prec_dis_7, rec_dis_7, roc_auc_dis_7, buildT_dis_7, labs_dis_7, clf_dis_7, fs_dis_7 = train_discreted(data_array, kfold=kf, clf=dt_dis_7)\n",
    "print \"Accuracy: \", acc_dis_7\n",
    "print \"Labels: \", labs_dis_7\n",
    "print \"Precision\", prec_dis_7\n",
    "print \"Recall: \", rec_dis_7\n",
    "print \"ROC AUC: \", roc_auc_dis_7\n",
    "print \"Build time: \", buildT_dis_7\n",
    "print \"Size of tree: \", clf_dis_7.tree_.node_count"
   ]
  },
  {
   "cell_type": "code",
   "execution_count": null,
   "metadata": {},
   "outputs": [],
   "source": []
  },
  {
   "cell_type": "code",
   "execution_count": null,
   "metadata": {},
   "outputs": [],
   "source": []
  },
  {
   "cell_type": "code",
   "execution_count": null,
   "metadata": {},
   "outputs": [],
   "source": []
  },
  {
   "cell_type": "code",
   "execution_count": null,
   "metadata": {},
   "outputs": [],
   "source": []
  },
  {
   "cell_type": "code",
   "execution_count": 481,
   "metadata": {},
   "outputs": [],
   "source": [
    "#Regression\n"
   ]
  },
  {
   "cell_type": "code",
   "execution_count": 496,
   "metadata": {},
   "outputs": [
    {
     "data": {
      "text/html": [
       "<div>\n",
       "<style scoped>\n",
       "    .dataframe tbody tr th:only-of-type {\n",
       "        vertical-align: middle;\n",
       "    }\n",
       "\n",
       "    .dataframe tbody tr th {\n",
       "        vertical-align: top;\n",
       "    }\n",
       "\n",
       "    .dataframe thead th {\n",
       "        text-align: right;\n",
       "    }\n",
       "</style>\n",
       "<table border=\"1\" class=\"dataframe\">\n",
       "  <thead>\n",
       "    <tr style=\"text-align: right;\">\n",
       "      <th></th>\n",
       "      <th>Month of absence</th>\n",
       "      <th>Day of the week</th>\n",
       "      <th>Seasons</th>\n",
       "      <th>Transportation expense</th>\n",
       "      <th>Distance from Residence to Work</th>\n",
       "      <th>Service time</th>\n",
       "      <th>Age</th>\n",
       "      <th>Work load Average/day</th>\n",
       "      <th>Hit target</th>\n",
       "      <th>Disciplinary failure</th>\n",
       "      <th>Education</th>\n",
       "      <th>Children</th>\n",
       "      <th>Social drinker</th>\n",
       "      <th>Social smoker</th>\n",
       "      <th>Pet</th>\n",
       "      <th>Body mass index</th>\n",
       "      <th>Absenteeism time in hours</th>\n",
       "      <th>0</th>\n",
       "      <th>23</th>\n",
       "      <th>26</th>\n",
       "    </tr>\n",
       "  </thead>\n",
       "  <tbody>\n",
       "    <tr>\n",
       "      <th>0</th>\n",
       "      <td>7</td>\n",
       "      <td>3</td>\n",
       "      <td>1</td>\n",
       "      <td>289</td>\n",
       "      <td>36</td>\n",
       "      <td>13</td>\n",
       "      <td>33</td>\n",
       "      <td>239.554</td>\n",
       "      <td>97</td>\n",
       "      <td>0</td>\n",
       "      <td>1</td>\n",
       "      <td>2</td>\n",
       "      <td>1</td>\n",
       "      <td>0</td>\n",
       "      <td>1</td>\n",
       "      <td>30</td>\n",
       "      <td>4</td>\n",
       "      <td>0</td>\n",
       "      <td>0</td>\n",
       "      <td>1</td>\n",
       "    </tr>\n",
       "    <tr>\n",
       "      <th>1</th>\n",
       "      <td>7</td>\n",
       "      <td>3</td>\n",
       "      <td>1</td>\n",
       "      <td>118</td>\n",
       "      <td>13</td>\n",
       "      <td>18</td>\n",
       "      <td>50</td>\n",
       "      <td>239.554</td>\n",
       "      <td>97</td>\n",
       "      <td>1</td>\n",
       "      <td>1</td>\n",
       "      <td>1</td>\n",
       "      <td>1</td>\n",
       "      <td>0</td>\n",
       "      <td>0</td>\n",
       "      <td>31</td>\n",
       "      <td>0</td>\n",
       "      <td>1</td>\n",
       "      <td>0</td>\n",
       "      <td>0</td>\n",
       "    </tr>\n",
       "    <tr>\n",
       "      <th>2</th>\n",
       "      <td>7</td>\n",
       "      <td>4</td>\n",
       "      <td>1</td>\n",
       "      <td>179</td>\n",
       "      <td>51</td>\n",
       "      <td>18</td>\n",
       "      <td>38</td>\n",
       "      <td>239.554</td>\n",
       "      <td>97</td>\n",
       "      <td>0</td>\n",
       "      <td>1</td>\n",
       "      <td>0</td>\n",
       "      <td>1</td>\n",
       "      <td>0</td>\n",
       "      <td>0</td>\n",
       "      <td>31</td>\n",
       "      <td>2</td>\n",
       "      <td>0</td>\n",
       "      <td>1</td>\n",
       "      <td>0</td>\n",
       "    </tr>\n",
       "  </tbody>\n",
       "</table>\n",
       "</div>"
      ],
      "text/plain": [
       "   Month of absence  Day of the week  Seasons  Transportation expense  \\\n",
       "0                 7                3        1                     289   \n",
       "1                 7                3        1                     118   \n",
       "2                 7                4        1                     179   \n",
       "\n",
       "   Distance from Residence to Work  Service time  Age  Work load Average/day   \\\n",
       "0                               36            13   33                 239.554   \n",
       "1                               13            18   50                 239.554   \n",
       "2                               51            18   38                 239.554   \n",
       "\n",
       "   Hit target  Disciplinary failure  Education  Children  Social drinker  \\\n",
       "0          97                     0          1         2               1   \n",
       "1          97                     1          1         1               1   \n",
       "2          97                     0          1         0               1   \n",
       "\n",
       "   Social smoker  Pet  Body mass index  Absenteeism time in hours  0  23  26  \n",
       "0              0    1               30                          4  0   0   1  \n",
       "1              0    0               31                          0  1   0   0  \n",
       "2              0    0               31                          2  0   1   0  "
      ]
     },
     "execution_count": 496,
     "metadata": {},
     "output_type": "execute_result"
    }
   ],
   "source": [
    "#Data without removing missing values\n",
    "# ini_data.head()\n",
    "# test_data = ini_data.iloc[0:3, :]\n",
    "# test_data\n",
    "# dum = pd.get_dummies(test_data[\"Reason for absence\"])\n",
    "# test_data_2 = test_data.drop(\"Reason for absence\", axis=1)\n",
    "# frames = pd.concat([test_data_2, dum], axis=1)\n",
    "# frames"
   ]
  },
  {
   "cell_type": "code",
   "execution_count": 128,
   "metadata": {},
   "outputs": [
    {
     "data": {
      "text/html": [
       "<div>\n",
       "<style scoped>\n",
       "    .dataframe tbody tr th:only-of-type {\n",
       "        vertical-align: middle;\n",
       "    }\n",
       "\n",
       "    .dataframe tbody tr th {\n",
       "        vertical-align: top;\n",
       "    }\n",
       "\n",
       "    .dataframe thead th {\n",
       "        text-align: right;\n",
       "    }\n",
       "</style>\n",
       "<table border=\"1\" class=\"dataframe\">\n",
       "  <thead>\n",
       "    <tr style=\"text-align: right;\">\n",
       "      <th></th>\n",
       "      <th>Month of absence</th>\n",
       "      <th>Day of the week</th>\n",
       "      <th>Seasons</th>\n",
       "      <th>Transportation expense</th>\n",
       "      <th>Distance from Residence to Work</th>\n",
       "      <th>Service time</th>\n",
       "      <th>Age</th>\n",
       "      <th>Work load Average/day</th>\n",
       "      <th>Hit target</th>\n",
       "      <th>Disciplinary failure</th>\n",
       "      <th>...</th>\n",
       "      <th>19</th>\n",
       "      <th>21</th>\n",
       "      <th>22</th>\n",
       "      <th>23</th>\n",
       "      <th>24</th>\n",
       "      <th>25</th>\n",
       "      <th>26</th>\n",
       "      <th>27</th>\n",
       "      <th>28</th>\n",
       "      <th>Absenteeism time in hours</th>\n",
       "    </tr>\n",
       "  </thead>\n",
       "  <tbody>\n",
       "    <tr>\n",
       "      <th>0</th>\n",
       "      <td>7</td>\n",
       "      <td>3</td>\n",
       "      <td>1</td>\n",
       "      <td>289</td>\n",
       "      <td>36</td>\n",
       "      <td>13</td>\n",
       "      <td>33</td>\n",
       "      <td>239.554</td>\n",
       "      <td>97</td>\n",
       "      <td>0</td>\n",
       "      <td>...</td>\n",
       "      <td>0</td>\n",
       "      <td>0</td>\n",
       "      <td>0</td>\n",
       "      <td>0</td>\n",
       "      <td>0</td>\n",
       "      <td>0</td>\n",
       "      <td>1</td>\n",
       "      <td>0</td>\n",
       "      <td>0</td>\n",
       "      <td>4</td>\n",
       "    </tr>\n",
       "    <tr>\n",
       "      <th>1</th>\n",
       "      <td>7</td>\n",
       "      <td>3</td>\n",
       "      <td>1</td>\n",
       "      <td>118</td>\n",
       "      <td>13</td>\n",
       "      <td>18</td>\n",
       "      <td>50</td>\n",
       "      <td>239.554</td>\n",
       "      <td>97</td>\n",
       "      <td>1</td>\n",
       "      <td>...</td>\n",
       "      <td>0</td>\n",
       "      <td>0</td>\n",
       "      <td>0</td>\n",
       "      <td>0</td>\n",
       "      <td>0</td>\n",
       "      <td>0</td>\n",
       "      <td>0</td>\n",
       "      <td>0</td>\n",
       "      <td>0</td>\n",
       "      <td>0</td>\n",
       "    </tr>\n",
       "    <tr>\n",
       "      <th>2</th>\n",
       "      <td>7</td>\n",
       "      <td>4</td>\n",
       "      <td>1</td>\n",
       "      <td>179</td>\n",
       "      <td>51</td>\n",
       "      <td>18</td>\n",
       "      <td>38</td>\n",
       "      <td>239.554</td>\n",
       "      <td>97</td>\n",
       "      <td>0</td>\n",
       "      <td>...</td>\n",
       "      <td>0</td>\n",
       "      <td>0</td>\n",
       "      <td>0</td>\n",
       "      <td>1</td>\n",
       "      <td>0</td>\n",
       "      <td>0</td>\n",
       "      <td>0</td>\n",
       "      <td>0</td>\n",
       "      <td>0</td>\n",
       "      <td>2</td>\n",
       "    </tr>\n",
       "    <tr>\n",
       "      <th>3</th>\n",
       "      <td>7</td>\n",
       "      <td>5</td>\n",
       "      <td>1</td>\n",
       "      <td>279</td>\n",
       "      <td>5</td>\n",
       "      <td>14</td>\n",
       "      <td>39</td>\n",
       "      <td>239.554</td>\n",
       "      <td>97</td>\n",
       "      <td>0</td>\n",
       "      <td>...</td>\n",
       "      <td>0</td>\n",
       "      <td>0</td>\n",
       "      <td>0</td>\n",
       "      <td>0</td>\n",
       "      <td>0</td>\n",
       "      <td>0</td>\n",
       "      <td>0</td>\n",
       "      <td>0</td>\n",
       "      <td>0</td>\n",
       "      <td>4</td>\n",
       "    </tr>\n",
       "    <tr>\n",
       "      <th>4</th>\n",
       "      <td>7</td>\n",
       "      <td>5</td>\n",
       "      <td>1</td>\n",
       "      <td>289</td>\n",
       "      <td>36</td>\n",
       "      <td>13</td>\n",
       "      <td>33</td>\n",
       "      <td>239.554</td>\n",
       "      <td>97</td>\n",
       "      <td>0</td>\n",
       "      <td>...</td>\n",
       "      <td>0</td>\n",
       "      <td>0</td>\n",
       "      <td>0</td>\n",
       "      <td>1</td>\n",
       "      <td>0</td>\n",
       "      <td>0</td>\n",
       "      <td>0</td>\n",
       "      <td>0</td>\n",
       "      <td>0</td>\n",
       "      <td>2</td>\n",
       "    </tr>\n",
       "  </tbody>\n",
       "</table>\n",
       "<p>5 rows × 45 columns</p>\n",
       "</div>"
      ],
      "text/plain": [
       "   Month of absence  Day of the week  Seasons  Transportation expense  \\\n",
       "0                 7                3        1                     289   \n",
       "1                 7                3        1                     118   \n",
       "2                 7                4        1                     179   \n",
       "3                 7                5        1                     279   \n",
       "4                 7                5        1                     289   \n",
       "\n",
       "   Distance from Residence to Work  Service time  Age  Work load Average/day   \\\n",
       "0                               36            13   33                 239.554   \n",
       "1                               13            18   50                 239.554   \n",
       "2                               51            18   38                 239.554   \n",
       "3                                5            14   39                 239.554   \n",
       "4                               36            13   33                 239.554   \n",
       "\n",
       "   Hit target  Disciplinary failure            ...              19  21  22  \\\n",
       "0          97                     0            ...               0   0   0   \n",
       "1          97                     1            ...               0   0   0   \n",
       "2          97                     0            ...               0   0   0   \n",
       "3          97                     0            ...               0   0   0   \n",
       "4          97                     0            ...               0   0   0   \n",
       "\n",
       "   23  24  25  26  27  28  Absenteeism time in hours  \n",
       "0   0   0   0   1   0   0                          4  \n",
       "1   0   0   0   0   0   0                          0  \n",
       "2   1   0   0   0   0   0                          2  \n",
       "3   0   0   0   0   0   0                          4  \n",
       "4   1   0   0   0   0   0                          2  \n",
       "\n",
       "[5 rows x 45 columns]"
      ]
     },
     "execution_count": 128,
     "metadata": {},
     "output_type": "execute_result"
    }
   ],
   "source": [
    "dum = pd.get_dummies(ini_data[\"Reason for absence\"])\n",
    "tem = ini_data[\"Absenteeism time in hours\"]\n",
    "data_for_reg = ini_data.drop([\"Reason for absence\", \"Absenteeism time in hours\"], axis=1)\n",
    "data_for_reg = pd.concat([data_for_reg, dum, tem], axis=1)\n",
    "data_for_reg.head()\n",
    "# list(data_for_reg)"
   ]
  },
  {
   "cell_type": "code",
   "execution_count": 140,
   "metadata": {},
   "outputs": [],
   "source": [
    "data_for_reg = data_for_reg.values"
   ]
  },
  {
   "cell_type": "code",
   "execution_count": 509,
   "metadata": {},
   "outputs": [],
   "source": [
    "# test_d = data_for_reg.iloc[:10, :]\n",
    "# tr, te = train_test_split(test_d, test_size=0.2)"
   ]
  },
  {
   "cell_type": "code",
   "execution_count": 141,
   "metadata": {},
   "outputs": [],
   "source": [
    "#Split data into training and test set randomly\n",
    "train_for_reg, test_for_reg = train_test_split(data_for_reg, test_size=0.2)"
   ]
  },
  {
   "cell_type": "code",
   "execution_count": 143,
   "metadata": {},
   "outputs": [
    {
     "name": "stdout",
     "output_type": "stream",
     "text": [
      "0.09683401890503607\n"
     ]
    }
   ],
   "source": [
    "#Oridinary linear regression without feature selection\n",
    "reg_1 = LinearRegression()\n",
    "reg_1.fit(train_for_reg[:, :-1], train_for_reg[:, -1])\n",
    "r_square_score_1 = reg_1.score(test_for_reg[:, :-1], test_for_reg[:, -1])\n",
    "print r_square_score_1"
   ]
  },
  {
   "cell_type": "code",
   "execution_count": 144,
   "metadata": {},
   "outputs": [
    {
     "name": "stdout",
     "output_type": "stream",
     "text": [
      "R^2:  0.11466361118225432\n",
      "alpha:  0.13217501486417768\n",
      "coefficients:  [ 3.78598191e-01 -9.01072338e-01 -5.58831132e-01  8.81748947e-03\n",
      " -1.00428890e-01  1.38013626e-01  1.79546158e-01  8.30062541e-03\n",
      "  1.57493875e-01 -1.12229178e+00 -2.03150670e+00  8.65379102e-01\n",
      "  1.51987381e+00 -1.71536634e+00  0.00000000e+00 -4.73411983e-01\n",
      " -5.81591492e+00 -0.00000000e+00  0.00000000e+00 -0.00000000e+00\n",
      " -0.00000000e+00  0.00000000e+00  9.13834815e-01  0.00000000e+00\n",
      " -0.00000000e+00  1.12648576e+01  0.00000000e+00  0.00000000e+00\n",
      "  4.08014286e+00  3.83856554e+00 -0.00000000e+00 -0.00000000e+00\n",
      " -0.00000000e+00 -0.00000000e+00  0.00000000e+00  3.55399254e+00\n",
      " -0.00000000e+00  0.00000000e+00 -5.39300975e+00 -0.00000000e+00\n",
      " -1.65982891e+00 -0.00000000e+00 -6.97138595e-01 -4.95416108e+00]\n",
      "intercept:  0.14263380807812265\n"
     ]
    }
   ],
   "source": [
    "#Implement LassoCV\n",
    "reg_2 = LassoCV(cv=10, random_state=3)\n",
    "reg_2.fit(train_for_reg[:, :-1], train_for_reg[:, -1])\n",
    "#R^2 score\n",
    "r_square_score_2 = reg_2.score(test_for_reg[:, :-1], test_for_reg[:, -1])\n",
    "print \"R^2: \", r_square_score_2\n",
    "print \"alpha: \", reg_2.alpha_\n",
    "print \"coefficients: \", reg_2.coef_\n",
    "print \"intercept: \", reg_2.intercept_\n",
    "# print \"all alphas: \", reg_3.alphas_\n",
    "# print \"MSEs: \", reg_3.mse_path_"
   ]
  },
  {
   "cell_type": "code",
   "execution_count": 225,
   "metadata": {},
   "outputs": [],
   "source": [
    "kf_1 = KFold(n_splits=10, random_state=2)\n",
    "#Implement 10-fold cross validation and use the best one to predict test data\n",
    "def train_reg(train_data, test_data, kf, clf=None, feature_selector=None):\n",
    "    train_predictor = train_data[:, :-1]\n",
    "    train_target = train_data[:, -1]\n",
    "    test_predictor = test_data[:, :-1]\n",
    "    test_target = test_data[:, -1]\n",
    "    clf_list, score_list, buildT_list = [], [], []\n",
    "    #Apply feature selector if exists\n",
    "    if feature_selector != None:\n",
    "        train_predictor = feature_selector.fit_transform(train_predictor, train_target)\n",
    "        test_predictor = feature_selector.transform(test_predictor)\n",
    "    if clf == None:\n",
    "        clf = feature_selector.estimator_\n",
    "    for train_index, test_index in kf.split(train_data):\n",
    "        t1 = datetime.now()\n",
    "        clf.fit(train_predictor[train_index], train_target[train_index])\n",
    "        t2 = datetime.now()\n",
    "        buildT_list.append((t2-t1).microseconds/100000 + (t2 - t1).seconds)\n",
    "        clf_list.append(clf)\n",
    "        score_list.append(clf.score(train_predictor[test_index], train_target[test_index]))\n",
    "#         print clf.score(train_predictor[test_index], train_target[test_index])\n",
    "    #Use the best one to predict test data\n",
    "    max_ind = score_list.index(max(score_list))\n",
    "    score = clf_list[max_ind].score(test_predictor, test_target)\n",
    "    mean_squared = mean_squared_error(test_target, clf_list[max_ind].predict(test_predictor))\n",
    "    mean_absolute = mean_absolute_error(test_target, clf_list[max_ind].predict(test_predictor))\n",
    "    build_time = buildT_list[max_ind]\n",
    "    \n",
    "    return clf_list[max_ind], score, mean_squared, mean_absolute, build_time"
   ]
  },
  {
   "cell_type": "code",
   "execution_count": 226,
   "metadata": {},
   "outputs": [
    {
     "name": "stdout",
     "output_type": "stream",
     "text": [
      "Coefficients:  [ 4.07237253e-01 -7.68879912e-01 -5.63092823e-01  1.12220232e-02\n",
      " -1.13452303e-01  1.97313869e-01  1.76087775e-01  2.86449622e-03\n",
      "  2.84127102e-01 -2.92913885e+00 -1.84351522e+00  9.95092998e-01\n",
      "  1.83440662e+00 -3.00972528e+00  3.72564846e-02 -4.34481023e-01\n",
      " -8.22162193e+00 -3.88010002e+00  1.57797648e+01 -5.70161697e+00\n",
      " -7.10440862e+00 -1.79328909e+00  1.29128263e+01 -1.30466392e-01\n",
      " -6.06014892e+00  2.97967988e+01 -1.35705998e+00  2.41785027e+00\n",
      "  2.15899435e+01  3.66184177e+00 -1.54245364e+00 -6.53765307e+00\n",
      " -4.15501093e+00 -2.22653024e+00 -1.17708531e-01  4.10701533e+00\n",
      " -3.20385676e+00 -1.90563529e+00 -8.15468313e+00 -3.83792639e+00\n",
      " -6.87638114e+00 -4.82086506e+00 -4.26137610e+00 -8.37724849e+00]\n",
      "Intercept:  -11.183163760242214\n",
      "R^2 score:  0.10837452044165896\n",
      "Mean squared error:  207.44665708571458\n",
      "Mean absolute error:  6.341295288250594\n",
      "Time:  0.01232\n"
     ]
    }
   ],
   "source": [
    "#Linear regression without feature selection\n",
    "clf_reg_1 = LinearRegression()\n",
    "clf_reg_1, reg_1_score, reg_1_mq, reg_1_ma, bt_1 = train_reg(train_for_reg, test_for_reg, kf=kf_1, clf=clf_reg_1)\n",
    "print \"Coefficients: \", clf_reg_1.coef_\n",
    "print \"Intercept: \", clf_reg_1.intercept_\n",
    "print \"R^2 score: \", reg_1_score\n",
    "print \"Mean squared error: \", reg_1_mq\n",
    "print \"Mean absolute error: \", reg_1_ma\n",
    "print \"Time: \", bt_1"
   ]
  },
  {
   "cell_type": "code",
   "execution_count": 339,
   "metadata": {},
   "outputs": [
    {
     "name": "stdout",
     "output_type": "stream",
     "text": [
      "Coefficients:  [ 9.30352940e-03  1.37622877e-02  9.76706797e-02  1.23606437e-01\n",
      " -5.52894533e-02  4.77223947e-01 -1.38126448e-01  2.85991321e-01\n",
      " -1.44768831e+00 -3.81460013e-01  1.39520018e+00  6.60941929e-01\n",
      " -1.27757150e+00 -3.94564240e+00  1.60123357e+00  4.12454953e-01\n",
      " -1.25362614e+01  4.90582305e+00 -3.35518206e-01  6.23485461e+00\n",
      " -2.85443274e+00 -3.66344461e+00 -1.16103649e+00 -4.50420155e+00\n",
      "  4.00078407e+00]\n",
      "Intercept:  6.9770014285239705\n",
      "R^2 score:  0.14672377869689956\n",
      "Mean squared error:  198.52427250928116\n",
      "Mean absolute error:  6.419620398805231\n",
      "Time:  0.01132\n"
     ]
    }
   ],
   "source": [
    "#With PCA\n",
    "pca_reg = PCA(n_components=25)\n",
    "clf_reg_2 = LinearRegression()\n",
    "clf_reg_2, reg_2_score, reg_2_mq, reg_2_ma, bt_2 = train_reg(train_for_reg, test_for_reg, kf=kf_1, clf=clf_reg_2, feature_selector=pca_reg)\n",
    "print \"Coefficients: \", clf_reg_2.coef_\n",
    "print \"Intercept: \", clf_reg_2.intercept_\n",
    "print \"R^2 score: \", reg_2_score\n",
    "print \"Mean squared error: \", reg_2_mq\n",
    "print \"Mean absolute error: \", reg_2_ma\n",
    "print \"Time: \", bt_2"
   ]
  },
  {
   "cell_type": "code",
   "execution_count": 305,
   "metadata": {},
   "outputs": [
    {
     "name": "stdout",
     "output_type": "stream",
     "text": [
      "Coefficients:  [ 1.81262630e-01  6.64337765e-03 -6.87704019e-02  3.16941195e-03\n",
      " -3.58638283e+00  1.56589384e+00 -4.23504746e-01 -5.80143005e+00\n",
      "  1.46706865e+01  1.77051656e+01  3.40268045e+01  1.21070974e+00\n",
      "  2.64216233e+01  5.72877792e+00  7.20798485e+00 -3.37091034e-01\n",
      " -5.74303141e+00 -2.62306439e+00 -3.24535155e+00 -5.44967478e+00]\n",
      "Intercept:  5.392389051366001\n",
      "R^2 score:  0.1046265983864828\n",
      "Mean squared error:  208.31865314144557\n",
      "Mean absolute error:  5.864044562067494\n",
      "Time:  0.00803\n"
     ]
    }
   ],
   "source": [
    "#With select K best \n",
    "sk_reg = SelectKBest(chi2, k=20)\n",
    "clf_reg_3 = LinearRegression()\n",
    "clf_reg_3, reg_3_score, reg_3_mq, reg_3_ma, bt_3 = train_reg(train_for_reg, test_for_reg, kf=kf_1, clf=clf_reg_3, feature_selector=sk_reg)\n",
    "print \"Coefficients: \", clf_reg_3.coef_\n",
    "print \"Intercept: \", clf_reg_3.intercept_\n",
    "print \"R^2 score: \", reg_3_score\n",
    "print \"Mean squared error: \", reg_3_mq\n",
    "print \"Mean absolute error: \", reg_3_ma\n",
    "print \"Time: \", bt_3"
   ]
  },
  {
   "cell_type": "code",
   "execution_count": 229,
   "metadata": {},
   "outputs": [
    {
     "name": "stdout",
     "output_type": "stream",
     "text": [
      "Coefficients:  [ 0.         -0.         -0.          0.0145511  -0.06786644  0.\n",
      "  0.06913016  0.00655115  0.         -0.         -0.          0.\n",
      "  0.         -0.         -0.         -0.         -0.          0.\n",
      "  0.         -0.         -0.          0.          0.          0.\n",
      " -0.          0.          0.          0.          0.          0.\n",
      "  0.          0.         -0.          0.          0.          0.\n",
      "  0.          0.         -0.          0.         -0.         -0.\n",
      " -0.         -0.        ]\n",
      "Intercept:  1.240997454103578\n",
      "R^2 score:  -0.0006106766365741034\n",
      "Mean squared error:  232.80328419433673\n",
      "Mean absolute error:  6.350218403138705\n",
      "Time:  0.00446\n"
     ]
    }
   ],
   "source": [
    "#With Lasso\n",
    "clf_reg_4 = Lasso(alpha=5)\n",
    "clf_reg_4, reg_4_score, reg_4_mq, reg_4_ma, bt_4 = train_reg(train_for_reg, test_for_reg, kf=kf_1, clf=clf_reg_4)\n",
    "print \"Coefficients: \", clf_reg_4.coef_\n",
    "print \"Intercept: \", clf_reg_4.intercept_\n",
    "print \"R^2 score: \", reg_4_score\n",
    "print \"Mean squared error: \", reg_4_mq\n",
    "print \"Mean absolute error: \", reg_4_ma\n",
    "print \"Time: \", bt_4"
   ]
  },
  {
   "cell_type": "code",
   "execution_count": 207,
   "metadata": {},
   "outputs": [
    {
     "name": "stdout",
     "output_type": "stream",
     "text": [
      "Coefficients:  [ 4.07237253e-01 -7.68879912e-01 -5.63092823e-01  1.12220232e-02\n",
      " -1.13452303e-01  1.97313869e-01  1.76087775e-01  2.86449622e-03\n",
      "  2.84127102e-01 -2.92913885e+00 -1.84351522e+00  9.95092998e-01\n",
      "  1.83440662e+00 -3.00972528e+00  3.72564846e-02 -4.34481023e-01\n",
      " -8.22162193e+00 -3.88010002e+00  1.57797648e+01 -5.70161697e+00\n",
      " -7.10440862e+00 -1.79328909e+00  1.29128263e+01 -1.30466392e-01\n",
      " -6.06014892e+00  2.97967988e+01 -1.35705998e+00  2.41785027e+00\n",
      "  2.15899435e+01  3.66184177e+00 -1.54245364e+00 -6.53765307e+00\n",
      " -4.15501093e+00 -2.22653024e+00 -1.17708531e-01  4.10701533e+00\n",
      " -3.20385676e+00 -1.90563529e+00 -8.15468313e+00 -3.83792639e+00\n",
      " -6.87638114e+00 -4.82086506e+00 -4.26137610e+00 -8.37724849e+00]\n",
      "Intercept:  -11.183163760242214\n",
      "R^2 score:  0.2858036153976884\n",
      "Mean squared error:  116.80061504988073\n",
      "Mean absolute error:  5.341141448876623\n"
     ]
    }
   ],
   "source": [
    "# #Test\n",
    "# clf_reg_5 = LinearRegression()\n",
    "# clf_reg_5, reg_5_score, reg_5_mq, reg_5_ma = train_reg(train_for_reg, train_for_reg, kf=kf_1, clf=clf_reg_5)\n",
    "# print \"Coefficients: \", clf_reg_5.coef_\n",
    "# print \"Intercept: \", clf_reg_5.intercept_\n",
    "# print \"R^2 score: \", reg_5_score\n",
    "# print \"Mean squared error: \", reg_5_mq\n",
    "# print \"Mean absolute error: \", reg_5_ma"
   ]
  },
  {
   "cell_type": "code",
   "execution_count": null,
   "metadata": {},
   "outputs": [],
   "source": []
  },
  {
   "cell_type": "code",
   "execution_count": null,
   "metadata": {},
   "outputs": [],
   "source": []
  },
  {
   "cell_type": "code",
   "execution_count": 334,
   "metadata": {},
   "outputs": [
    {
     "name": "stdout",
     "output_type": "stream",
     "text": [
      "Size:  73\n",
      "R^2 score:  0.12146956277751797\n",
      "Mean squared error:  204.3999487768454\n",
      "Mean absolute error:  5.533519889683153\n",
      "Time:  0.12012\n"
     ]
    }
   ],
   "source": [
    "#Regression Tree, split based on mse\n",
    "reg_tree = DecisionTreeRegressor(min_samples_split=40)\n",
    "# sk_rt = SelectKBest(chi2, k=20)\n",
    "sk_pca = PCA(n_components=35)\n",
    "#Use 10-fold cross validation\n",
    "#kf = KFold(n_splits=10, random_state=1)\n",
    "# for train_index, test_index in kf.split(data_for_reg):\n",
    "#     reg_tree.fit(data_for_reg[train_index][:, :-1], data_for_reg[train_index][:, -1])\n",
    "#     r_s = reg_tree.score(data_for_reg[test_index][:, :-1], data_for_reg[test_index][:, -1])\n",
    "#     r_square_tree += r_s\n",
    "\n",
    "# r_square_tree /= 10\n",
    "\n",
    "# print r_square_tree\n",
    "rt_1, rt_1_score, rt_1_mq, rt_1_ma, bt_5 = train_reg(train_for_reg, test_for_reg, kf=kf_1, clf=reg_tree, feature_selector=sk_pca)\n",
    "# print \"Coefficients: \", rt_1.coef_\n",
    "# print \"Intercept: \", rt_1.intercept_\n",
    "print \"Size: \", rt_1.tree_.node_count\n",
    "print \"R^2 score: \", rt_1_score\n",
    "print \"Mean squared error: \", rt_1_mq\n",
    "print \"Mean absolute error: \", rt_1_ma\n",
    "print \"Time: \", bt_5"
   ]
  },
  {
   "cell_type": "code",
   "execution_count": null,
   "metadata": {},
   "outputs": [],
   "source": []
  },
  {
   "cell_type": "code",
   "execution_count": null,
   "metadata": {},
   "outputs": [],
   "source": []
  },
  {
   "cell_type": "code",
   "execution_count": null,
   "metadata": {},
   "outputs": [],
   "source": []
  },
  {
   "cell_type": "code",
   "execution_count": 321,
   "metadata": {},
   "outputs": [
    {
     "name": "stdout",
     "output_type": "stream",
     "text": [
      "R^2 score:  0.3581081081081081\n",
      "Mean squared error:  227.23648648648648\n",
      "Mean absolute error:  6.074324324324325\n",
      "Time:  1.67882\n",
      "\n",
      "[  0.   1.   2.   3.   4.   5.   8.  16.  24.  32.  40.  56.  64.  80.\n",
      " 112. 120.]\n",
      "[1. 1. 1. 1. 1. 1. 1. 1. 1. 1. 1. 1. 1. 1. 1. 1. 1. 1. 1. 1. 1. 1. 1. 1.\n",
      " 1. 1. 1. 1. 1. 1. 1. 1. 1. 1. 1. 1. 1. 1. 1. 1. 1. 1. 1. 1. 1. 1. 1. 1.\n",
      " 1. 1. 1. 1. 1. 1. 1. 1. 1. 1. 1. 1. 1. 1. 1. 1. 1. 1. 1. 1. 1. 1. 1. 1.\n",
      " 1. 1. 1. 1. 1. 1. 1. 1. 1. 1. 1. 1. 1. 1. 1. 1. 1. 1. 1. 1. 1. 1. 1. 1.\n",
      " 1. 1. 1. 1.]\n",
      "[0.65290807 0.875      0.875      0.875      0.875      0.875\n",
      " 0.875      0.875      0.875      0.875      0.875      0.875\n",
      " 0.875      0.875      0.875      0.875      0.875      0.875\n",
      " 0.875      0.875      0.875      0.875      0.875      0.875\n",
      " 0.875      0.875      0.875      0.875      0.875      0.875\n",
      " 0.875      0.875      0.875      0.875      0.875      0.875\n",
      " 0.875      0.875      0.875      0.875      0.875      0.875\n",
      " 0.875      0.875      0.875      0.875      0.875      0.875\n",
      " 0.875      0.875      0.875      0.875      0.875      0.875\n",
      " 0.875      0.875      0.875      0.875      0.875      0.875\n",
      " 0.875      0.875      0.875      0.875      0.875      0.875\n",
      " 0.875      0.875      0.875      0.875      0.875      0.875\n",
      " 0.875      0.875      0.875      0.875      0.875      0.875\n",
      " 0.875      0.875      0.875      0.875      0.875      0.875\n",
      " 0.875      0.875      0.875      0.875      0.875      0.875\n",
      " 0.875      0.875      0.875      0.875      0.875      0.875\n",
      " 0.875      0.875      0.875      0.875     ]\n"
     ]
    }
   ],
   "source": [
    "#Advanced topic\n",
    "from sklearn.ensemble import AdaBoostClassifier\n",
    "# base_estimator=DecisionTreeClassifier(criterion=\"entropy\", min_samples_split=10)\n",
    "adb = AdaBoostClassifier(n_estimators=100)\n",
    "sk_adb = SelectKBest(chi2, k=10)\n",
    "adb, adb_score, adb_mq, adb_ma, bt_adb = train_reg(train_for_reg, test_for_reg, kf=kf_1, clf=adb, feature_selector=sk_adb)\n",
    "print \"R^2 score: \", adb_score\n",
    "print \"Mean squared error: \", adb_mq\n",
    "print \"Mean absolute error: \", adb_ma\n",
    "print \"Time: \", bt_adb\n",
    "print \n",
    "# print adb.estimators_\n",
    "print adb.classes_\n",
    "print adb.estimator_weights_\n",
    "print adb.estimator_errors_\n"
   ]
  },
  {
   "cell_type": "code",
   "execution_count": 327,
   "metadata": {},
   "outputs": [
    {
     "name": "stdout",
     "output_type": "stream",
     "text": [
      "Accuracy:  0.3\n",
      "Labels:  ['(-inf, 1.5]' '(1.5, 2.5]' '(12.0, inf]' '(2.5, 3.5]' '(3.5, 7.5]'\n",
      " '(7.5, 12.0]']\n",
      "Precision [0.14285714 0.33333333 0.16666667 0.28571429 0.19230769 0.46511628]\n",
      "Recall:  [0.22222222 0.27777778 0.11111111 0.08333333 0.41666667 0.48780488]\n",
      "ROC AUC:  [0.5979052823315119, 0.6797542735042735, 0.7438507209499576, 0.6129669540229885, 0.69140625, 0.6320522296132051]\n",
      "Time:  2.79587\n",
      "['(-inf, 1.5]' '(1.5, 2.5]' '(12.0, inf]' '(2.5, 3.5]' '(3.5, 7.5]'\n",
      " '(7.5, 12.0]']\n",
      "\n",
      "[1. 1. 1. 1. 1. 1. 1. 1. 1. 1. 1. 1. 1. 1. 1. 1. 1. 1. 1. 1. 1. 1. 1. 1.\n",
      " 1. 1. 1. 1. 1. 1. 1. 1. 1. 1. 1. 1. 1. 1. 1. 1. 1. 1. 1. 1. 1. 1. 1. 1.\n",
      " 1. 1. 1. 1. 1. 1. 1. 1. 1. 1. 1. 1. 1. 1. 1. 1. 1. 1. 1. 1. 1. 1. 1. 1.\n",
      " 1. 1. 1. 1. 1. 1. 1. 1. 1. 1. 1. 1. 1. 1. 1. 1. 1. 1. 1. 1. 1. 1. 1. 1.\n",
      " 1. 1. 1. 1.]\n",
      "\n",
      "[0.56573705 0.77020974 0.78123175 0.72748523 0.74320945 0.74990437\n",
      " 0.75702542 0.7881003  0.73894511 0.78700139 0.77966552 0.75359318\n",
      " 0.73156599 0.77076478 0.77792294 0.73387265 0.73431775 0.79909897\n",
      " 0.78837248 0.73202106 0.72604016 0.77407382 0.72785887 0.73621861\n",
      " 0.75695237 0.80083587 0.74491125 0.79363239 0.72475562 0.72050367\n",
      " 0.69482136 0.74297577 0.72176497 0.76955699 0.77755631 0.74674295\n",
      " 0.78531757 0.77312978 0.71812546 0.77657408 0.77321984 0.74845319\n",
      " 0.7779333  0.71766274 0.76020614 0.74494839 0.79258581 0.72673014\n",
      " 0.79767558 0.78043194 0.78045332 0.78916989 0.76862612 0.75169667\n",
      " 0.76468976 0.71213144 0.77444954 0.74246868 0.79476336 0.71108149\n",
      " 0.77574221 0.7240355  0.76018604 0.73301404 0.70271948 0.78226212\n",
      " 0.78544515 0.74927484 0.80055598 0.78324103 0.77278744 0.78953486\n",
      " 0.78321978 0.73789372 0.77383407 0.77394541 0.75345757 0.72520022\n",
      " 0.77086803 0.732704   0.78549472 0.78403576 0.75860103 0.7436507\n",
      " 0.79802511 0.72892336 0.76202021 0.72105252 0.72712551 0.77740576\n",
      " 0.72903916 0.76677793 0.78298756 0.77877618 0.79045934 0.69381145\n",
      " 0.69095778 0.75583455 0.76600985 0.76704945]\n"
     ]
    }
   ],
   "source": [
    "adb_1 = AdaBoostClassifier(n_estimators=100)\n",
    "# sk_adb = SelectKBest(chi2, k=10)\n",
    "pca_adb = PCA(n_components=10)\n",
    "a, b, c, d, e, f, g, h = train_process_2(data_array, kf=kf, clf=adb_1, feature_selector=pca_adb)\n",
    "print \"Accuracy: \", a\n",
    "print \"Labels: \", f\n",
    "print \"Precision\", b\n",
    "print \"Recall: \", c\n",
    "print \"ROC AUC: \", d\n",
    "print \"Time: \", e\n",
    "print g.classes_\n",
    "print\n",
    "print g.estimator_weights_\n",
    "print \n",
    "print g.estimator_errors_\n",
    "# print \"Size of tree: \", g.tree_.node_count\n",
    "\n"
   ]
  },
  {
   "cell_type": "code",
   "execution_count": null,
   "metadata": {},
   "outputs": [],
   "source": []
  }
 ],
 "metadata": {
  "kernelspec": {
   "display_name": "Python 3",
   "language": "python",
   "name": "python3"
  },
  "language_info": {
   "codemirror_mode": {
    "name": "ipython",
    "version": 3
   },
   "file_extension": ".py",
   "mimetype": "text/x-python",
   "name": "python",
   "nbconvert_exporter": "python",
   "pygments_lexer": "ipython3",
   "version": "3.7.0"
  }
 },
 "nbformat": 4,
 "nbformat_minor": 2
}
