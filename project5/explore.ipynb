{
 "cells": [
  {
   "cell_type": "code",
   "execution_count": 6,
   "metadata": {},
   "outputs": [
    {
     "name": "stderr",
     "output_type": "stream",
     "text": [
      "Using TensorFlow backend.\n"
     ]
    }
   ],
   "source": [
    "import random\n",
    "import re\n",
    "\n",
    "import numpy as np\n",
    "import pandas as pd\n",
    "import matplotlib.pyplot as plt\n",
    "\n",
    "from sklearn.feature_extraction.text import CountVectorizer, TfidfVectorizer\n",
    "from sklearn.tree import DecisionTreeClassifier\n",
    "from sklearn.ensemble import RandomForestClassifier\n",
    "from sklearn.metrics import confusion_matrix\n",
    "from sklearn.svm import SVC\n",
    "from sklearn.model_selection import GridSearchCV\n",
    "\n",
    "from keras.utils.np_utils import to_categorical\n",
    "from keras.models import Sequential\n",
    "from keras.layers import Dense, Activation\n",
    "\n",
    "from nltk.corpus import stopwords\n",
    "from nltk.stem.snowball import SnowballStemmer\n",
    "\n",
    "from imblearn.over_sampling import RandomOverSampler\n",
    "from imblearn.under_sampling import RandomUnderSampler\n",
    "from imblearn.metrics import classification_report_imbalanced\n",
    "\n",
    "from gensim.models import Word2Vec, KeyedVectors"
   ]
  },
  {
   "cell_type": "code",
   "execution_count": 7,
   "metadata": {},
   "outputs": [],
   "source": [
    "pd.set_option('display.max_colwidth', -1)"
   ]
  },
  {
   "cell_type": "code",
   "execution_count": 8,
   "metadata": {},
   "outputs": [],
   "source": [
    "raw_data = pd.read_csv(\"train.csv\")"
   ]
  },
  {
   "cell_type": "code",
   "execution_count": 9,
   "metadata": {},
   "outputs": [
    {
     "data": {
      "text/plain": [
       "(1306122, 3)"
      ]
     },
     "execution_count": 9,
     "metadata": {},
     "output_type": "execute_result"
    }
   ],
   "source": [
    "raw_data.shape"
   ]
  },
  {
   "cell_type": "code",
   "execution_count": 10,
   "metadata": {},
   "outputs": [
    {
     "data": {
      "text/plain": [
       "Index(['qid', 'question_text', 'target'], dtype='object')"
      ]
     },
     "execution_count": 10,
     "metadata": {},
     "output_type": "execute_result"
    }
   ],
   "source": [
    "raw_data.columns"
   ]
  },
  {
   "cell_type": "code",
   "execution_count": 8,
   "metadata": {},
   "outputs": [
    {
     "data": {
      "text/plain": [
       "0    1225312\n",
       "1    80810  \n",
       "Name: target, dtype: int64"
      ]
     },
     "execution_count": 8,
     "metadata": {},
     "output_type": "execute_result"
    }
   ],
   "source": [
    "raw_data[\"target\"].value_counts()"
   ]
  },
  {
   "cell_type": "code",
   "execution_count": 7,
   "metadata": {},
   "outputs": [],
   "source": [
    "from nltk.tokenize import TreebankWordTokenizer, WhitespaceTokenizer, WordPunctTokenizer"
   ]
  },
  {
   "cell_type": "code",
   "execution_count": 60,
   "metadata": {},
   "outputs": [],
   "source": [
    "UpperDic_0 = {}\n",
    "UpperDic_1 = {}\n",
    "for index, row in raw_data.iterrows():\n",
    "    text = row[\"question_text\"]\n",
    "    Ulist = re.findall(r'\\b[A-Z]+\\b', text)\n",
    "#     Ulist = re.findall(r'\\b[A-Z]+\\w*\\b', text)\n",
    "    if(row[\"target\"] == 0):\n",
    "        for word in Ulist:\n",
    "            if(word in UpperDic_0):\n",
    "                UpperDic_0[word] += 1\n",
    "            else:\n",
    "                UpperDic_0[word] = 1\n",
    "    else:\n",
    "        for word in Ulist:\n",
    "            if(word in UpperDic_1):\n",
    "                UpperDic_1[word] += 1\n",
    "            else:\n",
    "                UpperDic_1[word] = 1\n"
   ]
  },
  {
   "cell_type": "code",
   "execution_count": 61,
   "metadata": {},
   "outputs": [],
   "source": [
    "UpperList_0 = []\n",
    "UpperList_1 = []\n",
    "for key, val in UpperDic_0.items():\n",
    "    tem = (key, val)\n",
    "    UpperList_0.append(tem)\n",
    "\n",
    "for key, val in UpperDic_1.items():\n",
    "    tem = (key, val)\n",
    "    UpperList_1.append(tem)\n",
    "\n",
    "UpperList_0 = sorted(UpperList_0, key=lambda x:x[1], reverse=True)\n",
    "UpperList_1 = sorted(UpperList_1, key=lambda x:x[1], reverse=True)"
   ]
  },
  {
   "cell_type": "code",
   "execution_count": 62,
   "metadata": {},
   "outputs": [
    {
     "data": {
      "text/plain": [
       "14171"
      ]
     },
     "execution_count": 62,
     "metadata": {},
     "output_type": "execute_result"
    }
   ],
   "source": [
    "len(UpperList_0)"
   ]
  },
  {
   "cell_type": "code",
   "execution_count": 63,
   "metadata": {},
   "outputs": [
    {
     "data": {
      "text/plain": [
       "2163"
      ]
     },
     "execution_count": 63,
     "metadata": {},
     "output_type": "execute_result"
    }
   ],
   "source": [
    "len(UpperList_1)"
   ]
  },
  {
   "cell_type": "code",
   "execution_count": 71,
   "metadata": {},
   "outputs": [
    {
     "name": "stdout",
     "output_type": "stream",
     "text": [
      "[('I', 317207), ('US', 10574), ('A', 6488), ('JEE', 4918), ('USA', 4704), ('TV', 4531), ('IIT', 3983), ('B', 3815), ('UK', 3725), ('MBA', 3671), ('S', 3663), ('C', 3210), ('U', 3036), ('IT', 2993), ('CSE', 2626), ('UPSC', 2166), ('MS', 1984), ('CBSE', 1905), ('NEET', 1875), ('CA', 1871), ('M', 1808), ('CS', 1803), ('NIT', 1640), ('MBBS', 1554), ('SSC', 1499), ('PC', 1491), ('IAS', 1475), ('D', 1463), ('IQ', 1427), ('AI', 1332), ('GST', 1319), ('GATE', 1269), ('X', 1252), ('E', 1222), ('ECE', 1160), ('R', 1145), ('DC', 1136), ('CAT', 1066), ('BJP', 1064), ('EU', 1044), ('AIIMS', 1028), ('VIT', 993), ('MIT', 979), ('IIM', 956), ('SBI', 942), ('DNA', 924), ('CGL', 921), ('T', 890), ('PG', 860), ('SEO', 854), ('SAT', 835), ('BA', 827), ('GPA', 822), ('BITS', 807), ('OBC', 806), ('SC', 801), ('AC', 792), ('K', 789), ('P', 786), ('F', 758), ('II', 718), ('BBA', 717), ('GRE', 696), ('HR', 671), ('ICSE', 653), ('O', 651), ('SAP', 649), ('PO', 647), ('PR', 641), ('L', 640), ('AP', 638), ('PHP', 636), ('TCS', 627), ('SRM', 614), ('NDA', 599), ('J', 584), ('OS', 576), ('HTML', 574), ('PM', 566), ('BITSAT', 562), ('IIIT', 560), ('PDF', 558), ('N', 554), ('CET', 554), ('IELTS', 553), ('CGPA', 552), ('H', 544), ('IP', 536), ('CEO', 535), ('WWII', 532), ('IPL', 519), ('NBA', 505), ('DU', 498), ('V', 497), ('NYC', 497), ('API', 492), ('RBI', 490), ('NCERT', 485), ('PCM', 473), ('UAE', 470), ('G', 469), ('NASA', 466), ('AWS', 459), ('SSB', 452), ('MCU', 451), ('HP', 446), ('ISIS', 445), ('HIV', 443), ('USB', 439), ('SQL', 437), ('CLAT', 435), ('ISRO', 434), ('MA', 432), ('BCA', 427), ('ADHD', 413), ('W', 412), ('ID', 395), ('IS', 395), ('PSU', 393), ('ISC', 388), ('NFL', 388), ('UN', 388), ('IBPS', 381), ('FBI', 380), ('IPS', 380), ('BHU', 376), ('FIFA', 374), ('GDP', 373), ('IES', 369), ('INR', 366), ('UG', 364), ('IB', 362), ('BPD', 361), ('UX', 361), ('NIFT', 360), ('CSS', 356), ('COMEDK', 351), ('KVPY', 349), ('UI', 348), ('NET', 347), ('IISER', 343), ('USD', 341), ('CPU', 339), ('LLB', 336), ('MCA', 336), ('OK', 327), ('IPCC', 324), ('BE', 321), ('IBM', 321), ('CFA', 319), ('IGNOU', 315), ('BTS', 309), ('DTU', 305), ('GTA', 301), ('BDS', 300), ('NCR', 299), ('EEE', 296), ('AIR', 296), ('VPN', 292), ('UP', 291), ('UC', 291), ('OCD', 291), ('ATM', 291), ('MNC', 283), ('WWE', 282), ('GMAT', 281), ('Q', 279), ('MD', 271), ('HD', 270), ('Y', 269), ('CV', 264), ('KIIT', 263), ('BS', 260), ('VR', 258), ('NATO', 252), ('GPS', 251), ('CIA', 250), ('PCB', 249), ('EE', 248), ('NY', 247), ('NPD', 244), ('PGDM', 244), ('Z', 243), ('RAM', 242), ('USSR', 241), ('LED', 240), ('SMS', 239), ('PTSD', 236), ('MP', 233), ('SD', 233), ('ICO', 232), ('WBJEE', 231), ('IFS', 231), ('LG', 229), ('ACT', 227), ('NRI', 221), ('LLC', 221), ('CPT', 221), ('ESE', 220), ('ML', 217)]\n"
     ]
    }
   ],
   "source": [
    "print(UpperList_0[:200])"
   ]
  },
  {
   "cell_type": "code",
   "execution_count": 69,
   "metadata": {},
   "outputs": [
    {
     "name": "stdout",
     "output_type": "stream",
     "text": [
      "[('I', 12835), ('US', 2212), ('USA', 983), ('BJP', 575), ('UK', 574), ('U', 523), ('S', 513), ('IQ', 499), ('A', 360), ('ISIS', 270), ('PM', 261), ('FBI', 196), ('EU', 177), ('LGBT', 174), ('NRA', 149), ('TV', 149), ('RSS', 141), ('OK', 134), ('GOP', 125), ('UN', 105), ('CNN', 102), ('NASA', 90), ('IT', 85), ('DNA', 84), ('POTUS', 76), ('K', 70), ('B', 69), ('N', 68), ('CIA', 67), ('UP', 67), ('WWII', 67), ('D', 62), ('LGBTQ', 62), ('J', 61), ('IS', 60), ('IIT', 57), ('SC', 57), ('DNC', 56), ('SJW', 54), ('E', 53), ('AR', 53), ('II', 52), ('NOT', 52), ('NFL', 51), ('CM', 51), ('C', 51), ('AAP', 51), ('T', 50), ('WHY', 46), ('W', 43), ('KKK', 42), ('PC', 42), ('AND', 42), ('ST', 40), ('MS', 40), ('TO', 40), ('DACA', 39), ('JEE', 39), ('R', 39), ('NATO', 38), ('GDP', 38), ('P', 37), ('BS', 37), ('M', 36), ('O', 36), ('HIV', 35), ('YOU', 35), ('X', 34), ('F', 33), ('CCP', 33), ('AIDS', 31), ('FYROM', 31), ('ALL', 30), ('SO', 29), ('H', 27), ('DOJ', 26), ('BTS', 25), ('BBC', 25), ('EVM', 25), ('USSR', 25), ('BNBR', 24), ('BLM', 24), ('IRS', 23), ('THEY', 23), ('LDS', 23), ('IDF', 23), ('DC', 23), ('JFK', 22), ('CEO', 22), ('Y', 22), ('AI', 21), ('THAT', 21), ('V', 21), ('HR', 21), ('ID', 21), ('Q', 21), ('PKK', 21), ('G', 20), ('MSM', 20), ('THIS', 19), ('SS', 19), ('SAT', 18), ('MSNBC', 18), ('NO', 18), ('CPEC', 18), ('CA', 18), ('L', 18), ('IAS', 17), ('PLA', 17), ('FUCK', 17), ('TRUMP', 17), ('BPD', 16), ('FISA', 16), ('OR', 16), ('NDTV', 16), ('SCOTUS', 16), ('UAE', 16), ('POC', 16), ('NBA', 15), ('NY', 15), ('ABC', 15), ('NSA', 15), ('MY', 15), ('PRC', 14), ('IF', 14), ('JNU', 14), ('ON', 14), ('WWI', 14), ('EC', 14), ('WILL', 14), ('NEET', 13), ('LTTE', 13), ('ONLY', 13), ('CAN', 13), ('VP', 13), ('EPA', 13), ('ISI', 13), ('SA', 13), ('MLA', 13), ('NHS', 13), ('NBC', 12), ('HAVE', 12), ('Z', 12), ('IPL', 12), ('AKA', 12), ('TMC', 12), ('SRM', 12), ('MIT', 12), ('PR', 11), ('FDR', 11), ('NYC', 11), ('IIM', 11), ('WHITE', 11), ('FOX', 11), ('ISKCON', 11), ('GST', 11), ('LA', 11), ('BAMS', 11), ('DO', 11), ('THE', 11), ('NK', 11), ('YPG', 11), ('HRC', 11), ('OP', 10), ('ISS', 10), ('LGBTQI', 10), ('IRA', 10), ('FROM', 10), ('NOW', 10), ('FIFA', 10), ('LSD', 10), ('TN', 10), ('ICE', 10), ('EVERY', 10), ('NPD', 10), ('MBA', 10), ('UC', 10), ('JDS', 10), ('VHP', 10), ('UNSC', 10), ('PBUH', 10), ('USD', 10), ('MEN', 9), ('MAGA', 9), ('MOST', 9), ('OBC', 9), ('KGB', 9), ('PISA', 9), ('YOUR', 9), ('MLK', 9), ('NIT', 9), ('CTMU', 9), ('HE', 9), ('THINK', 9), ('STOP', 9), ('WTC', 9), ('GPA', 9), ('ACA', 9), ('UPSC', 9), ('WE', 9), ('WTF', 9), ('STEM', 9), ('IPS', 8), ('AP', 8), ('BLACK', 8), ('AG', 8), ('ME', 8), ('SRK', 8), ('WORLD', 8), ('WMD', 8), ('NRI', 8), ('ANY', 8), ('ADHD', 8), ('EXO', 8), ('ASPD', 7), ('STUPID', 7), ('LBGT', 7), ('OCD', 7), ('FM', 7), ('ILLEGAL', 7), ('MANY', 7), ('BUT', 7), ('WHEN', 7), ('VA', 7), ('NEVER', 7), ('ANONYMOUS', 7), ('NZ', 7), ('WWIII', 7), ('WH', 7), ('PETA', 7), ('SOTU', 7), ('INFJ', 7), ('CGI', 7), ('ESPN', 7), ('HIS', 7), ('AIIMS', 7), ('BE', 7), ('LAPD', 7), ('NOTE', 6), ('AIR', 6), ('AT', 6), ('WW', 6), ('CPC', 6), ('PTSD', 6), ('STD', 6), ('CBS', 6), ('HATE', 6), ('SP', 6), ('MP', 6), ('HK', 6), ('WAS', 6), ('INC', 6), ('SAW', 6), ('VIT', 6), ('ONE', 6), ('BTW', 6), ('UFO', 6), ('III', 6), ('CSE', 6), ('PYD', 6), ('CMI', 6), ('FB', 6), ('ASS', 6), ('FGM', 6), ('ANON', 6), ('AC', 6), ('OUT', 6), ('BY', 6), ('NGO', 6), ('CAT', 6), ('AS', 6), ('USS', 6), ('PA', 6), ('ASEAN', 5), ('HDI', 5), ('ATM', 5), ('SF', 5), ('ISIL', 5), ('QUESTION', 5), ('ARE', 5), ('JUST', 5), ('MA', 5), ('BSP', 5), ('ANTIFA', 5), ('CSK', 5), ('OFF', 5), ('WHO', 5), ('SUV', 5), ('RK', 5), ('NEED', 5), ('MORE', 5), ('BELIEVE', 5), ('AGAIN', 5), ('SHIT', 5), ('LOVE', 5), ('NJ', 5), ('DID', 5), ('WB', 5), ('PS', 5), ('DT', 5), ('RIGHT', 5), ('FDA', 5), ('BIMARU', 5), ('MGTOW', 5), ('REALLY', 5), ('CBSE', 5), ('RNC', 5), ('AMD', 5), ('FUCKING', 5), ('UPA', 5), ('VERY', 5), ('CBI', 5), ('NT', 5), ('IP', 5), ('WTO', 5), ('LIBERALS', 5), ('LOL', 5), ('ABOUT', 5), ('WWE', 5), ('CDC', 5), ('THEE', 5), ('HS', 5), ('HER', 5), ('GET', 5), ('KNOW', 5), ('NDA', 5), ('WARNING', 4), ('WANT', 4), ('RAW', 4), ('CBD', 4), ('NE', 4), ('YEARS', 4), ('ICC', 4), ('POS', 4), ('NHL', 4), ('BP', 4), ('AMWF', 4), ('SE', 4), ('NYT', 4), ('YRS', 4), ('HIM', 4), ('ADD', 4), ('LIKE', 4), ('JK', 4), ('SWT', 4), ('ISRO', 4), ('FOR', 4), ('TIME', 4), ('IMF', 4), ('PRESIDENT', 4), ('PMS', 4), ('WMAF', 4), ('SWAT', 4), ('AL', 4), ('BIG', 4), ('NEWS', 4), ('IAEA', 4), ('BUY', 4), ('BITS', 4), ('BDSM', 4), ('BJ', 4), ('CCTV', 4), ('TED', 4), ('SEO', 4), ('ACLU', 4), ('AN', 4), ('SCO', 4), ('ITS', 4), ('CS', 4), ('ABVP', 4), ('KEEP', 4), ('INTJ', 4), ('NOTHING', 4), ('SOME', 4), ('SEA', 4), ('OF', 4), ('BMI', 4), ('MUCH', 4), ('NEW', 4), ('SSC', 4), ('GCE', 4), ('EARTH', 4), ('OWN', 4), ('SEE', 4), ('ODI', 4), ('DOW', 4), ('SBI', 4), ('UCLA', 4), ('DON', 4), ('FEMA', 4), ('BACK', 4), ('PEOPLE', 4), ('DOWN', 4), ('KHAN', 4), ('JCPOA', 4), ('DJT', 4), ('MBBS', 4), ('FCC', 4), ('HELL', 4), ('ALLAH', 4), ('ANYONE', 4), ('APJ', 4), ('IITJEE', 4), ('USB', 4), ('EQ', 4), ('AMERICANS', 4), ('KFC', 4), ('RAPE', 4), ('DUI', 4), ('AK', 4), ('HOLE', 4), ('DOES', 4), ('LG', 4), ('OBOR', 4), ('MINDS', 3), ('IMPORTANT', 3), ('AMU', 3), ('SUCH', 3), ('ADL', 3), ('ICBM', 3), ('CJI', 3), ('UNSUBSCRIBE', 3), ('CERN', 3), ('THING', 3), ('PT', 3), ('ASD', 3), ('LIVE', 3), ('BECAUSE', 3), ('YMCA', 3), ('FINALLY', 3), ('MODERATION', 3), ('IM', 3), ('ASSHOLES', 3), ('TSA', 3), ('QUORA', 3), ('DEA', 3), ('MQM', 3), ('FL', 3), ('COOL', 3), ('TAKE', 3), ('GTA', 3), ('FSA', 3), ('KM', 3), ('THEM', 3), ('ICJ', 3), ('HAS', 3), ('AM', 3), ('HDB', 3), ('TX', 3), ('MMR', 3), ('PUSSY', 3), ('SEAL', 3), ('JEW', 3), ('EVERYTHING', 3), ('SUCK', 3), ('DICK', 3), ('DMT', 3), ('DEAD', 3), ('PAP', 3), ('FDI', 3), ('GWB', 3), ('IB', 3), ('MUSLIMS', 3), ('IG', 3), ('AW', 3), ('OTHER', 3), ('BMW', 3), ('PARTY', 3), ('BEEN', 3), ('POV', 3), ('CPM', 3), ('WA', 3), ('IV', 3), ('POK', 3), ('OPCW', 3), ('GF', 3), ('WOMEN', 3), ('DMV', 3), ('HIGH', 3), ('MI', 3), ('DAMN', 3), ('STILL', 3), ('INTP', 3), ('TOO', 3), ('JUSTICE', 3), ('FWB', 3), ('MENA', 3), ('ICICI', 3), ('WHERE', 3), ('PUBG', 3), ('PLO', 3), ('BB', 3), ('IMO', 3), ('ASAP', 3), ('UNESCO', 3), ('LR', 3), ('CW', 3), ('ABD', 3), ('RT', 3), ('XY', 3), ('HELP', 3), ('GENGHIZ', 3), ('GREAT', 3), ('ACT', 3), ('MK', 3), ('LGBTI', 3), ('FLOTUS', 3), ('LGBQT', 3), ('IN', 3), ('RTI', 3), ('BIID', 3), ('BD', 3), ('SHOCKING', 3), ('ED', 3), ('CPS', 3), ('NA', 3), ('TCS', 3), ('CPU', 3), ('MTF', 3), ('DTU', 3), ('NSIT', 3), ('MAKE', 3), ('USC', 3), ('GIVE', 3), ('LGBTQIA', 3), ('MBP', 3), ('PERSON', 3), ('JEWS', 3), ('MD', 3), ('ENOUGH', 3), ('OUR', 3), ('HUGE', 3), ('VIII', 3), ('STATES', 3), ('BREAKING', 3), ('NCR', 3), ('VIP', 3), ('HQ', 3), ('PAGE', 3), ('PRICES', 3), ('AF', 2), ('PDF', 2), ('DOCTORS', 2), ('OMG', 2), ('NPR', 2), ('KCN', 2), ('JEWISH', 2), ('FNN', 2), ('LOT', 2), ('MADE', 2), ('VIDEOS', 2), ('PROOF', 2), ('MAKING', 2), ('USE', 2), ('LPA', 2), ('GROW', 2), ('MMA', 2), ('AU', 2), ('JF', 2), ('OSC', 2), ('EQUAL', 2), ('SHARIA', 2), ('CHRISTIAN', 2), ('POF', 2), ('CRIMINAL', 2), ('NATURAL', 2), ('WITH', 2), ('CUNTS', 2), ('PUGB', 2), ('ILLEGALLY', 2), ('HAARP', 2), ('MAN', 2), ('KID', 2), ('FAMILY', 2), ('NEXT', 2), ('NYU', 2), ('STUPIDEST', 2), ('MOM', 2), ('THANKS', 2), ('WIN', 2), ('QM', 2), ('ANC', 2), ('INCEST', 2), ('SENDING', 2), ('ENROLL', 2), ('HOLY', 2), ('FUCKIS', 2), ('INDIA', 2), ('HC', 2), ('LBGTQ', 2), ('RICO', 2), ('SAS', 2), ('CEMS', 2), ('UPES', 2), ('CC', 2), ('CBP', 2), ('CRAP', 2), ('DONALD', 2), ('SEEN', 2), ('GM', 2), ('LIBERAL', 2), ('WHAT', 2), ('FREE', 2), ('HYPSM', 2), ('TH', 2), ('PJAK', 2), ('GO', 2), ('SELL', 2), ('TROLL', 2), ('LGBTQAI', 2), ('FTM', 2), ('JW', 2), ('UKIP', 2), ('MRA', 2), ('BDS', 2), ('GPS', 2), ('FEMALE', 2), ('LGB', 2), ('HM', 2), ('RW', 2), ('AIB', 2), ('RACES', 2), ('DAY', 2), ('SNAP', 2), ('PHARMACISTS', 2), ('DVD', 2), ('REPUBLICAN', 2), ('KCR', 2), ('AWS', 2), ('VII', 2), ('SCS', 2), ('AHCA', 2), ('EVER', 2), ('TLJ', 2), ('EVERYONE', 2), ('SITE', 2), ('BBW', 2), ('AGENT', 2), ('TYT', 2), ('RJD', 2), ('TTP', 2), ('CWG', 2), ('FR', 2), ('DPRK', 2), ('FORCE', 2), ('CHILDREN', 2), ('BET', 2), ('BSF', 2), ('SIM', 2), ('TOI', 2), ('SJWS', 2), ('COD', 2), ('SOB', 2), ('EMP', 2), ('UEFA', 2), ('NSDAP', 2), ('DEFEND', 2), ('USMC', 2), ('FLAT', 2), ('DEEP', 2), ('SIDES', 2), ('IIIT', 2), ('FEDERAL', 2), ('SMU', 2), ('MNC', 2), ('ECI', 2), ('HALF', 2), ('XX', 2), ('EL', 2), ('TOTAL', 2), ('FAKE', 2), ('AD', 2), ('MILLION', 2), ('SSI', 2), ('PLEASE', 2), ('THINKING', 2), ('GSA', 2), ('HYMEN', 2), ('FUN', 2), ('SAP', 2), ('TPP', 2), ('BIBLICAL', 2), ('DZ', 2), ('KJV', 2), ('PLANET', 2), ('BODY', 2), ('GOAT', 2), ('DEMOCRATS', 2), ('MCU', 2), ('AFK', 2), ('FIVE', 2), ('KA', 2), ('SEC', 2), ('OFA', 2), ('TNT', 2), ('PO', 2), ('DAP', 2), ('YES', 2), ('MILF', 2), ('BANCOOP', 2), ('CUT', 2), ('SHE', 2), ('WELL', 2), ('TW', 2), ('HYPS', 2), ('NW', 2), ('FATA', 2), ('UTTP', 2), ('PNP', 2), ('SCAM', 2), ('BN', 2), ('ENTP', 2), ('SEALS', 2), ('CE', 2), ('RACIST', 2), ('JOE', 2), ('COULD', 2), ('BEGIN', 2), ('RFK', 2), ('IED', 2), ('QUIT', 2), ('PH', 2), ('GETS', 2), ('FEC', 2), ('PEW', 2), ('NPT', 2), ('MLP', 2), ('PFI', 2), ('SDPI', 2), ('SR', 2), ('SSD', 2), ('EUROPEAN', 2), ('HST', 2), ('STFU', 2), ('UFC', 2), ('OSCE', 2), ('COLLECTIVE', 2), ('HEADS', 2), ('OATH', 2), ('ATF', 2), ('PBS', 2), ('VE', 2), ('MEAN', 2), ('HW', 2), ('SAID', 2), ('DHS', 2), ('SSB', 2), ('HORSE', 2), ('INVOLVING', 2), ('CROOKS', 2), ('JET', 2), ('EVEN', 2), ('REPORT', 2), ('XXX', 2), ('HAVING', 2), ('KHANZ', 2), ('AFRICAN', 2), ('HAPPEN', 2), ('READ', 2), ('JJ', 2), ('MEANS', 2), ('HERE', 2), ('BOTH', 2), ('CPAC', 2), ('SAHM', 2), ('BO', 2), ('ER', 2), ('HP', 2), ('DA', 2), ('GMO', 2), ('MUSLIM', 2), ('RICH', 2), ('COUNTRIES', 2), ('NASCAR', 2), ('CPI', 2), ('ALWAYS', 2), ('ICO', 2), ('SAFE', 2), ('EUR', 2), ('BA', 2), ('WHITES', 2), ('FACE', 2), ('HIMSELF', 2), ('PRAY', 2), ('CNY', 2), ('BLACKS', 2), ('SAME', 2), ('DU', 2), ('BHO', 2), ('MEXICO', 2), ('PP', 2), ('RBI', 2), ('USCIS', 2), ('XL', 2), ('ROC', 2), ('VALUES', 2), ('THC', 2), ('ZTE', 2), ('TDS', 2), ('STATE', 2), ('YSA', 2), ('SICK', 2), ('KJU', 2), ('OFFICE', 2), ('UCL', 2), ('ZFC', 2), ('LIVES', 2), ('PVR', 2), ('IFS', 1), ('IES', 1), ('IBPS', 1), ('WORKERS', 1), ('GOOGEL', 1), ('SPOILER', 1), ('RETURN', 1), ('LBG', 1), ('HAMAS', 1), ('AGREED', 1), ('UPON', 1), ('CHEATERS', 1), ('MEDICARE', 1), ('FUNDS', 1), ('STEAL', 1), ('ILEGALY', 1), ('PIV', 1), ('OC', 1), ('NIFT', 1), ('BC', 1), ('PART', 1), ('MGR', 1), ('SJSU', 1), ('PSY', 1), ('LARGE', 1), ('FRICKIN', 1), ('PENIS', 1), ('ADM', 1), ('ET', 1), ('EWS', 1), ('GIRLS', 1), ('PV', 1), ('REMAIN', 1), ('HTML', 1), ('DAYS', 1), ('GRABBED', 1), ('GNP', 1), ('NEEDED', 1), ('SIKHS', 1), ('SPY', 1), ('GID', 1), ('UA', 1), ('CCD', 1), ('VS', 1), ('ISRAELITES', 1), ('SHOW', 1), ('TREASON', 1), ('OFW', 1), ('TKI', 1), ('IMPEACH', 1), ('WHICH', 1), ('TRC', 1), ('VISA', 1), ('CONFIRM', 1), ('GUN', 1), ('VIOLENCE', 1), ('KXIP', 1), ('MAV', 1), ('ROBERT', 1), ('LEE', 1), ('CUJ', 1), ('UNWORKABLE', 1), ('INSIST', 1), ('FADA', 1), ('PROTIMA', 1), ('TIWARY', 1), ('MOZLEMS', 1), ('GW', 1), ('OL', 1), ('BCCI', 1), ('KRG', 1), ('FYS', 1), ('CARES', 1), ('CHRISTIANS', 1), ('BLASPHEMING', 1), ('DENYING', 1), ('HERB', 1), ('MARIJUANA', 1), ('WRONG', 1), ('CONTENT', 1), ('REVIEW', 1), ('COCKSUCKERS', 1), ('PREDESTINATION', 1), ('PREDESTINY', 1), ('NFA', 1), ('OIC', 1), ('SITA', 1), ('YEMENESE', 1), ('DIED', 1), ('WEDDING', 1), ('NITE', 1), ('ASKD', 1), ('REFUND', 1), ('PARENTS', 1), ('GAVE', 1), ('ITALIAN', 1), ('SALUD', 1), ('CREEK', 1), ('BASTARD', 1), ('TOUGH', 1), ('TRY', 1), ('SOLD', 1), ('POUNDS', 1), ('AIMPLB', 1), ('FYR', 1), ('ILLEGALS', 1), ('GITMO', 1), ('PAPPU', 1), ('ACM', 1), ('TARD', 1), ('BRO', 1), ('SERIOUSLY', 1), ('SINCE', 1), ('UR', 1), ('HOME', 1), ('BUTTON', 1), ('AARP', 1), ('CAR', 1), ('JB', 1), ('SOLDIERS', 1), ('POW', 1), ('PQ', 1), ('CONVERTED', 1), ('RSM', 1), ('RUSSIA', 1), ('FOOL', 1), ('POEPLE', 1), ('LONG', 1), ('CCW', 1), ('THEMSELVES', 1), ('GCI', 1), ('ADN', 1), ('LETTING', 1), ('DISNEY', 1), ('NAMO', 1), ('RTR', 1), ('KPOP', 1), ('QMAS', 1), ('PERFECT', 1), ('EYELASHES', 1), ('UNCLOS', 1), ('POPULAR', 1), ('ROUND', 1), ('BIHARI', 1), ('DNI', 1), ('DJ', 1), ('DEMOCRAT', 1), ('PMO', 1), ('AAHHH', 1), ('CTE', 1), ('TDR', 1), ('HSBC', 1), ('RUDE', 1), ('COLLEGE', 1), ('PROFESSORS', 1), ('PRACTICED', 1), ('PREACHED', 1), ('WOULDN', 1), ('TEACH', 1), ('CAIR', 1), ('PAMP', 1), ('GFI', 1), ('INFP', 1), ('LIMESTONE', 1), ('PYRAMIDS', 1), ('GTX', 1), ('TIGHT', 1), ('JENNY', 1), ('THOUGH', 1), ('PASSWORD', 1), ('TL', 1), ('DR', 1), ('AIPAC', 1), ('EJK', 1), ('DIDI', 1), ('MOVE', 1), ('YPJ', 1), ('ELON', 1), ('MUSK', 1), ('ATR', 1), ('SOCOM', 1), ('PNB', 1), ('UPS', 1), ('ASSHOLE', 1), ('ENTJ', 1), ('COWARDS', 1), ('GOAL', 1), ('BOOOOO', 1), ('CNBC', 1), ('SFF', 1), ('PLC', 1), ('CROWN', 1), ('CORPORATIONS', 1), ('PRIVATELY', 1), ('HELD', 1), ('RATIONALIZE', 1), ('CQB', 1), ('SEZ', 1), ('STZ', 1), ('ADND', 1), ('MORAL', 1), ('ISSUES', 1), ('REPORTS', 1), ('KISS', 1), ('AED', 1), ('BF', 1), ('LOTTERY', 1), ('RESTAURANT', 1), ('OG', 1), ('NUS', 1), ('NSYNC', 1), ('DOG', 1), ('EMT', 1), ('TST', 1), ('HI', 1), ('NLP', 1), ('VX', 1), ('PBN', 1), ('RG', 1), ('TBBT', 1), ('RAM', 1), ('PKR', 1), ('SV', 1), ('NOBODY', 1), ('HYPOCRISY', 1), ('THY', 1), ('NAME', 1), ('APP', 1), ('IRONY', 1), ('ISN', 1), ('BIT', 1), ('MALE', 1), ('OM', 1), ('BULLSHIT', 1), ('FETO', 1), ('TMNT', 1), ('YOLO', 1), ('TOS', 1), ('GURDAAS', 1), ('CVT', 1), ('TRUCK', 1), ('TIRE', 1), ('CHAINS', 1), ('TVF', 1), ('AMOUNT', 1), ('TIRES', 1), ('ROTATION', 1), ('CALIFORNIA', 1), ('DODGE', 1), ('COLT', 1), ('REF', 1), ('CARRYING', 1), ('TOOLS', 1), ('COME', 1), ('THET', 1), ('YO', 1), ('ENJIY', 1), ('REVELATIONS', 1), ('THRO', 1), ('SAYSING', 1), ('PREDICTS', 1), ('BASED', 1), ('GEOLOGY', 1), ('NATION', 1), ('ENGINNERS', 1), ('GK', 1), ('KPD', 1), ('VOTING', 1), ('SOON', 1), ('HITLER', 1), ('TAKING', 1), ('OVER', 1), ('ULTRA', 1), ('WING', 1), ('TEA', 1), ('TRUMPERS', 1), ('NEO', 1), ('NAZIS', 1), ('EVANGELICAL', 1), ('FEAR', 1), ('MONGERING', 1), ('SELF', 1), ('RIGHTEOUS', 1), ('BIGOTS', 1), ('PVP', 1), ('MMS', 1), ('LGBTQQIAAP', 1), ('SHITHOLE', 1), ('FOUL', 1), ('BRAHMANS', 1), ('BSD', 1), ('COMMY', 1), ('DOGS', 1), ('NQ', 1), ('MGTOWS', 1), ('NYPD', 1), ('VW', 1), ('ACCIDENTALLY', 1), ('CURE', 1), ('COLD', 1), ('DISEASES', 1), ('PCOS', 1), ('IST', 1), ('CPRF', 1), ('INVENT', 1), ('XIV', 1), ('MTC', 1), ('INTERNET', 1), ('CANUKS', 1), ('POO', 1), ('BEFORE', 1), ('ACTUAL', 1), ('HARM', 1), ('AOL', 1), ('CASTRATION', 1), ('ONGC', 1), ('TDP', 1), ('YSRCP', 1), ('KASHMIRIS', 1), ('EXPECTING', 1), ('ACCEPT', 1), ('PLEBISCITE', 1), ('VACATING', 1), ('PAKISTHAN', 1), ('PARTS', 1), ('LADHAK', 1), ('PER', 1), ('RESOLUTION', 1), ('DAPL', 1), ('HGH', 1), ('YHWH', 1), ('OUN', 1), ('BUILDS', 1), ('DE', 1), ('CAUTION', 1), ('IPM', 1), ('HISTORY', 1), ('BOOK', 1), ('SILENCE', 1), ('BANKING', 1), ('SYSTEM', 1), ('SOS', 1), ('HPV', 1), ('TALK', 1), ('VCU', 1), ('DPT', 1), ('IRIS', 1), ('HN', 1), ('LBJ', 1), ('DFL', 1), ('KINKS', 1), ('QUALITY', 1), ('PASTA', 1), ('SQUIRREL', 1), ('GCHQ', 1), ('SIGINT', 1), ('FAIR', 1), ('NAZI', 1), ('MURDERERS', 1), ('UGLY', 1), ('DEVELOPMENT', 1), ('KIK', 1), ('INFIDELS', 1), ('MMU', 1), ('SALT', 1), ('FULL', 1), ('FORCED', 1), ('BIRTH', 1), ('BRAINWASHED', 1), ('MANAPHY', 1), ('PRINCE', 1), ('POKEMON', 1), ('UVA', 1), ('KICK', 1), ('KIM', 1), ('JONG', 1), ('VAPORIZE', 1), ('NUCLEAR', 1), ('DUST', 1), ('TWA', 1), ('BADLY', 1), ('EPL', 1), ('AFRICANS', 1), ('LGTBQ', 1), ('AIA', 1), ('RACPC', 1), ('CLEARLY', 1), ('TVM', 1), ('HFCS', 1), ('SCANDAL', 1), ('BPO', 1), ('INDEPENDENT', 1), ('OQ', 1), ('DEPORTATION', 1), ('PUSSIES', 1), ('IDIOTS', 1), ('NINCOMPOOPS', 1), ('THRIVES', 1), ('THAAD', 1), ('HAL', 1), ('FUDD', 1), ('KANPUR', 1), ('ENGINEERS', 1), ('CARELESS', 1), ('GATE', 1), ('FURTHERMORE', 1), ('SURE', 1), ('ABORTIVE', 1), ('LITTLE', 1), ('EB', 1), ('CEC', 1), ('QUORS', 1), ('DULL', 1), ('GCC', 1), ('BMLM', 1), ('HDP', 1), ('JIMMY', 1), ('WALKER', 1), ('CUNT', 1), ('STALKER', 1), ('SITTIN', 1), ('HANDS', 1), ('OSHO', 1), ('HOES', 1), ('FOURTY', 1), ('FAUTY', 1), ('GC', 1), ('SPAAG', 1), ('LUCA', 1), ('BTC', 1), ('RSSB', 1), ('LHC', 1), ('EVA', 1), ('UWF', 1), ('ANNOYING', 1), ('CCNA', 1), ('KILL', 1), ('CGL', 1), ('MIX', 1), ('GETTING', 1), ('RID', 1), ('BIASED', 1), ('TOWARDS', 1), ('LGBTIQA', 1), ('CONSERVATIVES', 1), ('MODERATE', 1), ('EXCEPT', 1), ('MEET', 1), ('SOCIAL', 1), ('PLANNING', 1), ('DEFENSE', 1), ('HOMELAND', 1), ('ABSOLUTE', 1), ('REQUIRES', 1), ('BACKING', 1), ('LOOKS', 1), ('PATHETIC', 1), ('VOTES', 1), ('MEDIA', 1), ('BSNL', 1), ('TYPICALLY', 1), ('DMK', 1), ('MONGOLIANZ', 1), ('POLITICANS', 1), ('NG', 1), ('NORAD', 1), ('HINDU', 1), ('TERROR', 1), ('COCKSUCKER', 1), ('COINTELPRO', 1), ('HARPING', 1), ('DISTANT', 1), ('PAST', 1), ('WORKING', 1), ('VGM', 1), ('LGBS', 1), ('VITEEE', 1), ('FAVORITE', 1), ('ABCDEFGHIJKLMNOPQRSTUVWXYZ', 1), ('PICK', 1), ('DARE', 1), ('BLAT', 1), ('DRIVE', 1), ('BOAT', 1), ('DUTY', 1), ('MAP', 1), ('IC', 1), ('BHADUE', 1), ('CARTOON', 1), ('EA', 1), ('AKBAR', 1), ('POPE', 1), ('CSA', 1), ('BRIDE', 1), ('POST', 1), ('MARRIAGE', 1), ('VIRGIN', 1), ('DOCTOR', 1), ('INSTALLS', 1), ('SCIENCES', 1), ('THAILAND', 1), ('INSTALLER', 1), ('SURGEON', 1), ('LICENSE', 1), ('GRAND', 1), ('LPG', 1), ('NYE', 1), ('NCRYPTO', 1), ('BHU', 1), ('ONU', 1), ('GD', 1), ('DSM', 1), ('GOI', 1), ('HD', 1), ('UNTIL', 1), ('DISPLAY', 1), ('PRIVIOUS', 1), ('SPYGATE', 1), ('JESUS', 1), ('RAPED', 1), ('HDMI', 1), ('FATF', 1), ('YR', 1), ('OLD', 1), ('EE', 1), ('CP', 1), ('NASTY', 1), ('ERASMUS', 1), ('NVIDIA', 1), ('NOWHERE', 1), ('WEST', 1), ('MICHELLE', 1), ('BUYING', 1), ('REAR', 1), ('ADMIRAL', 1), ('WHOM', 1), ('IAF', 1), ('PAF', 1), ('GFC', 1), ('FAULT', 1), ('CDU', 1), ('CSU', 1), ('USPS', 1), ('AZ', 1), ('CZ', 1), ('NON', 1), ('AAO', 1), ('GROWN', 1), ('DIVINE', 1), ('CALL', 1), ('SEVENTY', 1), ('PERCENT', 1), ('ISP', 1), ('EAGLE', 1), ('GUESSWORK', 1), ('LMAO', 1), ('DAM', 1), ('DAMAGING', 1), ('HATEFUL', 1), ('FALSE', 1), ('CLAIMS', 1), ('UNDRIP', 1), ('EXACTLY', 1), ('SOLUTIONS', 1), ('SRMJEE', 1), ('REALISTIC', 1), ('PSYCHOLOGY', 1), ('KK', 1), ('NPDS', 1), ('HPDS', 1), ('HA', 1), ('ITER', 1), ('GPU', 1), ('CT', 1), ('SLI', 1), ('ULA', 1), ('SUGGEST', 1), ('HINA', 1), ('BIGG', 1), ('BOSS', 1), ('BCZ', 1), ('DARING', 1), ('PLAYED', 1), ('NVR', 1), ('GIVEUP', 1), ('AKP', 1), ('MHP', 1), ('SOLE', 1), ('OSG', 1), ('PK', 1), ('SICKULAR', 1), ('CAATSA', 1), ('SWJ', 1), ('GOLD', 1), ('FLAKES', 1), ('TRIGGER', 1), ('FRDI', 1), ('KV', 1), ('TWIST', 1), ('EXACT', 1), ('USELESS', 1), ('EATERS', 1), ('JIT', 1), ('TNR', 1), ('GS', 1), ('JIO', 1), ('PPO', 1), ('PAKISTANI', 1), ('BROUGHT', 1), ('TRAITOROUS', 1), ('ACTS', 1), ('GIVING', 1), ('OPINIONS', 1), ('IBS', 1), ('BBQ', 1), ('TEN', 1), ('LEGALLY', 1), ('GUTHRIE', 1), ('CLINICS', 1), ('MED', 1), ('CEN', 1), ('SYRACUSE', 1), ('LOWER', 1), ('BLOOD', 1), ('SUGAR', 1), ('LOUSY', 1), ('MILLIGRAM', 1), ('FAULTY', 1), ('TREATMENT', 1), ('RC', 1), ('OVERRATED', 1), ('DICKS', 1), ('WORSENED', 1), ('NRL', 1), ('PPP', 1), ('EID', 1), ('RCC', 1), ('LIARS', 1), ('STOLEN', 1), ('STEP', 1), ('CONVINCED', 1), ('WALMART', 1), ('BOTTLE', 1), ('FILLERS', 1), ('ACTIONS', 1), ('HANDING', 1), ('POISONS', 1), ('GENOCIDE', 1), ('UNO', 1), ('COE', 1), ('CKING', 1), ('ANYTHING', 1), ('KASHMIR', 1), ('SCL', 1), ('AB', 1), ('MAHA', 1), ('SEEM', 1), ('WOKE', 1), ('NOTICE', 1), ('MOVIE', 1), ('REFERENCE', 1), ('OFFEND', 1), ('SEX', 1), ('AUNTY', 1), ('AGE', 1), ('NIST', 1), ('BASELESS', 1), ('UNPROVEN', 1), ('THEORIES', 1), ('GLOBE', 1), ('THEORY', 1), ('INSTEAD', 1), ('PROVEN', 1), ('FACTS', 1), ('EXPERIMENTS', 1), ('CONDUCTED', 1), ('AMA', 1), ('REPEATING', 1), ('MISTAKES', 1), ('RESPECT', 1), ('FIM', 1), ('CGIC', 1), ('SI', 1), ('POSTER', 1), ('SMARTNESS', 1), ('TS', 1), ('KDP', 1), ('FCDP', 1), ('HDFC', 1), ('ISLAMIC', 1), ('TERRORIST', 1), ('GSB', 1), ('ARGUMENT', 1), ('FILTHY', 1), ('WC', 1), ('LMNIIT', 1), ('TARGETED', 1), ('SPOKE', 1), ('RADICAL', 1), ('DEFENDED', 1), ('LUNATIC', 1), ('SHAKE', 1), ('NDP', 1), ('LGBTIQBP', 1), ('GR', 1), ('CARE', 1), ('KNIGKA', 1), ('LRAD', 1), ('MANU', 1), ('DHARMA', 1), ('SETI', 1), ('ALT', 1), ('TBS', 1), ('PE', 1), ('TP', 1), ('CODIS', 1), ('HBU', 1), ('DV', 1), ('TRS', 1), ('SW', 1), ('ROTJ', 1), ('USW', 1), ('BKL', 1), ('FIJI', 1), ('ALS', 1), ('ACCURATE', 1), ('LOCATION', 1), ('SHOES', 1), ('EARLY', 1), ('TABACCO', 1), ('DOBERMAN', 1), ('PINCHERS', 1), ('IMU', 1), ('CET', 1), ('HSC', 1), ('MUTUAL', 1), ('FUND', 1), ('SAYING', 1), ('ALLTIME', 1), ('INDIGO', 1), ('LEADING', 1), ('CHANNELS', 1), ('BEHIND', 1), ('AIRLINE', 1), ('STOCKS', 1), ('MF', 1), ('GUYS', 1), ('DRAMA', 1), ('AFTER', 1), ('HORRIBLE', 1), ('ANNUAL', 1), ('QTR', 1), ('AWARE', 1), ('TYPE', 1), ('EFF', 1), ('SL', 1), ('DECENT', 1), ('PERIOD', 1), ('JEM', 1), ('VSG', 1), ('ENDLESS', 1), ('WAZ', 1), ('GOING', 1), ('LIBERATE', 1), ('MONGOLIAN', 1), ('HEAVEN', 1), ('LT', 1), ('BLT', 1), ('DIVISIVE', 1), ('BURNEE', 1), ('DEMOCRATIC', 1), ('IIFT', 1), ('NMIMS', 1), ('CUOMO', 1), ('MIGHT', 1), ('NOTIFICATIONS', 1), ('APPEAL', 1), ('ND', 1), ('CIRCUIT', 1), ('COURT', 1), ('APPEALS', 1), ('WRITING', 1), ('BRIEFS', 1), ('CASES', 1), ('TOMMORROW', 1), ('REMEMBERING', 1), ('SOUAD', 1), ('CONQUERIN', 1), ('MCD', 1), ('UNIX', 1), ('FAT', 1), ('SKINNY', 1), ('KSA', 1), ('HDC', 1), ('HBB', 1), ('MOHAMMAD', 1), ('GRAVE', 1), ('CORPSE', 1), ('WENT', 1), ('INTO', 1), ('HEAVENS', 1), ('STAYED', 1), ('CULT', 1), ('LEADER', 1), ('ORDINARY', 1), ('SHOOT', 1), ('BULL', 1), ('MOUTH', 1), ('ZIONISM', 1), ('SICKNESS', 1), ('CHICKS', 1), ('RCIA', 1), ('AFSPA', 1), ('HOLDING', 1), ('SHAM', 1), ('ALLEGATIONS', 1), ('JUDGE', 1), ('RECORDS', 1), ('HEAR', 1), ('MFPV', 1), ('FMPV', 1), ('RE', 1), ('JUSTIN', 1), ('MASSLER', 1), ('IOF', 1), ('AIT', 1), ('AMT', 1), ('CIS', 1), ('KAFFIRS', 1), ('DPM', 1), ('AFAID', 1), ('HOMOSEXUALS', 1), ('TAJ', 1), ('DISAPPEARED', 1), ('PAKISTANIS', 1), ('NKVD', 1), ('GIOVANNI', 1), ('DI', 1), ('STEFANO', 1), ('BELIEVING', 1), ('DEFENDERS', 1), ('EXISTENCE', 1), ('PORN', 1), ('INDUSTRY', 1), ('KRD', 1), ('DISAPPEAR', 1), ('SAUDI', 1), ('ARABIA', 1), ('CLERIC', 1), ('GOATER', 1), ('VJ', 1), ('CHOOSING', 1), ('MULTICULTURALISM', 1), ('PUSHED', 1), ('NATIONS', 1), ('BREEDING', 1), ('ENEMY', 1), ('DGN', 1), ('COMPLETELY', 1), ('POOR', 1), ('PAYING', 1), ('ORDER', 1), ('CHRISLAM', 1), ('LOTR', 1), ('ESFJ', 1), ('ISFJ', 1), ('ENFJ', 1), ('JV', 1), ('CVS', 1), ('WS', 1), ('DD', 1), ('HRD', 1), ('ALMS', 1), ('TEAR', 1), ('SQUARE', 1), ('ROOT', 1), ('RA', 1), ('OHIM', 1), ('EVR', 1), ('AFAB', 1), ('UMD', 1), ('SMS', 1), ('DWTS', 1), ('STOLE', 1), ('PRINT', 1), ('HANDGUNS', 1), ('LOC', 1), ('VAT', 1), ('IL', 1), ('CONVERTS', 1), ('INSTANTLY', 1), ('ROTSCHILDS', 1), ('COMMUNITIES', 1), ('SUCCEED', 1), ('REASONS', 1), ('ENCLAVE', 1), ('MEADOWS', 1), ('MOTHERFUCKERS', 1), ('POSTING', 1), ('LOSERS', 1), ('WOULD', 1), ('CHANCE', 1), ('LIBS', 1), ('CRYING', 1), ('SPACES', 1), ('TOILETS', 1), ('SMILE', 1), ('BILLION', 1), ('BRI', 1), ('ISA', 1), ('ITA', 1), ('KIIT', 1), ('BYU', 1), ('BLIND', 1), ('STEALING', 1), ('CHEATING', 1), ('LYING', 1), ('DEPRIVING', 1), ('ALLOWING', 1), ('SPITEFUL', 1), ('VOTED', 1), ('JUDGES', 1), ('JR', 1), ('UI', 1), ('POTASSIUM', 1), ('CYANIDE', 1), ('LOUD', 1), ('SPEAKERS', 1), ('MALAYSIA', 1), ('QUIETLY', 1), ('ECT', 1), ('UNAMERICAN', 1), ('CIAA', 1), ('PPS', 1), ('COAS', 1), ('KASHMIRI', 1), ('SSSS', 1), ('RCMP', 1), ('ENT', 1), ('CARED', 1), ('APARTHEID', 1), ('FIR', 1), ('CPIM', 1), ('BR', 1), ('WISH', 1), ('LSE', 1), ('PD', 1), ('SUNY', 1), ('CGPA', 1), ('CRS', 1), ('LOST', 1), ('BITCH', 1), ('IVF', 1), ('SPLC', 1), ('CCL', 1), ('PALEASE', 1), ('NSG', 1), ('DINO', 1), ('RP', 1), ('WMW', 1), ('CHOICE', 1), ('WANNA', 1), ('SISTER', 1), ('TELL', 1), ('ISNT', 1), ('WEIRD', 1), ('SAA', 1), ('UCLES', 1), ('ABA', 1), ('SOPHISTICATED', 1), ('INTELLECTUAL', 1), ('SINCERELY', 1), ('FRICK', 1), ('COUSIN', 1), ('HOTTTTTTT', 1), ('CFA', 1), ('WHITENESS', 1), ('APPLIED', 1), ('GERMANS', 1), ('IRISH', 1), ('ITALIANS', 1), ('POLISH', 1), ('ALIEN', 1), ('ATTACK', 1), ('OBVIOUS', 1), ('HYP', 1), ('CHP', 1), ('ROI', 1), ('FOV', 1), ('LEGO', 1), ('MEXICAN', 1), ('CITIZENS', 1), ('FIX', 1), ('TRYING', 1), ('FLEE', 1), ('EN', 1), ('MASSE', 1), ('FOUR', 1), ('INNOCENT', 1), ('GRE', 1), ('ODD', 1), ('UBI', 1), ('TOPPERS', 1), ('ADV', 1), ('RMB', 1), ('BRILLIANT', 1), ('AWE', 1), ('INSPIRING', 1), ('IMPERIALIST', 1), ('EVIL', 1), ('UNDYING', 1), ('DOUCHEBAGGERY', 1), ('XLRI', 1), ('TTV', 1), ('WOMAN', 1), ('PINK', 1), ('DILDO', 1), ('WITHIN', 1), ('YESSS', 1), ('CLINTONS', 1), ('ACC', 1), ('AE', 1), ('KIA', 1), ('OTH', 1), ('OLX', 1), ('GVL', 1), ('DHL', 1), ('CANADA', 1), ('IELTS', 1), ('ENGLISH', 1), ('THOT', 1), ('SHOCKED', 1), ('IX', 1), ('FOB', 1), ('PAK', 1), ('NAFTA', 1), ('BIOS', 1), ('KY', 1), ('NINE', 1), ('MOTUS', 1), ('IVC', 1), ('LGBTQIAPK', 1), ('BI', 1), ('SEXUAL', 1), ('LV', 1), ('COMEDK', 1), ('STATUS', 1), ('BSA', 1), ('MUST', 1), ('AWOL', 1), ('DL', 1), ('OS', 1), ('MKULTRA', 1), ('IPR', 1), ('TQ', 1), ('APESHIT', 1), ('IFFI', 1), ('ARM', 1), ('SURGERY', 1), ('PASSING', 1), ('EMRERGENCY', 1), ('PROCEDERS', 1), ('LOCKED', 1), ('UNRWA', 1), ('QUORANS', 1), ('MAIN', 1), ('OECD', 1), ('CPR', 1), ('GT', 1), ('CAFE', 1), ('RACER', 1), ('IPC', 1), ('CJ', 1), ('AIDMK', 1), ('CSGO', 1), ('QUESTIONHING', 1), ('QUESTIONING', 1), ('PROSECUTING', 1), ('ANTIWHITE', 1), ('BK', 1), ('OT', 1), ('HBCU', 1), ('KOTA', 1), ('VXL', 1), ('BOSTON', 1), ('UNBOMBING', 1), ('PG', 1), ('UG', 1), ('FOSIS', 1), ('SPI', 1), ('UDA', 1), ('FN', 1), ('UNEDUCATED', 1), ('NITS', 1), ('ROOM', 1), ('HRH', 1), ('LAMBS', 1), ('FORGET', 1), ('FORGIVE', 1), ('QUICK', 1), ('PORK', 1), ('LORD', 1), ('EPLF', 1), ('OOMPA', 1), ('LOOMPAS', 1), ('TBH', 1), ('THREE', 1), ('AHDH', 1), ('NAMBLA', 1), ('XXS', 1), ('JAINS', 1), ('SET', 1), ('FAIL', 1), ('IBM', 1), ('SHTF', 1), ('DIRTY', 1), ('JUDGMENT', 1), ('UCSD', 1), ('DGCA', 1), ('DAESH', 1), ('GES', 1), ('CMU', 1), ('TOWARD', 1), ('ALRIGHT', 1), ('BLUE', 1), ('WHALE', 1), ('IMDB', 1), ('MODI', 1), ('CELEBRATING', 1), ('POT', 1), ('HINDUS', 1), ('OOPS', 1), ('CASUAL', 1), ('EQUALITY', 1), ('DOMINANT', 1), ('ISCON', 1), ('KCET', 1), ('KARGIL', 1), ('WAR', 1), ('WINNER', 1), ('DTP', 1), ('DEMS', 1), ('SINCERE', 1), ('PARTISAN', 1), ('COUP', 1), ('FED', 1), ('ICEE', 1), ('DOUBLED', 1), ('PLUNGED', 1), ('VF', 1), ('INR', 1), ('HOMO', 1), ('MC', 1), ('MONEY', 1), ('CITY', 1), ('TOWNSHIP', 1), ('GOES', 1), ('YEAR', 1), ('MLG', 1), ('ORANGE', 1), ('EPFO', 1), ('WEEKS', 1), ('CV', 1), ('MO', 1), ('FCF', 1), ('FCB', 1), ('BBJC', 1), ('VR', 1), ('RV', 1), ('JAO', 1), ('FEMEN', 1), ('QDOBA', 1), ('LDC', 1), ('SU', 1), ('INMP', 1), ('MBTI', 1), ('BUF', 1), ('INVOLVES', 1), ('GREEN', 1), ('PLASTIC', 1), ('ALOE', 1), ('BOX', 1), ('DIES', 1), ('HG', 1), ('NEA', 1), ('PHP', 1), ('WAY', 1), ('SORT', 1), ('RITE', 1), ('AID', 1), ('MEDICATIONS', 1), ('HIGHER', 1), ('OTHERS', 1), ('ANSWER', 1), ('PUBLIC', 1), ('THESE', 1), ('KNEW', 1), ('SWERE', 1), ('SPENDING', 1), ('PRICE', 1), ('GOUGED', 1), ('JACKED', 1), ('ITV', 1), ('GMB', 1), ('DPP', 1), ('MATRIX', 1), ('LEAVE', 1), ('CYA', 1), ('ZXT', 1), ('FC', 1), ('REMOVED', 1), ('FAR', 1), ('VAR', 1), ('KKL', 1), ('KAFIRUN', 1), ('ROK', 1), ('ASK', 1), ('SHOOTING', 1), ('BROWNS', 1), ('SEVERAL', 1), ('FEET', 1), ('AWAY', 1), ('JAIL', 1), ('TOOK', 1), ('NITES', 1), ('PENETRATE', 1), ('SPLITTING', 1), ('VAGINA', 1), ('WLM', 1), ('ALM', 1), ('REAL', 1), ('GE', 1), ('XD', 1), ('INVENTED', 1), ('SICKULARS', 1), ('PRESSTITUTES', 1), ('FORBIDS', 1), ('NMR', 1), ('RHD', 1), ('ENFORCE', 1), ('VI', 1), ('AFT', 1), ('GODDAMN', 1), ('CK', 1), ('ETHIC', 1), ('FORUM', 1), ('DAMNED', 1), ('MEPS', 1), ('ASVAB', 1), ('SOTY', 1), ('CIPRO', 1), ('ONLIN', 1), ('JRRT', 1), ('MSLSD', 1), ('ADB', 1), ('DH', 1), ('MATTER', 1), ('ARRESTED', 1), ('ONS', 1), ('DRUMPF', 1), ('FATCA', 1), ('GILF', 1), ('HOW', 1), ('MURDERS', 1), ('STOPPED', 1), ('TEARING', 1), ('CONFEDERATE', 1), ('STATUE', 1), ('FEEL', 1), ('GOODISM', 1), ('LOSER', 1), ('UNDERSERVED', 1), ('DSLR', 1), ('GUILTY', 1), ('SON', 1), ('TATA', 1), ('PFT', 1), ('HINDUISM', 1), ('EAD', 1), ('NERF', 1), ('MICROWAVE', 1), ('TRUSTER', 1), ('ICU', 1), ('APPLIES', 1), ('RBF', 1), ('AV', 1), ('PAAS', 1), ('SICSR', 1), ('KLM', 1), ('YS', 1), ('YET', 1), ('SCD', 1), ('CLEAN', 1), ('WHCD', 1), ('TEC', 1), ('CULTURAL', 1), ('BDB', 1), ('BARACK', 1), ('ARCHITECHT', 1), ('AA', 1), ('IRCC', 1), ('UE', 1), ('AOA', 1), ('CHILDISH', 1), ('RANTS', 1), ('BENEFICIAL', 1), ('BLOWING', 1), ('STEAM', 1), ('ELECTION', 1), ('LOSS', 1), ('SRCC', 1), ('NOAA', 1), ('LM', 1), ('ABSENTEE', 1), ('BALLOTS', 1), ('MLB', 1), ('EEOC', 1), ('BAS', 1), ('KEK', 1), ('PERFECTLY', 1), ('FIGHT', 1), ('PRECISELY', 1), ('HALVED', 1), ('MDD', 1), ('ZERO', 1), ('USHMM', 1), ('BCE', 1), ('XII', 1), ('AMC', 1), ('FAA', 1), ('XIX', 1), ('GUILT', 1), ('LDR', 1), ('FACT', 1), ('DEVIL', 1), ('SFO', 1), ('JAPANESE', 1), ('OBSESSION', 1), ('STI', 1), ('HBO', 1), ('SHITTING', 1), ('BRITCHES', 1), ('HILLARY', 1), ('ELECTED', 1), ('PAKKA', 1), ('MUSALMAN', 1), ('BING', 1), ('UPSIDE', 1), ('COMMENT', 1), ('CONSIDER', 1), ('DONE', 1), ('EITHER', 1), ('REINSTATED', 1), ('MAGISTRATE', 1), ('STUPIDITY', 1)]\n"
     ]
    }
   ],
   "source": [
    "print(UpperList_1)"
   ]
  },
  {
   "cell_type": "code",
   "execution_count": 67,
   "metadata": {},
   "outputs": [
    {
     "data": {
      "text/plain": [
       "445"
      ]
     },
     "execution_count": 67,
     "metadata": {},
     "output_type": "execute_result"
    }
   ],
   "source": [
    "UpperDic_0[\"ISIS\"]"
   ]
  },
  {
   "cell_type": "markdown",
   "metadata": {},
   "source": [
    "## Split a test dataset for model selection"
   ]
  },
  {
   "cell_type": "code",
   "execution_count": 11,
   "metadata": {},
   "outputs": [],
   "source": [
    "# 20% for test\n",
    "from sklearn.model_selection import train_test_split\n",
    "random.seed(1)\n",
    "s = random.sample(range(raw_data.shape[0]), 500)\n",
    "raw_data = raw_data.iloc[s, :]\n",
    "train, val = train_test_split(raw_data, test_size=0.2, random_state=1, stratify=raw_data[\"target\"])"
   ]
  },
  {
   "cell_type": "code",
   "execution_count": 12,
   "metadata": {},
   "outputs": [
    {
     "data": {
      "text/plain": [
       "(400, 3)"
      ]
     },
     "execution_count": 12,
     "metadata": {},
     "output_type": "execute_result"
    }
   ],
   "source": [
    "train.shape"
   ]
  },
  {
   "cell_type": "code",
   "execution_count": 13,
   "metadata": {},
   "outputs": [
    {
     "data": {
      "text/plain": [
       "(100, 3)"
      ]
     },
     "execution_count": 13,
     "metadata": {},
     "output_type": "execute_result"
    }
   ],
   "source": [
    "val.shape"
   ]
  },
  {
   "cell_type": "code",
   "execution_count": 14,
   "metadata": {},
   "outputs": [
    {
     "data": {
      "text/plain": [
       "0    374\n",
       "1    26 \n",
       "Name: target, dtype: int64"
      ]
     },
     "execution_count": 14,
     "metadata": {},
     "output_type": "execute_result"
    }
   ],
   "source": [
    "train[\"target\"].value_counts()"
   ]
  },
  {
   "cell_type": "code",
   "execution_count": 15,
   "metadata": {},
   "outputs": [
    {
     "data": {
      "text/plain": [
       "0    94\n",
       "1    6 \n",
       "Name: target, dtype: int64"
      ]
     },
     "execution_count": 15,
     "metadata": {},
     "output_type": "execute_result"
    }
   ],
   "source": [
    "val[\"target\"].value_counts()"
   ]
  },
  {
   "cell_type": "code",
   "execution_count": 16,
   "metadata": {},
   "outputs": [],
   "source": [
    "val.to_csv(path_or_buf=\"~/Documents/CS548KDD/project5/val.csv\", index=False)"
   ]
  },
  {
   "cell_type": "code",
   "execution_count": 17,
   "metadata": {},
   "outputs": [],
   "source": [
    "train.to_csv(path_or_buf=\"~/Documents/CS548KDD/project5/train1.csv\", index=False)"
   ]
  },
  {
   "cell_type": "code",
   "execution_count": 18,
   "metadata": {},
   "outputs": [
    {
     "data": {
      "text/plain": [
       "0    245063\n",
       "1    16162 \n",
       "Name: target, dtype: int64"
      ]
     },
     "execution_count": 18,
     "metadata": {},
     "output_type": "execute_result"
    }
   ],
   "source": []
  },
  {
   "cell_type": "code",
   "execution_count": 58,
   "metadata": {},
   "outputs": [
    {
     "data": {
      "text/plain": [
       "52.5"
      ]
     },
     "execution_count": 58,
     "metadata": {},
     "output_type": "execute_result"
    }
   ],
   "source": [
    "1050000*0.00005"
   ]
  },
  {
   "cell_type": "code",
   "execution_count": 23,
   "metadata": {},
   "outputs": [
    {
     "name": "stdout",
     "output_type": "stream",
     "text": [
      "['i', 'me', 'my', 'myself', 'we', 'our', 'ours', 'ourselves', 'you', \"you're\", \"you've\", \"you'll\", \"you'd\", 'your', 'yours', 'yourself', 'yourselves', 'he', 'him', 'his', 'himself', 'she', \"she's\", 'her', 'hers', 'herself', 'it', \"it's\", 'its', 'itself', 'they', 'them', 'their', 'theirs', 'themselves', 'what', 'which', 'who', 'whom', 'this', 'that', \"that'll\", 'these', 'those', 'am', 'is', 'are', 'was', 'were', 'be', 'been', 'being', 'have', 'has', 'had', 'having', 'do', 'does', 'did', 'doing', 'a', 'an', 'the', 'and', 'but', 'if', 'or', 'because', 'as', 'until', 'while', 'of', 'at', 'by', 'for', 'with', 'about', 'against', 'between', 'into', 'through', 'during', 'before', 'after', 'above', 'below', 'to', 'from', 'up', 'down', 'in', 'out', 'on', 'off', 'over', 'under', 'again', 'further', 'then', 'once', 'here', 'there', 'when', 'where', 'why', 'how', 'all', 'any', 'both', 'each', 'few', 'more', 'most', 'other', 'some', 'such', 'no', 'nor', 'not', 'only', 'own', 'same', 'so', 'than', 'too', 'very', 's', 't', 'can', 'will', 'just', 'don', \"don't\", 'should', \"should've\", 'now', 'd', 'll', 'm', 'o', 're', 've', 'y', 'ain', 'aren', \"aren't\", 'couldn', \"couldn't\", 'didn', \"didn't\", 'doesn', \"doesn't\", 'hadn', \"hadn't\", 'hasn', \"hasn't\", 'haven', \"haven't\", 'isn', \"isn't\", 'ma', 'mightn', \"mightn't\", 'mustn', \"mustn't\", 'needn', \"needn't\", 'shan', \"shan't\", 'shouldn', \"shouldn't\", 'wasn', \"wasn't\", 'weren', \"weren't\", 'won', \"won't\", 'wouldn', \"wouldn't\"]\n"
     ]
    }
   ],
   "source": [
    "sw = stopwords.words(\"english\")\n",
    "print(sw)"
   ]
  },
  {
   "cell_type": "code",
   "execution_count": 47,
   "metadata": {},
   "outputs": [
    {
     "data": {
      "text/plain": [
       "['I', \"haven't\", 'been', \"there're\", 'his', 'yours', 's', '']"
      ]
     },
     "execution_count": 47,
     "metadata": {},
     "output_type": "execute_result"
    }
   ],
   "source": [
    "a = \"I haven't been there're his yours.  s??\"\n",
    "re.split(r'[\\s,.?]+', a)"
   ]
  },
  {
   "cell_type": "code",
   "execution_count": 46,
   "metadata": {},
   "outputs": [
    {
     "data": {
      "text/plain": [
       "['I', \"there're\", '']"
      ]
     },
     "execution_count": 46,
     "metadata": {},
     "output_type": "execute_result"
    }
   ],
   "source": [
    "[word for word in re.split(r'[\\s,.?]+', a) if word not in sw]"
   ]
  },
  {
   "cell_type": "code",
   "execution_count": 50,
   "metadata": {},
   "outputs": [
    {
     "data": {
      "text/plain": [
       "'fsf sfsf sf sf, fsfs '"
      ]
     },
     "execution_count": 50,
     "metadata": {},
     "output_type": "execute_result"
    }
   ],
   "source": [
    "b = \"fsf2313 sfsf2 sf2 212sf, fs2fs 23\"\n",
    "re.sub(r'\\d', '', b)"
   ]
  },
  {
   "cell_type": "code",
   "execution_count": null,
   "metadata": {},
   "outputs": [],
   "source": []
  },
  {
   "cell_type": "code",
   "execution_count": null,
   "metadata": {},
   "outputs": [],
   "source": []
  },
  {
   "cell_type": "code",
   "execution_count": null,
   "metadata": {},
   "outputs": [],
   "source": []
  },
  {
   "cell_type": "code",
   "execution_count": 5,
   "metadata": {},
   "outputs": [],
   "source": [
    "# remove qid and resample unblanced data\n",
    "raw_data = raw_data[[\"question_text\", \"target\"]]\n",
    "# undersampling\n",
    "sampler = RandomUnderSampler(random_state=1)\n",
    "X, y = sampler.fit_resample(raw_data.loc[:, raw_data.columns != \"target\"], raw_data[\"target\"])"
   ]
  },
  {
   "cell_type": "code",
   "execution_count": 8,
   "metadata": {},
   "outputs": [
    {
     "data": {
      "text/plain": [
       "(161620, 1)"
      ]
     },
     "execution_count": 8,
     "metadata": {},
     "output_type": "execute_result"
    }
   ],
   "source": [
    "X.shape"
   ]
  },
  {
   "cell_type": "code",
   "execution_count": 10,
   "metadata": {},
   "outputs": [
    {
     "name": "stdout",
     "output_type": "stream",
     "text": [
      "(array([0, 1]), array([80810, 80810]))\n"
     ]
    }
   ],
   "source": [
    "print(np.unique(y, return_counts=True))"
   ]
  },
  {
   "cell_type": "code",
   "execution_count": 44,
   "metadata": {
    "scrolled": true
   },
   "outputs": [],
   "source": [
    "\n",
    "df = pd.DataFrame(data=X[:,], columns=[\"question\"], copy=True)\n",
    "df[\"target\"] = y"
   ]
  },
  {
   "cell_type": "markdown",
   "metadata": {},
   "source": [
    "## Explore data"
   ]
  },
  {
   "cell_type": "code",
   "execution_count": 14,
   "metadata": {},
   "outputs": [],
   "source": [
    "# how many rows contain \"**\"\n",
    "def find_mark(text):\n",
    "    match = re.search(r'\\*+', text)\n",
    "#     match = re.search(r'\\*{2,}', text)\n",
    "    a = 0\n",
    "    if(match):\n",
    "        a = 1\n",
    "    return a\n",
    "df[\"contain *\"] = df[\"question\"].apply(find_mark)"
   ]
  },
  {
   "cell_type": "code",
   "execution_count": 15,
   "metadata": {
    "scrolled": true
   },
   "outputs": [
    {
     "data": {
      "text/plain": [
       "1    136\n",
       "0    39 \n",
       "Name: target, dtype: int64"
      ]
     },
     "execution_count": 15,
     "metadata": {},
     "output_type": "execute_result"
    }
   ],
   "source": [
    "df[df[\"contain *\"]==1][\"target\"].value_counts()"
   ]
  },
  {
   "cell_type": "code",
   "execution_count": 85,
   "metadata": {},
   "outputs": [
    {
     "data": {
      "text/plain": [
       "175"
      ]
     },
     "execution_count": 85,
     "metadata": {},
     "output_type": "execute_result"
    }
   ],
   "source": [
    "sum(df[\"contain *\"])\n",
    "# 57 questions contain more than 2 \"*\"s, and 55 are insane questions\n",
    "# when a sentence contains more than 2 \"*\"s, it is most likely to be a insane question"
   ]
  },
  {
   "cell_type": "code",
   "execution_count": null,
   "metadata": {},
   "outputs": [],
   "source": [
    "# The result indicates that we can remove * without missing too much information"
   ]
  },
  {
   "cell_type": "markdown",
   "metadata": {},
   "source": [
    "## Test on  small set of data"
   ]
  },
  {
   "cell_type": "code",
   "execution_count": 59,
   "metadata": {},
   "outputs": [
    {
     "ename": "NameError",
     "evalue": "name 'df' is not defined",
     "output_type": "error",
     "traceback": [
      "\u001b[0;31m---------------------------------------------------------------------------\u001b[0m",
      "\u001b[0;31mNameError\u001b[0m                                 Traceback (most recent call last)",
      "\u001b[0;32m<ipython-input-59-46d6c00c3546>\u001b[0m in \u001b[0;36m<module>\u001b[0;34m\u001b[0m\n\u001b[1;32m      1\u001b[0m \u001b[0;31m# randomly select 10,000 data\u001b[0m\u001b[0;34m\u001b[0m\u001b[0;34m\u001b[0m\u001b[0;34m\u001b[0m\u001b[0m\n\u001b[1;32m      2\u001b[0m \u001b[0mrandom\u001b[0m\u001b[0;34m.\u001b[0m\u001b[0mseed\u001b[0m\u001b[0;34m(\u001b[0m\u001b[0;36m1\u001b[0m\u001b[0;34m)\u001b[0m\u001b[0;34m\u001b[0m\u001b[0;34m\u001b[0m\u001b[0m\n\u001b[0;32m----> 3\u001b[0;31m \u001b[0ms\u001b[0m \u001b[0;34m=\u001b[0m \u001b[0mrandom\u001b[0m\u001b[0;34m.\u001b[0m\u001b[0msample\u001b[0m\u001b[0;34m(\u001b[0m\u001b[0mrange\u001b[0m\u001b[0;34m(\u001b[0m\u001b[0mdf\u001b[0m\u001b[0;34m.\u001b[0m\u001b[0mshape\u001b[0m\u001b[0;34m[\u001b[0m\u001b[0;36m0\u001b[0m\u001b[0;34m]\u001b[0m\u001b[0;34m)\u001b[0m\u001b[0;34m,\u001b[0m \u001b[0;36m1000\u001b[0m\u001b[0;34m)\u001b[0m\u001b[0;34m\u001b[0m\u001b[0;34m\u001b[0m\u001b[0m\n\u001b[0m\u001b[1;32m      4\u001b[0m \u001b[0mdf_s\u001b[0m \u001b[0;34m=\u001b[0m \u001b[0mdf\u001b[0m\u001b[0;34m.\u001b[0m\u001b[0miloc\u001b[0m\u001b[0;34m[\u001b[0m\u001b[0ms\u001b[0m\u001b[0;34m,\u001b[0m \u001b[0;34m:\u001b[0m\u001b[0;34m]\u001b[0m\u001b[0;34m\u001b[0m\u001b[0;34m\u001b[0m\u001b[0m\n",
      "\u001b[0;31mNameError\u001b[0m: name 'df' is not defined"
     ]
    }
   ],
   "source": [
    "# randomly select 10,000 data \n",
    "random.seed(1)\n",
    "s = random.sample(range(df.shape[0]), 1000)\n",
    "df_s = df.iloc[s, :]"
   ]
  },
  {
   "cell_type": "code",
   "execution_count": 290,
   "metadata": {
    "scrolled": true
   },
   "outputs": [
    {
     "name": "stderr",
     "output_type": "stream",
     "text": [
      "/anaconda3/envs/tensorflow_env/lib/python3.6/site-packages/ipykernel_launcher.py:2: SettingWithCopyWarning: \n",
      "A value is trying to be set on a copy of a slice from a DataFrame.\n",
      "Try using .loc[row_indexer,col_indexer] = value instead\n",
      "\n",
      "See the caveats in the documentation: http://pandas.pydata.org/pandas-docs/stable/indexing.html#indexing-view-versus-copy\n",
      "  \n"
     ]
    },
    {
     "data": {
      "text/plain": [
       "1    7\n",
       "0    2\n",
       "Name: target, dtype: int64"
      ]
     },
     "execution_count": 290,
     "metadata": {},
     "output_type": "execute_result"
    }
   ],
   "source": [
    "# how many contain \"*\"\n",
    "df_s[\"contain *\"] = df_s[\"question\"].apply(find_mark)\n",
    "df_s[df_s[\"contain *\"] == 1][\"target\"].value_counts()"
   ]
  },
  {
   "cell_type": "code",
   "execution_count": 291,
   "metadata": {},
   "outputs": [],
   "source": [
    "df_s = df_s.reset_index(drop=True)"
   ]
  },
  {
   "cell_type": "code",
   "execution_count": 292,
   "metadata": {},
   "outputs": [
    {
     "data": {
      "text/plain": [
       "0    5006\n",
       "1    4994\n",
       "Name: target, dtype: int64"
      ]
     },
     "execution_count": 292,
     "metadata": {},
     "output_type": "execute_result"
    }
   ],
   "source": [
    "df_s[\"target\"].value_counts()"
   ]
  },
  {
   "cell_type": "code",
   "execution_count": 293,
   "metadata": {
    "scrolled": true
   },
   "outputs": [],
   "source": [
    "df_s = df_s[[\"question\", \"target\"]]"
   ]
  },
  {
   "cell_type": "code",
   "execution_count": 264,
   "metadata": {},
   "outputs": [
    {
     "data": {
      "text/plain": [
       "(10000, 2)"
      ]
     },
     "execution_count": 264,
     "metadata": {},
     "output_type": "execute_result"
    }
   ],
   "source": [
    "df_s.shape"
   ]
  },
  {
   "cell_type": "code",
   "execution_count": 265,
   "metadata": {},
   "outputs": [
    {
     "data": {
      "text/html": [
       "<div>\n",
       "<style scoped>\n",
       "    .dataframe tbody tr th:only-of-type {\n",
       "        vertical-align: middle;\n",
       "    }\n",
       "\n",
       "    .dataframe tbody tr th {\n",
       "        vertical-align: top;\n",
       "    }\n",
       "\n",
       "    .dataframe thead th {\n",
       "        text-align: right;\n",
       "    }\n",
       "</style>\n",
       "<table border=\"1\" class=\"dataframe\">\n",
       "  <thead>\n",
       "    <tr style=\"text-align: right;\">\n",
       "      <th></th>\n",
       "      <th>question</th>\n",
       "      <th>target</th>\n",
       "    </tr>\n",
       "  </thead>\n",
       "  <tbody>\n",
       "    <tr>\n",
       "      <th>0</th>\n",
       "      <td>What has exactly changed in terms of data entry trends over the years?</td>\n",
       "      <td>0</td>\n",
       "    </tr>\n",
       "    <tr>\n",
       "      <th>1</th>\n",
       "      <td>Why do people say that Italian Football Players/Azzurri are cheaters?</td>\n",
       "      <td>1</td>\n",
       "    </tr>\n",
       "    <tr>\n",
       "      <th>2</th>\n",
       "      <td>What would Japan be like if they never invaded any country?</td>\n",
       "      <td>0</td>\n",
       "    </tr>\n",
       "    <tr>\n",
       "      <th>3</th>\n",
       "      <td>What would happen if everyone who died between the 5th and 15th century came back to life in good health?</td>\n",
       "      <td>0</td>\n",
       "    </tr>\n",
       "    <tr>\n",
       "      <th>4</th>\n",
       "      <td>What are the special techniques in Dialer Service?</td>\n",
       "      <td>0</td>\n",
       "    </tr>\n",
       "  </tbody>\n",
       "</table>\n",
       "</div>"
      ],
      "text/plain": [
       "                                                                                                    question  \\\n",
       "0  What has exactly changed in terms of data entry trends over the years?                                      \n",
       "1  Why do people say that Italian Football Players/Azzurri are cheaters?                                       \n",
       "2  What would Japan be like if they never invaded any country?                                                 \n",
       "3  What would happen if everyone who died between the 5th and 15th century came back to life in good health?   \n",
       "4  What are the special techniques in Dialer Service?                                                          \n",
       "\n",
       "   target  \n",
       "0  0       \n",
       "1  1       \n",
       "2  0       \n",
       "3  0       \n",
       "4  0       "
      ]
     },
     "execution_count": 265,
     "metadata": {},
     "output_type": "execute_result"
    }
   ],
   "source": [
    "df_s.head()"
   ]
  },
  {
   "cell_type": "code",
   "execution_count": 35,
   "metadata": {
    "scrolled": true
   },
   "outputs": [
    {
     "data": {
      "text/html": [
       "<div>\n",
       "<style scoped>\n",
       "    .dataframe tbody tr th:only-of-type {\n",
       "        vertical-align: middle;\n",
       "    }\n",
       "\n",
       "    .dataframe tbody tr th {\n",
       "        vertical-align: top;\n",
       "    }\n",
       "\n",
       "    .dataframe thead th {\n",
       "        text-align: right;\n",
       "    }\n",
       "</style>\n",
       "<table border=\"1\" class=\"dataframe\">\n",
       "  <thead>\n",
       "    <tr style=\"text-align: right;\">\n",
       "      <th></th>\n",
       "      <th>question</th>\n",
       "      <th>target</th>\n",
       "    </tr>\n",
       "  </thead>\n",
       "  <tbody>\n",
       "    <tr>\n",
       "      <th>26</th>\n",
       "      <td>Where do I go if I want to go to Paris?</td>\n",
       "      <td>1</td>\n",
       "    </tr>\n",
       "    <tr>\n",
       "      <th>94</th>\n",
       "      <td>Why is everyone so pretentious on Quora?</td>\n",
       "      <td>1</td>\n",
       "    </tr>\n",
       "    <tr>\n",
       "      <th>214</th>\n",
       "      <td>What are the world’s top 10 tallest buildings in 2017?</td>\n",
       "      <td>1</td>\n",
       "    </tr>\n",
       "    <tr>\n",
       "      <th>241</th>\n",
       "      <td>Why do we need brains?</td>\n",
       "      <td>1</td>\n",
       "    </tr>\n",
       "    <tr>\n",
       "      <th>475</th>\n",
       "      <td>Why do boys ask girls for their phone number in the first conversation itself making it awkward and irritating?</td>\n",
       "      <td>1</td>\n",
       "    </tr>\n",
       "  </tbody>\n",
       "</table>\n",
       "</div>"
      ],
      "text/plain": [
       "                                                                                                            question  \\\n",
       "26   Where do I go if I want to go to Paris?                                                                           \n",
       "94   Why is everyone so pretentious on Quora?                                                                          \n",
       "214  What are the world’s top 10 tallest buildings in 2017?                                                            \n",
       "241  Why do we need brains?                                                                                            \n",
       "475  Why do boys ask girls for their phone number in the first conversation itself making it awkward and irritating?   \n",
       "\n",
       "     target  \n",
       "26   1       \n",
       "94   1       \n",
       "214  1       \n",
       "241  1       \n",
       "475  1       "
      ]
     },
     "execution_count": 35,
     "metadata": {},
     "output_type": "execute_result"
    }
   ],
   "source": [
    "df_s.iloc[[26, 94, 214, 241, 475],]"
   ]
  },
  {
   "cell_type": "code",
   "execution_count": 42,
   "metadata": {},
   "outputs": [
    {
     "data": {
      "text/html": [
       "<div>\n",
       "<style scoped>\n",
       "    .dataframe tbody tr th:only-of-type {\n",
       "        vertical-align: middle;\n",
       "    }\n",
       "\n",
       "    .dataframe tbody tr th {\n",
       "        vertical-align: top;\n",
       "    }\n",
       "\n",
       "    .dataframe thead th {\n",
       "        text-align: right;\n",
       "    }\n",
       "</style>\n",
       "<table border=\"1\" class=\"dataframe\">\n",
       "  <thead>\n",
       "    <tr style=\"text-align: right;\">\n",
       "      <th></th>\n",
       "      <th>question</th>\n",
       "      <th>target</th>\n",
       "    </tr>\n",
       "  </thead>\n",
       "  <tbody>\n",
       "    <tr>\n",
       "      <th>221</th>\n",
       "      <td>What are primary and secondary modeling types used in microbiological modeling?</td>\n",
       "      <td>0</td>\n",
       "    </tr>\n",
       "    <tr>\n",
       "      <th>224</th>\n",
       "      <td>What are some examples of using the API composition pattern in microservices?</td>\n",
       "      <td>0</td>\n",
       "    </tr>\n",
       "    <tr>\n",
       "      <th>226</th>\n",
       "      <td>What is the main cause of air pollution in China?</td>\n",
       "      <td>0</td>\n",
       "    </tr>\n",
       "    <tr>\n",
       "      <th>228</th>\n",
       "      <td>Can single soldiers without dependents (E4) own a home using the VA loan?</td>\n",
       "      <td>0</td>\n",
       "    </tr>\n",
       "    <tr>\n",
       "      <th>230</th>\n",
       "      <td>How do I become a nudist at 14 without my parents knowing?</td>\n",
       "      <td>0</td>\n",
       "    </tr>\n",
       "  </tbody>\n",
       "</table>\n",
       "</div>"
      ],
      "text/plain": [
       "                                                                            question  \\\n",
       "221  What are primary and secondary modeling types used in microbiological modeling?   \n",
       "224  What are some examples of using the API composition pattern in microservices?     \n",
       "226  What is the main cause of air pollution in China?                                 \n",
       "228  Can single soldiers without dependents (E4) own a home using the VA loan?         \n",
       "230  How do I become a nudist at 14 without my parents knowing?                        \n",
       "\n",
       "     target  \n",
       "221  0       \n",
       "224  0       \n",
       "226  0       \n",
       "228  0       \n",
       "230  0       "
      ]
     },
     "execution_count": 42,
     "metadata": {},
     "output_type": "execute_result"
    }
   ],
   "source": [
    "df_s[df_s[\"target\"] == 0][105:110]"
   ]
  },
  {
   "cell_type": "markdown",
   "metadata": {},
   "source": [
    "## Remove irrelative stuff"
   ]
  },
  {
   "cell_type": "code",
   "execution_count": 57,
   "metadata": {},
   "outputs": [],
   "source": [
    "# remvove punctuation except \"*\"\n",
    "def punctuation_remove(text):\n",
    "    return re.sub(r'[^\\w\\s\\*]', '', text)\n",
    "df_s[\"question\"] = df_s[\"question\"].apply(punctuation_remove)"
   ]
  },
  {
   "cell_type": "code",
   "execution_count": 59,
   "metadata": {},
   "outputs": [
    {
     "data": {
      "text/plain": [
       "9"
      ]
     },
     "execution_count": 59,
     "metadata": {},
     "output_type": "execute_result"
    }
   ],
   "source": [
    "# check if function above works\n",
    "df_s[\"contain *\"] = df_s[\"question\"].apply(find_mark)\n",
    "df_s[\"contain *\"].sum()"
   ]
  },
  {
   "cell_type": "code",
   "execution_count": 60,
   "metadata": {
    "scrolled": true
   },
   "outputs": [
    {
     "data": {
      "text/html": [
       "<div>\n",
       "<style scoped>\n",
       "    .dataframe tbody tr th:only-of-type {\n",
       "        vertical-align: middle;\n",
       "    }\n",
       "\n",
       "    .dataframe tbody tr th {\n",
       "        vertical-align: top;\n",
       "    }\n",
       "\n",
       "    .dataframe thead th {\n",
       "        text-align: right;\n",
       "    }\n",
       "</style>\n",
       "<table border=\"1\" class=\"dataframe\">\n",
       "  <thead>\n",
       "    <tr style=\"text-align: right;\">\n",
       "      <th></th>\n",
       "      <th>question</th>\n",
       "      <th>target</th>\n",
       "      <th>contain *</th>\n",
       "    </tr>\n",
       "  </thead>\n",
       "  <tbody>\n",
       "    <tr>\n",
       "      <th>1524</th>\n",
       "      <td>Why are ind*a*s so poor at organizing things</td>\n",
       "      <td>1</td>\n",
       "      <td>1</td>\n",
       "    </tr>\n",
       "    <tr>\n",
       "      <th>1811</th>\n",
       "      <td>Can I get mechanical engineering at IIT Roorkee with gen rank 263*</td>\n",
       "      <td>0</td>\n",
       "      <td>1</td>\n",
       "    </tr>\n",
       "    <tr>\n",
       "      <th>2550</th>\n",
       "      <td>Why do fat women wear yoga pantsleggings dont they realize how **** they look</td>\n",
       "      <td>1</td>\n",
       "      <td>1</td>\n",
       "    </tr>\n",
       "    <tr>\n",
       "      <th>2832</th>\n",
       "      <td>The first days of June Samantha Bee calls Ivanka a feckless c*nt Bill Maher hopes the economy crashes Robert De Niro screams F*ck Trump at the Tony Awards And theyre the ones worried about President Trumps mental heath</td>\n",
       "      <td>1</td>\n",
       "      <td>1</td>\n",
       "    </tr>\n",
       "    <tr>\n",
       "      <th>3558</th>\n",
       "      <td>Why do people ask such seemingly stupid questions in mathematics Scrolling my feed I just saw Whats 11*1 Which is greater 32 62 4 or 94 and of course the person arguing that theres no such thing as division Do they really not know</td>\n",
       "      <td>1</td>\n",
       "      <td>1</td>\n",
       "    </tr>\n",
       "    <tr>\n",
       "      <th>4983</th>\n",
       "      <td>How does pressure P becomes P  curlPcurlX *dX after travelling a short distance dX by curl I meant partial derivative</td>\n",
       "      <td>0</td>\n",
       "      <td>1</td>\n",
       "    </tr>\n",
       "    <tr>\n",
       "      <th>6359</th>\n",
       "      <td>Why is President Trumps *temporary* refugee ban such a bad idea Dont 50 of Americans support it</td>\n",
       "      <td>1</td>\n",
       "      <td>1</td>\n",
       "    </tr>\n",
       "    <tr>\n",
       "      <th>7252</th>\n",
       "      <td>Why does big boobed girls look s**ty I have big ones</td>\n",
       "      <td>1</td>\n",
       "      <td>1</td>\n",
       "    </tr>\n",
       "    <tr>\n",
       "      <th>8654</th>\n",
       "      <td>What would happen if you sent a letter to Donald Trump saying f*** you You deserve to die</td>\n",
       "      <td>1</td>\n",
       "      <td>1</td>\n",
       "    </tr>\n",
       "  </tbody>\n",
       "</table>\n",
       "</div>"
      ],
      "text/plain": [
       "                                                                                                                                                                                                                                    question  \\\n",
       "1524  Why are ind*a*s so poor at organizing things                                                                                                                                                                                             \n",
       "1811  Can I get mechanical engineering at IIT Roorkee with gen rank 263*                                                                                                                                                                       \n",
       "2550  Why do fat women wear yoga pantsleggings dont they realize how **** they look                                                                                                                                                            \n",
       "2832  The first days of June Samantha Bee calls Ivanka a feckless c*nt Bill Maher hopes the economy crashes Robert De Niro screams F*ck Trump at the Tony Awards And theyre the ones worried about President Trumps mental heath               \n",
       "3558  Why do people ask such seemingly stupid questions in mathematics Scrolling my feed I just saw Whats 11*1 Which is greater 32 62 4 or 94 and of course the person arguing that theres no such thing as division Do they really not know   \n",
       "4983  How does pressure P becomes P  curlPcurlX *dX after travelling a short distance dX by curl I meant partial derivative                                                                                                                    \n",
       "6359  Why is President Trumps *temporary* refugee ban such a bad idea Dont 50 of Americans support it                                                                                                                                          \n",
       "7252  Why does big boobed girls look s**ty I have big ones                                                                                                                                                                                     \n",
       "8654  What would happen if you sent a letter to Donald Trump saying f*** you You deserve to die                                                                                                                                                \n",
       "\n",
       "      target  contain *  \n",
       "1524  1       1          \n",
       "1811  0       1          \n",
       "2550  1       1          \n",
       "2832  1       1          \n",
       "3558  1       1          \n",
       "4983  0       1          \n",
       "6359  1       1          \n",
       "7252  1       1          \n",
       "8654  1       1          "
      ]
     },
     "execution_count": 60,
     "metadata": {},
     "output_type": "execute_result"
    }
   ],
   "source": [
    "df_s[df_s[\"contain *\"] == 1]"
   ]
  },
  {
   "cell_type": "code",
   "execution_count": 297,
   "metadata": {},
   "outputs": [],
   "source": [
    "# remvove punctuation\n",
    "def punctuation_remove_all(text):\n",
    "    return re.sub(r'[^\\w\\s]', '', text)\n",
    "df_s[\"question\"] = df_s[\"question\"].apply(punctuation_remove_all)"
   ]
  },
  {
   "cell_type": "code",
   "execution_count": 62,
   "metadata": {},
   "outputs": [
    {
     "data": {
      "text/html": [
       "<div>\n",
       "<style scoped>\n",
       "    .dataframe tbody tr th:only-of-type {\n",
       "        vertical-align: middle;\n",
       "    }\n",
       "\n",
       "    .dataframe tbody tr th {\n",
       "        vertical-align: top;\n",
       "    }\n",
       "\n",
       "    .dataframe thead th {\n",
       "        text-align: right;\n",
       "    }\n",
       "</style>\n",
       "<table border=\"1\" class=\"dataframe\">\n",
       "  <thead>\n",
       "    <tr style=\"text-align: right;\">\n",
       "      <th></th>\n",
       "      <th>question</th>\n",
       "      <th>target</th>\n",
       "      <th>contain *</th>\n",
       "    </tr>\n",
       "  </thead>\n",
       "  <tbody>\n",
       "    <tr>\n",
       "      <th>1524</th>\n",
       "      <td>Why are indas so poor at organizing things</td>\n",
       "      <td>1</td>\n",
       "      <td>1</td>\n",
       "    </tr>\n",
       "    <tr>\n",
       "      <th>1811</th>\n",
       "      <td>Can I get mechanical engineering at IIT Roorkee with gen rank 263</td>\n",
       "      <td>0</td>\n",
       "      <td>1</td>\n",
       "    </tr>\n",
       "    <tr>\n",
       "      <th>2550</th>\n",
       "      <td>Why do fat women wear yoga pantsleggings dont they realize how  they look</td>\n",
       "      <td>1</td>\n",
       "      <td>1</td>\n",
       "    </tr>\n",
       "    <tr>\n",
       "      <th>2832</th>\n",
       "      <td>The first days of June Samantha Bee calls Ivanka a feckless cnt Bill Maher hopes the economy crashes Robert De Niro screams Fck Trump at the Tony Awards And theyre the ones worried about President Trumps mental heath</td>\n",
       "      <td>1</td>\n",
       "      <td>1</td>\n",
       "    </tr>\n",
       "    <tr>\n",
       "      <th>3558</th>\n",
       "      <td>Why do people ask such seemingly stupid questions in mathematics Scrolling my feed I just saw Whats 111 Which is greater 32 62 4 or 94 and of course the person arguing that theres no such thing as division Do they really not know</td>\n",
       "      <td>1</td>\n",
       "      <td>1</td>\n",
       "    </tr>\n",
       "    <tr>\n",
       "      <th>4983</th>\n",
       "      <td>How does pressure P becomes P  curlPcurlX dX after travelling a short distance dX by curl I meant partial derivative</td>\n",
       "      <td>0</td>\n",
       "      <td>1</td>\n",
       "    </tr>\n",
       "    <tr>\n",
       "      <th>6359</th>\n",
       "      <td>Why is President Trumps temporary refugee ban such a bad idea Dont 50 of Americans support it</td>\n",
       "      <td>1</td>\n",
       "      <td>1</td>\n",
       "    </tr>\n",
       "    <tr>\n",
       "      <th>7252</th>\n",
       "      <td>Why does big boobed girls look sty I have big ones</td>\n",
       "      <td>1</td>\n",
       "      <td>1</td>\n",
       "    </tr>\n",
       "    <tr>\n",
       "      <th>8654</th>\n",
       "      <td>What would happen if you sent a letter to Donald Trump saying f you You deserve to die</td>\n",
       "      <td>1</td>\n",
       "      <td>1</td>\n",
       "    </tr>\n",
       "  </tbody>\n",
       "</table>\n",
       "</div>"
      ],
      "text/plain": [
       "                                                                                                                                                                                                                                   question  \\\n",
       "1524  Why are indas so poor at organizing things                                                                                                                                                                                              \n",
       "1811  Can I get mechanical engineering at IIT Roorkee with gen rank 263                                                                                                                                                                       \n",
       "2550  Why do fat women wear yoga pantsleggings dont they realize how  they look                                                                                                                                                               \n",
       "2832  The first days of June Samantha Bee calls Ivanka a feckless cnt Bill Maher hopes the economy crashes Robert De Niro screams Fck Trump at the Tony Awards And theyre the ones worried about President Trumps mental heath                \n",
       "3558  Why do people ask such seemingly stupid questions in mathematics Scrolling my feed I just saw Whats 111 Which is greater 32 62 4 or 94 and of course the person arguing that theres no such thing as division Do they really not know   \n",
       "4983  How does pressure P becomes P  curlPcurlX dX after travelling a short distance dX by curl I meant partial derivative                                                                                                                    \n",
       "6359  Why is President Trumps temporary refugee ban such a bad idea Dont 50 of Americans support it                                                                                                                                           \n",
       "7252  Why does big boobed girls look sty I have big ones                                                                                                                                                                                      \n",
       "8654  What would happen if you sent a letter to Donald Trump saying f you You deserve to die                                                                                                                                                  \n",
       "\n",
       "      target  contain *  \n",
       "1524  1       1          \n",
       "1811  0       1          \n",
       "2550  1       1          \n",
       "2832  1       1          \n",
       "3558  1       1          \n",
       "4983  0       1          \n",
       "6359  1       1          \n",
       "7252  1       1          \n",
       "8654  1       1          "
      ]
     },
     "execution_count": 62,
     "metadata": {},
     "output_type": "execute_result"
    }
   ],
   "source": [
    "df_s[df_s[\"contain *\"] == 1]"
   ]
  },
  {
   "cell_type": "code",
   "execution_count": null,
   "metadata": {},
   "outputs": [],
   "source": []
  },
  {
   "cell_type": "code",
   "execution_count": 194,
   "metadata": {},
   "outputs": [],
   "source": [
    "# find out how many questions contain numbers\n",
    "# how many rows contain numbers\n",
    "def find_number(text):\n",
    "    match = re.search(r'\\d+', text)\n",
    "    a = 0\n",
    "    if(match):\n",
    "        a = 1\n",
    "    return a\n",
    "df_s[\"contain num\"] = df_s[\"question\"].apply(find_number)"
   ]
  },
  {
   "cell_type": "code",
   "execution_count": 195,
   "metadata": {},
   "outputs": [
    {
     "data": {
      "text/plain": [
       "0"
      ]
     },
     "execution_count": 195,
     "metadata": {},
     "output_type": "execute_result"
    }
   ],
   "source": [
    "df_s[\"contain num\"].sum()"
   ]
  },
  {
   "cell_type": "code",
   "execution_count": 253,
   "metadata": {},
   "outputs": [
    {
     "data": {
      "text/html": [
       "<div>\n",
       "<style scoped>\n",
       "    .dataframe tbody tr th:only-of-type {\n",
       "        vertical-align: middle;\n",
       "    }\n",
       "\n",
       "    .dataframe tbody tr th {\n",
       "        vertical-align: top;\n",
       "    }\n",
       "\n",
       "    .dataframe thead th {\n",
       "        text-align: right;\n",
       "    }\n",
       "</style>\n",
       "<table border=\"1\" class=\"dataframe\">\n",
       "  <thead>\n",
       "    <tr style=\"text-align: right;\">\n",
       "      <th></th>\n",
       "      <th>question</th>\n",
       "      <th>target</th>\n",
       "      <th>contain num</th>\n",
       "    </tr>\n",
       "  </thead>\n",
       "  <tbody>\n",
       "  </tbody>\n",
       "</table>\n",
       "</div>"
      ],
      "text/plain": [
       "Empty DataFrame\n",
       "Columns: [question, target, contain num]\n",
       "Index: []"
      ]
     },
     "execution_count": 253,
     "metadata": {},
     "output_type": "execute_result"
    }
   ],
   "source": [
    "df_s[df_s[\"contain num\"] == 1][:10]"
   ]
  },
  {
   "cell_type": "code",
   "execution_count": null,
   "metadata": {},
   "outputs": [],
   "source": []
  },
  {
   "cell_type": "code",
   "execution_count": 298,
   "metadata": {},
   "outputs": [],
   "source": [
    "# remove digit\n",
    "def digit_remove(text):\n",
    "    return re.sub(r'\\d+', '', text)\n",
    "df_s[\"question\"] = df_s[\"question\"].apply(digit_remove)"
   ]
  },
  {
   "cell_type": "code",
   "execution_count": 383,
   "metadata": {},
   "outputs": [],
   "source": [
    "# lowercase words\n",
    "# because stopwords are in lower case\n",
    "def lower_word(text):\n",
    "    return text.lower()\n",
    "df_s[\"question\"] = df_s[\"question\"].apply(lower_word)"
   ]
  },
  {
   "cell_type": "code",
   "execution_count": 299,
   "metadata": {},
   "outputs": [],
   "source": [
    "# remove stopwords\n",
    "sw = stopwords.words(\"english\")\n",
    "def sw_remove(text):\n",
    "    t = \" \".join([word for word in text.split() if word not in sw])\n",
    "    return t\n",
    "df_s[\"question\"] = df_s[\"question\"].apply(sw_remove)"
   ]
  },
  {
   "cell_type": "code",
   "execution_count": 51,
   "metadata": {},
   "outputs": [
    {
     "data": {
      "text/plain": [
       "'he our your'"
      ]
     },
     "execution_count": 51,
     "metadata": {},
     "output_type": "execute_result"
    }
   ],
   "source": [
    "# stem words\n",
    "stemmer = SnowballStemmer(\"english\")\n",
    "def stem_word(text):\n",
    "    t = \" \".join([stemmer.stem(word) for word in text.split()])\n",
    "    return t\n",
    "# df_s[\"question\"] = df_s[\"question\"].apply(stem_word)\n",
    "stem_word(\"he's ours yours\")"
   ]
  },
  {
   "cell_type": "code",
   "execution_count": 230,
   "metadata": {},
   "outputs": [
    {
     "data": {
      "text/html": [
       "<div>\n",
       "<style scoped>\n",
       "    .dataframe tbody tr th:only-of-type {\n",
       "        vertical-align: middle;\n",
       "    }\n",
       "\n",
       "    .dataframe tbody tr th {\n",
       "        vertical-align: top;\n",
       "    }\n",
       "\n",
       "    .dataframe thead th {\n",
       "        text-align: right;\n",
       "    }\n",
       "</style>\n",
       "<table border=\"1\" class=\"dataframe\">\n",
       "  <thead>\n",
       "    <tr style=\"text-align: right;\">\n",
       "      <th></th>\n",
       "      <th>question</th>\n",
       "      <th>target</th>\n",
       "      <th>contain num</th>\n",
       "    </tr>\n",
       "  </thead>\n",
       "  <tbody>\n",
       "    <tr>\n",
       "      <th>0</th>\n",
       "      <td>what exact chang term data entri trend year</td>\n",
       "      <td>0</td>\n",
       "      <td>0</td>\n",
       "    </tr>\n",
       "    <tr>\n",
       "      <th>1</th>\n",
       "      <td>whi peopl say italian footbal playersazzurri cheater</td>\n",
       "      <td>1</td>\n",
       "      <td>0</td>\n",
       "    </tr>\n",
       "    <tr>\n",
       "      <th>2</th>\n",
       "      <td>what would japan like never invad countri</td>\n",
       "      <td>0</td>\n",
       "      <td>0</td>\n",
       "    </tr>\n",
       "    <tr>\n",
       "      <th>3</th>\n",
       "      <td>what would happen everyon die th th centuri came back life good health</td>\n",
       "      <td>0</td>\n",
       "      <td>0</td>\n",
       "    </tr>\n",
       "    <tr>\n",
       "      <th>4</th>\n",
       "      <td>what special techniqu dialer servic</td>\n",
       "      <td>0</td>\n",
       "      <td>0</td>\n",
       "    </tr>\n",
       "  </tbody>\n",
       "</table>\n",
       "</div>"
      ],
      "text/plain": [
       "                                                                 question  \\\n",
       "0  what exact chang term data entri trend year                              \n",
       "1  whi peopl say italian footbal playersazzurri cheater                     \n",
       "2  what would japan like never invad countri                                \n",
       "3  what would happen everyon die th th centuri came back life good health   \n",
       "4  what special techniqu dialer servic                                      \n",
       "\n",
       "   target  contain num  \n",
       "0  0       0            \n",
       "1  1       0            \n",
       "2  0       0            \n",
       "3  0       0            \n",
       "4  0       0            "
      ]
     },
     "execution_count": 230,
     "metadata": {},
     "output_type": "execute_result"
    }
   ],
   "source": [
    "df_s.head()"
   ]
  },
  {
   "cell_type": "markdown",
   "metadata": {},
   "source": [
    "# Encode Text"
   ]
  },
  {
   "cell_type": "markdown",
   "metadata": {},
   "source": [
    "## Bag-of-words (CountVectorizer)"
   ]
  },
  {
   "cell_type": "code",
   "execution_count": 197,
   "metadata": {},
   "outputs": [],
   "source": [
    "# BOW encode sentences\n",
    "# try some max_df, min_df\n",
    "c_vectorizer = CountVectorizer(max_df=0.9, min_df=0.0005, lowercase=False)\n",
    "doc_mat = c_vectorizer.fit_transform(df_s[\"question\"]).toarray()"
   ]
  },
  {
   "cell_type": "code",
   "execution_count": 198,
   "metadata": {},
   "outputs": [
    {
     "data": {
      "text/plain": [
       "(10000, 2841)"
      ]
     },
     "execution_count": 198,
     "metadata": {},
     "output_type": "execute_result"
    }
   ],
   "source": [
    "doc_mat.shape"
   ]
  },
  {
   "cell_type": "code",
   "execution_count": 85,
   "metadata": {},
   "outputs": [],
   "source": [
    "# when considering *, please run this chunk\n",
    "doc_mat = np.append(doc_mat, np.array(df_s[\"contain *\"]).reshape(-1, 1), axis=1)"
   ]
  },
  {
   "cell_type": "code",
   "execution_count": 199,
   "metadata": {},
   "outputs": [
    {
     "data": {
      "text/plain": [
       "(10000, 2841)"
      ]
     },
     "execution_count": 199,
     "metadata": {},
     "output_type": "execute_result"
    }
   ],
   "source": [
    "doc_mat.shape"
   ]
  },
  {
   "cell_type": "code",
   "execution_count": 200,
   "metadata": {},
   "outputs": [],
   "source": [
    "m = c_vectorizer.get_feature_names()"
   ]
  },
  {
   "cell_type": "code",
   "execution_count": 201,
   "metadata": {},
   "outputs": [
    {
     "name": "stdout",
     "output_type": "stream",
     "text": [
      "0\n"
     ]
    }
   ],
   "source": [
    "k = 0\n",
    "for a in m:\n",
    "    if(re.search(r'[0-9]+', a)):\n",
    "        k += 1\n",
    "print(k)"
   ]
  },
  {
   "cell_type": "code",
   "execution_count": null,
   "metadata": {},
   "outputs": [],
   "source": []
  },
  {
   "cell_type": "markdown",
   "metadata": {},
   "source": [
    "## TD-IDF"
   ]
  },
  {
   "cell_type": "code",
   "execution_count": 231,
   "metadata": {},
   "outputs": [],
   "source": [
    "# Tf-IDF encode sentences\n",
    "vec = TfidfVectorizer(max_df=0.9, min_df=0.0005, lowercase=False)\n",
    "doc_mat = vec.fit_transform(df_s[\"question\"]).toarray()"
   ]
  },
  {
   "cell_type": "code",
   "execution_count": null,
   "metadata": {},
   "outputs": [],
   "source": [
    "# when considering *, please run this chunk\n",
    "doc_mat = np.append(doc_mat, np.array(df_s[\"contain *\"]).reshape(-1, 1), axis=1)"
   ]
  },
  {
   "cell_type": "code",
   "execution_count": 232,
   "metadata": {},
   "outputs": [
    {
     "data": {
      "text/plain": [
       "(10000, 2562)"
      ]
     },
     "execution_count": 232,
     "metadata": {},
     "output_type": "execute_result"
    }
   ],
   "source": [
    "doc_mat.shape"
   ]
  },
  {
   "cell_type": "markdown",
   "metadata": {},
   "source": [
    "## Word2Vec use pre-trained data"
   ]
  },
  {
   "cell_type": "code",
   "execution_count": 269,
   "metadata": {},
   "outputs": [],
   "source": [
    "model_w2v = KeyedVectors.load_word2vec_format(\n",
    "    \"./embeddings/GoogleNews-vectors-negative300/GoogleNews-vectors-negative300.bin\", binary=True)"
   ]
  },
  {
   "cell_type": "code",
   "execution_count": 270,
   "metadata": {},
   "outputs": [],
   "source": [
    "# use average \n",
    "def avg_sentence(text):\n",
    "    v = np.zeros(300)\n",
    "    word_ls = text.split()\n",
    "    for word in word_ls:\n",
    "        if word in model_w2v:\n",
    "            v += model_w2v[word]\n",
    "    return v / len(word_ls)"
   ]
  },
  {
   "cell_type": "code",
   "execution_count": 271,
   "metadata": {},
   "outputs": [],
   "source": [
    "doc_mat = np.zeros((10000, 300))\n",
    "for index, row in df_s.iterrows():\n",
    "    doc_mat[index, :] = avg_sentence(row[\"question\"]).reshape(1, -1)"
   ]
  },
  {
   "cell_type": "code",
   "execution_count": null,
   "metadata": {},
   "outputs": [],
   "source": [
    "# when considering *, please run this chunk\n",
    "doc_mat = np.append(doc_mat, np.array(df_s[\"contain *\"]).reshape(-1, 1), axis=1)"
   ]
  },
  {
   "cell_type": "code",
   "execution_count": 5,
   "metadata": {},
   "outputs": [],
   "source": [
    "import io\n",
    "def load_vectors(fname):\n",
    "    fin = io.open(fname, 'r', encoding=\"utf-8\", newline=\"\\n\", errors=\"ignore\")\n",
    "    n, d = map(int, fin.readline().split())\n",
    "    data = {}\n",
    "    for line in fin:\n",
    "        tokens = line.rstrip().split(\" \")\n",
    "        data[tokens[0]] = map(float, tokens[1:])\n",
    "    return data\n",
    "\n",
    "d = load_vectors(\"./embeddings/wiki-news-300d-1M/wiki-news-300d-1M.vec\")"
   ]
  },
  {
   "cell_type": "code",
   "execution_count": 6,
   "metadata": {},
   "outputs": [
    {
     "data": {
      "text/plain": [
       "dict"
      ]
     },
     "execution_count": 6,
     "metadata": {},
     "output_type": "execute_result"
    }
   ],
   "source": [
    "type(d)"
   ]
  },
  {
   "cell_type": "code",
   "execution_count": 7,
   "metadata": {},
   "outputs": [
    {
     "data": {
      "text/plain": [
       "<map at 0x111d2bef0>"
      ]
     },
     "execution_count": 7,
     "metadata": {},
     "output_type": "execute_result"
    }
   ],
   "source": [
    "d[\"i\"]"
   ]
  },
  {
   "cell_type": "code",
   "execution_count": 8,
   "metadata": {},
   "outputs": [],
   "source": [
    "import numpy as np\n",
    "def load_glove(fname):\n",
    "    model = {}\n",
    "    f = open(fname, \"r\")\n",
    "    for line in f:\n",
    "        wv_ls = line.split()\n",
    "        word = \"\".join(wv_ls[:-300])\n",
    "        embeddings = np.array(wv_ls[-300:], dtype=\"float32\")\n",
    "        model[word] = embeddings\n",
    "    return model\n",
    "\n",
    "\n",
    "# with open(\"./embeddings/glove.840B.300d/glove.840B.300d.txt\") as f:\n",
    "#     d = []\n",
    "#     for line in f:\n",
    "#         d.append(line)\n",
    "d = load_glove(\"./embeddings/glove.840B.300d/glove.840B.300d.txt\")"
   ]
  },
  {
   "cell_type": "code",
   "execution_count": 10,
   "metadata": {},
   "outputs": [
    {
     "data": {
      "text/plain": [
       "array([ 1.8733e-01,  4.0595e-01, -5.1174e-01, -5.5482e-01,  3.9716e-02,\n",
       "        1.2887e-01,  4.5137e-01, -5.9149e-01,  1.5591e-01,  1.5137e+00,\n",
       "       -8.7020e-01,  5.0672e-02,  1.5211e-01, -1.9183e-01,  1.1181e-01,\n",
       "        1.2131e-01, -2.7212e-01,  1.6203e+00, -2.4884e-01,  1.4060e-01,\n",
       "        3.3099e-01, -1.8061e-02,  1.5244e-01, -2.6943e-01, -2.7833e-01,\n",
       "       -5.2123e-02, -4.8149e-01, -5.1839e-01,  8.6262e-02,  3.0818e-02,\n",
       "       -2.1253e-01, -1.1378e-01, -2.2384e-01,  1.8262e-01, -3.4541e-01,\n",
       "        8.2611e-02,  1.0024e-01, -7.9550e-02, -8.1721e-01,  6.5621e-03,\n",
       "        8.0134e-02, -3.9976e-01, -6.3131e-02,  3.2260e-01, -3.1625e-02,\n",
       "        4.3056e-01, -2.7270e-01, -7.6020e-02,  1.0293e-01, -8.8653e-02,\n",
       "       -2.9087e-01, -4.7214e-02,  4.6036e-02, -1.7788e-02,  6.4990e-02,\n",
       "        8.8451e-02, -3.1574e-01, -5.8522e-01,  2.2295e-01, -5.2785e-02,\n",
       "       -5.5981e-01, -3.9580e-01, -7.9849e-02, -1.0933e-02, -4.1722e-02,\n",
       "       -5.5576e-01,  8.8707e-02,  1.3710e-01, -2.9873e-03, -2.6256e-02,\n",
       "        7.7330e-02,  3.9199e-01,  3.4507e-01, -8.0130e-02,  3.3451e-01,\n",
       "        2.7063e-01, -2.4544e-02,  7.2576e-02, -1.8120e-01,  2.3693e-01,\n",
       "        3.9977e-01,  4.5012e-01,  2.7179e-02,  2.7400e-01,  1.4791e-01,\n",
       "       -5.8324e-03,  9.5910e-01, -1.0129e+00,  2.0699e-01,  1.8237e-01,\n",
       "       -2.5234e-01, -2.6261e-01, -3.4799e-01, -2.4051e-02,  4.4470e-01,\n",
       "        5.9226e-02,  4.5561e-01,  1.9700e-01, -4.8327e-01,  8.9523e-02,\n",
       "       -2.2373e-01, -1.5654e-01,  2.1578e-01,  1.1673e-01,  8.2006e-02,\n",
       "       -8.0735e-01,  2.3903e-01, -5.1304e-01, -3.3888e-01, -3.1499e-01,\n",
       "       -1.7272e-01, -6.7020e-01,  2.7096e-01, -4.3241e-01,  4.3103e-02,\n",
       "        2.1233e-02,  1.3350e-02, -6.3938e-02, -2.4957e-01, -2.4938e-01,\n",
       "        3.4812e-01, -7.1321e-02,  2.3375e-01, -9.5384e-02,  5.2488e-01,\n",
       "        6.8175e-01, -1.0214e-01, -1.4914e-01, -7.5697e-02,  1.7248e-01,\n",
       "        2.5440e-01,  1.5760e-01, -5.9125e-01,  2.4300e-01,  6.3962e-01,\n",
       "       -9.3280e-02, -2.7914e-01, -6.6262e-02, -6.7170e-02, -4.0929e-01,\n",
       "       -3.0300e+00,  1.8250e-01,  2.0113e-01,  6.0628e-02, -2.4769e-01,\n",
       "        5.5324e-02, -4.9106e-01,  3.1544e-01, -3.4231e-01, -6.3766e-01,\n",
       "       -3.6129e-01, -5.9029e-02,  1.5510e-01,  4.4577e-02,  2.3572e-01,\n",
       "       -1.7095e-01, -2.2749e-01, -2.3184e-02,  2.3868e-01,  2.8170e-02,\n",
       "        4.2965e-01, -1.2458e-01, -3.6972e-02,  2.0061e-01, -3.1405e-01,\n",
       "       -8.5287e-02, -3.3496e-01, -9.7047e-02, -1.4388e-01,  1.1147e-01,\n",
       "       -4.5232e-01, -2.4217e-01, -1.8245e-01, -6.7292e-01,  2.1933e-02,\n",
       "       -5.4816e-02, -4.6508e-01,  4.7767e-01, -2.4752e-01, -1.5790e-01,\n",
       "        1.1817e-01,  5.6851e-02, -4.9151e-01,  1.5496e-01,  1.6425e-02,\n",
       "        4.1650e-02, -3.4990e-01, -1.5979e-01,  3.9705e-01,  2.2963e-01,\n",
       "        2.4688e-01,  1.9567e-02, -2.8802e-01, -6.9983e-01,  3.2744e-01,\n",
       "        1.0833e-01,  2.4945e-01, -7.8653e-01, -6.1379e-02, -3.7359e-01,\n",
       "       -1.1603e-01, -2.4950e-01,  1.0161e-01,  3.3994e-02,  1.5650e-01,\n",
       "        2.1344e-01, -1.1094e-01, -5.7687e-03,  1.7869e-01, -1.0127e-01,\n",
       "       -1.6891e-02,  3.0001e-01, -3.4116e-01, -3.2390e-02,  4.2514e-02,\n",
       "        1.1850e-01, -1.8337e-01, -6.2865e-01, -2.8021e-01,  4.2351e-01,\n",
       "        1.1277e-01,  1.2121e-03,  1.5710e-01, -3.6321e-01, -4.9251e-01,\n",
       "        1.1653e-01,  2.4024e-01,  1.7712e-01,  6.8700e-02, -4.4137e-01,\n",
       "       -2.9877e-01, -1.2071e-02,  2.8325e-01,  1.0668e-01, -1.8859e-01,\n",
       "       -4.1345e-01, -3.4090e-01,  4.7236e-02, -3.8309e-01,  4.3572e-01,\n",
       "        2.4505e-01,  2.7337e-01, -7.3038e-02,  4.2514e-01, -3.2455e-02,\n",
       "       -3.5211e-01,  4.5691e-01,  1.9433e-01, -1.5230e-01,  4.2675e-01,\n",
       "        2.8795e-01, -5.5969e-01, -1.3031e-01,  8.9844e-02,  4.2605e-01,\n",
       "       -1.9632e-01, -7.1989e-02, -8.0189e-02, -3.0425e-01, -4.6190e-01,\n",
       "        2.8178e-01, -9.9872e-02,  3.5097e-01,  1.6123e-01, -3.6548e-02,\n",
       "       -3.6739e-01, -1.9819e-02,  3.2130e-01,  1.7479e-01,  2.5175e-01,\n",
       "       -7.6439e-03, -9.3786e-02, -3.7852e-01,  4.3725e-01,  2.1288e-01,\n",
       "        2.5096e-01, -1.9613e-01, -2.8865e-01, -5.6726e-03,  4.2795e-01,\n",
       "        2.0625e-01, -3.7701e-02, -1.2200e-01, -7.9253e-02, -1.0290e-01,\n",
       "        1.0558e-02,  4.9880e-01,  2.5382e-01,  1.5526e-01,  1.7951e-03,\n",
       "        1.1633e-01,  7.9300e-02, -3.9142e-01, -3.2483e-01,  6.3451e-01,\n",
       "       -1.8910e-01,  5.4050e-02,  1.6495e-01,  1.8757e-01,  5.3874e-01],\n",
       "      dtype=float32)"
      ]
     },
     "execution_count": 10,
     "metadata": {},
     "output_type": "execute_result"
    }
   ],
   "source": [
    "d[\"i\"]"
   ]
  },
  {
   "cell_type": "code",
   "execution_count": 1,
   "metadata": {},
   "outputs": [],
   "source": [
    "p = []\n",
    "with open(\"./embeddings/paragram_300_sl999/paragram_300_sl999.txt\", 'rb') as f:\n",
    "    for line in f:\n",
    "        p.append(line)"
   ]
  },
  {
   "cell_type": "code",
   "execution_count": 5,
   "metadata": {},
   "outputs": [
    {
     "data": {
      "text/plain": [
       "[b'both',\n",
       " b'0.0530177342553',\n",
       " b'0.0192004575339',\n",
       " b'-0.617869694931',\n",
       " b'-0.100963766833',\n",
       " b'0.597887559812',\n",
       " b'-0.000657082215663',\n",
       " b'-0.106810133658',\n",
       " b'-0.583829581767',\n",
       " b'0.221955002123',\n",
       " b'2.35238860728',\n",
       " b'-0.0716129387945',\n",
       " b'0.462134724661',\n",
       " b'0.429236338223',\n",
       " b'-0.396457335565',\n",
       " b'0.0861289057046',\n",
       " b'0.121516466468',\n",
       " b'-0.0658045042025',\n",
       " b'1.439977497',\n",
       " b'-0.908099429974',\n",
       " b'-0.124203897772',\n",
       " b'-0.646132569589',\n",
       " b'-0.0954488506702',\n",
       " b'-0.453316526142',\n",
       " b'0.158391038721',\n",
       " b'0.0694987142862',\n",
       " b'-0.00138606492339',\n",
       " b'-0.35656672064',\n",
       " b'0.229827856381',\n",
       " b'0.549165626331',\n",
       " b'0.133837413388',\n",
       " b'-0.613212050545',\n",
       " b'0.261809851667',\n",
       " b'0.45898812971',\n",
       " b'0.083232176488',\n",
       " b'-0.353442441689',\n",
       " b'-0.268841752462',\n",
       " b'-0.223317357996',\n",
       " b'-0.231740124196',\n",
       " b'-0.138664609712',\n",
       " b'-0.646449673397',\n",
       " b'-0.431069852649',\n",
       " b'0.620571866686',\n",
       " b'-0.176085168724',\n",
       " b'-0.0314464023638',\n",
       " b'-0.329117895992',\n",
       " b'-0.130911759861',\n",
       " b'-0.262993198454',\n",
       " b'0.30881071948',\n",
       " b'0.224890884057',\n",
       " b'0.0363068739461',\n",
       " b'0.0674381396481',\n",
       " b'-0.0641233985897',\n",
       " b'0.17015037773',\n",
       " b'0.152500265985',\n",
       " b'0.0108381387258',\n",
       " b'0.439889860252',\n",
       " b'-0.0530953720884',\n",
       " b'-0.028197530083',\n",
       " b'-0.0704694322037',\n",
       " b'-0.0444186583741',\n",
       " b'-0.179006821943',\n",
       " b'-0.346389179867',\n",
       " b'0.268640475363',\n",
       " b'0.35220674491',\n",
       " b'-0.18613177801',\n",
       " b'-0.0677873363916',\n",
       " b'0.165405784072',\n",
       " b'-0.2245964746',\n",
       " b'0.379079006855',\n",
       " b'0.329246843496',\n",
       " b'0.111147860271',\n",
       " b'0.14677451655',\n",
       " b'0.201366457232',\n",
       " b'-0.22491006206',\n",
       " b'-0.176356914994',\n",
       " b'-0.061811764163',\n",
       " b'-0.0354706334726',\n",
       " b'-0.456323328815',\n",
       " b'0.21337630147',\n",
       " b'0.143863207314',\n",
       " b'0.10427470237',\n",
       " b'-0.126073084772',\n",
       " b'-0.359998944011',\n",
       " b'-0.0427958381841',\n",
       " b'0.663665961959',\n",
       " b'-0.117644761205',\n",
       " b'-0.30084119439',\n",
       " b'-0.619889533257',\n",
       " b'0.0161628387967',\n",
       " b'-0.00937071518304',\n",
       " b'-0.635743491999',\n",
       " b'0.257784974312',\n",
       " b'0.550631565886',\n",
       " b'0.0723885107188',\n",
       " b'-0.183840714812',\n",
       " b'-0.13919846087',\n",
       " b'0.320090629813',\n",
       " b'-0.0496114041812',\n",
       " b'-0.0954507284795',\n",
       " b'0.514190848518',\n",
       " b'0.0711415717175',\n",
       " b'0.215751660999',\n",
       " b'-0.486367388757',\n",
       " b'-0.00221737080316',\n",
       " b'0.650675955297',\n",
       " b'-0.245102937003',\n",
       " b'-0.159422903282',\n",
       " b'0.308398928261',\n",
       " b'0.322721387781',\n",
       " b'0.116163564597',\n",
       " b'-0.00991990481509',\n",
       " b'-0.850180780155',\n",
       " b'0.0919466770918',\n",
       " b'0.558161389848',\n",
       " b'0.460566065326',\n",
       " b'-0.262262587485',\n",
       " b'-0.165614324149',\n",
       " b'0.46306501863',\n",
       " b'0.0213449124152',\n",
       " b'0.0318681806683',\n",
       " b'-0.056636168812',\n",
       " b'-0.162931291126',\n",
       " b'0.141840928646',\n",
       " b'0.107722538861',\n",
       " b'0.224857802386',\n",
       " b'-0.435212010554',\n",
       " b'0.357830032813',\n",
       " b'-0.351719208316',\n",
       " b'0.182463890119',\n",
       " b'0.0785332696696',\n",
       " b'-0.716488746189',\n",
       " b'0.035228259765',\n",
       " b'0.162378105274',\n",
       " b'-0.370890593613',\n",
       " b'0.156451588576',\n",
       " b'0.0329194298817',\n",
       " b'0.528864308256',\n",
       " b'-0.113481711414',\n",
       " b'0.216794028079',\n",
       " b'-0.29816432938',\n",
       " b'-1.29903683638',\n",
       " b'-0.0762755862597',\n",
       " b'0.664177733151',\n",
       " b'-0.0278515612789',\n",
       " b'-0.173671643217',\n",
       " b'0.614623169486',\n",
       " b'0.0598751547287',\n",
       " b'-0.107823040243',\n",
       " b'-0.359146321696',\n",
       " b'0.00366693109442',\n",
       " b'-0.291321114677',\n",
       " b'0.1763360889',\n",
       " b'0.460804059247',\n",
       " b'0.220150454125',\n",
       " b'0.130195712929',\n",
       " b'0.0573614059463',\n",
       " b'-0.308911614732',\n",
       " b'-0.143923224936',\n",
       " b'-0.356056177472',\n",
       " b'-0.628650683731',\n",
       " b'-0.398114604975',\n",
       " b'-0.00587317130341',\n",
       " b'0.0116595346263',\n",
       " b'-0.217000963608',\n",
       " b'0.220869252065',\n",
       " b'-0.611523033739',\n",
       " b'0.0265272277121',\n",
       " b'0.814709009888',\n",
       " b'0.703197470497',\n",
       " b'0.0724061017811',\n",
       " b'-0.467725975139',\n",
       " b'-0.260156887445',\n",
       " b'-0.487601861531',\n",
       " b'-0.240801487874',\n",
       " b'-0.0390938117434',\n",
       " b'-0.0350571732294',\n",
       " b'-0.234054477185',\n",
       " b'-0.465798048493',\n",
       " b'0.440143812421',\n",
       " b'-0.434109729234',\n",
       " b'-0.0799542394066',\n",
       " b'-0.277683073043',\n",
       " b'-0.28474501082',\n",
       " b'-0.340434408675',\n",
       " b'-0.227460040396',\n",
       " b'0.657298847996',\n",
       " b'-0.0326216214429',\n",
       " b'-0.297003767713',\n",
       " b'0.402885249424',\n",
       " b'0.192479100019',\n",
       " b'0.308453854608',\n",
       " b'0.070240526258',\n",
       " b'-0.291145818324',\n",
       " b'0.549455437337',\n",
       " b'0.267369093531',\n",
       " b'0.301511194302',\n",
       " b'-0.687704043312',\n",
       " b'-0.860228603374',\n",
       " b'-0.226266244114',\n",
       " b'0.637767002182',\n",
       " b'-0.489316738026',\n",
       " b'0.636234650146',\n",
       " b'-0.0630188505646',\n",
       " b'-0.121960163638',\n",
       " b'0.402106915485',\n",
       " b'-0.288534523417',\n",
       " b'0.173982484708',\n",
       " b'0.0961543472777',\n",
       " b'-0.362985410341',\n",
       " b'0.166916513033',\n",
       " b'0.14753599411',\n",
       " b'-0.380696745933',\n",
       " b'-0.46457095603',\n",
       " b'-0.493043700754',\n",
       " b'0.0686705706075',\n",
       " b'-0.0670178714485',\n",
       " b'-0.30475774503',\n",
       " b'0.242404324153',\n",
       " b'-0.537632079939',\n",
       " b'0.36019240641',\n",
       " b'-0.149675474175',\n",
       " b'0.214402919318',\n",
       " b'0.0665561736994',\n",
       " b'-0.13241328179',\n",
       " b'-0.190063377625',\n",
       " b'0.550840766952',\n",
       " b'0.0248810643387',\n",
       " b'0.603855502315',\n",
       " b'0.0465148166863',\n",
       " b'-0.0706892031262',\n",
       " b'-0.674096738056',\n",
       " b'-0.436066231555',\n",
       " b'0.00400402975923',\n",
       " b'0.709821134001',\n",
       " b'-0.245352741233',\n",
       " b'-0.327846888207',\n",
       " b'0.585197073538',\n",
       " b'-0.0226585781664',\n",
       " b'-0.479841737313',\n",
       " b'0.309144894687',\n",
       " b'0.246445175044',\n",
       " b'0.782396988298',\n",
       " b'0.0511338300149',\n",
       " b'0.988633535196',\n",
       " b'0.427994036707',\n",
       " b'-0.601008286307',\n",
       " b'0.27770288953',\n",
       " b'-0.123452141808',\n",
       " b'-0.2372947337',\n",
       " b'0.283551608582',\n",
       " b'0.480823884554',\n",
       " b'-0.399563132588',\n",
       " b'-0.579183516004',\n",
       " b'-0.518665193779',\n",
       " b'-0.307019743244',\n",
       " b'0.57373819229',\n",
       " b'0.00156845217611',\n",
       " b'0.075288029372',\n",
       " b'0.340857349287',\n",
       " b'0.226300972062',\n",
       " b'0.36185351542',\n",
       " b'0.012948106949',\n",
       " b'-0.42684222248',\n",
       " b'-0.252445440272',\n",
       " b'0.137967328867',\n",
       " b'0.27126871826',\n",
       " b'-0.0271657847624',\n",
       " b'0.0938805553967',\n",
       " b'0.227909177491',\n",
       " b'-0.101258116011',\n",
       " b'0.692325990114',\n",
       " b'-0.291484734579',\n",
       " b'0.253404415537',\n",
       " b'0.0382445758104',\n",
       " b'-0.11204644635',\n",
       " b'0.617999620563',\n",
       " b'0.133608954371',\n",
       " b'0.43272129203',\n",
       " b'-0.406523232068',\n",
       " b'0.794677605104',\n",
       " b'0.35810077677',\n",
       " b'-0.125034981355',\n",
       " b'0.0617898797075',\n",
       " b'-0.350532505575',\n",
       " b'0.0197401848075',\n",
       " b'0.0691513145468',\n",
       " b'0.375286166641',\n",
       " b'-0.170589890439',\n",
       " b'0.0575481569612',\n",
       " b'0.0541606979433',\n",
       " b'0.328263560182',\n",
       " b'-0.151869983146',\n",
       " b'-0.0580249008185',\n",
       " b'-0.548861038773',\n",
       " b'0.0396333009129',\n",
       " b'0.15997855671',\n",
       " b'-0.0376078208113',\n",
       " b'-0.565139583374',\n",
       " b'0.721757265963',\n",
       " b'-0.104084648123']"
      ]
     },
     "execution_count": 5,
     "metadata": {},
     "output_type": "execute_result"
    }
   ],
   "source": [
    "p[200].split()"
   ]
  },
  {
   "cell_type": "code",
   "execution_count": 3,
   "metadata": {},
   "outputs": [
    {
     "data": {
      "text/plain": [
       "92.125"
      ]
     },
     "execution_count": 3,
     "metadata": {},
     "output_type": "execute_result"
    }
   ],
   "source": [
    "showcase = 100\n",
    "test = 97 + 89 + 105 + 96 + 96\n",
    "project = 83 + 83 + 100 + 99 + 80\n",
    "presentation = 100 + 90 + 95 + 94 + 80\n",
    "participation = 90\n",
    "test*0.11 + project*0.06 + presentation*0.005 + showcase*0.1 #+ participation*0.025"
   ]
  },
  {
   "cell_type": "code",
   "execution_count": null,
   "metadata": {},
   "outputs": [],
   "source": []
  },
  {
   "cell_type": "markdown",
   "metadata": {},
   "source": [
    "## Explore raw data to look for other possible approaches to encode text"
   ]
  },
  {
   "cell_type": "code",
   "execution_count": 304,
   "metadata": {},
   "outputs": [],
   "source": [
    "# word frequency of each target\n",
    "word_fre_dic_0 = {}\n",
    "word_fre_dic_1 = {}\n",
    "for index, row in df_s.iterrows():\n",
    "    word_ls = row[\"question\"].split()\n",
    "    if(row[\"target\"] == 1):\n",
    "        for word in word_ls:\n",
    "            if(word in word_fre_dic_1):\n",
    "                word_fre_dic_1[word] += 1\n",
    "            else:\n",
    "                word_fre_dic_1[word] = 1\n",
    "    else:\n",
    "        for word in word_ls:\n",
    "            if(word in word_fre_dic_0):\n",
    "                word_fre_dic_0[word] += 1\n",
    "            else:\n",
    "                word_fre_dic_0[word] = 1\n",
    "            \n",
    "# sort\n",
    "sorted_0 = [(key, word_fre_dic_0[key]) for key in word_fre_dic_0]\n",
    "sorted_1 = [(key, word_fre_dic_1[key]) for key in word_fre_dic_1]\n",
    "sorted_0 = sorted(sorted_0, key=lambda x: x[1], reverse=True)\n",
    "sorted_1 = sorted(sorted_1, key=lambda x: x[1], reverse=True)\n"
   ]
  },
  {
   "cell_type": "code",
   "execution_count": 305,
   "metadata": {},
   "outputs": [
    {
     "name": "stdout",
     "output_type": "stream",
     "text": [
      "6993\n",
      "[('presid', 104), ('gay', 104), ('take', 103), ('call', 101), ('much', 101), ('jew', 99), ('can', 99), ('america', 99), ('god', 97), ('true', 96), ('when', 95), ('live', 93), ('look', 93), ('good', 93), ('state', 91), ('donald', 90), ('guy', 90), ('obama', 89), ('realli', 89), ('should', 88), ('woman', 87), ('man', 86), ('becom', 85), ('china', 85), ('know', 83), ('im', 83), ('gun', 82), ('cant', 81), ('ask', 81), ('love', 80), ('see', 79), ('allow', 79), ('time', 78), ('bad', 78), ('ever', 78), ('human', 77), ('consid', 77), ('rape', 77), ('will', 77), ('person', 76), ('still', 76), ('come', 75), ('way', 75), ('islam', 75), ('isnt', 74), ('thing', 74), ('answer', 74), ('sinc', 73), ('children', 73), ('race', 72)]\n"
     ]
    }
   ],
   "source": [
    "print(len(sorted_1))\n",
    "print(sorted_1[50:100])\n"
   ]
  },
  {
   "cell_type": "code",
   "execution_count": 306,
   "metadata": {},
   "outputs": [
    {
     "name": "stdout",
     "output_type": "stream",
     "text": [
      "7485\n",
      "[('what', 1784), ('i', 1194), ('how', 1017), ('whi', 480), ('is', 399), ('get', 315), ('best', 239), ('would', 238), ('like', 234), ('can', 209), ('use', 187), ('peopl', 177), ('good', 169), ('which', 167), ('one', 141), ('do', 129), ('make', 123), ('india', 121), ('if', 120), ('way', 110), ('are', 110), ('time', 109), ('work', 104), ('who', 103), ('differ', 101), ('year', 97), ('life', 96), ('go', 94), ('doe', 93), ('someon', 92), ('think', 91), ('mani', 88), ('take', 84), ('engin', 82), ('feel', 80), ('know', 79), ('person', 79), ('need', 78), ('want', 78), ('ever', 78), ('much', 77), ('univers', 76), ('thing', 76), ('happen', 75), ('start', 75), ('find', 74), ('student', 74), ('day', 73), ('where', 73), ('mean', 73)]\n"
     ]
    }
   ],
   "source": [
    "print(len(sorted_0))\n",
    "print(sorted_0[:50])"
   ]
  },
  {
   "cell_type": "code",
   "execution_count": 402,
   "metadata": {},
   "outputs": [],
   "source": [
    "# get different words of two targets\n",
    "wds_1 = [key for key in word_fre_dic_1]\n",
    "wds_0 = [key for key in word_fre_dic_0]\n",
    "# wds_1.remove(list(set(wds_1).intersection(wds_0)))\n",
    "for word in list(set(wds_1).intersection(wds_0)):\n",
    "    wds_1.remove(word)\n",
    "    wds_0.remove(word)"
   ]
  },
  {
   "cell_type": "code",
   "execution_count": 403,
   "metadata": {},
   "outputs": [
    {
     "name": "stdout",
     "output_type": "stream",
     "text": [
      "3544\n",
      "4046\n"
     ]
    }
   ],
   "source": [
    "print(len(wds_1))\n",
    "print(len(wds_0))"
   ]
  },
  {
   "cell_type": "code",
   "execution_count": 408,
   "metadata": {},
   "outputs": [
    {
     "name": "stdout",
     "output_type": "stream",
     "text": [
      "['playersazzurri', 'crossbre', 'slut', 'progun', 'lobbi', 'ossoff', 'instig', 'underserv', 'hostil', 'gentil', 'ethnic', 'caucasian', 'inferior', 'disapprov', 'hrc', 'discriminatori', 'fetish', 'pari', 'tackl', 'allpow', 'allknow', 'punjabi', 'hindus', 'sikh', 'mud', 'brick', 'flood', 'unintellig', 'ndiqn', 'shamelss']\n",
      "\n",
      "['techniqu', 'dialer', 'risefal', 'recov', 'download', 'chrome', 'architect', 'exhaust', 'charadepattern', 'heartbeat', 'horizont', 'longstand', 'undergradu', 'iona', 'cse', 'mit', 'manip', 'muoet', 'qanta', 'cabin', 'crew', 'devic', 'perchlor', 'goodread', 'applic', 'stapl', 'salient', 'pinkberri', 'ionic', 'crystal']\n"
     ]
    }
   ],
   "source": [
    "print(wds_1[:30])\n",
    "print(\"\")\n",
    "print(wds_0[:30])"
   ]
  },
  {
   "cell_type": "code",
   "execution_count": 411,
   "metadata": {},
   "outputs": [],
   "source": [
    "# a = [\"haha\", \"lol\", \"heihei\"]\n",
    "# def w2d(text):\n",
    "#     wl = text.split()\n",
    "#     for w in wl:\n",
    "#         if(w in a):\n",
    "#             i = a.index(w)\n",
    "#             m[i] += 1\n",
    "Word_list = wds_0 + wds_1"
   ]
  },
  {
   "cell_type": "code",
   "execution_count": 414,
   "metadata": {},
   "outputs": [],
   "source": [
    "doc_mat = np.zeros((10000, len(Word_list)))\n",
    "for index, row in df_s.iterrows():\n",
    "    wl = row[\"question\"].split()\n",
    "    for word in wl:\n",
    "        if(word in Word_list):\n",
    "            doc_mat[index, Word_list.index(word)] += 1"
   ]
  },
  {
   "cell_type": "code",
   "execution_count": 423,
   "metadata": {},
   "outputs": [
    {
     "data": {
      "text/plain": [
       "0.0"
      ]
     },
     "execution_count": 423,
     "metadata": {},
     "output_type": "execute_result"
    }
   ],
   "source": []
  },
  {
   "cell_type": "markdown",
   "metadata": {},
   "source": [
    "## Combine words matrix and target"
   ]
  },
  {
   "cell_type": "code",
   "execution_count": 272,
   "metadata": {},
   "outputs": [],
   "source": [
    "# combine words matrix and target\n",
    "doc_mat = np.append(doc_mat, np.array(df_s[\"target\"]).reshape(-1, 1), axis=1)"
   ]
  },
  {
   "cell_type": "code",
   "execution_count": 273,
   "metadata": {},
   "outputs": [
    {
     "data": {
      "text/plain": [
       "(10000, 301)"
      ]
     },
     "execution_count": 273,
     "metadata": {},
     "output_type": "execute_result"
    }
   ],
   "source": [
    "doc_mat.shape"
   ]
  },
  {
   "cell_type": "markdown",
   "metadata": {},
   "source": [
    "## Split data into training, validation, and testing data set"
   ]
  },
  {
   "cell_type": "code",
   "execution_count": 274,
   "metadata": {
    "scrolled": true
   },
   "outputs": [],
   "source": [
    "random.seed(2)\n",
    "# get test dataset\n",
    "t = random.sample(range(doc_mat.shape[0]), k=int((doc_mat.shape[0])*0.2))\n",
    "test = doc_mat[t, ]\n",
    "mask = np.ones(doc_mat.shape[0], dtype=bool)\n",
    "mask[t] = False\n",
    "train_val = doc_mat[mask, ]\n",
    "# get validation dataset\n",
    "v = random.sample(range(train_val.shape[0]), k=int((train_val.shape[0])*0.2))\n",
    "val = train_val[v, ]\n",
    "mask_1 = np.ones(train_val.shape[0], dtype=bool)\n",
    "mask_1[v] = False\n",
    "train = train_val[mask_1, ]"
   ]
  },
  {
   "cell_type": "code",
   "execution_count": 275,
   "metadata": {},
   "outputs": [
    {
     "name": "stdout",
     "output_type": "stream",
     "text": [
      "(6400, 301)\n",
      "(1600, 301)\n",
      "(2000, 301)\n"
     ]
    }
   ],
   "source": [
    "print(train.shape)\n",
    "print(val.shape)\n",
    "print(test.shape)\n"
   ]
  },
  {
   "cell_type": "code",
   "execution_count": 276,
   "metadata": {
    "scrolled": true
   },
   "outputs": [
    {
     "name": "stdout",
     "output_type": "stream",
     "text": [
      "(array([0., 1.]), array([3158, 3242]))\n",
      "(array([0., 1.]), array([1053,  947]))\n",
      "(array([0., 1.]), array([795, 805]))\n"
     ]
    }
   ],
   "source": [
    "print(np.unique(train[:, -1], return_counts=True))\n",
    "print(np.unique(test[:, -1], return_counts=True))\n",
    "print(np.unique(val[:, -1], return_counts=True))"
   ]
  },
  {
   "cell_type": "markdown",
   "metadata": {},
   "source": [
    "## Decision Tree"
   ]
  },
  {
   "cell_type": "code",
   "execution_count": 247,
   "metadata": {
    "scrolled": true
   },
   "outputs": [
    {
     "data": {
      "text/plain": [
       "DecisionTreeClassifier(class_weight=None, criterion='entropy', max_depth=None,\n",
       "            max_features=None, max_leaf_nodes=None,\n",
       "            min_impurity_decrease=0.0, min_impurity_split=None,\n",
       "            min_samples_leaf=1, min_samples_split=2,\n",
       "            min_weight_fraction_leaf=0.0, presort=False, random_state=2,\n",
       "            splitter='best')"
      ]
     },
     "execution_count": 247,
     "metadata": {},
     "output_type": "execute_result"
    }
   ],
   "source": [
    "tree_clf = DecisionTreeClassifier(criterion=\"entropy\", random_state=2)\n",
    "tree_clf.fit(train_val[:, :train_val.shape[1]-1], train_val[:, -1])"
   ]
  },
  {
   "cell_type": "code",
   "execution_count": 248,
   "metadata": {},
   "outputs": [
    {
     "name": "stdout",
     "output_type": "stream",
     "text": [
      "[[713 210]\n",
      " [234 843]]\n"
     ]
    }
   ],
   "source": [
    "pred = tree_clf.predict(test[:, :test.shape[1]-1])\n",
    "print(confusion_matrix(test[:, -1], pred, labels=[1, 0]).T)"
   ]
  },
  {
   "cell_type": "code",
   "execution_count": 249,
   "metadata": {
    "scrolled": true
   },
   "outputs": [
    {
     "name": "stdout",
     "output_type": "stream",
     "text": [
      "                   pre       rec       spe        f1       geo       iba       sup\n",
      "\n",
      "        0.0       0.78      0.80      0.75      0.79      0.78      0.61      1053\n",
      "        1.0       0.77      0.75      0.80      0.76      0.78      0.60       947\n",
      "\n",
      "avg / total       0.78      0.78      0.78      0.78      0.78      0.60      2000\n",
      "\n"
     ]
    }
   ],
   "source": [
    "print(classification_report_imbalanced(test[:, -1], pred))"
   ]
  },
  {
   "cell_type": "code",
   "execution_count": 250,
   "metadata": {},
   "outputs": [
    {
     "data": {
      "text/plain": [
       "array([2489, 2498, 1088, 2358, 1664, 2021, 2499, 1149, 2527, 1503,  346,\n",
       "       1206,  964, 1322,  966, 2501,  276, 1110,   89, 2539])"
      ]
     },
     "execution_count": 250,
     "metadata": {},
     "output_type": "execute_result"
    }
   ],
   "source": [
    "imp = tree_clf.feature_importances_\n",
    "imp.argsort()[::-1][:20]"
   ]
  },
  {
   "cell_type": "code",
   "execution_count": 251,
   "metadata": {},
   "outputs": [
    {
     "name": "stdout",
     "output_type": "stream",
     "text": [
      "what\n",
      "whi\n",
      "how\n",
      "trump\n",
      "peopl\n",
      "sex\n",
      "which\n",
      "indian\n",
      "women\n",
      "muslim\n",
      "can\n",
      "is\n",
      "get\n",
      "liber\n",
      "girl\n",
      "white\n",
      "black\n",
      "if\n",
      "american\n",
      "would\n"
     ]
    }
   ],
   "source": [
    "# 20 most important words for decision tree\n",
    "# for BOW and TF-IDF\n",
    "# mapper = c_vectorizer.get_feature_names()\n",
    "mapper = vec.get_feature_names()\n",
    "for i in imp.argsort()[::-1][:20]:\n",
    "    print(mapper[i])"
   ]
  },
  {
   "cell_type": "code",
   "execution_count": 238,
   "metadata": {},
   "outputs": [
    {
     "data": {
      "text/plain": [
       "GridSearchCV(cv=5, error_score='raise-deprecating',\n",
       "       estimator=DecisionTreeClassifier(class_weight=None, criterion='entropy', max_depth=None,\n",
       "            max_features=None, max_leaf_nodes=None,\n",
       "            min_impurity_decrease=0.0, min_impurity_split=None,\n",
       "            min_samples_leaf=1, min_samples_split=2,\n",
       "            min_weight_fraction_leaf=0.0, presort=False, random_state=2,\n",
       "            splitter='best'),\n",
       "       fit_params=None, iid='warn', n_jobs=None,\n",
       "       param_grid={'max_depth': [10, 15, 20], 'min_samples_split': [0.05, 0.1, 0.15]},\n",
       "       pre_dispatch='2*n_jobs', refit=True, return_train_score='warn',\n",
       "       scoring='f1', verbose=0)"
      ]
     },
     "execution_count": 238,
     "metadata": {},
     "output_type": "execute_result"
    }
   ],
   "source": [
    "## try GridSearchCV\n",
    "t_clf = DecisionTreeClassifier(criterion=\"entropy\", random_state=2)\n",
    "parameters = {\"max_depth\": [10, 15, 20], \"min_samples_split\": [0.05, 0.1, 0.15]}\n",
    "t_clfs = GridSearchCV(t_clf, parameters, scoring=\"f1\", cv=5, refit=True)\n",
    "t_clfs.fit(train_val[:, :train_val.shape[1]-1], train_val[:, -1])"
   ]
  },
  {
   "cell_type": "code",
   "execution_count": 239,
   "metadata": {},
   "outputs": [
    {
     "data": {
      "text/plain": [
       "array([[615, 142],\n",
       "       [332, 911]])"
      ]
     },
     "execution_count": 239,
     "metadata": {},
     "output_type": "execute_result"
    }
   ],
   "source": [
    "pred_ts = t_clfs.predict(test[:, :test.shape[1]-1])\n",
    "confusion_matrix(test[:, -1], pred_ts, labels=[1, 0]).T"
   ]
  },
  {
   "cell_type": "code",
   "execution_count": 240,
   "metadata": {},
   "outputs": [
    {
     "name": "stdout",
     "output_type": "stream",
     "text": [
      "                   pre       rec       spe        f1       geo       iba       sup\n",
      "\n",
      "        0.0       0.73      0.87      0.65      0.79      0.75      0.57      1053\n",
      "        1.0       0.81      0.65      0.87      0.72      0.75      0.55       947\n",
      "\n",
      "avg / total       0.77      0.76      0.75      0.76      0.75      0.56      2000\n",
      "\n"
     ]
    }
   ],
   "source": [
    "print(classification_report_imbalanced(test[:, -1], pred_ts))"
   ]
  },
  {
   "cell_type": "code",
   "execution_count": null,
   "metadata": {},
   "outputs": [],
   "source": []
  },
  {
   "cell_type": "code",
   "execution_count": 254,
   "metadata": {},
   "outputs": [],
   "source": [
    "# export tree \n",
    "ft = tree_clf.tree_.feature"
   ]
  },
  {
   "cell_type": "code",
   "execution_count": 258,
   "metadata": {},
   "outputs": [],
   "source": [
    "th = tree_clf.tree_.threshold"
   ]
  },
  {
   "cell_type": "code",
   "execution_count": 259,
   "metadata": {},
   "outputs": [
    {
     "data": {
      "text/plain": [
       "array([0.13032014, 0.02801134, 0.14969358, 0.06585556, 0.14210411,\n",
       "       0.11190711, 0.05779069, 0.06949547, 0.0745539 , 0.06554352])"
      ]
     },
     "execution_count": 259,
     "metadata": {},
     "output_type": "execute_result"
    }
   ],
   "source": [
    "th[:10]"
   ]
  },
  {
   "cell_type": "markdown",
   "metadata": {},
   "source": [
    "## Artifacial Neural Network"
   ]
  },
  {
   "cell_type": "code",
   "execution_count": 277,
   "metadata": {},
   "outputs": [],
   "source": [
    "train_target = to_categorical(train[:, -1])\n",
    "val_target = to_categorical(val[:, -1])\n",
    "# test_target = to_categorical(test[:, -1])"
   ]
  },
  {
   "cell_type": "code",
   "execution_count": 278,
   "metadata": {},
   "outputs": [
    {
     "name": "stdout",
     "output_type": "stream",
     "text": [
      "Train on 6400 samples, validate on 1600 samples\n",
      "Epoch 1/20\n",
      "6400/6400 [==============================] - 1s 161us/step - loss: 0.6926 - acc: 0.5189 - val_loss: 0.6882 - val_acc: 0.5513\n",
      "Epoch 2/20\n",
      "6400/6400 [==============================] - 1s 97us/step - loss: 0.6818 - acc: 0.6108 - val_loss: 0.6781 - val_acc: 0.6238\n",
      "Epoch 3/20\n",
      "6400/6400 [==============================] - 1s 100us/step - loss: 0.6712 - acc: 0.6761 - val_loss: 0.6679 - val_acc: 0.7081\n",
      "Epoch 4/20\n",
      "6400/6400 [==============================] - 1s 104us/step - loss: 0.6602 - acc: 0.7548 - val_loss: 0.6571 - val_acc: 0.7669\n",
      "Epoch 5/20\n",
      "6400/6400 [==============================] - 1s 98us/step - loss: 0.6485 - acc: 0.7880 - val_loss: 0.6456 - val_acc: 0.7956\n",
      "Epoch 6/20\n",
      "6400/6400 [==============================] - 1s 104us/step - loss: 0.6359 - acc: 0.8097 - val_loss: 0.6332 - val_acc: 0.8063\n",
      "Epoch 7/20\n",
      "6400/6400 [==============================] - 1s 94us/step - loss: 0.6223 - acc: 0.8220 - val_loss: 0.6196 - val_acc: 0.8187\n",
      "Epoch 8/20\n",
      "6400/6400 [==============================] - 1s 96us/step - loss: 0.6074 - acc: 0.8283 - val_loss: 0.6048 - val_acc: 0.8231\n",
      "Epoch 9/20\n",
      "6400/6400 [==============================] - 1s 107us/step - loss: 0.5914 - acc: 0.8323 - val_loss: 0.5889 - val_acc: 0.8275\n",
      "Epoch 10/20\n",
      "6400/6400 [==============================] - 1s 108us/step - loss: 0.5741 - acc: 0.8353 - val_loss: 0.5721 - val_acc: 0.8287\n",
      "Epoch 11/20\n",
      "6400/6400 [==============================] - 1s 103us/step - loss: 0.5561 - acc: 0.8375 - val_loss: 0.5545 - val_acc: 0.8287\n",
      "Epoch 12/20\n",
      "6400/6400 [==============================] - 1s 98us/step - loss: 0.5374 - acc: 0.8394 - val_loss: 0.5365 - val_acc: 0.8294\n",
      "Epoch 13/20\n",
      "6400/6400 [==============================] - 1s 122us/step - loss: 0.5188 - acc: 0.8394 - val_loss: 0.5186 - val_acc: 0.8331\n",
      "Epoch 14/20\n",
      "6400/6400 [==============================] - 1s 91us/step - loss: 0.5005 - acc: 0.8394 - val_loss: 0.5014 - val_acc: 0.8306\n",
      "Epoch 15/20\n",
      "6400/6400 [==============================] - 1s 101us/step - loss: 0.4830 - acc: 0.8403 - val_loss: 0.4852 - val_acc: 0.8319\n",
      "Epoch 16/20\n",
      "6400/6400 [==============================] - 1s 102us/step - loss: 0.4668 - acc: 0.8427 - val_loss: 0.4707 - val_acc: 0.8269\n",
      "Epoch 17/20\n",
      "6400/6400 [==============================] - 1s 115us/step - loss: 0.4519 - acc: 0.8434 - val_loss: 0.4569 - val_acc: 0.8294\n",
      "Epoch 18/20\n",
      "6400/6400 [==============================] - 1s 105us/step - loss: 0.4387 - acc: 0.8450 - val_loss: 0.4454 - val_acc: 0.8300\n",
      "Epoch 19/20\n",
      "6400/6400 [==============================] - 1s 113us/step - loss: 0.4270 - acc: 0.8458 - val_loss: 0.4350 - val_acc: 0.8313\n",
      "Epoch 20/20\n",
      "6400/6400 [==============================] - 1s 94us/step - loss: 0.4167 - acc: 0.8467 - val_loss: 0.4266 - val_acc: 0.8263\n"
     ]
    }
   ],
   "source": [
    "# random.seed(3)\n",
    "random.seed(5)\n",
    "\n",
    "model = Sequential()\n",
    "model.add(Dense(1000, input_shape=(train.shape[1]-1, ), kernel_initializer='random_normal'))\n",
    "model.add(Activation(\"relu\"))\n",
    "model.add(Dense(500, activation=\"relu\", kernel_initializer=\"random_normal\"))\n",
    "# model.add(Dense(100, activation=\"relu\", kernel_initializer=\"random_normal\", bias_initializer=\"random_normal\"))\n",
    "model.add(Dense(2, kernel_initializer='random_normal')) # last layer\n",
    "model.add(Activation('softmax'))\n",
    "# Compile Model\n",
    "model.compile(optimizer='sgd',\n",
    "              loss='categorical_crossentropy', \n",
    "              metrics=['accuracy'])\n",
    "history = model.fit(train[:, :train.shape[1]-1], train_target, \n",
    "                    validation_data = (val[:, :val.shape[1]-1], val_target), \n",
    "                    epochs=20, \n",
    "                    batch_size=128)"
   ]
  },
  {
   "cell_type": "code",
   "execution_count": 279,
   "metadata": {},
   "outputs": [],
   "source": [
    "def plot_acc(hist):\n",
    "    fig, ax = plt.subplots(1, 1)\n",
    "    ax.plot(hist.history[\"acc\"], color=\"b\", label=\"Training Accuracy\")\n",
    "    ax.plot(hist.history[\"val_acc\"], color=\"r\", label=\"Validation Accuracy\")\n",
    "    legend = ax.legend(loc=\"best\", shadow=True)\n",
    "    plt.show()"
   ]
  },
  {
   "cell_type": "code",
   "execution_count": 280,
   "metadata": {},
   "outputs": [
    {
     "data": {
      "image/png": "[encoded data removed]",
      "text/plain": [
       "<Figure size 432x288 with 1 Axes>"
      ]
     },
     "metadata": {
      "needs_background": "light"
     },
     "output_type": "display_data"
    }
   ],
   "source": [
    "plot_acc(history)"
   ]
  },
  {
   "cell_type": "code",
   "execution_count": 281,
   "metadata": {},
   "outputs": [
    {
     "data": {
      "text/plain": [
       "array([[791, 163],\n",
       "       [156, 890]])"
      ]
     },
     "execution_count": 281,
     "metadata": {},
     "output_type": "execute_result"
    }
   ],
   "source": [
    "pred_nn = model.predict(test[:, :test.shape[1]-1])\n",
    "confusion_matrix(test[:, -1], np.argmax(pred_nn, axis=1), labels=[1, 0]).T"
   ]
  },
  {
   "cell_type": "code",
   "execution_count": 282,
   "metadata": {},
   "outputs": [
    {
     "name": "stdout",
     "output_type": "stream",
     "text": [
      "                   pre       rec       spe        f1       geo       iba       sup\n",
      "\n",
      "        0.0       0.85      0.85      0.84      0.85      0.84      0.71      1053\n",
      "        1.0       0.83      0.84      0.85      0.83      0.84      0.71       947\n",
      "\n",
      "avg / total       0.84      0.84      0.84      0.84      0.84      0.71      2000\n",
      "\n"
     ]
    }
   ],
   "source": [
    "print(classification_report_imbalanced(test[:, -1], np.argmax(pred_nn, axis=1)))"
   ]
  },
  {
   "cell_type": "code",
   "execution_count": null,
   "metadata": {},
   "outputs": [],
   "source": []
  },
  {
   "cell_type": "markdown",
   "metadata": {},
   "source": [
    "## Random Forest"
   ]
  },
  {
   "cell_type": "code",
   "execution_count": 283,
   "metadata": {},
   "outputs": [
    {
     "name": "stderr",
     "output_type": "stream",
     "text": [
      "/anaconda3/envs/tensorflow_env/lib/python3.6/site-packages/sklearn/ensemble/forest.py:246: FutureWarning: The default value of n_estimators will change from 10 in version 0.20 to 100 in 0.22.\n",
      "  \"10 in version 0.20 to 100 in 0.22.\", FutureWarning)\n"
     ]
    }
   ],
   "source": [
    "rf_clf = RandomForestClassifier(criterion=\"entropy\", max_depth=10, random_state=1)\n",
    "rf_clf.fit(train_val[:, :train_val.shape[1]-1], train_val[:, -1])\n",
    "rf_pred = rf_clf.predict(test[:, :test.shape[1]-1])\n"
   ]
  },
  {
   "cell_type": "code",
   "execution_count": 285,
   "metadata": {},
   "outputs": [
    {
     "data": {
      "text/plain": [
       "array([[773, 201],\n",
       "       [174, 852]])"
      ]
     },
     "execution_count": 285,
     "metadata": {},
     "output_type": "execute_result"
    }
   ],
   "source": [
    "confusion_matrix(test[:, -1], rf_pred, labels=[1, 0]).T"
   ]
  },
  {
   "cell_type": "code",
   "execution_count": 288,
   "metadata": {},
   "outputs": [
    {
     "name": "stdout",
     "output_type": "stream",
     "text": [
      "                   pre       rec       spe        f1       geo       iba       sup\n",
      "\n",
      "        0.0       0.83      0.81      0.82      0.82      0.81      0.66      1053\n",
      "        1.0       0.79      0.82      0.81      0.80      0.81      0.66       947\n",
      "\n",
      "avg / total       0.81      0.81      0.81      0.81      0.81      0.66      2000\n",
      "\n"
     ]
    }
   ],
   "source": [
    "print(classification_report_imbalanced(test[:, -1], rf_pred))"
   ]
  },
  {
   "cell_type": "code",
   "execution_count": null,
   "metadata": {},
   "outputs": [],
   "source": []
  },
  {
   "cell_type": "markdown",
   "metadata": {},
   "source": [
    "## Logistic Regression"
   ]
  },
  {
   "cell_type": "code",
   "execution_count": 120,
   "metadata": {},
   "outputs": [],
   "source": [
    "# from sklearn.linear_model import LogisticRegression\n",
    "# lg_clf = LogisticRegression(random_state=1)\n",
    "# lg_clf.fit(train[:, :train.shape[1]-1], train[:, -1])"
   ]
  },
  {
   "cell_type": "code",
   "execution_count": 121,
   "metadata": {},
   "outputs": [],
   "source": [
    "# pred_lg = lg_clf.predict(test[:, :test.shape[1]-1])\n",
    "# print(confusion_matrix(test[:, -1], pred_lg, labels=[0, 1]).T)"
   ]
  },
  {
   "cell_type": "code",
   "execution_count": 122,
   "metadata": {},
   "outputs": [],
   "source": [
    "# print(classification_report_imbalanced(test[:, -1], pred_lg))"
   ]
  },
  {
   "cell_type": "markdown",
   "metadata": {},
   "source": [
    "## SVM"
   ]
  },
  {
   "cell_type": "code",
   "execution_count": 123,
   "metadata": {},
   "outputs": [],
   "source": [
    "# svc = SVC(C=10, gamma=\"auto\", random_state=1)\n",
    "# svc.fit(train[:, :train.shape[1]-1], train[:, -1])"
   ]
  },
  {
   "cell_type": "code",
   "execution_count": 124,
   "metadata": {},
   "outputs": [],
   "source": [
    "# pred_svc = svc.predict(test[:, :test.shape[1]-1])\n",
    "# print(confusion_matrix(test[:, -1], pred_svc, labels=[0, 1]).T)"
   ]
  },
  {
   "cell_type": "code",
   "execution_count": null,
   "metadata": {},
   "outputs": [],
   "source": []
  },
  {
   "cell_type": "code",
   "execution_count": null,
   "metadata": {},
   "outputs": [],
   "source": []
  },
  {
   "cell_type": "code",
   "execution_count": null,
   "metadata": {},
   "outputs": [],
   "source": []
  },
  {
   "cell_type": "code",
   "execution_count": null,
   "metadata": {},
   "outputs": [],
   "source": []
  },
  {
   "cell_type": "code",
   "execution_count": null,
   "metadata": {},
   "outputs": [],
   "source": []
  },
  {
   "cell_type": "code",
   "execution_count": null,
   "metadata": {},
   "outputs": [],
   "source": []
  },
  {
   "cell_type": "code",
   "execution_count": null,
   "metadata": {},
   "outputs": [],
   "source": []
  }
 ],
 "metadata": {
  "kernelspec": {
   "display_name": "Python (tensorflow_env)",
   "language": "python",
   "name": "tensorflow_env"
  },
  "language_info": {
   "codemirror_mode": {
    "name": "ipython",
    "version": 3
   },
   "file_extension": ".py",
   "mimetype": "text/x-python",
   "name": "python",
   "nbconvert_exporter": "python",
   "pygments_lexer": "ipython3",
   "version": "3.6.7"
  }
 },
 "nbformat": 4,
 "nbformat_minor": 2
}
