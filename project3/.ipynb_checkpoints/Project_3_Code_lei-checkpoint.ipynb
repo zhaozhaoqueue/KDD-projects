{
 "cells": [
  {
   "cell_type": "code",
   "execution_count": 1,
   "metadata": {},
   "outputs": [
    {
     "name": "stderr",
     "output_type": "stream",
     "text": [
      "Using TensorFlow backend.\n"
     ]
    }
   ],
   "source": [
    "from __future__ import division\n",
    "import itertools\n",
    "import sys\n",
    "\n",
    "import numpy as np\n",
    "import matplotlib.pyplot as plt\n",
    "\n",
    "from keras.utils.np_utils import to_categorical\n",
    "from keras.models import Sequential\n",
    "from keras.layers import Dense, Activation\n",
    "\n",
    "from sklearn.model_selection import train_test_split\n",
    "from sklearn.metrics import confusion_matrix, accuracy_score, recall_score, precision_score"
   ]
  },
  {
   "cell_type": "code",
   "execution_count": 3,
   "metadata": {},
   "outputs": [],
   "source": [
    "np.set_printoptions(threshold=sys.maxint)"
   ]
  },
  {
   "cell_type": "code",
   "execution_count": 4,
   "metadata": {},
   "outputs": [],
   "source": [
    "#Data preprocessing"
   ]
  },
  {
   "cell_type": "code",
   "execution_count": 5,
   "metadata": {},
   "outputs": [],
   "source": [
    "#Load data\n",
    "raw_img = np.load(\"images.npy\")\n",
    "raw_lab = np.load(\"labels.npy\")"
   ]
  },
  {
   "cell_type": "code",
   "execution_count": 6,
   "metadata": {},
   "outputs": [],
   "source": [
    "#Reshape image data, from 6500*28*28 to 6500*748\n",
    "img_data = raw_img.reshape(6500, -1)\n",
    "#Encode label data\n",
    "lab_data = to_categorical(raw_lab)"
   ]
  },
  {
   "cell_type": "code",
   "execution_count": 7,
   "metadata": {},
   "outputs": [],
   "source": [
    "#Stratified sampling\n",
    "train_validation_img, test_img, train_validation_lab, test_lab = train_test_split(img_data, lab_data, test_size=0.25, random_state=3, stratify=lab_data)\n",
    "train_img, validation_img, train_lab, validation_lab = train_test_split(train_validation_img, train_validation_lab, test_size=0.2, random_state=4, stratify=train_validation_lab)\n"
   ]
  },
  {
   "cell_type": "code",
   "execution_count": null,
   "metadata": {},
   "outputs": [],
   "source": []
  },
  {
   "cell_type": "code",
   "execution_count": 8,
   "metadata": {},
   "outputs": [],
   "source": [
    "#Functions to be used"
   ]
  },
  {
   "cell_type": "code",
   "execution_count": 9,
   "metadata": {},
   "outputs": [],
   "source": [
    "#Plot training accuracy and validation accuracy during each epoch\n",
    "def plot_acc(hist):\n",
    "    fig, ax = plt.subplots(1, 1)\n",
    "    ax.plot(hist.history[\"acc\"], color=\"b\", label=\"Training Accuracy\")\n",
    "    ax.plot(hist.history[\"val_acc\"], color=\"r\", label=\"Validation Accuracy\")\n",
    "    legend = ax.legend(loc=\"best\", shadow=True)\n",
    "    plt.show()"
   ]
  },
  {
   "cell_type": "code",
   "execution_count": 10,
   "metadata": {},
   "outputs": [],
   "source": [
    "#Compute and visualize confusion matrix\n",
    "def plot_confusion_matrix(prediction,\n",
    "                          normalize=False,\n",
    "                          title='Confusion matrix',\n",
    "                          cmap=plt.cm.Blues):\n",
    "    \"\"\"\n",
    "    This function creates, prints and plots the confusion matrix.\n",
    "    Normalization can be applied by setting `normalize=True`.\n",
    "    \"\"\"\n",
    "    \n",
    "    \n",
    "    cm = confusion_matrix(np.argmax(test_lab, axis=1), np.argmax(prediction, axis=1))\n",
    "    classes = list(range(10))\n",
    "    \n",
    "    \n",
    "    \n",
    "    if normalize:\n",
    "        cm = cm.astype('float') / cm.sum(axis=1)[:, np.newaxis]\n",
    "        print(\"Normalized confusion matrix\")\n",
    "    else:\n",
    "        print('Confusion matrix, without normalization')\n",
    "\n",
    "    print(cm)\n",
    "    print \n",
    "    print(\"Accuracy: \", accuracy_score(np.argmax(test_lab, axis=1), np.argmax(prediction, axis=1)))\n",
    "\n",
    "    plt.imshow(cm, interpolation='nearest', cmap=cmap)\n",
    "    plt.title(title)\n",
    "    plt.colorbar()\n",
    "    tick_marks = np.arange(len(classes))\n",
    "    plt.xticks(tick_marks, classes, rotation=45)\n",
    "    plt.yticks(tick_marks, classes)\n",
    "\n",
    "    fmt = '.2f' if normalize else 'd'\n",
    "    thresh = cm.max() / 2.\n",
    "    for i, j in itertools.product(range(cm.shape[0]), range(cm.shape[1])):\n",
    "        plt.text(j, i, format(cm[i, j], fmt),\n",
    "                 horizontalalignment=\"center\",\n",
    "                 color=\"white\" if cm[i, j] > thresh else \"black\")\n",
    "\n",
    "    plt.ylabel('True label')\n",
    "    plt.xlabel('Predicted label')\n",
    "    plt.tight_layout()"
   ]
  },
  {
   "cell_type": "code",
   "execution_count": 11,
   "metadata": {},
   "outputs": [],
   "source": [
    "#Visualize image from pixel data\n",
    "def show_pic(pixel_data):\n",
    "    plt.imshow(pixel_data.reshape(28, 28), cmap=\"gray\")"
   ]
  },
  {
   "cell_type": "code",
   "execution_count": 12,
   "metadata": {},
   "outputs": [],
   "source": [
    "#Get list of incorrect prediction indexes\n",
    "def wrong_list(prediction):\n",
    "    y_pred = np.argmax(prediction, axis=1)\n",
    "    y_true = np.argmax(test_lab, axis=1)\n",
    "    wrong_index = []\n",
    "    for i in range(len(y_pred)):\n",
    "        if(y_pred[i] != y_true[i]):\n",
    "            wrong_index.append(i)\n",
    "    return wrong_index"
   ]
  },
  {
   "cell_type": "code",
   "execution_count": null,
   "metadata": {},
   "outputs": [],
   "source": []
  },
  {
   "cell_type": "code",
   "execution_count": 13,
   "metadata": {},
   "outputs": [
    {
     "name": "stdout",
     "output_type": "stream",
     "text": [
      "Train on 3900 samples, validate on 975 samples\n",
      "Epoch 1/30\n",
      "3900/3900 [==============================] - 1s 167us/step - loss: 1.7057 - acc: 0.3762 - val_loss: 0.7588 - val_acc: 0.7272\n",
      "Epoch 2/30\n",
      "3900/3900 [==============================] - 0s 116us/step - loss: 0.6584 - acc: 0.7877 - val_loss: 0.4476 - val_acc: 0.8472\n",
      "Epoch 3/30\n",
      "3900/3900 [==============================] - 0s 112us/step - loss: 0.3602 - acc: 0.8941 - val_loss: 0.3202 - val_acc: 0.9056\n",
      "Epoch 4/30\n",
      "3900/3900 [==============================] - 0s 114us/step - loss: 0.2341 - acc: 0.9318 - val_loss: 0.3555 - val_acc: 0.8964\n",
      "Epoch 5/30\n",
      "3900/3900 [==============================] - 0s 126us/step - loss: 0.1785 - acc: 0.9449 - val_loss: 0.4605 - val_acc: 0.8892\n",
      "Epoch 6/30\n",
      "3900/3900 [==============================] - 1s 130us/step - loss: 0.1187 - acc: 0.9597 - val_loss: 0.4392 - val_acc: 0.8933\n",
      "Epoch 7/30\n",
      "3900/3900 [==============================] - 0s 121us/step - loss: 0.1621 - acc: 0.9538 - val_loss: 0.4504 - val_acc: 0.9015\n",
      "Epoch 8/30\n",
      "3900/3900 [==============================] - 0s 122us/step - loss: 0.0868 - acc: 0.9713 - val_loss: 0.3631 - val_acc: 0.9149\n",
      "Epoch 9/30\n",
      "3900/3900 [==============================] - 0s 121us/step - loss: 0.0720 - acc: 0.9774 - val_loss: 0.8794 - val_acc: 0.8328\n",
      "Epoch 10/30\n",
      "3900/3900 [==============================] - 1s 142us/step - loss: 0.0934 - acc: 0.9723 - val_loss: 0.4680 - val_acc: 0.9190\n",
      "Epoch 11/30\n",
      "3900/3900 [==============================] - 0s 127us/step - loss: 0.0454 - acc: 0.9851 - val_loss: 0.5587 - val_acc: 0.9087\n",
      "Epoch 12/30\n",
      "3900/3900 [==============================] - 0s 126us/step - loss: 0.1005 - acc: 0.9738 - val_loss: 0.3516 - val_acc: 0.9303\n",
      "Epoch 13/30\n",
      "3900/3900 [==============================] - 0s 128us/step - loss: 0.0489 - acc: 0.9869 - val_loss: 0.6304 - val_acc: 0.8862\n",
      "Epoch 14/30\n",
      "3900/3900 [==============================] - 0s 126us/step - loss: 0.0378 - acc: 0.9892 - val_loss: 0.3896 - val_acc: 0.9179\n",
      "Epoch 15/30\n",
      "3900/3900 [==============================] - 0s 128us/step - loss: 0.0151 - acc: 0.9956 - val_loss: 0.3607 - val_acc: 0.9385\n",
      "Epoch 16/30\n",
      "3900/3900 [==============================] - 1s 138us/step - loss: 0.1252 - acc: 0.9674 - val_loss: 0.4735 - val_acc: 0.9108\n",
      "Epoch 17/30\n",
      "3900/3900 [==============================] - 1s 131us/step - loss: 0.0780 - acc: 0.9774 - val_loss: 0.4166 - val_acc: 0.9210\n",
      "Epoch 18/30\n",
      "3900/3900 [==============================] - 0s 125us/step - loss: 0.0566 - acc: 0.9818 - val_loss: 0.3682 - val_acc: 0.9385\n",
      "Epoch 19/30\n",
      "3900/3900 [==============================] - 0s 118us/step - loss: 0.0261 - acc: 0.9921 - val_loss: 0.4781 - val_acc: 0.9272\n",
      "Epoch 20/30\n",
      "3900/3900 [==============================] - 0s 124us/step - loss: 0.0141 - acc: 0.9964 - val_loss: 0.3525 - val_acc: 0.9415\n",
      "Epoch 21/30\n",
      "3900/3900 [==============================] - 0s 121us/step - loss: 0.0615 - acc: 0.9854 - val_loss: 0.4984 - val_acc: 0.9200\n",
      "Epoch 22/30\n",
      "3900/3900 [==============================] - 0s 121us/step - loss: 0.0489 - acc: 0.9874 - val_loss: 0.3665 - val_acc: 0.9385\n",
      "Epoch 23/30\n",
      "3900/3900 [==============================] - 1s 132us/step - loss: 0.0442 - acc: 0.9887 - val_loss: 0.4837 - val_acc: 0.9272\n",
      "Epoch 24/30\n",
      "3900/3900 [==============================] - 0s 125us/step - loss: 0.0440 - acc: 0.9900 - val_loss: 0.3752 - val_acc: 0.9415\n",
      "Epoch 25/30\n",
      "3900/3900 [==============================] - 1s 136us/step - loss: 0.0251 - acc: 0.9923 - val_loss: 0.3881 - val_acc: 0.9456\n",
      "Epoch 26/30\n",
      "3900/3900 [==============================] - 1s 129us/step - loss: 0.1207 - acc: 0.9782 - val_loss: 0.4794 - val_acc: 0.9210\n",
      "Epoch 27/30\n",
      "3900/3900 [==============================] - 0s 126us/step - loss: 0.0771 - acc: 0.9813 - val_loss: 0.4435 - val_acc: 0.9262\n",
      "Epoch 28/30\n",
      "3900/3900 [==============================] - 1s 132us/step - loss: 0.1684 - acc: 0.9705 - val_loss: 0.4195 - val_acc: 0.9272\n",
      "Epoch 29/30\n",
      "3900/3900 [==============================] - 0s 128us/step - loss: 0.0638 - acc: 0.9844 - val_loss: 0.4803 - val_acc: 0.9272\n",
      "Epoch 30/30\n",
      "3900/3900 [==============================] - 0s 120us/step - loss: 0.0986 - acc: 0.9787 - val_loss: 0.4015 - val_acc: 0.9241\n"
     ]
    }
   ],
   "source": [
    "model = Sequential() # declare model\n",
    "model.add(Dense(100, input_shape=(28*28, ), kernel_initializer='random_normal')) # first layer\n",
    "model.add(Activation('relu'))\n",
    "#\n",
    "model.add(Dense(100, activation=\"relu\", kernel_initializer=\"random_normal\", bias_initializer=\"random_normal\"))\n",
    "model.add(Dense(10, activation=\"relu\", kernel_initializer=\"random_normal\", bias_initializer=\"random_normal\"))\n",
    "#\n",
    "model.add(Dense(10, kernel_initializer='random_normal')) # last layer\n",
    "model.add(Activation('softmax'))\n",
    "\n",
    "\n",
    "# Compile Model\n",
    "model.compile(optimizer='sgd',\n",
    "              loss='categorical_crossentropy', \n",
    "              metrics=['accuracy'])\n",
    "\n",
    "# Train Model\n",
    "history = model.fit(train_img, train_lab, \n",
    "                    validation_data = (validation_img, validation_lab), \n",
    "                    epochs=30, \n",
    "                    batch_size=16)"
   ]
  },
  {
   "cell_type": "code",
   "execution_count": 14,
   "metadata": {},
   "outputs": [
    {
     "name": "stdout",
     "output_type": "stream",
     "text": [
      "_________________________________________________________________\n",
      "Layer (type)                 Output Shape              Param #   \n",
      "=================================================================\n",
      "dense_1 (Dense)              (None, 100)               78500     \n",
      "_________________________________________________________________\n",
      "activation_1 (Activation)    (None, 100)               0         \n",
      "_________________________________________________________________\n",
      "dense_2 (Dense)              (None, 100)               10100     \n",
      "_________________________________________________________________\n",
      "dense_3 (Dense)              (None, 10)                1010      \n",
      "_________________________________________________________________\n",
      "dense_4 (Dense)              (None, 10)                110       \n",
      "_________________________________________________________________\n",
      "activation_2 (Activation)    (None, 10)                0         \n",
      "=================================================================\n",
      "Total params: 89,720\n",
      "Trainable params: 89,720\n",
      "Non-trainable params: 0\n",
      "_________________________________________________________________\n",
      "None\n"
     ]
    }
   ],
   "source": [
    "#Model structure\n",
    "print(model.summary())"
   ]
  },
  {
   "cell_type": "code",
   "execution_count": 15,
   "metadata": {},
   "outputs": [],
   "source": [
    "# Report Results"
   ]
  },
  {
   "cell_type": "code",
   "execution_count": 16,
   "metadata": {},
   "outputs": [
    {
     "name": "stdout",
     "output_type": "stream",
     "text": [
      "{'acc': [0.3761538460927132, 0.7876923077534407, 0.894102564163697, 0.9317948717337389, 0.9448717948106619, 0.9597435897435898, 0.9538461539072868, 0.9712820513431842, 0.9774358974970304, 0.9723076923688253, 0.9851282051282051, 0.9738461538461538, 0.9869230769842099, 0.9892307692919022, 0.9956410256410256, 0.9674358974358974, 0.9774358974358974, 0.9817948717948718, 0.992051282051282, 0.9964102564102564, 0.9853846153846154, 0.9874358974358974, 0.9887179487179487, 0.99, 0.9923076923076923, 0.9782051282662612, 0.9812820512820513, 0.9705128205128205, 0.9843589743589743, 0.9787179487179487], 'loss': [1.7056929199512187, 0.6584446941277919, 0.36020944693913826, 0.23405365699758895, 0.178504336995001, 0.1187183871301703, 0.1621402191534304, 0.08684069611406765, 0.0720336984791375, 0.09343887440985642, 0.0454425000991129, 0.1005229294362466, 0.04886358027340462, 0.03777354111127818, 0.015100218769642734, 0.12518774133436428, 0.07795772478090396, 0.05659003838801977, 0.02611101938256, 0.014052302207161959, 0.06145069769707147, 0.048871937572742656, 0.04416687885323205, 0.043974638406192146, 0.02513532583477615, 0.12070832632603971, 0.07713821708347099, 0.16843763772990758, 0.0638049499466172, 0.09864664728329771], 'val_acc': [0.727179487546285, 0.8471794873628861, 0.9056410257021587, 0.8964102565325224, 0.8892307694141681, 0.8933333333944663, 0.9015384615384615, 0.9148717949940608, 0.8328205130039117, 0.9189743591577579, 0.9087179487790817, 0.9302564103175432, 0.886153846276112, 0.9179487180098509, 0.9384615384615385, 0.9107692308303638, 0.921025641270173, 0.9384615385226714, 0.9271794872406202, 0.9415384615995945, 0.9200000000611329, 0.9384615385838044, 0.9271794873017531, 0.9415384615384615, 0.9456410257021586, 0.921025641086774, 0.9261538462761121, 0.9271794871794872, 0.9271794872406202, 0.9241025641636971], 'val_loss': [0.7587711240083743, 0.44762540138684787, 0.3202188967741453, 0.3555251979751465, 0.46051109115282696, 0.4392253484042027, 0.4503704612453779, 0.36309425704563275, 0.8794257385914143, 0.46799538074013514, 0.5587115979767763, 0.3515603059874131, 0.6304441671073436, 0.389635686494219, 0.3607006632773062, 0.4735215060451092, 0.4166177142134462, 0.36817115978696024, 0.47810028227649104, 0.3525434890811075, 0.49837709981231737, 0.366504675246005, 0.483656957004882, 0.37517436153004663, 0.38810213293701123, 0.4793645423770142, 0.4434734706012293, 0.41945890442253303, 0.480274066311167, 0.40146785396139306]}\n"
     ]
    }
   ],
   "source": [
    "print(history.history)"
   ]
  },
  {
   "cell_type": "code",
   "execution_count": 17,
   "metadata": {},
   "outputs": [
    {
     "data": {
      "image/png": "[encoded data removed]",
      "text/plain": [
       "<Figure size 432x288 with 1 Axes>"
      ]
     },
     "metadata": {},
     "output_type": "display_data"
    }
   ],
   "source": [
    "# Plot of training and validation accuracies \n",
    "plot_acc(history)"
   ]
  },
  {
   "cell_type": "code",
   "execution_count": 18,
   "metadata": {},
   "outputs": [
    {
     "name": "stdout",
     "output_type": "stream",
     "text": [
      "Confusion matrix, without normalization\n",
      "[[157   1   2   1   0   1   0   0   1   0]\n",
      " [  0 176   1   0   0   1   0   0   4   0]\n",
      " [  3   1 144   3   2   0   1   2   1   2]\n",
      " [  0   1   4 149   0   3   1   2   6   1]\n",
      " [  0   1   0   0 142   0   5   0   1  14]\n",
      " [  1   1   0   2   1 129   5   0   2   1]\n",
      " [  1   0   3   0   1   2 158   0   0   1]\n",
      " [  0   6   5   0   0   0   0 158   0   3]\n",
      " [  0   1   3   4   1   1   1   1 136   2]\n",
      " [  0   2   0   0   1   0   1   3   2 152]]\n",
      "\n",
      "('Accuracy: ', 0.9236923076923077)\n"
     ]
    },
    {
     "data": {
      "image/png": "[encoded data removed]",
      "text/plain": [
       "<Figure size 432x288 with 2 Axes>"
      ]
     },
     "metadata": {},
     "output_type": "display_data"
    }
   ],
   "source": [
    "# Confusion matrix and its visualization on test dataset \n",
    "prediction = model.predict(test_img)\n",
    "plot_confusion_matrix(prediction)"
   ]
  },
  {
   "cell_type": "code",
   "execution_count": 19,
   "metadata": {},
   "outputs": [
    {
     "name": "stdout",
     "output_type": "stream",
     "text": [
      "('Accuracy: ', 0.9236923076923077)\n",
      "('Recall: ', array([0.96319018, 0.96703297, 0.90566038, 0.89221557, 0.87116564,\n",
      "       0.9084507 , 0.95180723, 0.91860465, 0.90666667, 0.94409938]))\n",
      "('Precision: ', array([0.9691358 , 0.92631579, 0.88888889, 0.93710692, 0.95945946,\n",
      "       0.94160584, 0.91860465, 0.95180723, 0.88888889, 0.86363636]))\n"
     ]
    }
   ],
   "source": [
    "# Accuracy, recall, precision on test dataset\n",
    "accuracy = accuracy_score(np.argmax(test_lab, axis=1), np.argmax(prediction, axis=1))\n",
    "recall = recall_score(np.argmax(test_lab, axis=1), np.argmax(prediction, axis=1), labels=list(range(10)), average=None)\n",
    "precision = precision_score(np.argmax(test_lab, axis=1), np.argmax(prediction, axis=1), labels=list(range(10)), average=None)\n",
    "print(\"Accuracy: \", accuracy)\n",
    "print(\"Recall: \", recall)\n",
    "print(\"Precision: \", precision)"
   ]
  },
  {
   "cell_type": "code",
   "execution_count": null,
   "metadata": {},
   "outputs": [],
   "source": []
  },
  {
   "cell_type": "code",
   "execution_count": null,
   "metadata": {},
   "outputs": [],
   "source": []
  },
  {
   "cell_type": "code",
   "execution_count": null,
   "metadata": {},
   "outputs": [],
   "source": []
  },
  {
   "cell_type": "code",
   "execution_count": 20,
   "metadata": {},
   "outputs": [],
   "source": [
    "# #Save model\n",
    "# import h5py\n",
    "# model.save(\"trained_model.proj3\")"
   ]
  },
  {
   "cell_type": "code",
   "execution_count": 21,
   "metadata": {},
   "outputs": [],
   "source": [
    "from keras.models import load_model\n",
    "m1 = load_model(\"trained_model.proj3\")"
   ]
  },
  {
   "cell_type": "code",
   "execution_count": 22,
   "metadata": {},
   "outputs": [
    {
     "name": "stdout",
     "output_type": "stream",
     "text": [
      "Confusion matrix, without normalization\n",
      "[[162   0   0   1   0   0   0   0   0   0]\n",
      " [  0 180   0   0   0   0   0   2   0   0]\n",
      " [  2   1 151   1   1   0   0   2   1   0]\n",
      " [  0   0   0 162   0   1   1   2   1   0]\n",
      " [  0   0   0   0 158   0   2   0   1   2]\n",
      " [  1   0   0   2   0 135   2   0   2   0]\n",
      " [  1   0   1   0   1   2 161   0   0   0]\n",
      " [  0   2   0   0   0   0   0 169   1   0]\n",
      " [  0   0   2   2   1   1   0   1 142   1]\n",
      " [  0   0   0   2   3   0   0   2   0 154]]\n",
      "\n",
      "('Accuracy: ', 0.9686153846153847)\n"
     ]
    },
    {
     "data": {
      "image/png": "[encoded data removed]",
      "text/plain": [
       "<Figure size 432x288 with 2 Axes>"
      ]
     },
     "metadata": {},
     "output_type": "display_data"
    }
   ],
   "source": [
    "pred1 = m1.predict(test_img)\n",
    "plot_confusion_matrix(pred1)"
   ]
  },
  {
   "cell_type": "code",
   "execution_count": 23,
   "metadata": {},
   "outputs": [
    {
     "name": "stdout",
     "output_type": "stream",
     "text": [
      "[33, 37, 55, 108, 133, 140, 154, 173, 175, 210, 224, 229, 238, 260, 298, 306, 309, 410, 411, 429, 435, 443, 466, 471, 479, 501, 525, 569, 624, 650, 681, 685, 690, 691, 708, 743, 774, 864, 879, 897, 959, 1115, 1373, 1415, 1464, 1494, 1501, 1510, 1534, 1535, 1609]\n",
      "51\n"
     ]
    }
   ],
   "source": [
    "#Get a list of incorrect prediction indexes\n",
    "incorrect_list = wrong_list(pred1)\n",
    "print(incorrect_list)\n",
    "print(len(incorrect_list))"
   ]
  },
  {
   "cell_type": "code",
   "execution_count": 15,
   "metadata": {},
   "outputs": [
    {
     "name": "stdout",
     "output_type": "stream",
     "text": [
      "('Label supported to be: ', 2)\n",
      "('Prediction: ', 2)\n"
     ]
    },
    {
     "data": {
      "image/png": "[encoded data removed]",
      "text/plain": [
       "<Figure size 432x288 with 1 Axes>"
      ]
     },
     "metadata": {},
     "output_type": "display_data"
    }
   ],
   "source": [
    "#Visualize incorrect prediction\n",
    "print(\"Label supported to be: \", np.argmax(test_lab[10,]))\n",
    "print(\"Prediction: \", np.argmax(pred1[10,]))\n",
    "show_pic(test_img[10,])"
   ]
  },
  {
   "cell_type": "code",
   "execution_count": null,
   "metadata": {},
   "outputs": [],
   "source": []
  }
 ],
 "metadata": {
  "kernelspec": {
   "display_name": "Python 2",
   "language": "python",
   "name": "python2"
  },
  "language_info": {
   "codemirror_mode": {
    "name": "ipython",
    "version": 2
   },
   "file_extension": ".py",
   "mimetype": "text/x-python",
   "name": "python",
   "nbconvert_exporter": "python",
   "pygments_lexer": "ipython2",
   "version": "2.7.14"
  }
 },
 "nbformat": 4,
 "nbformat_minor": 2
}
