{
 "cells": [
  {
   "cell_type": "code",
   "execution_count": 1,
   "metadata": {},
   "outputs": [
    {
     "name": "stderr",
     "output_type": "stream",
     "text": [
      "Using TensorFlow backend.\n"
     ]
    }
   ],
   "source": [
    "from __future__ import division\n",
    "import itertools\n",
    "# import h5py\n",
    "\n",
    "import numpy as np\n",
    "import matplotlib.pyplot as plt\n",
    "\n",
    "from keras.utils.np_utils import to_categorical\n",
    "from keras.models import Sequential\n",
    "from keras.layers import Dense, Activation\n",
    "\n",
    "from sklearn.model_selection import train_test_split\n",
    "from sklearn.metrics import confusion_matrix, accuracy_score, recall_score, precision_score\n"
   ]
  },
  {
   "cell_type": "code",
   "execution_count": null,
   "metadata": {},
   "outputs": [],
   "source": []
  },
  {
   "cell_type": "code",
   "execution_count": 2,
   "metadata": {},
   "outputs": [],
   "source": [
    "#Data preprocessing"
   ]
  },
  {
   "cell_type": "code",
   "execution_count": 3,
   "metadata": {},
   "outputs": [],
   "source": [
    "#Load data\n",
    "raw_img = np.load(\"images.npy\")\n",
    "raw_lab = np.load(\"labels.npy\")"
   ]
  },
  {
   "cell_type": "code",
   "execution_count": 4,
   "metadata": {},
   "outputs": [
    {
     "name": "stdout",
     "output_type": "stream",
     "text": [
      "(6500, 28, 28)\n",
      "(6500,)\n"
     ]
    }
   ],
   "source": [
    "print raw_img.shape\n",
    "print raw_lab.shape"
   ]
  },
  {
   "cell_type": "code",
   "execution_count": 5,
   "metadata": {},
   "outputs": [],
   "source": [
    "#Reshape image data, from 6500*28*28 to 6500*748\n",
    "img_data = raw_img.reshape(6500, -1)\n",
    "#Encode label data\n",
    "lab_data = to_categorical(raw_lab)"
   ]
  },
  {
   "cell_type": "code",
   "execution_count": 6,
   "metadata": {},
   "outputs": [],
   "source": [
    "#Stratified sampling\n",
    "train_validation_img, test_img, train_validation_lab, test_lab = train_test_split(img_data, lab_data, test_size=0.25, random_state=2, stratify=lab_data)\n",
    "train_img, validation_img, train_lab, validation_lab = train_test_split(train_validation_img, train_validation_lab, test_size=0.2, random_state=3, stratify=train_validation_lab)\n"
   ]
  },
  {
   "cell_type": "code",
   "execution_count": 7,
   "metadata": {},
   "outputs": [
    {
     "name": "stdout",
     "output_type": "stream",
     "text": [
      "(4875, 784)\n",
      "(4875, 10)\n",
      "\n",
      "(1625, 784)\n",
      "(1625, 10)\n",
      "\n",
      "(3900, 784)\n",
      "(3900, 10)\n",
      "\n",
      "(975, 784)\n",
      "(975, 10)\n"
     ]
    }
   ],
   "source": [
    "print train_validation_img.shape\n",
    "print train_validation_lab.shape\n",
    "print\n",
    "print test_img.shape\n",
    "print test_lab.shape\n",
    "print \n",
    "print train_img.shape\n",
    "print train_lab.shape\n",
    "print\n",
    "print validation_img.shape\n",
    "print validation_lab.shape"
   ]
  },
  {
   "cell_type": "code",
   "execution_count": null,
   "metadata": {},
   "outputs": [],
   "source": []
  },
  {
   "cell_type": "code",
   "execution_count": 8,
   "metadata": {},
   "outputs": [],
   "source": [
    "#Functions"
   ]
  },
  {
   "cell_type": "code",
   "execution_count": 9,
   "metadata": {},
   "outputs": [],
   "source": [
    "#Plot training accuracy and validation accuracy during each epoch\n",
    "def plot_acc(hist):\n",
    "    fig, ax = plt.subplots(1, 1)\n",
    "    ax.plot(hist.history[\"acc\"], color=\"b\", label=\"Training Accuracy\")\n",
    "    ax.plot(hist.history[\"val_acc\"], color=\"r\", label=\"Validation Accuracy\")\n",
    "    legend = ax.legend(loc=\"best\", shadow=True)\n",
    "    plt.show()"
   ]
  },
  {
   "cell_type": "code",
   "execution_count": 10,
   "metadata": {},
   "outputs": [],
   "source": [
    "#Visualize confusion matrix\n",
    "def plot_confusion_matrix(prediction,\n",
    "                          normalize=False,\n",
    "                          title='Confusion matrix',\n",
    "                          cmap=plt.cm.Blues):\n",
    "    \"\"\"\n",
    "    This function creates, prints and plots the confusion matrix.\n",
    "    Normalization can be applied by setting `normalize=True`.\n",
    "    \"\"\"\n",
    "    \n",
    "    \n",
    "    cm = confusion_matrix(np.argmax(test_lab, axis=1), np.argmax(prediction, axis=1))\n",
    "    classes = list(range(10))\n",
    "    \n",
    "    \n",
    "    \n",
    "    if normalize:\n",
    "        cm = cm.astype('float') / cm.sum(axis=1)[:, np.newaxis]\n",
    "        print(\"Normalized confusion matrix\")\n",
    "    else:\n",
    "        print('Confusion matrix, without normalization')\n",
    "\n",
    "    print(cm)\n",
    "    print \n",
    "    print \"Accuracy: \", accuracy_score(np.argmax(test_lab, axis=1), np.argmax(prediction, axis=1))\n",
    "\n",
    "    plt.imshow(cm, interpolation='nearest', cmap=cmap)\n",
    "    plt.title(title)\n",
    "    plt.colorbar()\n",
    "    tick_marks = np.arange(len(classes))\n",
    "    plt.xticks(tick_marks, classes, rotation=45)\n",
    "    plt.yticks(tick_marks, classes)\n",
    "\n",
    "    fmt = '.2f' if normalize else 'd'\n",
    "    thresh = cm.max() / 2.\n",
    "    for i, j in itertools.product(range(cm.shape[0]), range(cm.shape[1])):\n",
    "        plt.text(j, i, format(cm[i, j], fmt),\n",
    "                 horizontalalignment=\"center\",\n",
    "                 color=\"white\" if cm[i, j] > thresh else \"black\")\n",
    "\n",
    "    plt.ylabel('True label')\n",
    "    plt.xlabel('Predicted label')\n",
    "    plt.tight_layout()"
   ]
  },
  {
   "cell_type": "code",
   "execution_count": 11,
   "metadata": {},
   "outputs": [],
   "source": [
    "#Build and train model\n",
    "def build_train_mod(act=\"relu\", init=\"he_normal\", perceptrons=[10], epo=10, b_s=512):\n",
    "    model = Sequential() # declare model\n",
    "    model.add(Dense(perceptrons[0], input_shape=(28*28, ), kernel_initializer=init)) # first layer\n",
    "    model.add(Activation(act))\n",
    "    # Fill in Model Here\n",
    "    for i in range(1,len(perceptrons)):\n",
    "        model.add(Dense(perceptrons[i], activation=act, kernel_initializer=init))\n",
    "    #\n",
    "    model.add(Dense(10, kernel_initializer=init)) # last layer\n",
    "    model.add(Activation('softmax'))\n",
    "\n",
    "\n",
    "    # Compile Model\n",
    "    model.compile(optimizer='sgd',\n",
    "                  loss='categorical_crossentropy', \n",
    "                  metrics=['accuracy'])\n",
    "\n",
    "    # Train Model\n",
    "    history = model.fit(train_img, train_lab, \n",
    "                        validation_data = (validation_img, validation_lab), \n",
    "                        epochs=epo, \n",
    "                        batch_size=b_s)\n",
    "    return model, history"
   ]
  },
  {
   "cell_type": "code",
   "execution_count": 12,
   "metadata": {},
   "outputs": [],
   "source": [
    "#Visualize image\n",
    "def show_pic(pixel_data):\n",
    "    plt.imshow(pixel_data.reshape(28, 28), cmap=\"gray\")"
   ]
  },
  {
   "cell_type": "code",
   "execution_count": 13,
   "metadata": {},
   "outputs": [],
   "source": [
    "#Get list of incorrect prediction indexes\n",
    "def wrong_list(prediction):\n",
    "    y_pred = np.argmax(prediction, axis=1)\n",
    "    y_true = np.argmax(test_lab, axis=1)\n",
    "    wrong_index = []\n",
    "    for i in range(len(y_pred)):\n",
    "        if(y_pred[i] != y_true[i]):\n",
    "            wrong_index.append(i)\n",
    "    return wrong_index"
   ]
  },
  {
   "cell_type": "code",
   "execution_count": null,
   "metadata": {},
   "outputs": [],
   "source": []
  },
  {
   "cell_type": "code",
   "execution_count": null,
   "metadata": {},
   "outputs": [],
   "source": []
  },
  {
   "cell_type": "code",
   "execution_count": null,
   "metadata": {},
   "outputs": [],
   "source": []
  },
  {
   "cell_type": "code",
   "execution_count": 17,
   "metadata": {},
   "outputs": [],
   "source": [
    "#First model\n",
    "#Activition: relu, initialization: he_normal\n",
    "#Layer number (exclude first layer and output layer): 2\n",
    "#Node number of each layer (include the first layer): 10\n",
    "#Epochs: 10\n",
    "#Batch size = 16"
   ]
  },
  {
   "cell_type": "code",
   "execution_count": 29,
   "metadata": {},
   "outputs": [
    {
     "name": "stdout",
     "output_type": "stream",
     "text": [
      "Train on 3900 samples, validate on 975 samples\n",
      "Epoch 1/10\n",
      "3900/3900 [==============================] - 1s 143us/step - loss: 2.9953 - acc: 0.1051 - val_loss: 2.3018 - val_acc: 0.1118\n",
      "Epoch 2/10\n",
      "3900/3900 [==============================] - 0s 85us/step - loss: 2.3013 - acc: 0.1123 - val_loss: 2.3013 - val_acc: 0.1118\n",
      "Epoch 3/10\n",
      "3900/3900 [==============================] - 0s 84us/step - loss: 2.3010 - acc: 0.1123 - val_loss: 2.3010 - val_acc: 0.1118\n",
      "Epoch 4/10\n",
      "3900/3900 [==============================] - 0s 84us/step - loss: 2.3001 - acc: 0.1121 - val_loss: 2.3002 - val_acc: 0.1128\n",
      "Epoch 5/10\n",
      "3900/3900 [==============================] - 0s 86us/step - loss: 2.2955 - acc: 0.1113 - val_loss: 2.2449 - val_acc: 0.1118\n",
      "Epoch 6/10\n",
      "3900/3900 [==============================] - 0s 95us/step - loss: 2.1260 - acc: 0.1779 - val_loss: 2.0729 - val_acc: 0.2123\n",
      "Epoch 7/10\n",
      "3900/3900 [==============================] - 0s 94us/step - loss: 2.0739 - acc: 0.2077 - val_loss: 2.0515 - val_acc: 0.2133\n",
      "Epoch 8/10\n",
      "3900/3900 [==============================] - 0s 86us/step - loss: 2.0455 - acc: 0.2121 - val_loss: 2.0383 - val_acc: 0.2133\n",
      "Epoch 9/10\n",
      "3900/3900 [==============================] - 0s 91us/step - loss: 2.0308 - acc: 0.2131 - val_loss: 2.0273 - val_acc: 0.2174\n",
      "Epoch 10/10\n",
      "3900/3900 [==============================] - 0s 83us/step - loss: 2.0247 - acc: 0.2133 - val_loss: 2.0199 - val_acc: 0.2174\n"
     ]
    }
   ],
   "source": [
    "# # Model Template\n",
    "\n",
    "# model_1 = Sequential() # declare model\n",
    "# model_1.add(Dense(10, input_shape=(28*28, ), kernel_initializer='he_normal')) # first layer\n",
    "# model_1.add(Activation('relu'))\n",
    "# # Fill in Model Here\n",
    "# model_1.add(Dense(10, activation=\"relu\", kernel_initializer=\"he_normal\"))\n",
    "# model_1.add(Dense(10, activation=\"relu\", kernel_initializer=\"he_normal\"))\n",
    "# #\n",
    "# model_1.add(Dense(10, kernel_initializer='he_normal')) # last layer\n",
    "# model_1.add(Activation('softmax'))\n",
    "\n",
    "\n",
    "# # Compile Model\n",
    "# model_1.compile(optimizer='sgd',\n",
    "#               loss='categorical_crossentropy', \n",
    "#               metrics=['accuracy'])\n",
    "\n",
    "# # Train Model\n",
    "# history_1 = model_1.fit(train_img, train_lab, \n",
    "#                     validation_data = (validation_img, validation_lab), \n",
    "#                     epochs=10, \n",
    "#                     batch_size=16)\n",
    "\n",
    "\n",
    "# # Report Results\n",
    "\n",
    "# # print(history_1.history)\n",
    "# # model.predict()\n",
    "\n",
    "model_1, history_1 = build_train_mod(act=\"relu\", init=\"he_normal\", perceptrons=[10, 10, 10], epo=10, b_s=16)"
   ]
  },
  {
   "cell_type": "code",
   "execution_count": 30,
   "metadata": {},
   "outputs": [
    {
     "data": {
      "image/png": "[encoded data removed]",
      "text/plain": [
       "<Figure size 432x288 with 1 Axes>"
      ]
     },
     "metadata": {},
     "output_type": "display_data"
    }
   ],
   "source": [
    "#Plot\n",
    "plot_acc(history_1)"
   ]
  },
  {
   "cell_type": "code",
   "execution_count": 31,
   "metadata": {},
   "outputs": [
    {
     "name": "stdout",
     "output_type": "stream",
     "text": [
      "Confusion matrix, without normalization\n",
      "[[  0   0   0   0   0   0   0 163   0   0]\n",
      " [  0 176   1   0   0   0   0   5   0   0]\n",
      " [  0   9   3   0   0   0   2 145   0   0]\n",
      " [  0   2   1   0   0   0   0 164   0   0]\n",
      " [  0   1   0   0   0   0   1 161   0   0]\n",
      " [  0   2   2   0   0   0   0 138   0   0]\n",
      " [  0   2   0   0   0   0   1 163   0   0]\n",
      " [  0   3   2   0   0   0   0 167   0   0]\n",
      " [  0   2   4   0   0   0   0 144   0   0]\n",
      " [  0   2   0   0   0   0   0 159   0   0]]\n",
      "\n",
      "Accuracy:  0.21353846153846154\n"
     ]
    },
    {
     "data": {
      "image/png": "[encoded data removed]",
      "text/plain": [
       "<Figure size 432x288 with 2 Axes>"
      ]
     },
     "metadata": {},
     "output_type": "display_data"
    }
   ],
   "source": [
    "prediction_1 = model_1.predict(test_img)\n",
    "plot_confusion_matrix(prediction=prediction_1)"
   ]
  },
  {
   "cell_type": "code",
   "execution_count": null,
   "metadata": {},
   "outputs": [],
   "source": []
  },
  {
   "cell_type": "code",
   "execution_count": null,
   "metadata": {},
   "outputs": [],
   "source": []
  },
  {
   "cell_type": "code",
   "execution_count": 32,
   "metadata": {},
   "outputs": [],
   "source": [
    "#Second Model\n",
    "#Activition: sigmoid\n",
    "#Initialization: he_normal\n",
    "#Layer number: 2\n",
    "#Node number of each layer: 10\n",
    "#Epochs: 100\n",
    "#Batch size = 16"
   ]
  },
  {
   "cell_type": "code",
   "execution_count": 33,
   "metadata": {},
   "outputs": [
    {
     "name": "stdout",
     "output_type": "stream",
     "text": [
      "Train on 3900 samples, validate on 975 samples\n",
      "Epoch 1/100\n",
      "3900/3900 [==============================] - 1s 154us/step - loss: 2.2746 - acc: 0.1756 - val_loss: 2.2402 - val_acc: 0.1856\n",
      "Epoch 2/100\n",
      "3900/3900 [==============================] - 0s 83us/step - loss: 2.2122 - acc: 0.2303 - val_loss: 2.1913 - val_acc: 0.2862\n",
      "Epoch 3/100\n",
      "3900/3900 [==============================] - 0s 86us/step - loss: 2.1779 - acc: 0.2813 - val_loss: 2.1543 - val_acc: 0.3364\n",
      "Epoch 4/100\n",
      "3900/3900 [==============================] - 0s 86us/step - loss: 2.1386 - acc: 0.3508 - val_loss: 2.1306 - val_acc: 0.3477\n",
      "Epoch 5/100\n",
      "3900/3900 [==============================] - 0s 87us/step - loss: 2.1006 - acc: 0.3864 - val_loss: 2.0915 - val_acc: 0.3549\n",
      "Epoch 6/100\n",
      "3900/3900 [==============================] - 0s 84us/step - loss: 2.0566 - acc: 0.4218 - val_loss: 2.0364 - val_acc: 0.4328\n",
      "Epoch 7/100\n",
      "3900/3900 [==============================] - 0s 85us/step - loss: 2.0091 - acc: 0.4528 - val_loss: 1.9915 - val_acc: 0.4533\n",
      "Epoch 8/100\n",
      "3900/3900 [==============================] - 0s 89us/step - loss: 1.9604 - acc: 0.4551 - val_loss: 1.9330 - val_acc: 0.4913\n",
      "Epoch 9/100\n",
      "3900/3900 [==============================] - 0s 85us/step - loss: 1.9119 - acc: 0.4910 - val_loss: 1.8872 - val_acc: 0.4790\n",
      "Epoch 10/100\n",
      "3900/3900 [==============================] - 0s 85us/step - loss: 1.8556 - acc: 0.5174 - val_loss: 1.8582 - val_acc: 0.4533\n",
      "Epoch 11/100\n",
      "3900/3900 [==============================] - 0s 86us/step - loss: 1.8051 - acc: 0.5428 - val_loss: 1.7876 - val_acc: 0.5508\n",
      "Epoch 12/100\n",
      "3900/3900 [==============================] - 0s 86us/step - loss: 1.7398 - acc: 0.5408 - val_loss: 1.7048 - val_acc: 0.5672\n",
      "Epoch 13/100\n",
      "3900/3900 [==============================] - 0s 86us/step - loss: 1.6663 - acc: 0.5736 - val_loss: 1.6535 - val_acc: 0.5600\n",
      "Epoch 14/100\n",
      "3900/3900 [==============================] - 0s 86us/step - loss: 1.6149 - acc: 0.6136 - val_loss: 1.5944 - val_acc: 0.5897\n",
      "Epoch 15/100\n",
      "3900/3900 [==============================] - 0s 90us/step - loss: 1.5616 - acc: 0.6056 - val_loss: 1.5529 - val_acc: 0.6051\n",
      "Epoch 16/100\n",
      "3900/3900 [==============================] - 0s 85us/step - loss: 1.5080 - acc: 0.6251 - val_loss: 1.5246 - val_acc: 0.6051\n",
      "Epoch 17/100\n",
      "3900/3900 [==============================] - 0s 86us/step - loss: 1.4710 - acc: 0.6162 - val_loss: 1.4876 - val_acc: 0.5959\n",
      "Epoch 18/100\n",
      "3900/3900 [==============================] - 0s 86us/step - loss: 1.4152 - acc: 0.6356 - val_loss: 1.4241 - val_acc: 0.6482\n",
      "Epoch 19/100\n",
      "3900/3900 [==============================] - 0s 88us/step - loss: 1.3846 - acc: 0.6472 - val_loss: 1.3853 - val_acc: 0.6626\n",
      "Epoch 20/100\n",
      "3900/3900 [==============================] - 0s 90us/step - loss: 1.3632 - acc: 0.6467 - val_loss: 1.3557 - val_acc: 0.6451\n",
      "Epoch 21/100\n",
      "3900/3900 [==============================] - 0s 87us/step - loss: 1.3188 - acc: 0.6379 - val_loss: 1.3408 - val_acc: 0.6369\n",
      "Epoch 22/100\n",
      "3900/3900 [==============================] - 0s 88us/step - loss: 1.2940 - acc: 0.6492 - val_loss: 1.2787 - val_acc: 0.6523\n",
      "Epoch 23/100\n",
      "3900/3900 [==============================] - 0s 88us/step - loss: 1.2661 - acc: 0.6546 - val_loss: 1.2807 - val_acc: 0.6574\n",
      "Epoch 24/100\n",
      "3900/3900 [==============================] - 0s 90us/step - loss: 1.2619 - acc: 0.6382 - val_loss: 1.2695 - val_acc: 0.6451\n",
      "Epoch 25/100\n",
      "3900/3900 [==============================] - 0s 84us/step - loss: 1.2576 - acc: 0.6197 - val_loss: 1.2160 - val_acc: 0.6533\n",
      "Epoch 26/100\n",
      "3900/3900 [==============================] - 0s 87us/step - loss: 1.2099 - acc: 0.6482 - val_loss: 1.2227 - val_acc: 0.6318\n",
      "Epoch 27/100\n",
      "3900/3900 [==============================] - 0s 90us/step - loss: 1.1729 - acc: 0.6477 - val_loss: 1.2416 - val_acc: 0.6205\n",
      "Epoch 28/100\n",
      "3900/3900 [==============================] - 0s 85us/step - loss: 1.1506 - acc: 0.6549 - val_loss: 1.1879 - val_acc: 0.6390\n",
      "Epoch 29/100\n",
      "3900/3900 [==============================] - 0s 88us/step - loss: 1.1372 - acc: 0.6908 - val_loss: 1.1842 - val_acc: 0.6862\n",
      "Epoch 30/100\n",
      "3900/3900 [==============================] - 0s 85us/step - loss: 1.1284 - acc: 0.6962 - val_loss: 1.1272 - val_acc: 0.7046\n",
      "Epoch 31/100\n",
      "3900/3900 [==============================] - 0s 89us/step - loss: 1.1248 - acc: 0.6774 - val_loss: 1.1341 - val_acc: 0.6554\n",
      "Epoch 32/100\n",
      "3900/3900 [==============================] - 0s 86us/step - loss: 1.1376 - acc: 0.6662 - val_loss: 1.2622 - val_acc: 0.6574\n",
      "Epoch 33/100\n",
      "3900/3900 [==============================] - 0s 88us/step - loss: 1.0858 - acc: 0.6908 - val_loss: 1.1695 - val_acc: 0.6236\n",
      "Epoch 34/100\n",
      "3900/3900 [==============================] - 0s 89us/step - loss: 1.0881 - acc: 0.6787 - val_loss: 1.0848 - val_acc: 0.6913\n",
      "Epoch 35/100\n",
      "3900/3900 [==============================] - 0s 89us/step - loss: 1.0407 - acc: 0.6879 - val_loss: 1.0419 - val_acc: 0.6564\n",
      "Epoch 36/100\n",
      "3900/3900 [==============================] - 0s 93us/step - loss: 1.0081 - acc: 0.6851 - val_loss: 1.0530 - val_acc: 0.6636\n",
      "Epoch 37/100\n",
      "3900/3900 [==============================] - 0s 85us/step - loss: 1.0299 - acc: 0.6710 - val_loss: 1.0512 - val_acc: 0.6379\n",
      "Epoch 38/100\n",
      "3900/3900 [==============================] - 0s 88us/step - loss: 1.0034 - acc: 0.6844 - val_loss: 1.0984 - val_acc: 0.6492\n",
      "Epoch 39/100\n",
      "3900/3900 [==============================] - 0s 86us/step - loss: 1.0041 - acc: 0.6864 - val_loss: 1.0473 - val_acc: 0.6718\n",
      "Epoch 40/100\n",
      "3900/3900 [==============================] - 0s 87us/step - loss: 1.0153 - acc: 0.6803 - val_loss: 1.0418 - val_acc: 0.6851\n",
      "Epoch 41/100\n",
      "3900/3900 [==============================] - 0s 88us/step - loss: 1.0420 - acc: 0.6618 - val_loss: 1.0430 - val_acc: 0.6841\n",
      "Epoch 42/100\n",
      "3900/3900 [==============================] - 0s 89us/step - loss: 1.0078 - acc: 0.6854 - val_loss: 0.9992 - val_acc: 0.6964\n",
      "Epoch 43/100\n",
      "3900/3900 [==============================] - 0s 86us/step - loss: 0.9663 - acc: 0.7113 - val_loss: 0.9884 - val_acc: 0.6892\n",
      "Epoch 44/100\n",
      "3900/3900 [==============================] - 0s 84us/step - loss: 0.9649 - acc: 0.6931 - val_loss: 0.9771 - val_acc: 0.7149\n",
      "Epoch 45/100\n",
      "3900/3900 [==============================] - 0s 86us/step - loss: 0.9765 - acc: 0.6838 - val_loss: 0.9493 - val_acc: 0.7179\n",
      "Epoch 46/100\n",
      "3900/3900 [==============================] - 0s 88us/step - loss: 0.9510 - acc: 0.7026 - val_loss: 0.9455 - val_acc: 0.7190\n",
      "Epoch 47/100\n",
      "3900/3900 [==============================] - 0s 87us/step - loss: 0.9757 - acc: 0.7046 - val_loss: 0.9872 - val_acc: 0.7067\n",
      "Epoch 48/100\n",
      "3900/3900 [==============================] - 0s 86us/step - loss: 0.9530 - acc: 0.7128 - val_loss: 0.9356 - val_acc: 0.7395\n",
      "Epoch 49/100\n",
      "3900/3900 [==============================] - 0s 87us/step - loss: 0.9809 - acc: 0.7085 - val_loss: 0.9690 - val_acc: 0.7221\n",
      "Epoch 50/100\n",
      "3900/3900 [==============================] - 0s 89us/step - loss: 0.9847 - acc: 0.6813 - val_loss: 1.0871 - val_acc: 0.6164\n",
      "Epoch 51/100\n",
      "3900/3900 [==============================] - 0s 88us/step - loss: 0.9703 - acc: 0.6967 - val_loss: 0.9803 - val_acc: 0.6862\n",
      "Epoch 52/100\n",
      "3900/3900 [==============================] - 0s 86us/step - loss: 1.0116 - acc: 0.6833 - val_loss: 1.1125 - val_acc: 0.6585\n",
      "Epoch 53/100\n",
      "3900/3900 [==============================] - 0s 87us/step - loss: 0.9881 - acc: 0.6962 - val_loss: 0.9276 - val_acc: 0.7354\n",
      "Epoch 54/100\n",
      "3900/3900 [==============================] - 0s 88us/step - loss: 0.9999 - acc: 0.6631 - val_loss: 1.0226 - val_acc: 0.6810\n",
      "Epoch 55/100\n",
      "3900/3900 [==============================] - 0s 84us/step - loss: 0.9275 - acc: 0.7197 - val_loss: 0.8873 - val_acc: 0.7231\n",
      "Epoch 56/100\n",
      "3900/3900 [==============================] - 0s 87us/step - loss: 0.9393 - acc: 0.6921 - val_loss: 0.9325 - val_acc: 0.6872\n",
      "Epoch 57/100\n",
      "3900/3900 [==============================] - 0s 83us/step - loss: 0.9555 - acc: 0.6792 - val_loss: 0.9277 - val_acc: 0.7118\n",
      "Epoch 58/100\n",
      "3900/3900 [==============================] - 0s 86us/step - loss: 0.9139 - acc: 0.7013 - val_loss: 0.8949 - val_acc: 0.7179\n",
      "Epoch 59/100\n",
      "3900/3900 [==============================] - 0s 89us/step - loss: 0.9815 - acc: 0.6756 - val_loss: 1.0368 - val_acc: 0.6554\n",
      "Epoch 60/100\n",
      "3900/3900 [==============================] - 0s 86us/step - loss: 0.9544 - acc: 0.6985 - val_loss: 0.9244 - val_acc: 0.7087\n",
      "Epoch 61/100\n",
      "3900/3900 [==============================] - 0s 84us/step - loss: 0.9514 - acc: 0.6726 - val_loss: 1.0064 - val_acc: 0.6564\n",
      "Epoch 62/100\n",
      "3900/3900 [==============================] - 0s 84us/step - loss: 1.0256 - acc: 0.6546 - val_loss: 1.0638 - val_acc: 0.6421\n",
      "Epoch 63/100\n",
      "3900/3900 [==============================] - 0s 84us/step - loss: 0.9720 - acc: 0.6726 - val_loss: 0.9199 - val_acc: 0.6759\n",
      "Epoch 64/100\n",
      "3900/3900 [==============================] - 0s 85us/step - loss: 0.9420 - acc: 0.6908 - val_loss: 0.9211 - val_acc: 0.7333\n",
      "Epoch 65/100\n",
      "3900/3900 [==============================] - 0s 84us/step - loss: 0.9192 - acc: 0.7213 - val_loss: 0.9348 - val_acc: 0.7231\n",
      "Epoch 66/100\n",
      "3900/3900 [==============================] - 0s 84us/step - loss: 0.9136 - acc: 0.7390 - val_loss: 0.8839 - val_acc: 0.7610\n",
      "Epoch 67/100\n",
      "3900/3900 [==============================] - 0s 84us/step - loss: 1.0048 - acc: 0.6821 - val_loss: 0.9512 - val_acc: 0.7056\n",
      "Epoch 68/100\n",
      "3900/3900 [==============================] - 0s 87us/step - loss: 0.9908 - acc: 0.6805 - val_loss: 0.9302 - val_acc: 0.6995\n",
      "Epoch 69/100\n",
      "3900/3900 [==============================] - 0s 84us/step - loss: 0.9096 - acc: 0.7079 - val_loss: 0.9422 - val_acc: 0.6995\n",
      "Epoch 70/100\n",
      "3900/3900 [==============================] - 0s 84us/step - loss: 0.8735 - acc: 0.7195 - val_loss: 0.8796 - val_acc: 0.7067\n",
      "Epoch 71/100\n",
      "3900/3900 [==============================] - 0s 86us/step - loss: 0.9222 - acc: 0.7103 - val_loss: 0.9419 - val_acc: 0.6974\n",
      "Epoch 72/100\n",
      "3900/3900 [==============================] - 0s 85us/step - loss: 0.8712 - acc: 0.7015 - val_loss: 0.8473 - val_acc: 0.7118\n",
      "Epoch 73/100\n",
      "3900/3900 [==============================] - 0s 84us/step - loss: 0.8694 - acc: 0.7138 - val_loss: 1.0077 - val_acc: 0.6656\n",
      "Epoch 74/100\n",
      "3900/3900 [==============================] - 0s 83us/step - loss: 0.8963 - acc: 0.7015 - val_loss: 0.9419 - val_acc: 0.7097\n",
      "Epoch 75/100\n",
      "3900/3900 [==============================] - 0s 84us/step - loss: 0.9155 - acc: 0.6774 - val_loss: 0.9520 - val_acc: 0.6892\n",
      "Epoch 76/100\n",
      "3900/3900 [==============================] - 0s 84us/step - loss: 0.9442 - acc: 0.6549 - val_loss: 0.9494 - val_acc: 0.6779\n",
      "Epoch 77/100\n",
      "3900/3900 [==============================] - 0s 85us/step - loss: 0.9647 - acc: 0.6679 - val_loss: 1.1668 - val_acc: 0.5918\n",
      "Epoch 78/100\n",
      "3900/3900 [==============================] - 0s 85us/step - loss: 0.9460 - acc: 0.7149 - val_loss: 0.9196 - val_acc: 0.7426\n",
      "Epoch 79/100\n",
      "3900/3900 [==============================] - 0s 85us/step - loss: 0.9435 - acc: 0.7049 - val_loss: 0.9354 - val_acc: 0.7056\n",
      "Epoch 80/100\n",
      "3900/3900 [==============================] - 0s 84us/step - loss: 0.9401 - acc: 0.6836 - val_loss: 0.9480 - val_acc: 0.6923\n",
      "Epoch 81/100\n",
      "3900/3900 [==============================] - 0s 84us/step - loss: 1.1266 - acc: 0.6364 - val_loss: 1.0836 - val_acc: 0.6338\n",
      "Epoch 82/100\n",
      "3900/3900 [==============================] - 0s 83us/step - loss: 1.0395 - acc: 0.6590 - val_loss: 0.9799 - val_acc: 0.6995\n",
      "Epoch 83/100\n",
      "3900/3900 [==============================] - 0s 86us/step - loss: 0.9386 - acc: 0.7167 - val_loss: 0.9893 - val_acc: 0.6913\n",
      "Epoch 84/100\n",
      "3900/3900 [==============================] - 0s 84us/step - loss: 1.0532 - acc: 0.6464 - val_loss: 1.0792 - val_acc: 0.6400\n",
      "Epoch 85/100\n",
      "3900/3900 [==============================] - 0s 86us/step - loss: 0.9692 - acc: 0.6782 - val_loss: 0.9660 - val_acc: 0.6872\n",
      "Epoch 86/100\n",
      "3900/3900 [==============================] - 0s 85us/step - loss: 0.9180 - acc: 0.7103 - val_loss: 0.9123 - val_acc: 0.6964\n",
      "Epoch 87/100\n",
      "3900/3900 [==============================] - 0s 85us/step - loss: 0.8960 - acc: 0.6895 - val_loss: 0.9728 - val_acc: 0.6779\n",
      "Epoch 88/100\n",
      "3900/3900 [==============================] - 0s 86us/step - loss: 0.9470 - acc: 0.6797 - val_loss: 0.9306 - val_acc: 0.6841\n",
      "Epoch 89/100\n",
      "3900/3900 [==============================] - 0s 85us/step - loss: 0.9247 - acc: 0.7159 - val_loss: 0.9371 - val_acc: 0.7210\n",
      "Epoch 90/100\n",
      "3900/3900 [==============================] - 0s 85us/step - loss: 0.9330 - acc: 0.7118 - val_loss: 0.8660 - val_acc: 0.7405\n",
      "Epoch 91/100\n",
      "3900/3900 [==============================] - 0s 85us/step - loss: 0.9227 - acc: 0.7090 - val_loss: 0.9118 - val_acc: 0.7087\n",
      "Epoch 92/100\n",
      "3900/3900 [==============================] - 0s 86us/step - loss: 0.8706 - acc: 0.7044 - val_loss: 0.9070 - val_acc: 0.6759\n",
      "Epoch 93/100\n",
      "3900/3900 [==============================] - 0s 85us/step - loss: 0.8561 - acc: 0.6959 - val_loss: 0.8938 - val_acc: 0.6923\n",
      "Epoch 94/100\n",
      "3900/3900 [==============================] - 0s 85us/step - loss: 0.9250 - acc: 0.6841 - val_loss: 0.9983 - val_acc: 0.6462\n",
      "Epoch 95/100\n",
      "3900/3900 [==============================] - 0s 85us/step - loss: 0.9359 - acc: 0.6790 - val_loss: 0.9525 - val_acc: 0.7077\n",
      "Epoch 96/100\n",
      "3900/3900 [==============================] - 0s 85us/step - loss: 0.9402 - acc: 0.7046 - val_loss: 0.9147 - val_acc: 0.7262\n",
      "Epoch 97/100\n",
      "3900/3900 [==============================] - 0s 85us/step - loss: 0.8656 - acc: 0.7259 - val_loss: 0.8457 - val_acc: 0.7662\n",
      "Epoch 98/100\n",
      "3900/3900 [==============================] - 0s 86us/step - loss: 0.8999 - acc: 0.7210 - val_loss: 1.1155 - val_acc: 0.5805\n",
      "Epoch 99/100\n",
      "3900/3900 [==============================] - 0s 85us/step - loss: 1.2462 - acc: 0.5295 - val_loss: 1.1867 - val_acc: 0.5764\n",
      "Epoch 100/100\n",
      "3900/3900 [==============================] - 0s 86us/step - loss: 1.2431 - acc: 0.5290 - val_loss: 1.1066 - val_acc: 0.6174\n"
     ]
    }
   ],
   "source": [
    "model_2 = Sequential() # declare model\n",
    "model_2.add(Dense(10, input_shape=(28*28, ), kernel_initializer='he_normal')) # first layer\n",
    "model_2.add(Activation('relu'))\n",
    "# Fill in Model Here\n",
    "model_2.add(Dense(10, activation=\"sigmoid\", kernel_initializer=\"he_normal\"))\n",
    "model_2.add(Dense(10, activation=\"sigmoid\", kernel_initializer=\"he_normal\"))\n",
    "#\n",
    "model_2.add(Dense(10, kernel_initializer='he_normal')) # last layer\n",
    "model_2.add(Activation('softmax'))\n",
    "\n",
    "\n",
    "# Compile Model\n",
    "model_2.compile(optimizer='sgd',\n",
    "              loss='categorical_crossentropy', \n",
    "              metrics=['accuracy'])\n",
    "\n",
    "# Train Model\n",
    "history_2 = model_2.fit(train_img, train_lab, \n",
    "                    validation_data = (validation_img, validation_lab), \n",
    "                    epochs=100, \n",
    "                    batch_size=16)"
   ]
  },
  {
   "cell_type": "code",
   "execution_count": 34,
   "metadata": {},
   "outputs": [
    {
     "data": {
      "image/png": "[encoded data removed]",
      "text/plain": [
       "<Figure size 432x288 with 1 Axes>"
      ]
     },
     "metadata": {},
     "output_type": "display_data"
    }
   ],
   "source": [
    "#Plot\n",
    "plot_acc(history_2)"
   ]
  },
  {
   "cell_type": "code",
   "execution_count": 35,
   "metadata": {},
   "outputs": [
    {
     "name": "stdout",
     "output_type": "stream",
     "text": [
      "Confusion matrix, without normalization\n",
      "[[ 89   0   0  62   0   6   0   2   4   0]\n",
      " [  0 138   0   0   0   0   0  11  33   0]\n",
      " [  0   5  68   2   6   2  18   5  53   0]\n",
      " [  1   1   2  71   0  41   1   5  45   0]\n",
      " [  0   0   3   0 120   0   2  23   1  14]\n",
      " [ 18   0   1  37   0  48   8   5  24   1]\n",
      " [  4   0  10   1  10   3 135   0   3   0]\n",
      " [  0   2   0   1   3   0   0 157   3   6]\n",
      " [  0   2   3   9   0   1   0   9 126   0]\n",
      " [  0   1   0   3   8   1   0 131   1  16]]\n",
      "\n",
      "Accuracy:  0.5956923076923077\n"
     ]
    },
    {
     "data": {
      "image/png": "[encoded data removed]",
      "text/plain": [
       "<Figure size 432x288 with 2 Axes>"
      ]
     },
     "metadata": {},
     "output_type": "display_data"
    }
   ],
   "source": [
    "prediction_2 = model_2.predict(test_img)\n",
    "plot_confusion_matrix(prediction=prediction_2)"
   ]
  },
  {
   "cell_type": "code",
   "execution_count": null,
   "metadata": {},
   "outputs": [],
   "source": []
  },
  {
   "cell_type": "code",
   "execution_count": 36,
   "metadata": {},
   "outputs": [],
   "source": [
    "#Activation: Relu, Selu, Tanh\n",
    "#Initializer: he_normal, random_normal, \n",
    "#User bias: True, False\n",
    "#Layer number:\n",
    "#Neuron number: \n",
    "#Epoch number:\n",
    "#Batch size: "
   ]
  },
  {
   "cell_type": "code",
   "execution_count": null,
   "metadata": {},
   "outputs": [],
   "source": []
  },
  {
   "cell_type": "code",
   "execution_count": 14,
   "metadata": {},
   "outputs": [],
   "source": [
    "#Fourth model (Best so far)\n",
    "#Activation: relu\n",
    "#Initialization: random_normal\n",
    "#Layer number: 2\n",
    "#Node number for each layer: 80, 80, 10\n",
    "#Epochs: 20\n",
    "#Batch size: 16"
   ]
  },
  {
   "cell_type": "code",
   "execution_count": 23,
   "metadata": {},
   "outputs": [
    {
     "name": "stdout",
     "output_type": "stream",
     "text": [
      "Train on 3900 samples, validate on 975 samples\n",
      "Epoch 1/20\n",
      "3900/3900 [==============================] - 1s 166us/step - loss: 1.0598 - acc: 0.6451 - val_loss: 0.5050 - val_acc: 0.8513\n",
      "Epoch 2/20\n",
      "3900/3900 [==============================] - 0s 108us/step - loss: 0.4514 - acc: 0.8579 - val_loss: 0.4561 - val_acc: 0.8656\n",
      "Epoch 3/20\n",
      "3900/3900 [==============================] - 0s 110us/step - loss: 0.3047 - acc: 0.9103 - val_loss: 0.4537 - val_acc: 0.8892\n",
      "Epoch 4/20\n",
      "3900/3900 [==============================] - 0s 111us/step - loss: 0.2192 - acc: 0.9326 - val_loss: 0.3808 - val_acc: 0.9015\n",
      "Epoch 5/20\n",
      "3900/3900 [==============================] - 0s 109us/step - loss: 0.1650 - acc: 0.9497 - val_loss: 0.3655 - val_acc: 0.9056\n",
      "Epoch 6/20\n",
      "3900/3900 [==============================] - 0s 118us/step - loss: 0.1367 - acc: 0.9587 - val_loss: 0.3765 - val_acc: 0.9179\n",
      "Epoch 7/20\n",
      "3900/3900 [==============================] - 0s 110us/step - loss: 0.1053 - acc: 0.9695 - val_loss: 0.4771 - val_acc: 0.9169\n",
      "Epoch 8/20\n",
      "3900/3900 [==============================] - 1s 129us/step - loss: 0.0849 - acc: 0.9733 - val_loss: 0.5075 - val_acc: 0.9046\n",
      "Epoch 9/20\n",
      "3900/3900 [==============================] - 0s 112us/step - loss: 0.0647 - acc: 0.9792 - val_loss: 0.3856 - val_acc: 0.9303\n",
      "Epoch 10/20\n",
      "3900/3900 [==============================] - 0s 114us/step - loss: 0.0638 - acc: 0.9836 - val_loss: 0.3950 - val_acc: 0.9251\n",
      "Epoch 11/20\n",
      "3900/3900 [==============================] - 0s 109us/step - loss: 0.0668 - acc: 0.9815 - val_loss: 0.5699 - val_acc: 0.9015\n",
      "Epoch 12/20\n",
      "3900/3900 [==============================] - 0s 112us/step - loss: 0.0415 - acc: 0.9877 - val_loss: 0.6093 - val_acc: 0.8974\n",
      "Epoch 13/20\n",
      "3900/3900 [==============================] - 0s 113us/step - loss: 0.0469 - acc: 0.9867 - val_loss: 0.5308 - val_acc: 0.9036\n",
      "Epoch 14/20\n",
      "3900/3900 [==============================] - 0s 120us/step - loss: 0.0341 - acc: 0.9903 - val_loss: 0.4221 - val_acc: 0.9303\n",
      "Epoch 15/20\n",
      "3900/3900 [==============================] - 0s 124us/step - loss: 0.0102 - acc: 0.9967 - val_loss: 0.4236 - val_acc: 0.9292\n",
      "Epoch 16/20\n",
      "3900/3900 [==============================] - 0s 112us/step - loss: 0.0076 - acc: 0.9977 - val_loss: 0.6073 - val_acc: 0.9118\n",
      "Epoch 17/20\n",
      "3900/3900 [==============================] - 1s 130us/step - loss: 0.0135 - acc: 0.9959 - val_loss: 0.4877 - val_acc: 0.9210\n",
      "Epoch 18/20\n",
      "3900/3900 [==============================] - 0s 112us/step - loss: 0.3425 - acc: 0.9426 - val_loss: 0.5293 - val_acc: 0.9108\n",
      "Epoch 19/20\n",
      "3900/3900 [==============================] - 0s 112us/step - loss: 0.1250 - acc: 0.9705 - val_loss: 0.4459 - val_acc: 0.9241\n",
      "Epoch 20/20\n",
      "3900/3900 [==============================] - 0s 119us/step - loss: 0.0271 - acc: 0.9915 - val_loss: 0.4405 - val_acc: 0.9282\n"
     ]
    }
   ],
   "source": [
    "model_4 = Sequential() # declare model\n",
    "model_4.add(Dense(80, input_shape=(28*28, ), kernel_initializer='random_normal')) # first layer\n",
    "model_4.add(Activation('relu'))\n",
    "#\n",
    "model_4.add(Dense(80, activation=\"relu\", kernel_initializer=\"random_normal\", bias_initializer=\"random_normal\"))\n",
    "model_4.add(Dense(10, activation=\"relu\", kernel_initializer=\"random_normal\", bias_initializer=\"random_normal\"))\n",
    "#\n",
    "model_4.add(Dense(10, kernel_initializer='random_normal')) # last layer\n",
    "model_4.add(Activation('softmax'))\n",
    "\n",
    "\n",
    "# Compile Model\n",
    "model_4.compile(optimizer='sgd',\n",
    "              loss='categorical_crossentropy', \n",
    "              metrics=['accuracy'])\n",
    "\n",
    "# Train Model\n",
    "history_4 = model_4.fit(train_img, train_lab, \n",
    "                    validation_data = (validation_img, validation_lab), \n",
    "                    epochs=20, \n",
    "                    batch_size=16)"
   ]
  },
  {
   "cell_type": "code",
   "execution_count": 24,
   "metadata": {},
   "outputs": [
    {
     "data": {
      "image/png": "[encoded data removed]",
      "text/plain": [
       "<Figure size 432x288 with 1 Axes>"
      ]
     },
     "metadata": {},
     "output_type": "display_data"
    }
   ],
   "source": [
    "plot_acc(history_4)"
   ]
  },
  {
   "cell_type": "code",
   "execution_count": 41,
   "metadata": {},
   "outputs": [
    {
     "name": "stdout",
     "output_type": "stream",
     "text": [
      "Confusion matrix, without normalization\n",
      "[[160   0   0   0   0   3   0   0   0   0]\n",
      " [  0 178   0   0   0   0   0   2   2   0]\n",
      " [  1   2 144   2   3   0   2   1   4   0]\n",
      " [  0   0   2 147   0  10   1   2   4   1]\n",
      " [  2   0   1   0 156   0   1   1   0   2]\n",
      " [  2   0   0   2   0 128   5   0   5   0]\n",
      " [  1   0   0   0   0   1 161   0   3   0]\n",
      " [  3   1   1   2   3   0   0 157   1   4]\n",
      " [  1   0   1   6   0   1   3   0 138   0]\n",
      " [  1   1   0   1   1   1   0   4   1 151]]\n",
      "\n",
      "Accuracy:  0.9353846153846154\n"
     ]
    },
    {
     "data": {
      "image/png": "[encoded data removed]",
      "text/plain": [
       "<Figure size 432x288 with 2 Axes>"
      ]
     },
     "metadata": {},
     "output_type": "display_data"
    }
   ],
   "source": [
    "prediction_4 = model_4.predict(test_img)\n",
    "plot_confusion_matrix(prediction_4)"
   ]
  },
  {
   "cell_type": "code",
   "execution_count": 42,
   "metadata": {},
   "outputs": [
    {
     "name": "stdout",
     "output_type": "stream",
     "text": [
      "[0.98159509 0.97802198 0.90566038 0.88023952 0.95705521 0.90140845\n",
      " 0.96987952 0.9127907  0.92       0.9378882 ]\n"
     ]
    }
   ],
   "source": [
    "recall_4 = recall_score(np.argmax(test_lab, axis=1), np.argmax(prediction_4, axis=1), labels=list(range(10)), average=None)\n",
    "print recall_4"
   ]
  },
  {
   "cell_type": "code",
   "execution_count": 43,
   "metadata": {},
   "outputs": [
    {
     "name": "stdout",
     "output_type": "stream",
     "text": [
      "[0.93567251 0.97802198 0.96644295 0.91875    0.95705521 0.88888889\n",
      " 0.93063584 0.94011976 0.87341772 0.9556962 ]\n"
     ]
    }
   ],
   "source": [
    "precision_4 = precision_score(np.argmax(test_lab, axis=1), np.argmax(prediction_4, axis=1), labels=list(range(10)), average=None)\n",
    "print precision_4"
   ]
  },
  {
   "cell_type": "code",
   "execution_count": 44,
   "metadata": {},
   "outputs": [
    {
     "name": "stdout",
     "output_type": "stream",
     "text": [
      "[10, 35, 37, 42, 64, 105, 107, 109, 123, 138, 141, 157, 160, 174, 214, 246, 252, 253, 271, 272, 275, 303, 314, 321, 351, 386, 390, 418, 443, 467, 475, 494, 523, 540, 545, 551, 559, 562, 584, 594, 623, 633, 639, 642, 659, 669, 671, 674, 678, 694, 702, 738, 750, 784, 788, 826, 832, 843, 861, 868, 885, 893, 905, 942, 947, 955, 957, 974, 985, 1001, 1019, 1058, 1062, 1076, 1091, 1106, 1122, 1136, 1149, 1150, 1160, 1162, 1170, 1181, 1188, 1195, 1210, 1225, 1271, 1298, 1313, 1318, 1335, 1351, 1362, 1383, 1442, 1474, 1481, 1493, 1499, 1514, 1548, 1556, 1589]\n"
     ]
    }
   ],
   "source": [
    "#Get a list of incorrect prediction indexes\n",
    "incorrect_list_4 = wrong_list(prediction_4)\n",
    "print incorrect_list_4\n",
    "# print len(incorrect_list_4)"
   ]
  },
  {
   "cell_type": "code",
   "execution_count": 45,
   "metadata": {},
   "outputs": [
    {
     "name": "stdout",
     "output_type": "stream",
     "text": [
      "Label supported to be:  7\n",
      "Prediction:  9\n"
     ]
    },
    {
     "data": {
      "image/png": "[encoded data removed]",
      "text/plain": [
       "<Figure size 432x288 with 1 Axes>"
      ]
     },
     "metadata": {},
     "output_type": "display_data"
    }
   ],
   "source": [
    "#Visualize incorrect prediction\n",
    "print \"Label supported to be: \", np.argmax(test_lab[10,])\n",
    "print \"Prediction: \", np.argmax(prediction_4[10,])\n",
    "show_pic(test_img[10,])"
   ]
  },
  {
   "cell_type": "code",
   "execution_count": 46,
   "metadata": {},
   "outputs": [
    {
     "name": "stdout",
     "output_type": "stream",
     "text": [
      "Label supported to be:  3\n",
      "Prediction:  8\n"
     ]
    },
    {
     "data": {
      "image/png": "[encoded data removed]",
      "text/plain": [
       "<Figure size 432x288 with 1 Axes>"
      ]
     },
     "metadata": {},
     "output_type": "display_data"
    }
   ],
   "source": [
    "#Visualize incorrect prediction\n",
    "print \"Label supported to be: \", np.argmax(test_lab[35,])\n",
    "print \"Prediction: \", np.argmax(prediction_4[35,])\n",
    "show_pic(test_img[35,])"
   ]
  },
  {
   "cell_type": "code",
   "execution_count": 47,
   "metadata": {},
   "outputs": [
    {
     "name": "stdout",
     "output_type": "stream",
     "text": [
      "Label supported to be:  7\n",
      "Prediction:  9\n"
     ]
    },
    {
     "data": {
      "image/png": "[encoded data removed]",
      "text/plain": [
       "<Figure size 432x288 with 1 Axes>"
      ]
     },
     "metadata": {},
     "output_type": "display_data"
    }
   ],
   "source": [
    "#Visualize incorrect prediction\n",
    "print \"Label supported to be: \", np.argmax(test_lab[42,])\n",
    "print \"Prediction: \", np.argmax(prediction_4[42,])\n",
    "show_pic(test_img[42,])"
   ]
  },
  {
   "cell_type": "code",
   "execution_count": 48,
   "metadata": {},
   "outputs": [],
   "source": [
    "# #Save best model\n",
    "# #Try python 3\n",
    "# import h5py\n",
    "# model_4.save(\"/Users/leishi/Desktop/trained_model.h5\")"
   ]
  },
  {
   "cell_type": "code",
   "execution_count": null,
   "metadata": {},
   "outputs": [],
   "source": []
  },
  {
   "cell_type": "code",
   "execution_count": null,
   "metadata": {},
   "outputs": [],
   "source": [
    "#Model 3\n",
    "#Activation: selu\n",
    "#Initialization: he_normal\n",
    "#Layer number: 1\n",
    "#Node number for each layer: 20, 20\n",
    "#Epochs: 10\n",
    "#Batch size: 256"
   ]
  },
  {
   "cell_type": "code",
   "execution_count": 49,
   "metadata": {},
   "outputs": [
    {
     "name": "stdout",
     "output_type": "stream",
     "text": [
      "Train on 3900 samples, validate on 975 samples\n",
      "Epoch 1/10\n",
      "3900/3900 [==============================] - 0s 83us/step - loss: 12.9241 - acc: 0.1856 - val_loss: 12.1597 - val_acc: 0.2400\n",
      "Epoch 2/10\n",
      "3900/3900 [==============================] - 0s 15us/step - loss: 10.5314 - acc: 0.3415 - val_loss: 9.9709 - val_acc: 0.3795\n",
      "Epoch 3/10\n",
      "3900/3900 [==============================] - 0s 19us/step - loss: 9.9272 - acc: 0.3803 - val_loss: 11.1183 - val_acc: 0.3067\n",
      "Epoch 4/10\n",
      "3900/3900 [==============================] - 0s 16us/step - loss: 10.4898 - acc: 0.3467 - val_loss: 11.1091 - val_acc: 0.3108\n",
      "Epoch 5/10\n",
      "3900/3900 [==============================] - 0s 14us/step - loss: 10.9546 - acc: 0.3192 - val_loss: 10.6495 - val_acc: 0.3333\n",
      "Epoch 6/10\n",
      "3900/3900 [==============================] - 0s 15us/step - loss: 10.0550 - acc: 0.3754 - val_loss: 9.9103 - val_acc: 0.3846\n",
      "Epoch 7/10\n",
      "3900/3900 [==============================] - 0s 18us/step - loss: 9.9131 - acc: 0.3844 - val_loss: 9.7522 - val_acc: 0.3949\n",
      "Epoch 8/10\n",
      "3900/3900 [==============================] - 0s 15us/step - loss: 9.8065 - acc: 0.3905 - val_loss: 9.7019 - val_acc: 0.3969\n",
      "Epoch 9/10\n",
      "3900/3900 [==============================] - 0s 13us/step - loss: 9.6584 - acc: 0.4003 - val_loss: 9.7535 - val_acc: 0.3949\n",
      "Epoch 10/10\n",
      "3900/3900 [==============================] - 0s 14us/step - loss: 9.6481 - acc: 0.4010 - val_loss: 9.6574 - val_acc: 0.4000\n"
     ]
    }
   ],
   "source": [
    "model_3, history_3 = build_train_mod(act=\"selu\", init=\"he_normal\", perceptrons=[20, 20], epo=10, b_s=256)"
   ]
  },
  {
   "cell_type": "code",
   "execution_count": 50,
   "metadata": {},
   "outputs": [
    {
     "data": {
      "image/png": "[encoded data removed]",
      "text/plain": [
       "<Figure size 432x288 with 1 Axes>"
      ]
     },
     "metadata": {},
     "output_type": "display_data"
    }
   ],
   "source": [
    "plot_acc(history_3)"
   ]
  },
  {
   "cell_type": "code",
   "execution_count": null,
   "metadata": {},
   "outputs": [],
   "source": []
  },
  {
   "cell_type": "code",
   "execution_count": 51,
   "metadata": {},
   "outputs": [],
   "source": [
    "#Model 5"
   ]
  },
  {
   "cell_type": "code",
   "execution_count": 139,
   "metadata": {},
   "outputs": [
    {
     "name": "stdout",
     "output_type": "stream",
     "text": [
      "Train on 3900 samples, validate on 975 samples\n",
      "Epoch 1/50\n",
      "3900/3900 [==============================] - 1s 310us/step - loss: 6.7753 - acc: 0.3708 - val_loss: 0.9161 - val_acc: 0.7200\n",
      "Epoch 2/50\n",
      "3900/3900 [==============================] - 0s 32us/step - loss: 0.6767 - acc: 0.7921 - val_loss: 0.7639 - val_acc: 0.7867\n",
      "Epoch 3/50\n",
      "3900/3900 [==============================] - 0s 34us/step - loss: 0.3886 - acc: 0.8728 - val_loss: 0.5423 - val_acc: 0.8462\n",
      "Epoch 4/50\n",
      "3900/3900 [==============================] - 0s 33us/step - loss: 0.2638 - acc: 0.9154 - val_loss: 0.5074 - val_acc: 0.8574\n",
      "Epoch 5/50\n",
      "3900/3900 [==============================] - 0s 33us/step - loss: 0.1911 - acc: 0.9410 - val_loss: 0.4829 - val_acc: 0.8687\n",
      "Epoch 6/50\n",
      "3900/3900 [==============================] - 0s 34us/step - loss: 0.1389 - acc: 0.9569 - val_loss: 0.4403 - val_acc: 0.8841\n",
      "Epoch 7/50\n",
      "3900/3900 [==============================] - 0s 30us/step - loss: 0.1074 - acc: 0.9677 - val_loss: 0.4922 - val_acc: 0.8749\n",
      "Epoch 8/50\n",
      "3900/3900 [==============================] - 0s 30us/step - loss: 0.0803 - acc: 0.9772 - val_loss: 0.4415 - val_acc: 0.8923\n",
      "Epoch 9/50\n",
      "3900/3900 [==============================] - 0s 35us/step - loss: 0.0589 - acc: 0.9862 - val_loss: 0.4614 - val_acc: 0.8892\n",
      "Epoch 10/50\n",
      "3900/3900 [==============================] - 0s 34us/step - loss: 0.0466 - acc: 0.9897 - val_loss: 0.4436 - val_acc: 0.8954\n",
      "Epoch 11/50\n",
      "3900/3900 [==============================] - 0s 36us/step - loss: 0.0357 - acc: 0.9941 - val_loss: 0.4488 - val_acc: 0.8923\n",
      "Epoch 12/50\n",
      "3900/3900 [==============================] - 0s 35us/step - loss: 0.0290 - acc: 0.9962 - val_loss: 0.4519 - val_acc: 0.8944\n",
      "Epoch 13/50\n",
      "3900/3900 [==============================] - 0s 35us/step - loss: 0.0227 - acc: 0.9964 - val_loss: 0.4808 - val_acc: 0.8954\n",
      "Epoch 14/50\n",
      "3900/3900 [==============================] - 0s 36us/step - loss: 0.0204 - acc: 0.9972 - val_loss: 0.4540 - val_acc: 0.8954\n",
      "Epoch 15/50\n",
      "3900/3900 [==============================] - 0s 32us/step - loss: 0.0151 - acc: 0.9992 - val_loss: 0.4567 - val_acc: 0.8995\n",
      "Epoch 16/50\n",
      "3900/3900 [==============================] - 0s 37us/step - loss: 0.0125 - acc: 0.9995 - val_loss: 0.4696 - val_acc: 0.8974\n",
      "Epoch 17/50\n",
      "3900/3900 [==============================] - 0s 36us/step - loss: 0.0108 - acc: 0.9997 - val_loss: 0.4639 - val_acc: 0.9005\n",
      "Epoch 18/50\n",
      "3900/3900 [==============================] - 0s 34us/step - loss: 0.0094 - acc: 0.9997 - val_loss: 0.4684 - val_acc: 0.9036\n",
      "Epoch 19/50\n",
      "3900/3900 [==============================] - 0s 34us/step - loss: 0.0082 - acc: 0.9997 - val_loss: 0.4737 - val_acc: 0.8964\n",
      "Epoch 20/50\n",
      "3900/3900 [==============================] - 0s 30us/step - loss: 0.0072 - acc: 0.9997 - val_loss: 0.4760 - val_acc: 0.8995\n",
      "Epoch 21/50\n",
      "3900/3900 [==============================] - 0s 30us/step - loss: 0.0065 - acc: 1.0000 - val_loss: 0.4808 - val_acc: 0.8985\n",
      "Epoch 22/50\n",
      "3900/3900 [==============================] - 0s 32us/step - loss: 0.0059 - acc: 1.0000 - val_loss: 0.4832 - val_acc: 0.8995\n",
      "Epoch 23/50\n",
      "3900/3900 [==============================] - 0s 34us/step - loss: 0.0054 - acc: 1.0000 - val_loss: 0.4850 - val_acc: 0.9005\n",
      "Epoch 24/50\n",
      "3900/3900 [==============================] - 0s 39us/step - loss: 0.0049 - acc: 1.0000 - val_loss: 0.4909 - val_acc: 0.8995\n",
      "Epoch 25/50\n",
      "3900/3900 [==============================] - 0s 36us/step - loss: 0.0045 - acc: 1.0000 - val_loss: 0.4885 - val_acc: 0.8995\n",
      "Epoch 26/50\n",
      "3900/3900 [==============================] - 0s 38us/step - loss: 0.0042 - acc: 1.0000 - val_loss: 0.4905 - val_acc: 0.8995\n",
      "Epoch 27/50\n",
      "3900/3900 [==============================] - 0s 32us/step - loss: 0.0040 - acc: 1.0000 - val_loss: 0.4930 - val_acc: 0.8985\n",
      "Epoch 28/50\n",
      "3900/3900 [==============================] - 0s 35us/step - loss: 0.0037 - acc: 1.0000 - val_loss: 0.4965 - val_acc: 0.8985\n",
      "Epoch 29/50\n",
      "3900/3900 [==============================] - 0s 37us/step - loss: 0.0035 - acc: 1.0000 - val_loss: 0.4948 - val_acc: 0.8985\n",
      "Epoch 30/50\n",
      "3900/3900 [==============================] - 0s 36us/step - loss: 0.0033 - acc: 1.0000 - val_loss: 0.4974 - val_acc: 0.9005\n",
      "Epoch 31/50\n",
      "3900/3900 [==============================] - 0s 35us/step - loss: 0.0031 - acc: 1.0000 - val_loss: 0.4993 - val_acc: 0.9005\n",
      "Epoch 32/50\n",
      "3900/3900 [==============================] - 0s 33us/step - loss: 0.0029 - acc: 1.0000 - val_loss: 0.5010 - val_acc: 0.9005\n",
      "Epoch 33/50\n",
      "3900/3900 [==============================] - 0s 36us/step - loss: 0.0028 - acc: 1.0000 - val_loss: 0.5023 - val_acc: 0.8995\n",
      "Epoch 34/50\n",
      "3900/3900 [==============================] - 0s 38us/step - loss: 0.0027 - acc: 1.0000 - val_loss: 0.5045 - val_acc: 0.8995\n",
      "Epoch 35/50\n",
      "3900/3900 [==============================] - 0s 34us/step - loss: 0.0025 - acc: 1.0000 - val_loss: 0.5040 - val_acc: 0.8995\n",
      "Epoch 36/50\n",
      "3900/3900 [==============================] - 0s 35us/step - loss: 0.0024 - acc: 1.0000 - val_loss: 0.5050 - val_acc: 0.8995\n",
      "Epoch 37/50\n",
      "3900/3900 [==============================] - 0s 34us/step - loss: 0.0023 - acc: 1.0000 - val_loss: 0.5047 - val_acc: 0.8995\n",
      "Epoch 38/50\n",
      "3900/3900 [==============================] - 0s 28us/step - loss: 0.0022 - acc: 1.0000 - val_loss: 0.5055 - val_acc: 0.9005\n",
      "Epoch 39/50\n",
      "3900/3900 [==============================] - 0s 31us/step - loss: 0.0021 - acc: 1.0000 - val_loss: 0.5066 - val_acc: 0.9005\n",
      "Epoch 40/50\n",
      "3900/3900 [==============================] - 0s 35us/step - loss: 0.0020 - acc: 1.0000 - val_loss: 0.5083 - val_acc: 0.9005\n",
      "Epoch 41/50\n",
      "3900/3900 [==============================] - 0s 31us/step - loss: 0.0020 - acc: 1.0000 - val_loss: 0.5083 - val_acc: 0.9015\n",
      "Epoch 42/50\n",
      "3900/3900 [==============================] - 0s 31us/step - loss: 0.0019 - acc: 1.0000 - val_loss: 0.5089 - val_acc: 0.8995\n",
      "Epoch 43/50\n",
      "3900/3900 [==============================] - 0s 39us/step - loss: 0.0018 - acc: 1.0000 - val_loss: 0.5105 - val_acc: 0.9015\n",
      "Epoch 44/50\n",
      "3900/3900 [==============================] - 0s 39us/step - loss: 0.0017 - acc: 1.0000 - val_loss: 0.5096 - val_acc: 0.9026\n",
      "Epoch 45/50\n",
      "3900/3900 [==============================] - 0s 37us/step - loss: 0.0017 - acc: 1.0000 - val_loss: 0.5126 - val_acc: 0.9005\n",
      "Epoch 46/50\n",
      "3900/3900 [==============================] - 0s 35us/step - loss: 0.0016 - acc: 1.0000 - val_loss: 0.5116 - val_acc: 0.9036\n",
      "Epoch 47/50\n",
      "3900/3900 [==============================] - 0s 32us/step - loss: 0.0016 - acc: 1.0000 - val_loss: 0.5127 - val_acc: 0.9015\n",
      "Epoch 48/50\n",
      "3900/3900 [==============================] - 0s 29us/step - loss: 0.0015 - acc: 1.0000 - val_loss: 0.5132 - val_acc: 0.9036\n",
      "Epoch 49/50\n",
      "3900/3900 [==============================] - 0s 28us/step - loss: 0.0015 - acc: 1.0000 - val_loss: 0.5148 - val_acc: 0.9026\n",
      "Epoch 50/50\n",
      "3900/3900 [==============================] - 0s 35us/step - loss: 0.0014 - acc: 1.0000 - val_loss: 0.5148 - val_acc: 0.9036\n"
     ]
    }
   ],
   "source": [
    "model_5, history_5 = build_train_mod(act=\"selu\", init=\"random_normal\", perceptrons=[80, 80], epo=50, b_s=128)"
   ]
  },
  {
   "cell_type": "code",
   "execution_count": 140,
   "metadata": {},
   "outputs": [
    {
     "data": {
      "image/png": "[encoded data removed]",
      "text/plain": [
       "<Figure size 432x288 with 1 Axes>"
      ]
     },
     "metadata": {},
     "output_type": "display_data"
    }
   ],
   "source": [
    "plot_acc(history_5)"
   ]
  },
  {
   "cell_type": "code",
   "execution_count": null,
   "metadata": {},
   "outputs": [],
   "source": []
  },
  {
   "cell_type": "code",
   "execution_count": null,
   "metadata": {},
   "outputs": [],
   "source": [
    "#Best so far\n",
    "#Model 6"
   ]
  },
  {
   "cell_type": "code",
   "execution_count": 100,
   "metadata": {},
   "outputs": [
    {
     "name": "stdout",
     "output_type": "stream",
     "text": [
      "Train on 3900 samples, validate on 975 samples\n",
      "Epoch 1/20\n",
      "3900/3900 [==============================] - 1s 320us/step - loss: 1.2128 - acc: 0.5777 - val_loss: 0.6428 - val_acc: 0.7805\n",
      "Epoch 2/20\n",
      "3900/3900 [==============================] - 1s 135us/step - loss: 0.4927 - acc: 0.8508 - val_loss: 0.4272 - val_acc: 0.8738\n",
      "Epoch 3/20\n",
      "3900/3900 [==============================] - 1s 136us/step - loss: 0.2694 - acc: 0.9156 - val_loss: 0.3302 - val_acc: 0.9210\n",
      "Epoch 4/20\n",
      "3900/3900 [==============================] - 1s 145us/step - loss: 0.1975 - acc: 0.9400 - val_loss: 0.3035 - val_acc: 0.9169\n",
      "Epoch 5/20\n",
      "3900/3900 [==============================] - 1s 142us/step - loss: 0.1363 - acc: 0.9608 - val_loss: 0.3019 - val_acc: 0.9262\n",
      "Epoch 6/20\n",
      "3900/3900 [==============================] - 1s 140us/step - loss: 0.1086 - acc: 0.9692 - val_loss: 0.2593 - val_acc: 0.9374\n",
      "Epoch 7/20\n",
      "3900/3900 [==============================] - 1s 143us/step - loss: 0.0734 - acc: 0.9764 - val_loss: 0.3356 - val_acc: 0.9251\n",
      "Epoch 8/20\n",
      "3900/3900 [==============================] - 1s 147us/step - loss: 0.0853 - acc: 0.9772 - val_loss: 0.3948 - val_acc: 0.9108\n",
      "Epoch 9/20\n",
      "3900/3900 [==============================] - 1s 150us/step - loss: 0.0581 - acc: 0.9821 - val_loss: 0.3698 - val_acc: 0.9221\n",
      "Epoch 10/20\n",
      "3900/3900 [==============================] - 1s 146us/step - loss: 0.0456 - acc: 0.9867 - val_loss: 0.3927 - val_acc: 0.9241\n",
      "Epoch 11/20\n",
      "3900/3900 [==============================] - 1s 147us/step - loss: 0.0491 - acc: 0.9846 - val_loss: 0.3550 - val_acc: 0.9333\n",
      "Epoch 12/20\n",
      "3900/3900 [==============================] - 1s 143us/step - loss: 0.1040 - acc: 0.9713 - val_loss: 0.5873 - val_acc: 0.8862\n",
      "Epoch 13/20\n",
      "3900/3900 [==============================] - 1s 146us/step - loss: 0.1064 - acc: 0.9744 - val_loss: 0.3257 - val_acc: 0.9333\n",
      "Epoch 14/20\n",
      "3900/3900 [==============================] - 1s 162us/step - loss: 0.0289 - acc: 0.9895 - val_loss: 0.3449 - val_acc: 0.9426\n",
      "Epoch 15/20\n",
      "3900/3900 [==============================] - 1s 140us/step - loss: 0.0125 - acc: 0.9956 - val_loss: 0.3396 - val_acc: 0.9426\n",
      "Epoch 16/20\n",
      "3900/3900 [==============================] - 1s 146us/step - loss: 0.0045 - acc: 0.9985 - val_loss: 0.3325 - val_acc: 0.9528\n",
      "Epoch 17/20\n",
      "3900/3900 [==============================] - 1s 147us/step - loss: 0.0031 - acc: 0.9990 - val_loss: 0.3354 - val_acc: 0.9508\n",
      "Epoch 18/20\n",
      "3900/3900 [==============================] - 1s 146us/step - loss: 0.0024 - acc: 0.9992 - val_loss: 0.3437 - val_acc: 0.9508\n",
      "Epoch 19/20\n",
      "3900/3900 [==============================] - 1s 152us/step - loss: 0.0021 - acc: 0.9992 - val_loss: 0.3431 - val_acc: 0.9518\n",
      "Epoch 20/20\n",
      "3900/3900 [==============================] - 1s 146us/step - loss: 0.0020 - acc: 0.9992 - val_loss: 0.3507 - val_acc: 0.9508\n"
     ]
    }
   ],
   "source": [
    "model_6 = Sequential() # declare model\n",
    "model_6.add(Dense(100, input_shape=(28*28, ), kernel_initializer='random_normal')) # first layer\n",
    "model_6.add(Activation('relu'))\n",
    "#\n",
    "model_6.add(Dense(100, activation=\"relu\", kernel_initializer=\"random_normal\", bias_initializer=\"random_normal\"))\n",
    "model_6.add(Dense(10, activation=\"relu\", kernel_initializer=\"random_normal\", bias_initializer=\"random_normal\"))\n",
    "#\n",
    "model_6.add(Dense(10, kernel_initializer='random_normal')) # last layer\n",
    "model_6.add(Activation('softmax'))\n",
    "\n",
    "\n",
    "# Compile Model\n",
    "model_6.compile(optimizer='sgd',\n",
    "              loss='categorical_crossentropy', \n",
    "              metrics=['accuracy'])\n",
    "\n",
    "# Train Model\n",
    "history_6 = model_6.fit(train_img, train_lab, \n",
    "                    validation_data = (validation_img, validation_lab), \n",
    "                    epochs=20, \n",
    "                    batch_size=16)"
   ]
  },
  {
   "cell_type": "code",
   "execution_count": 101,
   "metadata": {},
   "outputs": [
    {
     "data": {
      "image/png": "[encoded data removed]",
      "text/plain": [
       "<Figure size 432x288 with 1 Axes>"
      ]
     },
     "metadata": {},
     "output_type": "display_data"
    }
   ],
   "source": [
    "plot_acc(history_6)"
   ]
  },
  {
   "cell_type": "code",
   "execution_count": 102,
   "metadata": {},
   "outputs": [
    {
     "name": "stdout",
     "output_type": "stream",
     "text": [
      "Confusion matrix, without normalization\n",
      "[[161   0   1   0   0   1   0   0   0   0]\n",
      " [  0 179   0   0   0   0   0   2   1   0]\n",
      " [  1   4 146   1   3   0   1   0   3   0]\n",
      " [  0   2   1 152   0   7   0   2   3   0]\n",
      " [  1   0   2   0 154   0   2   1   0   3]\n",
      " [  2   0   0   3   2 124   3   0   7   1]\n",
      " [  0   0   1   0   1   2 160   0   1   1]\n",
      " [  2   6   2   0   4   0   0 157   0   1]\n",
      " [  1   1   2   1   3   1   1   0 140   0]\n",
      " [  1   2   0   1   2   1   0   3   1 150]]\n",
      "\n",
      "Accuracy:  0.9372307692307692\n"
     ]
    },
    {
     "data": {
      "image/png": "[encoded data removed]",
      "text/plain": [
       "<Figure size 432x288 with 2 Axes>"
      ]
     },
     "metadata": {},
     "output_type": "display_data"
    }
   ],
   "source": [
    "prediction_6 = model_6.predict(test_img)\n",
    "plot_confusion_matrix(prediction_6)"
   ]
  },
  {
   "cell_type": "code",
   "execution_count": null,
   "metadata": {},
   "outputs": [],
   "source": []
  },
  {
   "cell_type": "code",
   "execution_count": null,
   "metadata": {},
   "outputs": [],
   "source": []
  },
  {
   "cell_type": "code",
   "execution_count": 103,
   "metadata": {},
   "outputs": [],
   "source": [
    "#Model 7"
   ]
  },
  {
   "cell_type": "code",
   "execution_count": 110,
   "metadata": {},
   "outputs": [
    {
     "name": "stdout",
     "output_type": "stream",
     "text": [
      "Train on 3900 samples, validate on 975 samples\n",
      "Epoch 1/200\n",
      "3900/3900 [==============================] - 1s 224us/step - loss: 2.2983 - acc: 0.1167 - val_loss: 2.2961 - val_acc: 0.1282\n",
      "Epoch 2/200\n",
      "3900/3900 [==============================] - 0s 23us/step - loss: 2.2947 - acc: 0.1285 - val_loss: 2.2929 - val_acc: 0.1508\n",
      "Epoch 3/200\n",
      "3900/3900 [==============================] - 0s 22us/step - loss: 2.2912 - acc: 0.1438 - val_loss: 2.2897 - val_acc: 0.1631\n",
      "Epoch 4/200\n",
      "3900/3900 [==============================] - 0s 26us/step - loss: 2.2880 - acc: 0.1690 - val_loss: 2.2866 - val_acc: 0.1928\n",
      "Epoch 5/200\n",
      "3900/3900 [==============================] - 0s 21us/step - loss: 2.2846 - acc: 0.1944 - val_loss: 2.2832 - val_acc: 0.2123\n",
      "Epoch 6/200\n",
      "3900/3900 [==============================] - 0s 25us/step - loss: 2.2809 - acc: 0.2151 - val_loss: 2.2800 - val_acc: 0.2359\n",
      "Epoch 7/200\n",
      "3900/3900 [==============================] - 0s 25us/step - loss: 2.2772 - acc: 0.2431 - val_loss: 2.2763 - val_acc: 0.2523\n",
      "Epoch 8/200\n",
      "3900/3900 [==============================] - 0s 24us/step - loss: 2.2731 - acc: 0.2626 - val_loss: 2.2722 - val_acc: 0.2779\n",
      "Epoch 9/200\n",
      "3900/3900 [==============================] - 0s 26us/step - loss: 2.2688 - acc: 0.2836 - val_loss: 2.2680 - val_acc: 0.2841\n",
      "Epoch 10/200\n",
      "3900/3900 [==============================] - 0s 25us/step - loss: 2.2641 - acc: 0.3041 - val_loss: 2.2636 - val_acc: 0.3026\n",
      "Epoch 11/200\n",
      "3900/3900 [==============================] - 0s 21us/step - loss: 2.2591 - acc: 0.3203 - val_loss: 2.2584 - val_acc: 0.3231\n",
      "Epoch 12/200\n",
      "3900/3900 [==============================] - 0s 23us/step - loss: 2.2534 - acc: 0.3356 - val_loss: 2.2528 - val_acc: 0.3354\n",
      "Epoch 13/200\n",
      "3900/3900 [==============================] - 0s 25us/step - loss: 2.2474 - acc: 0.3446 - val_loss: 2.2466 - val_acc: 0.3487\n",
      "Epoch 14/200\n",
      "3900/3900 [==============================] - 0s 24us/step - loss: 2.2407 - acc: 0.3510 - val_loss: 2.2399 - val_acc: 0.3518\n",
      "Epoch 15/200\n",
      "3900/3900 [==============================] - 0s 25us/step - loss: 2.2334 - acc: 0.3572 - val_loss: 2.2326 - val_acc: 0.3569\n",
      "Epoch 16/200\n",
      "3900/3900 [==============================] - 0s 20us/step - loss: 2.2255 - acc: 0.3556 - val_loss: 2.2243 - val_acc: 0.3528\n",
      "Epoch 17/200\n",
      "3900/3900 [==============================] - 0s 19us/step - loss: 2.2165 - acc: 0.3572 - val_loss: 2.2151 - val_acc: 0.3497\n",
      "Epoch 18/200\n",
      "3900/3900 [==============================] - 0s 20us/step - loss: 2.2067 - acc: 0.3538 - val_loss: 2.2047 - val_acc: 0.3497\n",
      "Epoch 19/200\n",
      "3900/3900 [==============================] - 0s 20us/step - loss: 2.1960 - acc: 0.3554 - val_loss: 2.1937 - val_acc: 0.3518\n",
      "Epoch 20/200\n",
      "3900/3900 [==============================] - 0s 20us/step - loss: 2.1843 - acc: 0.3572 - val_loss: 2.1814 - val_acc: 0.3477\n",
      "Epoch 21/200\n",
      "3900/3900 [==============================] - 0s 19us/step - loss: 2.1713 - acc: 0.3585 - val_loss: 2.1676 - val_acc: 0.3538\n",
      "Epoch 22/200\n",
      "3900/3900 [==============================] - 0s 22us/step - loss: 2.1571 - acc: 0.3579 - val_loss: 2.1527 - val_acc: 0.3487\n",
      "Epoch 23/200\n",
      "3900/3900 [==============================] - 0s 25us/step - loss: 2.1413 - acc: 0.3551 - val_loss: 2.1370 - val_acc: 0.3528\n",
      "Epoch 24/200\n",
      "3900/3900 [==============================] - 0s 27us/step - loss: 2.1245 - acc: 0.3600 - val_loss: 2.1199 - val_acc: 0.3497\n",
      "Epoch 25/200\n",
      "3900/3900 [==============================] - 0s 26us/step - loss: 2.1066 - acc: 0.3603 - val_loss: 2.1006 - val_acc: 0.3518\n",
      "Epoch 26/200\n",
      "3900/3900 [==============================] - 0s 25us/step - loss: 2.0877 - acc: 0.3582 - val_loss: 2.0813 - val_acc: 0.3487\n",
      "Epoch 27/200\n",
      "3900/3900 [==============================] - 0s 23us/step - loss: 2.0677 - acc: 0.3579 - val_loss: 2.0612 - val_acc: 0.3569\n",
      "Epoch 28/200\n",
      "3900/3900 [==============================] - 0s 26us/step - loss: 2.0474 - acc: 0.3579 - val_loss: 2.0398 - val_acc: 0.3508\n",
      "Epoch 29/200\n",
      "3900/3900 [==============================] - 0s 26us/step - loss: 2.0266 - acc: 0.3577 - val_loss: 2.0183 - val_acc: 0.3569\n",
      "Epoch 30/200\n",
      "3900/3900 [==============================] - 0s 27us/step - loss: 2.0043 - acc: 0.3608 - val_loss: 1.9959 - val_acc: 0.3579\n",
      "Epoch 31/200\n",
      "3900/3900 [==============================] - 0s 24us/step - loss: 1.9821 - acc: 0.3633 - val_loss: 1.9739 - val_acc: 0.3631\n",
      "Epoch 32/200\n",
      "3900/3900 [==============================] - 0s 25us/step - loss: 1.9591 - acc: 0.3662 - val_loss: 1.9507 - val_acc: 0.3569\n",
      "Epoch 33/200\n",
      "3900/3900 [==============================] - 0s 25us/step - loss: 1.9364 - acc: 0.3659 - val_loss: 1.9271 - val_acc: 0.3662\n",
      "Epoch 34/200\n",
      "3900/3900 [==============================] - 0s 26us/step - loss: 1.9134 - acc: 0.3695 - val_loss: 1.9055 - val_acc: 0.3682\n",
      "Epoch 35/200\n",
      "3900/3900 [==============================] - 0s 25us/step - loss: 1.8900 - acc: 0.3718 - val_loss: 1.8821 - val_acc: 0.3785\n",
      "Epoch 36/200\n",
      "3900/3900 [==============================] - 0s 26us/step - loss: 1.8672 - acc: 0.3764 - val_loss: 1.8608 - val_acc: 0.3764\n",
      "Epoch 37/200\n",
      "3900/3900 [==============================] - 0s 25us/step - loss: 1.8436 - acc: 0.3787 - val_loss: 1.8374 - val_acc: 0.3805\n",
      "Epoch 38/200\n",
      "3900/3900 [==============================] - 0s 21us/step - loss: 1.8208 - acc: 0.3818 - val_loss: 1.8140 - val_acc: 0.3867\n",
      "Epoch 39/200\n",
      "3900/3900 [==============================] - 0s 20us/step - loss: 1.7980 - acc: 0.3867 - val_loss: 1.7928 - val_acc: 0.3897\n",
      "Epoch 40/200\n",
      "3900/3900 [==============================] - 0s 20us/step - loss: 1.7757 - acc: 0.3926 - val_loss: 1.7710 - val_acc: 0.3928\n",
      "Epoch 41/200\n",
      "3900/3900 [==============================] - 0s 20us/step - loss: 1.7535 - acc: 0.3967 - val_loss: 1.7520 - val_acc: 0.3959\n",
      "Epoch 42/200\n",
      "3900/3900 [==============================] - 0s 20us/step - loss: 1.7316 - acc: 0.4033 - val_loss: 1.7309 - val_acc: 0.4062\n",
      "Epoch 43/200\n",
      "3900/3900 [==============================] - 0s 19us/step - loss: 1.7092 - acc: 0.4115 - val_loss: 1.7107 - val_acc: 0.4000\n",
      "Epoch 44/200\n",
      "3900/3900 [==============================] - 0s 20us/step - loss: 1.6876 - acc: 0.4136 - val_loss: 1.6900 - val_acc: 0.4195\n",
      "Epoch 45/200\n",
      "3900/3900 [==============================] - 0s 20us/step - loss: 1.6667 - acc: 0.4238 - val_loss: 1.6704 - val_acc: 0.4195\n",
      "Epoch 46/200\n",
      "3900/3900 [==============================] - 0s 21us/step - loss: 1.6455 - acc: 0.4290 - val_loss: 1.6517 - val_acc: 0.4277\n",
      "Epoch 47/200\n",
      "3900/3900 [==============================] - 0s 24us/step - loss: 1.6254 - acc: 0.4382 - val_loss: 1.6321 - val_acc: 0.4379\n",
      "Epoch 48/200\n",
      "3900/3900 [==============================] - 0s 27us/step - loss: 1.6047 - acc: 0.4482 - val_loss: 1.6123 - val_acc: 0.4441\n",
      "Epoch 49/200\n",
      "3900/3900 [==============================] - 0s 25us/step - loss: 1.5836 - acc: 0.4549 - val_loss: 1.5944 - val_acc: 0.4564\n",
      "Epoch 50/200\n",
      "3900/3900 [==============================] - 0s 24us/step - loss: 1.5625 - acc: 0.4646 - val_loss: 1.5753 - val_acc: 0.4615\n",
      "Epoch 51/200\n",
      "3900/3900 [==============================] - 0s 22us/step - loss: 1.5421 - acc: 0.4805 - val_loss: 1.5572 - val_acc: 0.4677\n",
      "Epoch 52/200\n",
      "3900/3900 [==============================] - 0s 20us/step - loss: 1.5232 - acc: 0.4885 - val_loss: 1.5396 - val_acc: 0.4841\n",
      "Epoch 53/200\n",
      "3900/3900 [==============================] - 0s 19us/step - loss: 1.5043 - acc: 0.5054 - val_loss: 1.5219 - val_acc: 0.4964\n",
      "Epoch 54/200\n",
      "3900/3900 [==============================] - 0s 19us/step - loss: 1.4866 - acc: 0.5144 - val_loss: 1.5050 - val_acc: 0.5056\n",
      "Epoch 55/200\n",
      "3900/3900 [==============================] - 0s 19us/step - loss: 1.4681 - acc: 0.5300 - val_loss: 1.4869 - val_acc: 0.5303\n",
      "Epoch 56/200\n",
      "3900/3900 [==============================] - 0s 21us/step - loss: 1.4477 - acc: 0.5479 - val_loss: 1.4722 - val_acc: 0.5282\n",
      "Epoch 57/200\n",
      "3900/3900 [==============================] - 0s 25us/step - loss: 1.4306 - acc: 0.5538 - val_loss: 1.4516 - val_acc: 0.5477\n",
      "Epoch 58/200\n",
      "3900/3900 [==============================] - 0s 25us/step - loss: 1.4115 - acc: 0.5705 - val_loss: 1.4392 - val_acc: 0.5621\n",
      "Epoch 59/200\n",
      "3900/3900 [==============================] - 0s 27us/step - loss: 1.3961 - acc: 0.5890 - val_loss: 1.4171 - val_acc: 0.5662\n",
      "Epoch 60/200\n",
      "3900/3900 [==============================] - 0s 28us/step - loss: 1.3770 - acc: 0.5974 - val_loss: 1.4037 - val_acc: 0.5723\n",
      "Epoch 61/200\n",
      "3900/3900 [==============================] - 0s 23us/step - loss: 1.3580 - acc: 0.6108 - val_loss: 1.3870 - val_acc: 0.5836\n",
      "Epoch 62/200\n",
      "3900/3900 [==============================] - 0s 19us/step - loss: 1.3391 - acc: 0.6185 - val_loss: 1.3690 - val_acc: 0.5959\n",
      "Epoch 63/200\n",
      "3900/3900 [==============================] - 0s 20us/step - loss: 1.3218 - acc: 0.6267 - val_loss: 1.3559 - val_acc: 0.6021\n",
      "Epoch 64/200\n",
      "3900/3900 [==============================] - 0s 22us/step - loss: 1.3038 - acc: 0.6359 - val_loss: 1.3412 - val_acc: 0.6113\n",
      "Epoch 65/200\n",
      "3900/3900 [==============================] - 0s 22us/step - loss: 1.2910 - acc: 0.6408 - val_loss: 1.3258 - val_acc: 0.6318\n",
      "Epoch 66/200\n",
      "3900/3900 [==============================] - 0s 18us/step - loss: 1.2733 - acc: 0.6538 - val_loss: 1.3088 - val_acc: 0.6349\n",
      "Epoch 67/200\n",
      "3900/3900 [==============================] - 0s 20us/step - loss: 1.2552 - acc: 0.6610 - val_loss: 1.2947 - val_acc: 0.6400\n",
      "Epoch 68/200\n",
      "3900/3900 [==============================] - 0s 22us/step - loss: 1.2362 - acc: 0.6744 - val_loss: 1.2796 - val_acc: 0.6431\n",
      "Epoch 69/200\n",
      "3900/3900 [==============================] - 0s 25us/step - loss: 1.2187 - acc: 0.6818 - val_loss: 1.2642 - val_acc: 0.6564\n",
      "Epoch 70/200\n",
      "3900/3900 [==============================] - 0s 24us/step - loss: 1.2010 - acc: 0.6959 - val_loss: 1.2477 - val_acc: 0.6615\n",
      "Epoch 71/200\n",
      "3900/3900 [==============================] - 0s 23us/step - loss: 1.1842 - acc: 0.7013 - val_loss: 1.2369 - val_acc: 0.6615\n",
      "Epoch 72/200\n",
      "3900/3900 [==============================] - 0s 21us/step - loss: 1.1683 - acc: 0.7105 - val_loss: 1.2187 - val_acc: 0.6759\n",
      "Epoch 73/200\n",
      "3900/3900 [==============================] - 0s 23us/step - loss: 1.1541 - acc: 0.7105 - val_loss: 1.2093 - val_acc: 0.6831\n",
      "Epoch 74/200\n",
      "3900/3900 [==============================] - 0s 23us/step - loss: 1.1380 - acc: 0.7218 - val_loss: 1.1964 - val_acc: 0.6790\n",
      "Epoch 75/200\n",
      "3900/3900 [==============================] - 0s 21us/step - loss: 1.1233 - acc: 0.7238 - val_loss: 1.1801 - val_acc: 0.6913\n",
      "Epoch 76/200\n",
      "3900/3900 [==============================] - 0s 23us/step - loss: 1.1112 - acc: 0.7321 - val_loss: 1.1673 - val_acc: 0.6995\n",
      "Epoch 77/200\n",
      "3900/3900 [==============================] - 0s 22us/step - loss: 1.0939 - acc: 0.7364 - val_loss: 1.1552 - val_acc: 0.7087\n",
      "Epoch 78/200\n",
      "3900/3900 [==============================] - 0s 24us/step - loss: 1.0837 - acc: 0.7467 - val_loss: 1.1453 - val_acc: 0.7067\n",
      "Epoch 79/200\n",
      "3900/3900 [==============================] - 0s 23us/step - loss: 1.0714 - acc: 0.7462 - val_loss: 1.1315 - val_acc: 0.7128\n",
      "Epoch 80/200\n",
      "3900/3900 [==============================] - 0s 22us/step - loss: 1.0575 - acc: 0.7531 - val_loss: 1.1215 - val_acc: 0.7128\n",
      "Epoch 81/200\n",
      "3900/3900 [==============================] - 0s 25us/step - loss: 1.0415 - acc: 0.7590 - val_loss: 1.1037 - val_acc: 0.7190\n",
      "Epoch 82/200\n",
      "3900/3900 [==============================] - 0s 23us/step - loss: 1.0272 - acc: 0.7659 - val_loss: 1.0953 - val_acc: 0.7241\n",
      "Epoch 83/200\n",
      "3900/3900 [==============================] - 0s 21us/step - loss: 1.0159 - acc: 0.7644 - val_loss: 1.0845 - val_acc: 0.7282\n",
      "Epoch 84/200\n",
      "3900/3900 [==============================] - 0s 22us/step - loss: 1.0021 - acc: 0.7710 - val_loss: 1.0713 - val_acc: 0.7323\n",
      "Epoch 85/200\n",
      "3900/3900 [==============================] - 0s 21us/step - loss: 0.9907 - acc: 0.7705 - val_loss: 1.0620 - val_acc: 0.7251\n",
      "Epoch 86/200\n",
      "3900/3900 [==============================] - 0s 20us/step - loss: 0.9782 - acc: 0.7785 - val_loss: 1.0488 - val_acc: 0.7385\n",
      "Epoch 87/200\n",
      "3900/3900 [==============================] - 0s 21us/step - loss: 0.9663 - acc: 0.7872 - val_loss: 1.0394 - val_acc: 0.7354\n",
      "Epoch 88/200\n",
      "3900/3900 [==============================] - 0s 23us/step - loss: 0.9539 - acc: 0.7908 - val_loss: 1.0327 - val_acc: 0.7487\n",
      "Epoch 89/200\n",
      "3900/3900 [==============================] - 0s 21us/step - loss: 0.9384 - acc: 0.7967 - val_loss: 1.0232 - val_acc: 0.7518\n",
      "Epoch 90/200\n",
      "3900/3900 [==============================] - 0s 21us/step - loss: 0.9275 - acc: 0.7992 - val_loss: 1.0120 - val_acc: 0.7528\n",
      "Epoch 91/200\n",
      "3900/3900 [==============================] - 0s 24us/step - loss: 0.9177 - acc: 0.8008 - val_loss: 1.0079 - val_acc: 0.7518\n",
      "Epoch 92/200\n",
      "3900/3900 [==============================] - 0s 23us/step - loss: 0.9078 - acc: 0.8067 - val_loss: 0.9926 - val_acc: 0.7569\n",
      "Epoch 93/200\n",
      "3900/3900 [==============================] - 0s 22us/step - loss: 0.8950 - acc: 0.8108 - val_loss: 0.9824 - val_acc: 0.7569\n",
      "Epoch 94/200\n",
      "3900/3900 [==============================] - 0s 23us/step - loss: 0.8828 - acc: 0.8164 - val_loss: 0.9772 - val_acc: 0.7559\n",
      "Epoch 95/200\n",
      "3900/3900 [==============================] - 0s 23us/step - loss: 0.8702 - acc: 0.8195 - val_loss: 0.9686 - val_acc: 0.7600\n",
      "Epoch 96/200\n",
      "3900/3900 [==============================] - 0s 22us/step - loss: 0.8624 - acc: 0.8174 - val_loss: 0.9574 - val_acc: 0.7579\n",
      "Epoch 97/200\n",
      "3900/3900 [==============================] - 0s 20us/step - loss: 0.8485 - acc: 0.8272 - val_loss: 0.9539 - val_acc: 0.7600\n",
      "Epoch 98/200\n",
      "3900/3900 [==============================] - 0s 21us/step - loss: 0.8385 - acc: 0.8287 - val_loss: 0.9438 - val_acc: 0.7621\n",
      "Epoch 99/200\n",
      "3900/3900 [==============================] - 0s 25us/step - loss: 0.8323 - acc: 0.8297 - val_loss: 0.9371 - val_acc: 0.7621\n",
      "Epoch 100/200\n",
      "3900/3900 [==============================] - 0s 24us/step - loss: 0.8236 - acc: 0.8279 - val_loss: 0.9331 - val_acc: 0.7754\n",
      "Epoch 101/200\n",
      "3900/3900 [==============================] - 0s 23us/step - loss: 0.8152 - acc: 0.8287 - val_loss: 0.9241 - val_acc: 0.7672\n",
      "Epoch 102/200\n",
      "3900/3900 [==============================] - 0s 22us/step - loss: 0.8102 - acc: 0.8328 - val_loss: 0.9172 - val_acc: 0.7692\n",
      "Epoch 103/200\n",
      "3900/3900 [==============================] - 0s 23us/step - loss: 0.8003 - acc: 0.8331 - val_loss: 0.9099 - val_acc: 0.7805\n",
      "Epoch 104/200\n",
      "3900/3900 [==============================] - ETA: 0s - loss: 0.7927 - acc: 0.837 - 0s 19us/step - loss: 0.7899 - acc: 0.8377 - val_loss: 0.8992 - val_acc: 0.7785\n",
      "Epoch 105/200\n",
      "3900/3900 [==============================] - 0s 20us/step - loss: 0.7793 - acc: 0.8397 - val_loss: 0.8950 - val_acc: 0.7795\n",
      "Epoch 106/200\n",
      "3900/3900 [==============================] - 0s 20us/step - loss: 0.7710 - acc: 0.8446 - val_loss: 0.8849 - val_acc: 0.7764\n",
      "Epoch 107/200\n",
      "3900/3900 [==============================] - 0s 22us/step - loss: 0.7585 - acc: 0.8467 - val_loss: 0.8822 - val_acc: 0.7774\n",
      "Epoch 108/200\n",
      "3900/3900 [==============================] - 0s 22us/step - loss: 0.7494 - acc: 0.8487 - val_loss: 0.8735 - val_acc: 0.7867\n",
      "Epoch 109/200\n",
      "3900/3900 [==============================] - 0s 22us/step - loss: 0.7439 - acc: 0.8487 - val_loss: 0.8641 - val_acc: 0.7795\n",
      "Epoch 110/200\n",
      "3900/3900 [==============================] - 0s 24us/step - loss: 0.7388 - acc: 0.8446 - val_loss: 0.8620 - val_acc: 0.7785\n",
      "Epoch 111/200\n",
      "3900/3900 [==============================] - 0s 23us/step - loss: 0.7367 - acc: 0.8451 - val_loss: 0.8522 - val_acc: 0.7826\n",
      "Epoch 112/200\n",
      "3900/3900 [==============================] - 0s 23us/step - loss: 0.7297 - acc: 0.8521 - val_loss: 0.8516 - val_acc: 0.7918\n",
      "Epoch 113/200\n",
      "3900/3900 [==============================] - 0s 25us/step - loss: 0.7192 - acc: 0.8562 - val_loss: 0.8445 - val_acc: 0.7826\n",
      "Epoch 114/200\n",
      "3900/3900 [==============================] - 0s 23us/step - loss: 0.7119 - acc: 0.8577 - val_loss: 0.8344 - val_acc: 0.7938\n",
      "Epoch 115/200\n",
      "3900/3900 [==============================] - 0s 24us/step - loss: 0.7066 - acc: 0.8574 - val_loss: 0.8315 - val_acc: 0.7908\n",
      "Epoch 116/200\n",
      "3900/3900 [==============================] - 0s 24us/step - loss: 0.6992 - acc: 0.8577 - val_loss: 0.8359 - val_acc: 0.7826\n",
      "Epoch 117/200\n",
      "3900/3900 [==============================] - 0s 24us/step - loss: 0.6928 - acc: 0.8610 - val_loss: 0.8221 - val_acc: 0.7979\n",
      "Epoch 118/200\n",
      "3900/3900 [==============================] - 0s 24us/step - loss: 0.6857 - acc: 0.8623 - val_loss: 0.8222 - val_acc: 0.7877\n",
      "Epoch 119/200\n"
     ]
    },
    {
     "name": "stdout",
     "output_type": "stream",
     "text": [
      "3900/3900 [==============================] - 0s 24us/step - loss: 0.6816 - acc: 0.8628 - val_loss: 0.8140 - val_acc: 0.8010\n",
      "Epoch 120/200\n",
      "3900/3900 [==============================] - 0s 22us/step - loss: 0.6681 - acc: 0.8685 - val_loss: 0.8053 - val_acc: 0.8051\n",
      "Epoch 121/200\n",
      "3900/3900 [==============================] - 0s 21us/step - loss: 0.6576 - acc: 0.8710 - val_loss: 0.8023 - val_acc: 0.7979\n",
      "Epoch 122/200\n",
      "3900/3900 [==============================] - 0s 20us/step - loss: 0.6527 - acc: 0.8736 - val_loss: 0.7960 - val_acc: 0.7959\n",
      "Epoch 123/200\n",
      "3900/3900 [==============================] - 0s 22us/step - loss: 0.6453 - acc: 0.8741 - val_loss: 0.7956 - val_acc: 0.8041\n",
      "Epoch 124/200\n",
      "3900/3900 [==============================] - 0s 21us/step - loss: 0.6390 - acc: 0.8733 - val_loss: 0.7906 - val_acc: 0.8010\n",
      "Epoch 125/200\n",
      "3900/3900 [==============================] - 0s 25us/step - loss: 0.6334 - acc: 0.8731 - val_loss: 0.7796 - val_acc: 0.7969\n",
      "Epoch 126/200\n",
      "3900/3900 [==============================] - 0s 21us/step - loss: 0.6235 - acc: 0.8787 - val_loss: 0.7811 - val_acc: 0.8000\n",
      "Epoch 127/200\n",
      "3900/3900 [==============================] - 0s 22us/step - loss: 0.6178 - acc: 0.8821 - val_loss: 0.7707 - val_acc: 0.8062\n",
      "Epoch 128/200\n",
      "3900/3900 [==============================] - 0s 22us/step - loss: 0.6169 - acc: 0.8821 - val_loss: 0.7687 - val_acc: 0.8051\n",
      "Epoch 129/200\n",
      "3900/3900 [==============================] - 0s 21us/step - loss: 0.6128 - acc: 0.8833 - val_loss: 0.7608 - val_acc: 0.8123\n",
      "Epoch 130/200\n",
      "3900/3900 [==============================] - 0s 22us/step - loss: 0.6002 - acc: 0.8859 - val_loss: 0.7561 - val_acc: 0.8082\n",
      "Epoch 131/200\n",
      "3900/3900 [==============================] - 0s 22us/step - loss: 0.5969 - acc: 0.8841 - val_loss: 0.7475 - val_acc: 0.8185\n",
      "Epoch 132/200\n",
      "3900/3900 [==============================] - 0s 21us/step - loss: 0.5927 - acc: 0.8879 - val_loss: 0.7463 - val_acc: 0.8082\n",
      "Epoch 133/200\n",
      "3900/3900 [==============================] - 0s 21us/step - loss: 0.5826 - acc: 0.8900 - val_loss: 0.7438 - val_acc: 0.8113\n",
      "Epoch 134/200\n",
      "3900/3900 [==============================] - 0s 23us/step - loss: 0.5758 - acc: 0.8908 - val_loss: 0.7426 - val_acc: 0.8154\n",
      "Epoch 135/200\n",
      "3900/3900 [==============================] - 0s 19us/step - loss: 0.5753 - acc: 0.8933 - val_loss: 0.7435 - val_acc: 0.8041\n",
      "Epoch 136/200\n",
      "3900/3900 [==============================] - 0s 20us/step - loss: 0.5677 - acc: 0.8974 - val_loss: 0.7364 - val_acc: 0.8144\n",
      "Epoch 137/200\n",
      "3900/3900 [==============================] - 0s 21us/step - loss: 0.5584 - acc: 0.8987 - val_loss: 0.7307 - val_acc: 0.7979\n",
      "Epoch 138/200\n",
      "3900/3900 [==============================] - 0s 24us/step - loss: 0.5524 - acc: 0.9010 - val_loss: 0.7206 - val_acc: 0.8144\n",
      "Epoch 139/200\n",
      "3900/3900 [==============================] - 0s 21us/step - loss: 0.5486 - acc: 0.8982 - val_loss: 0.7196 - val_acc: 0.8072\n",
      "Epoch 140/200\n",
      "3900/3900 [==============================] - 0s 22us/step - loss: 0.5485 - acc: 0.8949 - val_loss: 0.7231 - val_acc: 0.8051\n",
      "Epoch 141/200\n",
      "3900/3900 [==============================] - 0s 23us/step - loss: 0.5414 - acc: 0.9013 - val_loss: 0.7178 - val_acc: 0.8174\n",
      "Epoch 142/200\n",
      "3900/3900 [==============================] - 0s 22us/step - loss: 0.5377 - acc: 0.8982 - val_loss: 0.7097 - val_acc: 0.8174\n",
      "Epoch 143/200\n",
      "3900/3900 [==============================] - 0s 22us/step - loss: 0.5316 - acc: 0.9003 - val_loss: 0.7199 - val_acc: 0.8062\n",
      "Epoch 144/200\n",
      "3900/3900 [==============================] - 0s 23us/step - loss: 0.5270 - acc: 0.9036 - val_loss: 0.7043 - val_acc: 0.8103\n",
      "Epoch 145/200\n",
      "3900/3900 [==============================] - 0s 22us/step - loss: 0.5205 - acc: 0.9062 - val_loss: 0.7061 - val_acc: 0.8174\n",
      "Epoch 146/200\n",
      "3900/3900 [==============================] - 0s 23us/step - loss: 0.5210 - acc: 0.9008 - val_loss: 0.6983 - val_acc: 0.8205\n",
      "Epoch 147/200\n",
      "3900/3900 [==============================] - 0s 22us/step - loss: 0.5151 - acc: 0.9074 - val_loss: 0.6990 - val_acc: 0.8236\n",
      "Epoch 148/200\n",
      "3900/3900 [==============================] - 0s 24us/step - loss: 0.5066 - acc: 0.9067 - val_loss: 0.7015 - val_acc: 0.8154\n",
      "Epoch 149/200\n",
      "3900/3900 [==============================] - 0s 23us/step - loss: 0.4992 - acc: 0.9095 - val_loss: 0.6892 - val_acc: 0.8195\n",
      "Epoch 150/200\n",
      "3900/3900 [==============================] - 0s 23us/step - loss: 0.4991 - acc: 0.9113 - val_loss: 0.6939 - val_acc: 0.8154\n",
      "Epoch 151/200\n",
      "3900/3900 [==============================] - 0s 22us/step - loss: 0.4950 - acc: 0.9118 - val_loss: 0.6857 - val_acc: 0.8215\n",
      "Epoch 152/200\n",
      "3900/3900 [==============================] - 0s 20us/step - loss: 0.4904 - acc: 0.9090 - val_loss: 0.6780 - val_acc: 0.8328\n",
      "Epoch 153/200\n",
      "3900/3900 [==============================] - 0s 20us/step - loss: 0.4829 - acc: 0.9123 - val_loss: 0.6793 - val_acc: 0.8164\n",
      "Epoch 154/200\n",
      "3900/3900 [==============================] - 0s 20us/step - loss: 0.4783 - acc: 0.9136 - val_loss: 0.6774 - val_acc: 0.8246\n",
      "Epoch 155/200\n",
      "3900/3900 [==============================] - 0s 21us/step - loss: 0.4757 - acc: 0.9149 - val_loss: 0.6721 - val_acc: 0.8246\n",
      "Epoch 156/200\n",
      "3900/3900 [==============================] - 0s 26us/step - loss: 0.4722 - acc: 0.9154 - val_loss: 0.6742 - val_acc: 0.8195\n",
      "Epoch 157/200\n",
      "3900/3900 [==============================] - 0s 26us/step - loss: 0.4681 - acc: 0.9200 - val_loss: 0.6687 - val_acc: 0.8328\n",
      "Epoch 158/200\n",
      "3900/3900 [==============================] - 0s 24us/step - loss: 0.4641 - acc: 0.9177 - val_loss: 0.6708 - val_acc: 0.8236\n",
      "Epoch 159/200\n",
      "3900/3900 [==============================] - 0s 26us/step - loss: 0.4674 - acc: 0.9138 - val_loss: 0.6721 - val_acc: 0.8246\n",
      "Epoch 160/200\n",
      "3900/3900 [==============================] - 0s 25us/step - loss: 0.4651 - acc: 0.9138 - val_loss: 0.6560 - val_acc: 0.8318\n",
      "Epoch 161/200\n",
      "3900/3900 [==============================] - 0s 22us/step - loss: 0.4569 - acc: 0.9182 - val_loss: 0.6607 - val_acc: 0.8256\n",
      "Epoch 162/200\n",
      "3900/3900 [==============================] - 0s 22us/step - loss: 0.4526 - acc: 0.9195 - val_loss: 0.6591 - val_acc: 0.8277\n",
      "Epoch 163/200\n",
      "3900/3900 [==============================] - 0s 29us/step - loss: 0.4498 - acc: 0.9192 - val_loss: 0.6551 - val_acc: 0.8226\n",
      "Epoch 164/200\n",
      "3900/3900 [==============================] - 0s 26us/step - loss: 0.4481 - acc: 0.9169 - val_loss: 0.6508 - val_acc: 0.8215\n",
      "Epoch 165/200\n",
      "3900/3900 [==============================] - 0s 23us/step - loss: 0.4384 - acc: 0.9236 - val_loss: 0.6458 - val_acc: 0.8297\n",
      "Epoch 166/200\n",
      "3900/3900 [==============================] - 0s 24us/step - loss: 0.4410 - acc: 0.9213 - val_loss: 0.6453 - val_acc: 0.8369\n",
      "Epoch 167/200\n",
      "3900/3900 [==============================] - 0s 25us/step - loss: 0.4415 - acc: 0.9244 - val_loss: 0.6427 - val_acc: 0.8318\n",
      "Epoch 168/200\n",
      "3900/3900 [==============================] - 0s 25us/step - loss: 0.4274 - acc: 0.9264 - val_loss: 0.6494 - val_acc: 0.8205\n",
      "Epoch 169/200\n",
      "3900/3900 [==============================] - 0s 21us/step - loss: 0.4273 - acc: 0.9290 - val_loss: 0.6374 - val_acc: 0.8338\n",
      "Epoch 170/200\n",
      "3900/3900 [==============================] - 0s 22us/step - loss: 0.4205 - acc: 0.9297 - val_loss: 0.6269 - val_acc: 0.8359\n",
      "Epoch 171/200\n",
      "3900/3900 [==============================] - 0s 25us/step - loss: 0.4199 - acc: 0.9277 - val_loss: 0.6291 - val_acc: 0.8267\n",
      "Epoch 172/200\n",
      "3900/3900 [==============================] - 0s 25us/step - loss: 0.4266 - acc: 0.9264 - val_loss: 0.6287 - val_acc: 0.8379\n",
      "Epoch 173/200\n",
      "3900/3900 [==============================] - 0s 21us/step - loss: 0.4201 - acc: 0.9231 - val_loss: 0.6350 - val_acc: 0.8267\n",
      "Epoch 174/200\n",
      "3900/3900 [==============================] - 0s 26us/step - loss: 0.4246 - acc: 0.9187 - val_loss: 0.6336 - val_acc: 0.8246\n",
      "Epoch 175/200\n",
      "3900/3900 [==============================] - 0s 28us/step - loss: 0.4288 - acc: 0.9174 - val_loss: 0.6467 - val_acc: 0.8215\n",
      "Epoch 176/200\n",
      "3900/3900 [==============================] - 0s 23us/step - loss: 0.4234 - acc: 0.9203 - val_loss: 0.6321 - val_acc: 0.8236\n",
      "Epoch 177/200\n",
      "3900/3900 [==============================] - 0s 20us/step - loss: 0.4127 - acc: 0.9287 - val_loss: 0.6232 - val_acc: 0.8267\n",
      "Epoch 178/200\n",
      "3900/3900 [==============================] - 0s 23us/step - loss: 0.4046 - acc: 0.9321 - val_loss: 0.6155 - val_acc: 0.8308\n",
      "Epoch 179/200\n",
      "3900/3900 [==============================] - 0s 23us/step - loss: 0.4035 - acc: 0.9274 - val_loss: 0.6156 - val_acc: 0.8338\n",
      "Epoch 180/200\n",
      "3900/3900 [==============================] - 0s 23us/step - loss: 0.3971 - acc: 0.9277 - val_loss: 0.6174 - val_acc: 0.8308\n",
      "Epoch 181/200\n",
      "3900/3900 [==============================] - 0s 24us/step - loss: 0.3952 - acc: 0.9287 - val_loss: 0.6189 - val_acc: 0.8338\n",
      "Epoch 182/200\n",
      "3900/3900 [==============================] - 0s 23us/step - loss: 0.3910 - acc: 0.9318 - val_loss: 0.6049 - val_acc: 0.8421\n",
      "Epoch 183/200\n",
      "3900/3900 [==============================] - 0s 22us/step - loss: 0.3843 - acc: 0.9331 - val_loss: 0.6046 - val_acc: 0.8379\n",
      "Epoch 184/200\n",
      "3900/3900 [==============================] - 0s 23us/step - loss: 0.3803 - acc: 0.9367 - val_loss: 0.6008 - val_acc: 0.8410\n",
      "Epoch 185/200\n",
      "3900/3900 [==============================] - 0s 25us/step - loss: 0.3762 - acc: 0.9346 - val_loss: 0.6114 - val_acc: 0.8379\n",
      "Epoch 186/200\n",
      "3900/3900 [==============================] - 0s 26us/step - loss: 0.3797 - acc: 0.9305 - val_loss: 0.6023 - val_acc: 0.8390\n",
      "Epoch 187/200\n",
      "3900/3900 [==============================] - 0s 27us/step - loss: 0.3767 - acc: 0.9346 - val_loss: 0.6120 - val_acc: 0.8328\n",
      "Epoch 188/200\n",
      "3900/3900 [==============================] - 0s 24us/step - loss: 0.3809 - acc: 0.9323 - val_loss: 0.6055 - val_acc: 0.8267\n",
      "Epoch 189/200\n",
      "3900/3900 [==============================] - 0s 24us/step - loss: 0.3753 - acc: 0.9336 - val_loss: 0.6000 - val_acc: 0.8390\n",
      "Epoch 190/200\n",
      "3900/3900 [==============================] - 0s 26us/step - loss: 0.3731 - acc: 0.9326 - val_loss: 0.5924 - val_acc: 0.8369\n",
      "Epoch 191/200\n",
      "3900/3900 [==============================] - 0s 25us/step - loss: 0.3714 - acc: 0.9323 - val_loss: 0.5927 - val_acc: 0.8390\n",
      "Epoch 192/200\n",
      "3900/3900 [==============================] - 0s 26us/step - loss: 0.3640 - acc: 0.9374 - val_loss: 0.5912 - val_acc: 0.8390\n",
      "Epoch 193/200\n",
      "3900/3900 [==============================] - 0s 26us/step - loss: 0.3598 - acc: 0.9351 - val_loss: 0.5936 - val_acc: 0.8328\n",
      "Epoch 194/200\n",
      "3900/3900 [==============================] - 0s 24us/step - loss: 0.3547 - acc: 0.9362 - val_loss: 0.5909 - val_acc: 0.8431\n",
      "Epoch 195/200\n",
      "3900/3900 [==============================] - 0s 24us/step - loss: 0.3478 - acc: 0.9405 - val_loss: 0.5837 - val_acc: 0.8369\n",
      "Epoch 196/200\n",
      "3900/3900 [==============================] - 0s 23us/step - loss: 0.3474 - acc: 0.9415 - val_loss: 0.5920 - val_acc: 0.8308\n",
      "Epoch 197/200\n",
      "3900/3900 [==============================] - 0s 23us/step - loss: 0.3432 - acc: 0.9400 - val_loss: 0.5868 - val_acc: 0.8369\n",
      "Epoch 198/200\n",
      "3900/3900 [==============================] - 0s 23us/step - loss: 0.3456 - acc: 0.9385 - val_loss: 0.5904 - val_acc: 0.8277\n",
      "Epoch 199/200\n",
      "3900/3900 [==============================] - 0s 28us/step - loss: 0.3376 - acc: 0.9426 - val_loss: 0.5879 - val_acc: 0.8328\n",
      "Epoch 200/200\n",
      "3900/3900 [==============================] - 0s 26us/step - loss: 0.3302 - acc: 0.9449 - val_loss: 0.5874 - val_acc: 0.8369\n"
     ]
    }
   ],
   "source": [
    "model_7, history_7 = build_train_mod(act=\"tanh\", init=\"random_normal\", perceptrons=[100, 100, 10], epo=200, b_s=256)"
   ]
  },
  {
   "cell_type": "code",
   "execution_count": 111,
   "metadata": {},
   "outputs": [
    {
     "data": {
      "image/png": "[encoded data removed]",
      "text/plain": [
       "<Figure size 432x288 with 1 Axes>"
      ]
     },
     "metadata": {},
     "output_type": "display_data"
    }
   ],
   "source": [
    "plot_acc(history_7)"
   ]
  },
  {
   "cell_type": "code",
   "execution_count": 112,
   "metadata": {},
   "outputs": [
    {
     "data": {
      "text/plain": [
       "86.48699324175861"
      ]
     },
     "execution_count": 112,
     "metadata": {},
     "output_type": "execute_result"
    }
   ],
   "source": [
    "math.sqrt(7480)"
   ]
  },
  {
   "cell_type": "code",
   "execution_count": null,
   "metadata": {},
   "outputs": [],
   "source": []
  },
  {
   "cell_type": "code",
   "execution_count": 113,
   "metadata": {},
   "outputs": [],
   "source": [
    "#Model 8"
   ]
  },
  {
   "cell_type": "code",
   "execution_count": 25,
   "metadata": {
    "collapsed": true
   },
   "outputs": [
    {
     "name": "stdout",
     "output_type": "stream",
     "text": [
      "Train on 3900 samples, validate on 975 samples\n",
      "Epoch 1/50\n",
      "3900/3900 [==============================] - 0s 83us/step - loss: 1.6016 - acc: 0.5990 - val_loss: 0.5900 - val_acc: 0.8195\n",
      "Epoch 2/50\n",
      "3900/3900 [==============================] - 0s 28us/step - loss: 0.4830 - acc: 0.8531 - val_loss: 0.5189 - val_acc: 0.8441\n",
      "Epoch 3/50\n",
      "3900/3900 [==============================] - 0s 28us/step - loss: 0.3248 - acc: 0.9041 - val_loss: 0.3702 - val_acc: 0.8913\n",
      "Epoch 4/50\n",
      "3900/3900 [==============================] - 0s 27us/step - loss: 0.2209 - acc: 0.9333 - val_loss: 0.3974 - val_acc: 0.8821\n",
      "Epoch 5/50\n",
      "3900/3900 [==============================] - 0s 27us/step - loss: 0.1825 - acc: 0.9462 - val_loss: 0.3368 - val_acc: 0.8974\n",
      "Epoch 6/50\n",
      "3900/3900 [==============================] - 0s 29us/step - loss: 0.1327 - acc: 0.9636 - val_loss: 0.3430 - val_acc: 0.8985\n",
      "Epoch 7/50\n",
      "3900/3900 [==============================] - 0s 33us/step - loss: 0.1131 - acc: 0.9677 - val_loss: 0.3288 - val_acc: 0.9046\n",
      "Epoch 8/50\n",
      "3900/3900 [==============================] - 0s 29us/step - loss: 0.0779 - acc: 0.9805 - val_loss: 0.3056 - val_acc: 0.9149\n",
      "Epoch 9/50\n",
      "3900/3900 [==============================] - 0s 27us/step - loss: 0.0767 - acc: 0.9797 - val_loss: 0.2869 - val_acc: 0.9231\n",
      "Epoch 10/50\n",
      "3900/3900 [==============================] - 0s 29us/step - loss: 0.0504 - acc: 0.9900 - val_loss: 0.3376 - val_acc: 0.9138\n",
      "Epoch 11/50\n",
      "3900/3900 [==============================] - 0s 32us/step - loss: 0.0403 - acc: 0.9918 - val_loss: 0.3060 - val_acc: 0.9221\n",
      "Epoch 12/50\n",
      "3900/3900 [==============================] - 0s 28us/step - loss: 0.0272 - acc: 0.9962 - val_loss: 0.2985 - val_acc: 0.9262\n",
      "Epoch 13/50\n",
      "3900/3900 [==============================] - 0s 28us/step - loss: 0.0227 - acc: 0.9974 - val_loss: 0.3016 - val_acc: 0.9262\n",
      "Epoch 14/50\n",
      "3900/3900 [==============================] - 0s 25us/step - loss: 0.0173 - acc: 0.9985 - val_loss: 0.3056 - val_acc: 0.9262\n",
      "Epoch 15/50\n",
      "3900/3900 [==============================] - 0s 25us/step - loss: 0.0140 - acc: 0.9995 - val_loss: 0.3115 - val_acc: 0.9262\n",
      "Epoch 16/50\n",
      "3900/3900 [==============================] - 0s 28us/step - loss: 0.0117 - acc: 1.0000 - val_loss: 0.3087 - val_acc: 0.9251\n",
      "Epoch 17/50\n",
      "3900/3900 [==============================] - 0s 33us/step - loss: 0.0099 - acc: 1.0000 - val_loss: 0.3169 - val_acc: 0.9231\n",
      "Epoch 18/50\n",
      "3900/3900 [==============================] - 0s 34us/step - loss: 0.0085 - acc: 1.0000 - val_loss: 0.3196 - val_acc: 0.9292\n",
      "Epoch 19/50\n",
      "3900/3900 [==============================] - 0s 28us/step - loss: 0.0075 - acc: 1.0000 - val_loss: 0.3224 - val_acc: 0.9272\n",
      "Epoch 20/50\n",
      "3900/3900 [==============================] - 0s 33us/step - loss: 0.0070 - acc: 1.0000 - val_loss: 0.3229 - val_acc: 0.9292\n",
      "Epoch 21/50\n",
      "3900/3900 [==============================] - 0s 34us/step - loss: 0.0060 - acc: 1.0000 - val_loss: 0.3284 - val_acc: 0.9292\n",
      "Epoch 22/50\n",
      "3900/3900 [==============================] - 0s 29us/step - loss: 0.0055 - acc: 1.0000 - val_loss: 0.3300 - val_acc: 0.9313\n",
      "Epoch 23/50\n",
      "3900/3900 [==============================] - 0s 26us/step - loss: 0.0050 - acc: 1.0000 - val_loss: 0.3255 - val_acc: 0.9323\n",
      "Epoch 24/50\n",
      "3900/3900 [==============================] - 0s 28us/step - loss: 0.0046 - acc: 1.0000 - val_loss: 0.3316 - val_acc: 0.9303\n",
      "Epoch 25/50\n",
      "3900/3900 [==============================] - 0s 29us/step - loss: 0.0043 - acc: 1.0000 - val_loss: 0.3395 - val_acc: 0.9303\n",
      "Epoch 26/50\n",
      "3900/3900 [==============================] - 0s 32us/step - loss: 0.0040 - acc: 1.0000 - val_loss: 0.3376 - val_acc: 0.9313\n",
      "Epoch 27/50\n",
      "3900/3900 [==============================] - 0s 33us/step - loss: 0.0037 - acc: 1.0000 - val_loss: 0.3383 - val_acc: 0.9313\n",
      "Epoch 28/50\n",
      "3900/3900 [==============================] - 0s 28us/step - loss: 0.0035 - acc: 1.0000 - val_loss: 0.3390 - val_acc: 0.9303\n",
      "Epoch 29/50\n",
      "3900/3900 [==============================] - 0s 25us/step - loss: 0.0033 - acc: 1.0000 - val_loss: 0.3404 - val_acc: 0.9303\n",
      "Epoch 30/50\n",
      "3900/3900 [==============================] - 0s 24us/step - loss: 0.0031 - acc: 1.0000 - val_loss: 0.3390 - val_acc: 0.9303\n",
      "Epoch 31/50\n",
      "3900/3900 [==============================] - 0s 25us/step - loss: 0.0029 - acc: 1.0000 - val_loss: 0.3421 - val_acc: 0.9303\n",
      "Epoch 32/50\n",
      "3900/3900 [==============================] - 0s 28us/step - loss: 0.0028 - acc: 1.0000 - val_loss: 0.3442 - val_acc: 0.9323\n",
      "Epoch 33/50\n",
      "3900/3900 [==============================] - 0s 31us/step - loss: 0.0026 - acc: 1.0000 - val_loss: 0.3450 - val_acc: 0.9313\n",
      "Epoch 34/50\n",
      "3900/3900 [==============================] - 0s 34us/step - loss: 0.0025 - acc: 1.0000 - val_loss: 0.3482 - val_acc: 0.9303\n",
      "Epoch 35/50\n",
      "3900/3900 [==============================] - 0s 35us/step - loss: 0.0024 - acc: 1.0000 - val_loss: 0.3502 - val_acc: 0.9303\n",
      "Epoch 36/50\n",
      "3900/3900 [==============================] - 0s 33us/step - loss: 0.0023 - acc: 1.0000 - val_loss: 0.3514 - val_acc: 0.9313\n",
      "Epoch 37/50\n",
      "3900/3900 [==============================] - 0s 27us/step - loss: 0.0022 - acc: 1.0000 - val_loss: 0.3519 - val_acc: 0.9292\n",
      "Epoch 38/50\n",
      "3900/3900 [==============================] - 0s 28us/step - loss: 0.0021 - acc: 1.0000 - val_loss: 0.3531 - val_acc: 0.9323\n",
      "Epoch 39/50\n",
      "3900/3900 [==============================] - 0s 25us/step - loss: 0.0020 - acc: 1.0000 - val_loss: 0.3529 - val_acc: 0.9313\n",
      "Epoch 40/50\n",
      "3900/3900 [==============================] - 0s 27us/step - loss: 0.0019 - acc: 1.0000 - val_loss: 0.3572 - val_acc: 0.9303\n",
      "Epoch 41/50\n",
      "3900/3900 [==============================] - 0s 23us/step - loss: 0.0019 - acc: 1.0000 - val_loss: 0.3544 - val_acc: 0.9323\n",
      "Epoch 42/50\n",
      "3900/3900 [==============================] - 0s 29us/step - loss: 0.0018 - acc: 1.0000 - val_loss: 0.3568 - val_acc: 0.9323\n",
      "Epoch 43/50\n",
      "3900/3900 [==============================] - 0s 26us/step - loss: 0.0017 - acc: 1.0000 - val_loss: 0.3606 - val_acc: 0.9323\n",
      "Epoch 44/50\n",
      "3900/3900 [==============================] - 0s 31us/step - loss: 0.0017 - acc: 1.0000 - val_loss: 0.3597 - val_acc: 0.9313\n",
      "Epoch 45/50\n",
      "3900/3900 [==============================] - 0s 28us/step - loss: 0.0016 - acc: 1.0000 - val_loss: 0.3604 - val_acc: 0.9303\n",
      "Epoch 46/50\n",
      "3900/3900 [==============================] - 0s 26us/step - loss: 0.0016 - acc: 1.0000 - val_loss: 0.3630 - val_acc: 0.9313\n",
      "Epoch 47/50\n",
      "3900/3900 [==============================] - 0s 30us/step - loss: 0.0015 - acc: 1.0000 - val_loss: 0.3639 - val_acc: 0.9303\n",
      "Epoch 48/50\n",
      "3900/3900 [==============================] - 0s 26us/step - loss: 0.0015 - acc: 1.0000 - val_loss: 0.3622 - val_acc: 0.9323\n",
      "Epoch 49/50\n",
      "3900/3900 [==============================] - 0s 26us/step - loss: 0.0014 - acc: 1.0000 - val_loss: 0.3625 - val_acc: 0.9313\n",
      "Epoch 50/50\n",
      "3900/3900 [==============================] - 0s 26us/step - loss: 0.0014 - acc: 1.0000 - val_loss: 0.3650 - val_acc: 0.9313\n"
     ]
    }
   ],
   "source": [
    "model_8, history_8 = build_train_mod(act=\"relu\", init=\"random_uniform\", perceptrons=[100, 100], epo=50, b_s=128)"
   ]
  },
  {
   "cell_type": "code",
   "execution_count": 26,
   "metadata": {},
   "outputs": [
    {
     "data": {
      "image/png": "[encoded data removed]",
      "text/plain": [
       "<Figure size 432x288 with 1 Axes>"
      ]
     },
     "metadata": {},
     "output_type": "display_data"
    }
   ],
   "source": [
    "plot_acc(history_8)"
   ]
  },
  {
   "cell_type": "code",
   "execution_count": null,
   "metadata": {},
   "outputs": [],
   "source": []
  }
 ],
 "metadata": {
  "kernelspec": {
   "display_name": "Python 2",
   "language": "python",
   "name": "python2"
  },
  "language_info": {
   "codemirror_mode": {
    "name": "ipython",
    "version": 2
   },
   "file_extension": ".py",
   "mimetype": "text/x-python",
   "name": "python",
   "nbconvert_exporter": "python",
   "pygments_lexer": "ipython2",
   "version": "2.7.14"
  }
 },
 "nbformat": 4,
 "nbformat_minor": 2
}
